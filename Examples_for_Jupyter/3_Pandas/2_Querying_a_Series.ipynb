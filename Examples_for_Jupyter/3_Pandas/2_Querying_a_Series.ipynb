{
 "cells": [
  {
   "cell_type": "markdown",
   "metadata": {
    "id": "zz63JRK7KOwh"
   },
   "source": [
    "## __Querying a Series__\n",
    "\n",
    "Let's learn about querying a Series. "
   ]
  },
  {
   "cell_type": "markdown",
   "metadata": {
    "id": "XbOl1iLtYJuU"
   },
   "source": [
    "## Step 1: Import Pandas and Create a Series\n",
    "\n",
    "Import the pandas library and create a Series.\n"
   ]
  },
  {
   "cell_type": "code",
   "execution_count": null,
   "metadata": {
    "id": "e5Ueoc5IX68o"
   },
   "outputs": [],
   "source": [
    "import pandas as pd"
   ]
  },
  {
   "cell_type": "code",
   "execution_count": null,
   "metadata": {
    "id": "nBiJ5eggX68q"
   },
   "outputs": [],
   "source": [
    "#Create a series\n",
    "s = pd.Series([x for x in range(1,11)])"
   ]
  },
  {
   "cell_type": "code",
   "execution_count": null,
   "metadata": {
    "colab": {
     "base_uri": "https://localhost:8080/"
    },
    "executionInfo": {
     "elapsed": 12,
     "status": "ok",
     "timestamp": 1682187863621,
     "user": {
      "displayName": "Winnie Aravindan",
      "userId": "17757356026009537686"
     },
     "user_tz": -330
    },
    "id": "kaRRGrpkX68r",
    "outputId": "b65037f1-2417-4555-f923-a275076900d6"
   },
   "outputs": [
    {
     "data": {
      "text/plain": [
       "0     1\n",
       "1     2\n",
       "2     3\n",
       "3     4\n",
       "4     5\n",
       "5     6\n",
       "6     7\n",
       "7     8\n",
       "8     9\n",
       "9    10\n",
       "dtype: int64"
      ]
     },
     "execution_count": 3,
     "metadata": {},
     "output_type": "execute_result"
    }
   ],
   "source": [
    "s"
   ]
  },
  {
   "cell_type": "markdown",
   "metadata": {
    "id": "sHxseQnbLnu-"
   },
   "source": [
    "**Observation**\n",
    "\n",
    "The Series **s** contains integers from 1 to 10."
   ]
  },
  {
   "cell_type": "markdown",
   "metadata": {
    "id": "knhDr2O-ZTzw"
   },
   "source": [
    "## Step 2: Access Elements Using .iloc and .iat\n",
    "\n",
    "\n",
    "The elements in a Series can be accessed using the index method. It can also be accessed using two other methods:\n",
    "- .iloc\n",
    "- .iat \n"
   ]
  },
  {
   "cell_type": "markdown",
   "metadata": {
    "id": "WJv7j7WZMIOw"
   },
   "source": [
    "Let's access the elements at the 0<sup>th</sup> and 5<sup>th</sup> indices using the .iloc method\n",
    "and elements at the 0<sup>th</sup> and 8<sup>th</sup> indices using the .iat method."
   ]
  },
  {
   "cell_type": "code",
   "execution_count": null,
   "metadata": {
    "colab": {
     "base_uri": "https://localhost:8080/"
    },
    "executionInfo": {
     "elapsed": 9,
     "status": "ok",
     "timestamp": 1682187863621,
     "user": {
      "displayName": "Winnie Aravindan",
      "userId": "17757356026009537686"
     },
     "user_tz": -330
    },
    "id": "_hapAjFHX68s",
    "outputId": "18afcfcf-5d1a-4b1e-d6dc-4d50d8149f85"
   },
   "outputs": [
    {
     "data": {
      "text/plain": [
       "1"
      ]
     },
     "execution_count": 4,
     "metadata": {},
     "output_type": "execute_result"
    }
   ],
   "source": [
    "s.iloc[0]"
   ]
  },
  {
   "cell_type": "code",
   "execution_count": null,
   "metadata": {
    "colab": {
     "base_uri": "https://localhost:8080/"
    },
    "executionInfo": {
     "elapsed": 7,
     "status": "ok",
     "timestamp": 1682187863621,
     "user": {
      "displayName": "Winnie Aravindan",
      "userId": "17757356026009537686"
     },
     "user_tz": -330
    },
    "id": "GKjn5-bkX68s",
    "outputId": "928f9865-8da9-48f2-b44b-688c62862cd6"
   },
   "outputs": [
    {
     "data": {
      "text/plain": [
       "6"
      ]
     },
     "execution_count": 5,
     "metadata": {},
     "output_type": "execute_result"
    }
   ],
   "source": [
    "s.iloc[5]"
   ]
  },
  {
   "cell_type": "code",
   "execution_count": null,
   "metadata": {
    "colab": {
     "base_uri": "https://localhost:8080/"
    },
    "executionInfo": {
     "elapsed": 646,
     "status": "ok",
     "timestamp": 1682187864261,
     "user": {
      "displayName": "Winnie Aravindan",
      "userId": "17757356026009537686"
     },
     "user_tz": -330
    },
    "id": "hn5zNfwmX68s",
    "outputId": "ff1f8b9a-55a2-48f4-a1e2-01a47c85c00b"
   },
   "outputs": [
    {
     "data": {
      "text/plain": [
       "1"
      ]
     },
     "execution_count": 6,
     "metadata": {},
     "output_type": "execute_result"
    }
   ],
   "source": [
    "s.iat[0]"
   ]
  },
  {
   "cell_type": "code",
   "execution_count": null,
   "metadata": {
    "colab": {
     "base_uri": "https://localhost:8080/"
    },
    "executionInfo": {
     "elapsed": 18,
     "status": "ok",
     "timestamp": 1682187864262,
     "user": {
      "displayName": "Winnie Aravindan",
      "userId": "17757356026009537686"
     },
     "user_tz": -330
    },
    "id": "M-q8wXulX68t",
    "outputId": "a5604462-140d-4031-9ad4-8c05abcf6198"
   },
   "outputs": [
    {
     "data": {
      "text/plain": [
       "9"
      ]
     },
     "execution_count": 7,
     "metadata": {},
     "output_type": "execute_result"
    }
   ],
   "source": [
    "s.iat[8]"
   ]
  },
  {
   "cell_type": "markdown",
   "metadata": {
    "id": "BxNvchKyMkVD"
   },
   "source": [
    "**Observation**\n",
    "\n",
    "The elements at the specified indices are 1, 6, 1 and 9."
   ]
  },
  {
   "cell_type": "markdown",
   "metadata": {
    "id": "To5NOndCZXpL"
   },
   "source": [
    "## Step 3: Slice the Series\n",
    "\n",
    "Series can also be sliced in the same way that lists can be sliced, but we need to specify the indices.\n",
    "\n",
    "- Slice a Series using the index range 5 to 9:\n"
   ]
  },
  {
   "cell_type": "code",
   "execution_count": null,
   "metadata": {
    "colab": {
     "base_uri": "https://localhost:8080/"
    },
    "executionInfo": {
     "elapsed": 17,
     "status": "ok",
     "timestamp": 1682187864262,
     "user": {
      "displayName": "Winnie Aravindan",
      "userId": "17757356026009537686"
     },
     "user_tz": -330
    },
    "id": "xkMrvgHnX68t",
    "outputId": "6111eff3-7839-4c69-ec0f-231e88f82213"
   },
   "outputs": [
    {
     "data": {
      "text/plain": [
       "5    6\n",
       "6    7\n",
       "7    8\n",
       "8    9\n",
       "dtype: int64"
      ]
     },
     "execution_count": 8,
     "metadata": {},
     "output_type": "execute_result"
    }
   ],
   "source": [
    "s[5:9]"
   ]
  },
  {
   "cell_type": "markdown",
   "metadata": {
    "id": "7YuZVTObM_W1"
   },
   "source": [
    "Negative indices can also be used. This will slice the Series from back to front. "
   ]
  },
  {
   "cell_type": "code",
   "execution_count": null,
   "metadata": {
    "colab": {
     "base_uri": "https://localhost:8080/"
    },
    "executionInfo": {
     "elapsed": 16,
     "status": "ok",
     "timestamp": 1682187864263,
     "user": {
      "displayName": "Winnie Aravindan",
      "userId": "17757356026009537686"
     },
     "user_tz": -330
    },
    "id": "2o3P4CRuX68t",
    "outputId": "2e4c9c44-03df-4243-e512-71efb9e03a84"
   },
   "outputs": [
    {
     "data": {
      "text/plain": [
       "6    7\n",
       "7    8\n",
       "8    9\n",
       "dtype: int64"
      ]
     },
     "execution_count": 9,
     "metadata": {},
     "output_type": "execute_result"
    }
   ],
   "source": [
    "s[-4:-1]"
   ]
  },
  {
   "cell_type": "markdown",
   "metadata": {
    "id": "VXaHbtX2NJQD"
   },
   "source": [
    "**Observation**\n",
    "\n",
    "The elements in the result are from index -4 to -1. It does not include the element at the index -1. "
   ]
  },
  {
   "cell_type": "markdown",
   "metadata": {
    "id": "Ii_f6nxeZblh"
   },
   "source": [
    "## Step 4: Use the .where() Method\n",
    "\n",
    "There is another method that's really useful in various operations in upcoming lessons. Here, we need to specify a condition for which it checks if the value in this series is true or not. \n",
    "\n",
    "- Let's check if a number is true. If this is true, it returns the value itself. If it is false, it returns a null value.\n",
    "\n",
    "\n",
    "- Let's use the .where() method to apply the conditions and manipulate the values in a Series.\n"
   ]
  },
  {
   "cell_type": "code",
   "execution_count": null,
   "metadata": {
    "colab": {
     "base_uri": "https://localhost:8080/"
    },
    "executionInfo": {
     "elapsed": 14,
     "status": "ok",
     "timestamp": 1682187864263,
     "user": {
      "displayName": "Winnie Aravindan",
      "userId": "17757356026009537686"
     },
     "user_tz": -330
    },
    "id": "byzmH5wXX68u",
    "outputId": "d32a335a-5449-494b-e5f5-f5f4a34ab518"
   },
   "outputs": [
    {
     "data": {
      "text/plain": [
       "0     NaN\n",
       "1     2.0\n",
       "2     NaN\n",
       "3     4.0\n",
       "4     NaN\n",
       "5     6.0\n",
       "6     NaN\n",
       "7     8.0\n",
       "8     NaN\n",
       "9    10.0\n",
       "dtype: float64"
      ]
     },
     "execution_count": 10,
     "metadata": {},
     "output_type": "execute_result"
    }
   ],
   "source": [
    "s.where(s%2==0)"
   ]
  },
  {
   "cell_type": "markdown",
   "metadata": {
    "id": "LjAn2fGmOdoY"
   },
   "source": [
    "**Observation**\n",
    "\n",
    "The result contains all the even numbers in the series. All other elements are **NaN**."
   ]
  },
  {
   "cell_type": "markdown",
   "metadata": {
    "id": "NwJgrQGeO7BX"
   },
   "source": [
    "There is also an option where we can specify the value to be returned if the condition is false.\n",
    "We can see that wherever the number is, it returns an odd number. This need not be a string itself.\n",
    "Now, let's print **Odd Number** if the element of the Series is an odd number."
   ]
  },
  {
   "cell_type": "code",
   "execution_count": null,
   "metadata": {
    "colab": {
     "base_uri": "https://localhost:8080/"
    },
    "executionInfo": {
     "elapsed": 13,
     "status": "ok",
     "timestamp": 1682187864263,
     "user": {
      "displayName": "Winnie Aravindan",
      "userId": "17757356026009537686"
     },
     "user_tz": -330
    },
    "id": "-ty_B6WPX68u",
    "outputId": "7bd6f3a9-dbbc-497a-d578-27d27414d85f"
   },
   "outputs": [
    {
     "data": {
      "text/plain": [
       "0    Odd Number\n",
       "1             2\n",
       "2    Odd Number\n",
       "3             4\n",
       "4    Odd Number\n",
       "5             6\n",
       "6    Odd Number\n",
       "7             8\n",
       "8    Odd Number\n",
       "9            10\n",
       "dtype: object"
      ]
     },
     "execution_count": 11,
     "metadata": {},
     "output_type": "execute_result"
    }
   ],
   "source": [
    "s.where(s%2==0,'Odd Number')"
   ]
  },
  {
   "cell_type": "markdown",
   "metadata": {
    "id": "eGESwy3qPXp_"
   },
   "source": [
    "**Observation**\n",
    "\n",
    "The result has all the even numbers in their place and the string **Odd Number** in place of the odd numbers."
   ]
  },
  {
   "cell_type": "markdown",
   "metadata": {
    "id": "Uwku6ewWPIO_"
   },
   "source": [
    "This can also be a function to which the Series is passed.\n",
    "\n",
    "Let's say that for every odd number, we calculate the square of it.\n",
    "If this condition is false, we calculate the square of it."
   ]
  },
  {
   "cell_type": "code",
   "execution_count": null,
   "metadata": {
    "colab": {
     "base_uri": "https://localhost:8080/"
    },
    "executionInfo": {
     "elapsed": 12,
     "status": "ok",
     "timestamp": 1682187864264,
     "user": {
      "displayName": "Winnie Aravindan",
      "userId": "17757356026009537686"
     },
     "user_tz": -330
    },
    "id": "lB76z8P0X68u",
    "outputId": "4b31bfc3-b3b2-484a-8e72-53c07b5a04ff"
   },
   "outputs": [
    {
     "data": {
      "text/plain": [
       "0     1\n",
       "1     2\n",
       "2     9\n",
       "3     4\n",
       "4    25\n",
       "5     6\n",
       "6    49\n",
       "7     8\n",
       "8    81\n",
       "9    10\n",
       "dtype: int64"
      ]
     },
     "execution_count": 12,
     "metadata": {},
     "output_type": "execute_result"
    }
   ],
   "source": [
    "s.where(s%2==0,s**2)"
   ]
  },
  {
   "cell_type": "markdown",
   "metadata": {
    "id": "6V3tOhpvPq6Y"
   },
   "source": [
    "**Observation**\n",
    "\n",
    "All the even numbers are present in the result. In the place of odd numbers, we have squared off the corresponding number."
   ]
  },
  {
   "cell_type": "markdown",
   "metadata": {
    "id": "NlZ9aWi8ZlaP"
   },
   "source": [
    "## Step 5: Modify Series Inplace Using .where()\n",
    "\n",
    "There are methods by which we can deal with null values. Let's include null values in the series.\n",
    "\n",
    "This returns null values, and we can modify the original Series inplace by ensuring inplace is equal to true. \n",
    "\n",
    "The dot drop name would drop all the null values in the series.\n",
    "\n",
    "\n",
    "- Modify the series using inplace = True in the .where() method:"
   ]
  },
  {
   "cell_type": "code",
   "execution_count": null,
   "metadata": {
    "id": "Wz7pYWCOX68v"
   },
   "outputs": [],
   "source": [
    "s.where(s%2==0,inplace=True)"
   ]
  },
  {
   "cell_type": "markdown",
   "metadata": {
    "id": "HuBFsKJ0Zn6K"
   },
   "source": [
    "## Step 6: Handle Missing Values\n",
    "\n",
    "Similarly, we can fill the null values using a specified value using the dot fillna() method, but we need to specify the value in which it needs to be filled.\n",
    "Every null value that was present in this series was filled with the string-filled value. \n",
    "\n",
    "- Handle missing values in a series using the .dropna() and .fillna() methods:\n"
   ]
  },
  {
   "cell_type": "code",
   "execution_count": null,
   "metadata": {
    "colab": {
     "base_uri": "https://localhost:8080/"
    },
    "executionInfo": {
     "elapsed": 10,
     "status": "ok",
     "timestamp": 1682187864264,
     "user": {
      "displayName": "Winnie Aravindan",
      "userId": "17757356026009537686"
     },
     "user_tz": -330
    },
    "id": "oQyipqiAX68v",
    "outputId": "17b2842a-92f4-49b2-f477-6a1ad1f528e6"
   },
   "outputs": [
    {
     "data": {
      "text/plain": [
       "1     2.0\n",
       "3     4.0\n",
       "5     6.0\n",
       "7     8.0\n",
       "9    10.0\n",
       "dtype: float64"
      ]
     },
     "execution_count": 14,
     "metadata": {},
     "output_type": "execute_result"
    }
   ],
   "source": [
    "s.dropna()"
   ]
  },
  {
   "cell_type": "code",
   "execution_count": null,
   "metadata": {
    "colab": {
     "base_uri": "https://localhost:8080/"
    },
    "executionInfo": {
     "elapsed": 8,
     "status": "ok",
     "timestamp": 1682187864264,
     "user": {
      "displayName": "Winnie Aravindan",
      "userId": "17757356026009537686"
     },
     "user_tz": -330
    },
    "id": "Ovtj309LX68v",
    "outputId": "d2ff755f-1b8d-4ef8-d8a8-3fb4f8186790"
   },
   "outputs": [
    {
     "data": {
      "text/plain": [
       "0    Filled Value\n",
       "1             2.0\n",
       "2    Filled Value\n",
       "3             4.0\n",
       "4    Filled Value\n",
       "5             6.0\n",
       "6    Filled Value\n",
       "7             8.0\n",
       "8    Filled Value\n",
       "9            10.0\n",
       "dtype: object"
      ]
     },
     "execution_count": 15,
     "metadata": {},
     "output_type": "execute_result"
    }
   ],
   "source": [
    "s.fillna('Filled Value')"
   ]
  },
  {
   "cell_type": "markdown",
   "metadata": {
    "id": "dXooDvPiRVEo"
   },
   "source": [
    "**Observation**\n",
    "\n",
    "The result has the Series elements and the string **Filled Value**, which has been added using the fillna() operation."
   ]
  },
  {
   "cell_type": "code",
   "execution_count": 1,
   "metadata": {},
   "outputs": [
    {
     "name": "stdout",
     "output_type": "stream",
     "text": [
      "d    1\n",
      "b    2\n",
      "c    3\n",
      "a    4\n",
      "dtype: int64\n",
      "a    4\n",
      "b    2\n",
      "c    3\n",
      "d    1\n",
      "dtype: int64\n",
      "d    1\n",
      "b    2\n",
      "c    3\n",
      "a    4\n",
      "dtype: int64\n",
      "a    4.0\n",
      "b    2.0\n",
      "c    3.0\n",
      "d    1.0\n",
      "e    NaN\n",
      "dtype: float64\n",
      "a    4\n",
      "b    2\n",
      "c    3\n",
      "d    1\n",
      "e    0\n",
      "dtype: int64\n",
      "0       cricket\n",
      "2      football\n",
      "4    basketball\n",
      "dtype: object\n",
      "0       cricket\n",
      "1       cricket\n",
      "2      football\n",
      "3      football\n",
      "4    basketball\n",
      "5    basketball\n",
      "dtype: object\n",
      "0       cricket\n",
      "2      football\n",
      "4    basketball\n",
      "dtype: object\n",
      "0       cricket\n",
      "1      football\n",
      "2      football\n",
      "3    basketball\n",
      "4    basketball\n",
      "5           NaN\n",
      "dtype: object\n",
      "   ger  aus  fra\n",
      "a    0    1    2\n",
      "b    3    4    5\n",
      "c    6    7    8\n",
      "   ger  aus  fra\n",
      "a  0.0  1.0  2.0\n",
      "b  3.0  4.0  5.0\n",
      "c  6.0  7.0  8.0\n",
      "d  NaN  NaN  NaN\n",
      "   ger  norway  fra\n",
      "a    0     NaN    2\n",
      "b    3     NaN    5\n",
      "c    6     NaN    8\n"
     ]
    },
    {
     "ename": "KeyError",
     "evalue": "\"['d'] not in index\"",
     "output_type": "error",
     "traceback": [
      "\u001b[1;31m---------------------------------------------------------------------------\u001b[0m",
      "\u001b[1;31mKeyError\u001b[0m                                  Traceback (most recent call last)",
      "Cell \u001b[1;32mIn[1], line 52\u001b[0m\n\u001b[0;32m     49\u001b[0m \u001b[38;5;28mprint\u001b[39m(frame\u001b[38;5;241m.\u001b[39mreindex(columns \u001b[38;5;241m=\u001b[39m country))\n\u001b[0;32m     51\u001b[0m \u001b[38;5;66;03m#frame.reindex(index=['a', 'b', 'c', 'd'], method='ffill',columns=country)\u001b[39;00m\n\u001b[1;32m---> 52\u001b[0m \u001b[43mframe\u001b[49m\u001b[38;5;241;43m.\u001b[39;49m\u001b[43mloc\u001b[49m\u001b[43m[\u001b[49m\u001b[43m[\u001b[49m\u001b[38;5;124;43m'\u001b[39;49m\u001b[38;5;124;43ma\u001b[39;49m\u001b[38;5;124;43m'\u001b[39;49m\u001b[43m,\u001b[49m\u001b[43m \u001b[49m\u001b[38;5;124;43m'\u001b[39;49m\u001b[38;5;124;43mb\u001b[39;49m\u001b[38;5;124;43m'\u001b[39;49m\u001b[43m,\u001b[49m\u001b[43m \u001b[49m\u001b[38;5;124;43m'\u001b[39;49m\u001b[38;5;124;43mc\u001b[39;49m\u001b[38;5;124;43m'\u001b[39;49m\u001b[43m,\u001b[49m\u001b[43m \u001b[49m\u001b[38;5;124;43m'\u001b[39;49m\u001b[38;5;124;43md\u001b[39;49m\u001b[38;5;124;43m'\u001b[39;49m\u001b[43m]\u001b[49m\u001b[43m,\u001b[49m\u001b[43m \u001b[49m\u001b[43mcountry\u001b[49m\u001b[43m]\u001b[49m\n\u001b[0;32m     53\u001b[0m \u001b[38;5;28mprint\u001b[39m(frame\u001b[38;5;241m.\u001b[39mloc[[\u001b[38;5;124m'\u001b[39m\u001b[38;5;124ma\u001b[39m\u001b[38;5;124m'\u001b[39m, \u001b[38;5;124m'\u001b[39m\u001b[38;5;124mb\u001b[39m\u001b[38;5;124m'\u001b[39m, \u001b[38;5;124m'\u001b[39m\u001b[38;5;124mc\u001b[39m\u001b[38;5;124m'\u001b[39m, \u001b[38;5;124m'\u001b[39m\u001b[38;5;124md\u001b[39m\u001b[38;5;124m'\u001b[39m], country])\n\u001b[0;32m     55\u001b[0m \u001b[38;5;66;03m#dropping entries from an axis\u001b[39;00m\n\u001b[0;32m     56\u001b[0m \u001b[38;5;66;03m#Dropping one or more entries from an axis is easy if you have an index array or list\u001b[39;00m\n\u001b[0;32m     57\u001b[0m \u001b[38;5;66;03m#without those entries.\u001b[39;00m\n",
      "File \u001b[1;32mc:\\users\\ajay\\appdata\\local\\programs\\python\\python38\\lib\\site-packages\\pandas\\core\\indexing.py:1097\u001b[0m, in \u001b[0;36m_LocationIndexer.__getitem__\u001b[1;34m(self, key)\u001b[0m\n\u001b[0;32m   1095\u001b[0m     \u001b[38;5;28;01mif\u001b[39;00m \u001b[38;5;28mself\u001b[39m\u001b[38;5;241m.\u001b[39m_is_scalar_access(key):\n\u001b[0;32m   1096\u001b[0m         \u001b[38;5;28;01mreturn\u001b[39;00m \u001b[38;5;28mself\u001b[39m\u001b[38;5;241m.\u001b[39mobj\u001b[38;5;241m.\u001b[39m_get_value(\u001b[38;5;241m*\u001b[39mkey, takeable\u001b[38;5;241m=\u001b[39m\u001b[38;5;28mself\u001b[39m\u001b[38;5;241m.\u001b[39m_takeable)\n\u001b[1;32m-> 1097\u001b[0m     \u001b[38;5;28;01mreturn\u001b[39;00m \u001b[38;5;28;43mself\u001b[39;49m\u001b[38;5;241;43m.\u001b[39;49m\u001b[43m_getitem_tuple\u001b[49m\u001b[43m(\u001b[49m\u001b[43mkey\u001b[49m\u001b[43m)\u001b[49m\n\u001b[0;32m   1098\u001b[0m \u001b[38;5;28;01melse\u001b[39;00m:\n\u001b[0;32m   1099\u001b[0m     \u001b[38;5;66;03m# we by definition only have the 0th axis\u001b[39;00m\n\u001b[0;32m   1100\u001b[0m     axis \u001b[38;5;241m=\u001b[39m \u001b[38;5;28mself\u001b[39m\u001b[38;5;241m.\u001b[39maxis \u001b[38;5;129;01mor\u001b[39;00m \u001b[38;5;241m0\u001b[39m\n",
      "File \u001b[1;32mc:\\users\\ajay\\appdata\\local\\programs\\python\\python38\\lib\\site-packages\\pandas\\core\\indexing.py:1287\u001b[0m, in \u001b[0;36m_LocIndexer._getitem_tuple\u001b[1;34m(self, tup)\u001b[0m\n\u001b[0;32m   1285\u001b[0m \u001b[38;5;66;03m# ugly hack for GH #836\u001b[39;00m\n\u001b[0;32m   1286\u001b[0m \u001b[38;5;28;01mif\u001b[39;00m \u001b[38;5;28mself\u001b[39m\u001b[38;5;241m.\u001b[39m_multi_take_opportunity(tup):\n\u001b[1;32m-> 1287\u001b[0m     \u001b[38;5;28;01mreturn\u001b[39;00m \u001b[38;5;28;43mself\u001b[39;49m\u001b[38;5;241;43m.\u001b[39;49m\u001b[43m_multi_take\u001b[49m\u001b[43m(\u001b[49m\u001b[43mtup\u001b[49m\u001b[43m)\u001b[49m\n\u001b[0;32m   1289\u001b[0m \u001b[38;5;28;01mreturn\u001b[39;00m \u001b[38;5;28mself\u001b[39m\u001b[38;5;241m.\u001b[39m_getitem_tuple_same_dim(tup)\n",
      "File \u001b[1;32mc:\\users\\ajay\\appdata\\local\\programs\\python\\python38\\lib\\site-packages\\pandas\\core\\indexing.py:1238\u001b[0m, in \u001b[0;36m_LocIndexer._multi_take\u001b[1;34m(self, tup)\u001b[0m\n\u001b[0;32m   1222\u001b[0m \u001b[38;5;250m\u001b[39m\u001b[38;5;124;03m\"\"\"\u001b[39;00m\n\u001b[0;32m   1223\u001b[0m \u001b[38;5;124;03mCreate the indexers for the passed tuple of keys, and\u001b[39;00m\n\u001b[0;32m   1224\u001b[0m \u001b[38;5;124;03mexecutes the take operation. This allows the take operation to be\u001b[39;00m\n\u001b[1;32m   (...)\u001b[0m\n\u001b[0;32m   1235\u001b[0m \u001b[38;5;124;03mvalues: same type as the object being indexed\u001b[39;00m\n\u001b[0;32m   1236\u001b[0m \u001b[38;5;124;03m\"\"\"\u001b[39;00m\n\u001b[0;32m   1237\u001b[0m \u001b[38;5;66;03m# GH 836\u001b[39;00m\n\u001b[1;32m-> 1238\u001b[0m d \u001b[38;5;241m=\u001b[39m {\n\u001b[0;32m   1239\u001b[0m     axis: \u001b[38;5;28mself\u001b[39m\u001b[38;5;241m.\u001b[39m_get_listlike_indexer(key, axis)\n\u001b[0;32m   1240\u001b[0m     \u001b[38;5;28;01mfor\u001b[39;00m (key, axis) \u001b[38;5;129;01min\u001b[39;00m \u001b[38;5;28mzip\u001b[39m(tup, \u001b[38;5;28mself\u001b[39m\u001b[38;5;241m.\u001b[39mobj\u001b[38;5;241m.\u001b[39m_AXIS_ORDERS)\n\u001b[0;32m   1241\u001b[0m }\n\u001b[0;32m   1242\u001b[0m \u001b[38;5;28;01mreturn\u001b[39;00m \u001b[38;5;28mself\u001b[39m\u001b[38;5;241m.\u001b[39mobj\u001b[38;5;241m.\u001b[39m_reindex_with_indexers(d, copy\u001b[38;5;241m=\u001b[39m\u001b[38;5;28;01mTrue\u001b[39;00m, allow_dups\u001b[38;5;241m=\u001b[39m\u001b[38;5;28;01mTrue\u001b[39;00m)\n",
      "File \u001b[1;32mc:\\users\\ajay\\appdata\\local\\programs\\python\\python38\\lib\\site-packages\\pandas\\core\\indexing.py:1239\u001b[0m, in \u001b[0;36m<dictcomp>\u001b[1;34m(.0)\u001b[0m\n\u001b[0;32m   1222\u001b[0m \u001b[38;5;250m\u001b[39m\u001b[38;5;124;03m\"\"\"\u001b[39;00m\n\u001b[0;32m   1223\u001b[0m \u001b[38;5;124;03mCreate the indexers for the passed tuple of keys, and\u001b[39;00m\n\u001b[0;32m   1224\u001b[0m \u001b[38;5;124;03mexecutes the take operation. This allows the take operation to be\u001b[39;00m\n\u001b[1;32m   (...)\u001b[0m\n\u001b[0;32m   1235\u001b[0m \u001b[38;5;124;03mvalues: same type as the object being indexed\u001b[39;00m\n\u001b[0;32m   1236\u001b[0m \u001b[38;5;124;03m\"\"\"\u001b[39;00m\n\u001b[0;32m   1237\u001b[0m \u001b[38;5;66;03m# GH 836\u001b[39;00m\n\u001b[0;32m   1238\u001b[0m d \u001b[38;5;241m=\u001b[39m {\n\u001b[1;32m-> 1239\u001b[0m     axis: \u001b[38;5;28;43mself\u001b[39;49m\u001b[38;5;241;43m.\u001b[39;49m\u001b[43m_get_listlike_indexer\u001b[49m\u001b[43m(\u001b[49m\u001b[43mkey\u001b[49m\u001b[43m,\u001b[49m\u001b[43m \u001b[49m\u001b[43maxis\u001b[49m\u001b[43m)\u001b[49m\n\u001b[0;32m   1240\u001b[0m     \u001b[38;5;28;01mfor\u001b[39;00m (key, axis) \u001b[38;5;129;01min\u001b[39;00m \u001b[38;5;28mzip\u001b[39m(tup, \u001b[38;5;28mself\u001b[39m\u001b[38;5;241m.\u001b[39mobj\u001b[38;5;241m.\u001b[39m_AXIS_ORDERS)\n\u001b[0;32m   1241\u001b[0m }\n\u001b[0;32m   1242\u001b[0m \u001b[38;5;28;01mreturn\u001b[39;00m \u001b[38;5;28mself\u001b[39m\u001b[38;5;241m.\u001b[39mobj\u001b[38;5;241m.\u001b[39m_reindex_with_indexers(d, copy\u001b[38;5;241m=\u001b[39m\u001b[38;5;28;01mTrue\u001b[39;00m, allow_dups\u001b[38;5;241m=\u001b[39m\u001b[38;5;28;01mTrue\u001b[39;00m)\n",
      "File \u001b[1;32mc:\\users\\ajay\\appdata\\local\\programs\\python\\python38\\lib\\site-packages\\pandas\\core\\indexing.py:1462\u001b[0m, in \u001b[0;36m_LocIndexer._get_listlike_indexer\u001b[1;34m(self, key, axis)\u001b[0m\n\u001b[0;32m   1459\u001b[0m ax \u001b[38;5;241m=\u001b[39m \u001b[38;5;28mself\u001b[39m\u001b[38;5;241m.\u001b[39mobj\u001b[38;5;241m.\u001b[39m_get_axis(axis)\n\u001b[0;32m   1460\u001b[0m axis_name \u001b[38;5;241m=\u001b[39m \u001b[38;5;28mself\u001b[39m\u001b[38;5;241m.\u001b[39mobj\u001b[38;5;241m.\u001b[39m_get_axis_name(axis)\n\u001b[1;32m-> 1462\u001b[0m keyarr, indexer \u001b[38;5;241m=\u001b[39m \u001b[43max\u001b[49m\u001b[38;5;241;43m.\u001b[39;49m\u001b[43m_get_indexer_strict\u001b[49m\u001b[43m(\u001b[49m\u001b[43mkey\u001b[49m\u001b[43m,\u001b[49m\u001b[43m \u001b[49m\u001b[43maxis_name\u001b[49m\u001b[43m)\u001b[49m\n\u001b[0;32m   1464\u001b[0m \u001b[38;5;28;01mreturn\u001b[39;00m keyarr, indexer\n",
      "File \u001b[1;32mc:\\users\\ajay\\appdata\\local\\programs\\python\\python38\\lib\\site-packages\\pandas\\core\\indexes\\base.py:5877\u001b[0m, in \u001b[0;36mIndex._get_indexer_strict\u001b[1;34m(self, key, axis_name)\u001b[0m\n\u001b[0;32m   5874\u001b[0m \u001b[38;5;28;01melse\u001b[39;00m:\n\u001b[0;32m   5875\u001b[0m     keyarr, indexer, new_indexer \u001b[38;5;241m=\u001b[39m \u001b[38;5;28mself\u001b[39m\u001b[38;5;241m.\u001b[39m_reindex_non_unique(keyarr)\n\u001b[1;32m-> 5877\u001b[0m \u001b[38;5;28;43mself\u001b[39;49m\u001b[38;5;241;43m.\u001b[39;49m\u001b[43m_raise_if_missing\u001b[49m\u001b[43m(\u001b[49m\u001b[43mkeyarr\u001b[49m\u001b[43m,\u001b[49m\u001b[43m \u001b[49m\u001b[43mindexer\u001b[49m\u001b[43m,\u001b[49m\u001b[43m \u001b[49m\u001b[43maxis_name\u001b[49m\u001b[43m)\u001b[49m\n\u001b[0;32m   5879\u001b[0m keyarr \u001b[38;5;241m=\u001b[39m \u001b[38;5;28mself\u001b[39m\u001b[38;5;241m.\u001b[39mtake(indexer)\n\u001b[0;32m   5880\u001b[0m \u001b[38;5;28;01mif\u001b[39;00m \u001b[38;5;28misinstance\u001b[39m(key, Index):\n\u001b[0;32m   5881\u001b[0m     \u001b[38;5;66;03m# GH 42790 - Preserve name from an Index\u001b[39;00m\n",
      "File \u001b[1;32mc:\\users\\ajay\\appdata\\local\\programs\\python\\python38\\lib\\site-packages\\pandas\\core\\indexes\\base.py:5941\u001b[0m, in \u001b[0;36mIndex._raise_if_missing\u001b[1;34m(self, key, indexer, axis_name)\u001b[0m\n\u001b[0;32m   5938\u001b[0m     \u001b[38;5;28;01mraise\u001b[39;00m \u001b[38;5;167;01mKeyError\u001b[39;00m(\u001b[38;5;124mf\u001b[39m\u001b[38;5;124m\"\u001b[39m\u001b[38;5;124mNone of [\u001b[39m\u001b[38;5;132;01m{\u001b[39;00mkey\u001b[38;5;132;01m}\u001b[39;00m\u001b[38;5;124m] are in the [\u001b[39m\u001b[38;5;132;01m{\u001b[39;00maxis_name\u001b[38;5;132;01m}\u001b[39;00m\u001b[38;5;124m]\u001b[39m\u001b[38;5;124m\"\u001b[39m)\n\u001b[0;32m   5940\u001b[0m not_found \u001b[38;5;241m=\u001b[39m \u001b[38;5;28mlist\u001b[39m(ensure_index(key)[missing_mask\u001b[38;5;241m.\u001b[39mnonzero()[\u001b[38;5;241m0\u001b[39m]]\u001b[38;5;241m.\u001b[39munique())\n\u001b[1;32m-> 5941\u001b[0m \u001b[38;5;28;01mraise\u001b[39;00m \u001b[38;5;167;01mKeyError\u001b[39;00m(\u001b[38;5;124mf\u001b[39m\u001b[38;5;124m\"\u001b[39m\u001b[38;5;132;01m{\u001b[39;00mnot_found\u001b[38;5;132;01m}\u001b[39;00m\u001b[38;5;124m not in index\u001b[39m\u001b[38;5;124m\"\u001b[39m)\n",
      "\u001b[1;31mKeyError\u001b[0m: \"['d'] not in index\""
     ]
    }
   ],
   "source": [
    "#More on series\n",
    "\n",
    "#Reindexing\n",
    "#to create a new object with the data confirmed to a new index.\n",
    "import pandas as pd\n",
    "import numpy as np\n",
    "ser = pd.Series([1,2,3,4], index=['d','b','c','a'])\n",
    "print(ser)\n",
    "\n",
    "#calling reindex to rearrange data as per new index\n",
    "ser1 = ser.reindex(['a','b','c','d'])\n",
    "print(ser1)\n",
    "\n",
    "print(ser)\n",
    "\n",
    "ser3 = ser1.reindex(['a','b','c','d','e'])\n",
    "#ser3 = ser1.reindex(['a','test1','b','test2','c','test3','d','test4','e'])\n",
    "print(ser3)\n",
    "\n",
    "ser3 = ser1.reindex(['a','b','c','d','e'],fill_value=0)\n",
    "print(ser3)\n",
    "\n",
    "#using ffill to take care of missing values (interpolation/filling values)\n",
    "ser4 = pd.Series(['cricket','football','basketball'],index=[0,2,4])\n",
    "ser4\n",
    "print(ser4)\n",
    "\n",
    "ser4.reindex(range(6),method='ffill')\n",
    "print(ser4.reindex(range(6),method='ffill'))\n",
    "\n",
    "ser5 = pd.Series(['cricket','football','basketball'],index=[0,2,4])\n",
    "ser5\n",
    "print(ser5)\n",
    "\n",
    "ser5.reindex(range(6),method='bfill')\n",
    "print(ser5.reindex(range(6),method='bfill'))\n",
    "\n",
    "#With DF , reindex can alter the row-index, columns or both\n",
    "frame = pd.DataFrame(np.arange(9).reshape((3,3)),index=['a','b','c'],\n",
    "columns=['ger','aus','fra'])\n",
    "print(frame)\n",
    "\n",
    "frame2 = frame.reindex(['a','b','c','d'])\n",
    "print(frame2)\n",
    "\n",
    "#columns can be reindexed using the columns keyword\n",
    "country = ['ger','norway','fra']\n",
    "frame.reindex(columns = country)\n",
    "print(frame.reindex(columns = country))\n",
    "\n",
    "#frame.reindex(index=['a', 'b', 'c', 'd'], method='ffill',columns=country)\n",
    "frame.loc[['a', 'b', 'c', 'd'], country]\n",
    "print(frame.loc[['a', 'b', 'c', 'd'], country])\n",
    "\n",
    "#dropping entries from an axis\n",
    "#Dropping one or more entries from an axis is easy if you have an index array or list\n",
    "#without those entries.\n",
    "ser6 = pd.Series(np.arange(5.), index=['a', 'b', 'c', 'd', 'e'])\n",
    "ser6\n",
    "new_ser = ser6.drop('c')\n",
    "new_ser\n",
    "print(new_ser)\n",
    "\n",
    "print(ser6.drop(['a','c']))\n",
    "ser6\n",
    "\n",
    "#With DataFrame, index values can be deleted from either axis:\n",
    "data = pd.DataFrame(np.arange(16).reshape((4, 4)),\n",
    "index=['paris', 'belgium', 'vienna', 'basel'],\n",
    "columns=['one', 'two', 'three', 'four'])\n",
    "\n",
    "print(data)\n",
    "print(data.drop(['paris','belgium']))\n",
    "\n",
    "print(data)\n",
    "print(data.drop('two', axis=1))\n",
    "print(data.drop(['two', 'four'], axis=1))"
   ]
  },
  {
   "cell_type": "code",
   "execution_count": null,
   "metadata": {},
   "outputs": [],
   "source": []
  }
 ],
 "metadata": {
  "colab": {
   "provenance": []
  },
  "kernelspec": {
   "display_name": "Python 3 (ipykernel)",
   "language": "python",
   "name": "python3"
  },
  "language_info": {
   "codemirror_mode": {
    "name": "ipython",
    "version": 3
   },
   "file_extension": ".py",
   "mimetype": "text/x-python",
   "name": "python",
   "nbconvert_exporter": "python",
   "pygments_lexer": "ipython3",
   "version": "3.8.2rc2"
  }
 },
 "nbformat": 4,
 "nbformat_minor": 4
}
