{
 "cells": [
  {
   "cell_type": "markdown",
   "metadata": {
    "id": "lKD5rE4MJYrU"
   },
   "source": [
    "## __Introduction to the Pandas Series__\n",
    "\n",
    "Pandas Series is a one-dimensional array with an axis label.  "
   ]
  },
  {
   "cell_type": "markdown",
   "metadata": {
    "id": "I_J4BD1QWGNR"
   },
   "source": [
    "## Step 1: Import Pandas and Create a List\n",
    "\n",
    "- Import the pandas library:\n"
   ]
  },
  {
   "cell_type": "code",
   "execution_count": 1,
   "metadata": {
    "id": "ObYqpUUxV5wU"
   },
   "outputs": [],
   "source": [
    "import pandas as pd"
   ]
  },
  {
   "cell_type": "markdown",
   "metadata": {
    "id": "uBhahSDuNrAP"
   },
   "source": [
    "Now, let's create a list called 'l'.\n",
    "\n"
   ]
  },
  {
   "cell_type": "code",
   "execution_count": 2,
   "metadata": {
    "id": "VR2XWhvZV5wW"
   },
   "outputs": [],
   "source": [
    "l = [x for x in range(5)]"
   ]
  },
  {
   "cell_type": "markdown",
   "metadata": {
    "id": "0UO9dWUMWNZE"
   },
   "source": [
    "## Step 2: Create a Pandas Series\n",
    "\n",
    "- Create a pandas Series from the list, and access elements using its label\n",
    "\n",
    "For this, we can use the Series() method of pandas and pass the list **l** to it. \n"
   ]
  },
  {
   "cell_type": "code",
   "execution_count": 3,
   "metadata": {
    "id": "IPQ52ruMV5wW"
   },
   "outputs": [],
   "source": [
    "s = pd.Series(l)"
   ]
  },
  {
   "cell_type": "markdown",
   "metadata": {
    "id": "tYO5g5uaU9P0"
   },
   "source": [
    "Now, let's print the series **s**."
   ]
  },
  {
   "cell_type": "code",
   "execution_count": 4,
   "metadata": {
    "colab": {
     "base_uri": "https://localhost:8080/"
    },
    "executionInfo": {
     "elapsed": 17,
     "status": "ok",
     "timestamp": 1682173069456,
     "user": {
      "displayName": "Winnie Aravindan",
      "userId": "17757356026009537686"
     },
     "user_tz": -330
    },
    "id": "ZVFw3jMrV5wX",
    "outputId": "b30a5116-3231-45af-c6a8-635a2356bfc7"
   },
   "outputs": [
    {
     "data": {
      "text/plain": [
       "0    0\n",
       "1    1\n",
       "2    2\n",
       "3    3\n",
       "4    4\n",
       "dtype: int64"
      ]
     },
     "execution_count": 4,
     "metadata": {},
     "output_type": "execute_result"
    }
   ],
   "source": [
    "s"
   ]
  },
  {
   "cell_type": "markdown",
   "metadata": {
    "id": "W_adE4H2VJIH"
   },
   "source": [
    "**Observation**\n",
    "\n",
    "- The result has all the elements present in the Series along with their indexes. \n",
    "\n",
    "- The result also shows the data type of the elements in the Series."
   ]
  },
  {
   "cell_type": "markdown",
   "metadata": {
    "id": "xmk0jhMdRc5P"
   },
   "source": [
    "To access the elements in a pandas Series, we use the indexing method.\n",
    "\n",
    "- Let's access the 3<sup>rd</sup> element from the Series."
   ]
  },
  {
   "cell_type": "code",
   "execution_count": 5,
   "metadata": {
    "colab": {
     "base_uri": "https://localhost:8080/"
    },
    "executionInfo": {
     "elapsed": 14,
     "status": "ok",
     "timestamp": 1682173069456,
     "user": {
      "displayName": "Winnie Aravindan",
      "userId": "17757356026009537686"
     },
     "user_tz": -330
    },
    "id": "bTfNyUTSV5wY",
    "outputId": "af2d2dcc-7b30-48de-b509-b7942f98231a"
   },
   "outputs": [
    {
     "data": {
      "text/plain": [
       "3"
      ]
     },
     "execution_count": 5,
     "metadata": {},
     "output_type": "execute_result"
    }
   ],
   "source": [
    "s[3]"
   ]
  },
  {
   "cell_type": "markdown",
   "metadata": {
    "id": "2gA3fVzyUXmm"
   },
   "source": [
    "**Observation**\n",
    "\n",
    "The 3<sup>rd</sup> element of the series is 3."
   ]
  },
  {
   "cell_type": "markdown",
   "metadata": {
    "id": "0LBhCCmCWQ07"
   },
   "source": [
    "## Step 3: Create a Series with Custom Indexes\n",
    "\n",
    "We can also create a Series with the custom indexes.\n",
    "\n",
    "- Create a Series with custom indexes **a**, **b**, **c**, **d** and **e**\n",
    "\n",
    "For this, we need to pass the parameter index = [list of custom indexes]."
   ]
  },
  {
   "cell_type": "code",
   "execution_count": 6,
   "metadata": {
    "id": "s-p24E5rV5wY"
   },
   "outputs": [],
   "source": [
    "s = pd.Series(l,index=['a','b','c','d','e'])"
   ]
  },
  {
   "cell_type": "markdown",
   "metadata": {
    "id": "CT4gHTkhXF6Y"
   },
   "source": [
    "Let's see the new pandas Series 's'.\n"
   ]
  },
  {
   "cell_type": "code",
   "execution_count": 7,
   "metadata": {
    "colab": {
     "base_uri": "https://localhost:8080/"
    },
    "executionInfo": {
     "elapsed": 13,
     "status": "ok",
     "timestamp": 1682173069457,
     "user": {
      "displayName": "Winnie Aravindan",
      "userId": "17757356026009537686"
     },
     "user_tz": -330
    },
    "id": "uiU900FGV5wZ",
    "outputId": "31bb1e8d-8fd3-49af-9b25-3e1875ff5183"
   },
   "outputs": [
    {
     "data": {
      "text/plain": [
       "a    0\n",
       "b    1\n",
       "c    2\n",
       "d    3\n",
       "e    4\n",
       "dtype: int64"
      ]
     },
     "execution_count": 7,
     "metadata": {},
     "output_type": "execute_result"
    }
   ],
   "source": [
    "s"
   ]
  },
  {
   "cell_type": "markdown",
   "metadata": {
    "id": "iXwIL0DfXM83"
   },
   "source": [
    "__Observation__\n",
    "\n",
    "Here, we can see the indexes has havechanged to a, b, c, d and e."
   ]
  },
  {
   "cell_type": "markdown",
   "metadata": {
    "id": "YCGyxntBXUs0"
   },
   "source": [
    "Now, let's access the element present at the e<sup>th</sup> index."
   ]
  },
  {
   "cell_type": "code",
   "execution_count": 8,
   "metadata": {
    "colab": {
     "base_uri": "https://localhost:8080/"
    },
    "executionInfo": {
     "elapsed": 12,
     "status": "ok",
     "timestamp": 1682173069457,
     "user": {
      "displayName": "Winnie Aravindan",
      "userId": "17757356026009537686"
     },
     "user_tz": -330
    },
    "id": "fpvVW0jOV5wZ",
    "outputId": "b0930010-0b86-4860-dc11-30d689f0ce50"
   },
   "outputs": [
    {
     "data": {
      "text/plain": [
       "4"
      ]
     },
     "execution_count": 8,
     "metadata": {},
     "output_type": "execute_result"
    }
   ],
   "source": [
    "s['e']"
   ]
  },
  {
   "cell_type": "code",
   "execution_count": 20,
   "metadata": {},
   "outputs": [
    {
     "data": {
      "text/plain": [
       "Index(['a', 'b', 'c', 'f'], dtype='object')"
      ]
     },
     "execution_count": 20,
     "metadata": {},
     "output_type": "execute_result"
    }
   ],
   "source": [
    "s.index"
   ]
  },
  {
   "cell_type": "code",
   "execution_count": 22,
   "metadata": {},
   "outputs": [
    {
     "data": {
      "text/plain": [
       "array([ 1.,  2.,  3., nan])"
      ]
     },
     "execution_count": 22,
     "metadata": {},
     "output_type": "execute_result"
    }
   ],
   "source": [
    "s.values"
   ]
  },
  {
   "cell_type": "code",
   "execution_count": 23,
   "metadata": {},
   "outputs": [],
   "source": [
    "#to create a Series with an index identifying each data point\n",
    "ser2 = pd.Series([4, 7, -5, 3], index=['d', 'b', 'a', 'c'])"
   ]
  },
  {
   "cell_type": "code",
   "execution_count": 24,
   "metadata": {},
   "outputs": [
    {
     "data": {
      "text/plain": [
       "d    4\n",
       "b    7\n",
       "a   -5\n",
       "c    3\n",
       "dtype: int64"
      ]
     },
     "execution_count": 24,
     "metadata": {},
     "output_type": "execute_result"
    }
   ],
   "source": [
    "ser2"
   ]
  },
  {
   "cell_type": "code",
   "execution_count": 25,
   "metadata": {},
   "outputs": [
    {
     "name": "stdout",
     "output_type": "stream",
     "text": [
      "-5\n",
      "c    3\n",
      "a   -5\n",
      "d    6\n",
      "dtype: int64\n"
     ]
    }
   ],
   "source": [
    "#manipulating and accessing values of series\n",
    "print(ser2['a'])\n",
    "ser2['d'] = 6\n",
    "print(ser2[['c', 'a', 'd']])"
   ]
  },
  {
   "cell_type": "markdown",
   "metadata": {
    "id": "ebu33yByWb15"
   },
   "source": [
    "## Step 4: Handle Duplicate Indexes\n",
    "\n",
    "Note that the indexes can be duplicated. In this case, both elements present in the duplicate indexes will be retrieved.\n",
    "\n",
    "- Create a Series with 'd' duplicated and access the elements using this duplicated index:\n"
   ]
  },
  {
   "cell_type": "code",
   "execution_count": 9,
   "metadata": {
    "id": "Yk_-CivPV5wa"
   },
   "outputs": [],
   "source": [
    "s = pd.Series(l,index=['a','b','c','d','d'])"
   ]
  },
  {
   "cell_type": "code",
   "execution_count": null,
   "metadata": {
    "colab": {
     "base_uri": "https://localhost:8080/"
    },
    "executionInfo": {
     "elapsed": 4,
     "status": "ok",
     "timestamp": 1682174908320,
     "user": {
      "displayName": "Winnie Aravindan",
      "userId": "17757356026009537686"
     },
     "user_tz": -330
    },
    "id": "ov7H-10Vb-cH",
    "outputId": "edb5ea24-10a0-44f4-818f-833112135a91"
   },
   "outputs": [
    {
     "data": {
      "text/plain": [
       "a    0\n",
       "b    1\n",
       "c    2\n",
       "d    3\n",
       "d    4\n",
       "dtype: int64"
      ]
     },
     "execution_count": 23,
     "metadata": {},
     "output_type": "execute_result"
    }
   ],
   "source": [
    "s"
   ]
  },
  {
   "cell_type": "markdown",
   "metadata": {
    "id": "QXZBZ2ACX-UW"
   },
   "source": [
    "**Observation**\n",
    "\n",
    "Here, index **d** is duplicated. "
   ]
  },
  {
   "cell_type": "markdown",
   "metadata": {
    "id": "3kYkBYZiYWDh"
   },
   "source": [
    "Let's retrieve the elements present in the d<sup>th</sup> index."
   ]
  },
  {
   "cell_type": "code",
   "execution_count": 10,
   "metadata": {
    "colab": {
     "base_uri": "https://localhost:8080/"
    },
    "executionInfo": {
     "elapsed": 10,
     "status": "ok",
     "timestamp": 1682173069457,
     "user": {
      "displayName": "Winnie Aravindan",
      "userId": "17757356026009537686"
     },
     "user_tz": -330
    },
    "id": "_QR6-7jKV5wa",
    "outputId": "e44537ed-edb9-4ef9-e9c9-d6340d58b75f"
   },
   "outputs": [
    {
     "data": {
      "text/plain": [
       "d    3\n",
       "d    4\n",
       "dtype: int64"
      ]
     },
     "execution_count": 10,
     "metadata": {},
     "output_type": "execute_result"
    }
   ],
   "source": [
    "s['d']"
   ]
  },
  {
   "cell_type": "markdown",
   "metadata": {
    "id": "_1TrczxPYfon"
   },
   "source": [
    "**Observation**\n",
    "\n",
    "The result shows that both values in the index are present."
   ]
  },
  {
   "cell_type": "markdown",
   "metadata": {
    "id": "pFMld7PMWh3O"
   },
   "source": [
    "## Step 5: Create a Series from a Dictionary\n",
    "\n",
    "We can create a pandas Series from a dictionary.\n",
    "\n",
    "- Create a series from a dictionary, and access elements using its keys:\n"
   ]
  },
  {
   "cell_type": "code",
   "execution_count": 11,
   "metadata": {
    "id": "_hCGFcxQV5wa"
   },
   "outputs": [],
   "source": [
    "data = {'a':1,'b':2,'c':3,'d':4}"
   ]
  },
  {
   "cell_type": "markdown",
   "metadata": {
    "id": "Bgve6KxIY1QY"
   },
   "source": [
    "Now, let's convert the dictionary **data** to a series using pd.Series() and by giving **data** as an argument."
   ]
  },
  {
   "cell_type": "code",
   "execution_count": 12,
   "metadata": {
    "id": "Gj-XLD1qV5wa"
   },
   "outputs": [],
   "source": [
    "s = pd.Series(data)"
   ]
  },
  {
   "cell_type": "markdown",
   "metadata": {
    "id": "hZPCMIuLZALc"
   },
   "source": [
    "Let's print the Series **s**."
   ]
  },
  {
   "cell_type": "code",
   "execution_count": 13,
   "metadata": {
    "colab": {
     "base_uri": "https://localhost:8080/"
    },
    "executionInfo": {
     "elapsed": 10,
     "status": "ok",
     "timestamp": 1682173069458,
     "user": {
      "displayName": "Winnie Aravindan",
      "userId": "17757356026009537686"
     },
     "user_tz": -330
    },
    "id": "vsbCtVpfV5wb",
    "outputId": "bb70f470-f650-49df-b5a1-99618fcc534b"
   },
   "outputs": [
    {
     "data": {
      "text/plain": [
       "a    1\n",
       "b    2\n",
       "c    3\n",
       "d    4\n",
       "dtype: int64"
      ]
     },
     "execution_count": 13,
     "metadata": {},
     "output_type": "execute_result"
    }
   ],
   "source": [
    "s"
   ]
  },
  {
   "cell_type": "markdown",
   "metadata": {
    "id": "2edCGgYrZEkS"
   },
   "source": [
    "**Observation**\n",
    "\n",
    "- In the result, we can see that the indexes are the keys of the dictionary and the values are the data of the series.\n",
    "\n",
    "- The data type of the elements in the Series is integer."
   ]
  },
  {
   "cell_type": "markdown",
   "metadata": {
    "id": "d4QmpKHYWquO"
   },
   "source": [
    "## Step 6: Choose Specific Indexes from the Dictionary\n",
    "\n",
    "There is also another option where we can choose the keys that are present in the data and take only those keys into consideration. Let's say we need only two keys: **a** and **b**.\n",
    "\n",
    "- Create a Series with specific indexes from the dictionary, and handle missing index values:\n"
   ]
  },
  {
   "cell_type": "code",
   "execution_count": 14,
   "metadata": {
    "id": "0oEBmMMCV5wb"
   },
   "outputs": [],
   "source": [
    "s = pd.Series(data,index=['a','b'])"
   ]
  },
  {
   "cell_type": "markdown",
   "metadata": {
    "id": "pWh7Z2JkZxOY"
   },
   "source": [
    "Now, let's print the Series **s**."
   ]
  },
  {
   "cell_type": "code",
   "execution_count": 15,
   "metadata": {
    "colab": {
     "base_uri": "https://localhost:8080/"
    },
    "executionInfo": {
     "elapsed": 9,
     "status": "ok",
     "timestamp": 1682173069458,
     "user": {
      "displayName": "Winnie Aravindan",
      "userId": "17757356026009537686"
     },
     "user_tz": -330
    },
    "id": "8pExHGRBV5wb",
    "outputId": "1b8328bd-8b94-40e9-b65f-aba2d103cdbe"
   },
   "outputs": [
    {
     "data": {
      "text/plain": [
       "a    1\n",
       "b    2\n",
       "dtype: int64"
      ]
     },
     "execution_count": 15,
     "metadata": {},
     "output_type": "execute_result"
    }
   ],
   "source": [
    "s"
   ]
  },
  {
   "cell_type": "markdown",
   "metadata": {
    "id": "af4wuibGZ1MO"
   },
   "source": [
    "**Observation**\n",
    "\n",
    "Here, **s** contains only the data from keys **a** and **b**."
   ]
  },
  {
   "cell_type": "markdown",
   "metadata": {
    "id": "1reGVYPfaFXE"
   },
   "source": [
    "- Let's take an example where we give the indexes that are not present in the\n",
    "keys of the dictionary. \n",
    "\n",
    "- The Series assumes a null value if an index is not present.\n",
    "\n",
    "Let's print a Series **s** with some indexes that are not present in the Series."
   ]
  },
  {
   "cell_type": "code",
   "execution_count": 16,
   "metadata": {
    "id": "w1sR9HGdV5wb"
   },
   "outputs": [],
   "source": [
    "s = pd.Series(data,index=['a','b','c','f'])"
   ]
  },
  {
   "cell_type": "markdown",
   "metadata": {
    "id": "7WCAF2GpaftL"
   },
   "source": [
    "Let's print Series **s**."
   ]
  },
  {
   "cell_type": "code",
   "execution_count": 17,
   "metadata": {
    "colab": {
     "base_uri": "https://localhost:8080/"
    },
    "executionInfo": {
     "elapsed": 5,
     "status": "ok",
     "timestamp": 1682174738738,
     "user": {
      "displayName": "Winnie Aravindan",
      "userId": "17757356026009537686"
     },
     "user_tz": -330
    },
    "id": "kjhNHXUWV5wc",
    "outputId": "bc9bf307-3bc9-4b54-a643-63e659370de7"
   },
   "outputs": [
    {
     "data": {
      "text/plain": [
       "a    1.0\n",
       "b    2.0\n",
       "c    3.0\n",
       "f    NaN\n",
       "dtype: float64"
      ]
     },
     "execution_count": 17,
     "metadata": {},
     "output_type": "execute_result"
    }
   ],
   "source": [
    "s"
   ]
  },
  {
   "cell_type": "markdown",
   "metadata": {
    "id": "flS9JcO-amX_"
   },
   "source": [
    "**Observation**\n",
    "\n",
    "At index **f**, we can see the **NaN** value."
   ]
  },
  {
   "cell_type": "code",
   "execution_count": 26,
   "metadata": {},
   "outputs": [],
   "source": [
    "ser2 = pd.Series([4, 7, -5, 3], index=['d', 'b', 'a', 'c'])\n"
   ]
  },
  {
   "cell_type": "code",
   "execution_count": 27,
   "metadata": {},
   "outputs": [],
   "source": [
    "import numpy as np"
   ]
  },
  {
   "cell_type": "code",
   "execution_count": 28,
   "metadata": {},
   "outputs": [
    {
     "data": {
      "text/plain": [
       "d    4\n",
       "b    7\n",
       "c    3\n",
       "dtype: int64"
      ]
     },
     "execution_count": 28,
     "metadata": {},
     "output_type": "execute_result"
    }
   ],
   "source": [
    "#NumPy array operations, such as filtering with a boolean array, \n",
    "# scalar multiplication,#or applying math functions, preserve the index-value link\n",
    "ser2[ser2 > 0]"
   ]
  },
  {
   "cell_type": "code",
   "execution_count": 29,
   "metadata": {},
   "outputs": [
    {
     "data": {
      "text/plain": [
       "d     8\n",
       "b    14\n",
       "a   -10\n",
       "c     6\n",
       "dtype: int64"
      ]
     },
     "execution_count": 29,
     "metadata": {},
     "output_type": "execute_result"
    }
   ],
   "source": [
    "ser2 * 2"
   ]
  },
  {
   "cell_type": "code",
   "execution_count": 30,
   "metadata": {},
   "outputs": [
    {
     "data": {
      "text/plain": [
       "d      54.598150\n",
       "b    1096.633158\n",
       "a       0.006738\n",
       "c      20.085537\n",
       "dtype: float64"
      ]
     },
     "execution_count": 30,
     "metadata": {},
     "output_type": "execute_result"
    }
   ],
   "source": [
    "np.exp(ser2)"
   ]
  },
  {
   "cell_type": "code",
   "execution_count": 31,
   "metadata": {},
   "outputs": [
    {
     "data": {
      "text/plain": [
       "True"
      ]
     },
     "execution_count": 31,
     "metadata": {},
     "output_type": "execute_result"
    }
   ],
   "source": [
    "#Series is a fixed-length, ordered dict, as it is a mapping of index values \n",
    "'b' in ser2"
   ]
  },
  {
   "cell_type": "code",
   "execution_count": 32,
   "metadata": {},
   "outputs": [],
   "source": [
    "#If you have data contained in a Python dict, you can create a Series from it \n",
    "# by passing the dict:\n",
    "sdata = {'france': 35000, 'germany': 71000, 'greece': 16000, 'norway': 5000}\n",
    "ser3 = pd.Series(sdata)"
   ]
  },
  {
   "cell_type": "code",
   "execution_count": 33,
   "metadata": {},
   "outputs": [
    {
     "data": {
      "text/plain": [
       "france     35000\n",
       "germany    71000\n",
       "greece     16000\n",
       "norway      5000\n",
       "dtype: int64"
      ]
     },
     "execution_count": 33,
     "metadata": {},
     "output_type": "execute_result"
    }
   ],
   "source": [
    "ser3"
   ]
  },
  {
   "cell_type": "code",
   "execution_count": 34,
   "metadata": {},
   "outputs": [],
   "source": [
    "#When only passing a dict, the index in the resulting Series will have the \n",
    "# dict’s keys in sorted order\n",
    "country = sorted(['greece', 'france', 'germany', 'norway'])\n",
    "country\n",
    "ser4 = pd.Series(sdata, index=country)"
   ]
  },
  {
   "cell_type": "code",
   "execution_count": 35,
   "metadata": {},
   "outputs": [
    {
     "data": {
      "text/plain": [
       "france     35000\n",
       "germany    71000\n",
       "greece     16000\n",
       "norway      5000\n",
       "dtype: int64"
      ]
     },
     "execution_count": 35,
     "metadata": {},
     "output_type": "execute_result"
    }
   ],
   "source": [
    "ser4"
   ]
  },
  {
   "cell_type": "code",
   "execution_count": 36,
   "metadata": {},
   "outputs": [
    {
     "data": {
      "text/plain": [
       "france     True\n",
       "germany    True\n",
       "greece     True\n",
       "norway     True\n",
       "dtype: bool"
      ]
     },
     "execution_count": 36,
     "metadata": {},
     "output_type": "execute_result"
    }
   ],
   "source": [
    "#The isnull and notnull functions in pandas should be used to detect missing data\n",
    "pd.isnull(ser4)\n",
    "pd.notnull(ser4)"
   ]
  },
  {
   "cell_type": "code",
   "execution_count": 37,
   "metadata": {},
   "outputs": [
    {
     "name": "stdout",
     "output_type": "stream",
     "text": [
      "france     False\n",
      "germany    False\n",
      "greece     False\n",
      "norway     False\n",
      "dtype: bool\n"
     ]
    }
   ],
   "source": [
    "#Series also has these as instance methods\n",
    "print(ser4.isnull())"
   ]
  },
  {
   "cell_type": "code",
   "execution_count": 38,
   "metadata": {},
   "outputs": [
    {
     "name": "stdout",
     "output_type": "stream",
     "text": [
      "france     35000\n",
      "germany    71000\n",
      "greece     16000\n",
      "norway      5000\n",
      "dtype: int64\n",
      "france     35000\n",
      "germany    71000\n",
      "greece     16000\n",
      "norway      5000\n",
      "dtype: int64\n",
      "france      70000\n",
      "germany    142000\n",
      "greece      32000\n",
      "norway      10000\n",
      "dtype: int64\n"
     ]
    }
   ],
   "source": [
    "#A critical Series feature for many applications is that it automatically \n",
    "# aligns differently indexed\n",
    "#data in arithmetic operations:\n",
    "print(ser3)\n",
    "print(ser4)\n",
    "print(ser3 + ser4)"
   ]
  },
  {
   "cell_type": "code",
   "execution_count": 41,
   "metadata": {},
   "outputs": [
    {
     "data": {
      "text/plain": [
       "'population'"
      ]
     },
     "execution_count": 41,
     "metadata": {},
     "output_type": "execute_result"
    }
   ],
   "source": [
    "ser4.name\n"
   ]
  },
  {
   "cell_type": "code",
   "execution_count": 40,
   "metadata": {},
   "outputs": [
    {
     "name": "stdout",
     "output_type": "stream",
     "text": [
      "country\n",
      "france     35000\n",
      "germany    71000\n",
      "greece     16000\n",
      "norway      5000\n",
      "Name: population, dtype: int64\n"
     ]
    }
   ],
   "source": [
    "#Both the Series object itself and its index have a name attribute, which integrates with\n",
    "#other key areas of pandas functionality:\n",
    "ser4.name = 'population'\n",
    "ser4.index.name = 'country'\n",
    "print(ser4)"
   ]
  },
  {
   "cell_type": "code",
   "execution_count": 42,
   "metadata": {},
   "outputs": [],
   "source": [
    "#A Series’s index can be altered in place by assignment\n",
    "#ser.index = ['Bob', 'Steve', 'Jeff', 'Ryan']"
   ]
  },
  {
   "cell_type": "code",
   "execution_count": null,
   "metadata": {},
   "outputs": [],
   "source": []
  }
 ],
 "metadata": {
  "colab": {
   "provenance": []
  },
  "kernelspec": {
   "display_name": "Python 3 (ipykernel)",
   "language": "python",
   "name": "python3"
  },
  "language_info": {
   "codemirror_mode": {
    "name": "ipython",
    "version": 3
   },
   "file_extension": ".py",
   "mimetype": "text/x-python",
   "name": "python",
   "nbconvert_exporter": "python",
   "pygments_lexer": "ipython3",
   "version": "3.8.2rc2"
  }
 },
 "nbformat": 4,
 "nbformat_minor": 4
}
