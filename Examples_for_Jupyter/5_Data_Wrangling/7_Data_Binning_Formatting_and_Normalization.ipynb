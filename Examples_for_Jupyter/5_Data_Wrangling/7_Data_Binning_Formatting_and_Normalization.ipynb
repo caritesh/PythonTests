{
 "cells": [
  {
   "cell_type": "markdown",
   "metadata": {
    "id": "lrRdRJNibErZ"
   },
   "source": [
    "## __Data Binning: Formatting and Normalization__\n",
    "\n",
    "- Formatting is the process of bringing data into a common format, which would then further be used for feature preparation.\n",
    "\n",
    "- Normalization is the process of adjusting values measured on different scales\n",
    "to a common scale, which would be easy for the model to assign weights.\n",
    "\n",
    "- In normalization, there are\n",
    "a lot of ways in which we can scale. \n",
    "For example:\n",
    "\n",
    "    1. Single-feature scaling\n",
    "    2. Min-max scaling\n",
    "    3. Z-score\n",
    "    4. Log scaling\n",
    "    5. Clipping\n",
    "\n",
    "\n",
    "First, let's look at the data, try to format it\n",
    "and then apply normalization.\n",
    "\n",
    "## Step 1: Import the Required Libraries and Read the Dataset\n",
    "\n",
    "- Import the pandas and NumPy libraries\n",
    "- Read the **CarPrices.csv** file into a DataFrame\n"
   ]
  },
  {
   "cell_type": "code",
   "execution_count": 1,
   "metadata": {
    "executionInfo": {
     "elapsed": 2389,
     "status": "ok",
     "timestamp": 1683714625634,
     "user": {
      "displayName": "Prerna Karn",
      "userId": "16431587453626938972"
     },
     "user_tz": -330
    },
    "id": "F7LAhVJXaoB5"
   },
   "outputs": [],
   "source": [
    "import pandas as pd\n",
    "import numpy as np"
   ]
  },
  {
   "cell_type": "code",
   "execution_count": 2,
   "metadata": {
    "executionInfo": {
     "elapsed": 43,
     "status": "ok",
     "timestamp": 1683714625636,
     "user": {
      "displayName": "Prerna Karn",
      "userId": "16431587453626938972"
     },
     "user_tz": -330
    },
    "id": "hc7SecSBXtEm"
   },
   "outputs": [],
   "source": [
    "df = pd.read_csv('../../Datasets/CarPrices.csv',index_col=0)"
   ]
  },
  {
   "cell_type": "code",
   "execution_count": 3,
   "metadata": {
    "colab": {
     "base_uri": "https://localhost:8080/",
     "height": 470
    },
    "executionInfo": {
     "elapsed": 41,
     "status": "ok",
     "timestamp": 1683714625636,
     "user": {
      "displayName": "Prerna Karn",
      "userId": "16431587453626938972"
     },
     "user_tz": -330
    },
    "id": "ilJdG6RxaoB7",
    "outputId": "d290df1a-4276-4579-b38d-5b2e87a28afe"
   },
   "outputs": [
    {
     "data": {
      "text/html": [
       "<div>\n",
       "<style scoped>\n",
       "    .dataframe tbody tr th:only-of-type {\n",
       "        vertical-align: middle;\n",
       "    }\n",
       "\n",
       "    .dataframe tbody tr th {\n",
       "        vertical-align: top;\n",
       "    }\n",
       "\n",
       "    .dataframe thead th {\n",
       "        text-align: right;\n",
       "    }\n",
       "</style>\n",
       "<table border=\"1\" class=\"dataframe\">\n",
       "  <thead>\n",
       "    <tr style=\"text-align: right;\">\n",
       "      <th></th>\n",
       "      <th>symboling</th>\n",
       "      <th>CarName</th>\n",
       "      <th>fueltype</th>\n",
       "      <th>aspiration</th>\n",
       "      <th>doornumber</th>\n",
       "      <th>carbody</th>\n",
       "      <th>drivewheel</th>\n",
       "      <th>enginelocation</th>\n",
       "      <th>wheelbase</th>\n",
       "      <th>carlength</th>\n",
       "      <th>...</th>\n",
       "      <th>enginesize</th>\n",
       "      <th>fuelsystem</th>\n",
       "      <th>boreratio</th>\n",
       "      <th>stroke</th>\n",
       "      <th>compressionratio</th>\n",
       "      <th>horsepower</th>\n",
       "      <th>peakrpm</th>\n",
       "      <th>citympg</th>\n",
       "      <th>highwaympg</th>\n",
       "      <th>price</th>\n",
       "    </tr>\n",
       "    <tr>\n",
       "      <th>car_ID</th>\n",
       "      <th></th>\n",
       "      <th></th>\n",
       "      <th></th>\n",
       "      <th></th>\n",
       "      <th></th>\n",
       "      <th></th>\n",
       "      <th></th>\n",
       "      <th></th>\n",
       "      <th></th>\n",
       "      <th></th>\n",
       "      <th></th>\n",
       "      <th></th>\n",
       "      <th></th>\n",
       "      <th></th>\n",
       "      <th></th>\n",
       "      <th></th>\n",
       "      <th></th>\n",
       "      <th></th>\n",
       "      <th></th>\n",
       "      <th></th>\n",
       "      <th></th>\n",
       "    </tr>\n",
       "  </thead>\n",
       "  <tbody>\n",
       "    <tr>\n",
       "      <th>1</th>\n",
       "      <td>3</td>\n",
       "      <td>alfa-romero giulia</td>\n",
       "      <td>gas</td>\n",
       "      <td>std</td>\n",
       "      <td>two</td>\n",
       "      <td>convertible</td>\n",
       "      <td>rwd</td>\n",
       "      <td>front</td>\n",
       "      <td>88.6</td>\n",
       "      <td>168.8</td>\n",
       "      <td>...</td>\n",
       "      <td>130</td>\n",
       "      <td>mpfi</td>\n",
       "      <td>3.47</td>\n",
       "      <td>2.68</td>\n",
       "      <td>9.0</td>\n",
       "      <td>111</td>\n",
       "      <td>5000</td>\n",
       "      <td>21</td>\n",
       "      <td>27</td>\n",
       "      <td>13495.0</td>\n",
       "    </tr>\n",
       "    <tr>\n",
       "      <th>2</th>\n",
       "      <td>3</td>\n",
       "      <td>alfa-romero stelvio</td>\n",
       "      <td>gas</td>\n",
       "      <td>std</td>\n",
       "      <td>two</td>\n",
       "      <td>convertible</td>\n",
       "      <td>rwd</td>\n",
       "      <td>front</td>\n",
       "      <td>88.6</td>\n",
       "      <td>168.8</td>\n",
       "      <td>...</td>\n",
       "      <td>130</td>\n",
       "      <td>mpfi</td>\n",
       "      <td>3.47</td>\n",
       "      <td>2.68</td>\n",
       "      <td>9.0</td>\n",
       "      <td>111</td>\n",
       "      <td>5000</td>\n",
       "      <td>21</td>\n",
       "      <td>27</td>\n",
       "      <td>16500.0</td>\n",
       "    </tr>\n",
       "  </tbody>\n",
       "</table>\n",
       "<p>2 rows × 25 columns</p>\n",
       "</div>"
      ],
      "text/plain": [
       "        symboling              CarName fueltype aspiration doornumber  \\\n",
       "car_ID                                                                  \n",
       "1               3   alfa-romero giulia      gas        std        two   \n",
       "2               3  alfa-romero stelvio      gas        std        two   \n",
       "\n",
       "            carbody drivewheel enginelocation  wheelbase  carlength  ...  \\\n",
       "car_ID                                                               ...   \n",
       "1       convertible        rwd          front       88.6      168.8  ...   \n",
       "2       convertible        rwd          front       88.6      168.8  ...   \n",
       "\n",
       "        enginesize  fuelsystem  boreratio stroke compressionratio  horsepower  \\\n",
       "car_ID                                                                          \n",
       "1              130        mpfi       3.47   2.68              9.0         111   \n",
       "2              130        mpfi       3.47   2.68              9.0         111   \n",
       "\n",
       "       peakrpm  citympg  highwaympg    price  \n",
       "car_ID                                        \n",
       "1         5000       21          27  13495.0  \n",
       "2         5000       21          27  16500.0  \n",
       "\n",
       "[2 rows x 25 columns]"
      ]
     },
     "execution_count": 3,
     "metadata": {},
     "output_type": "execute_result"
    }
   ],
   "source": [
    "df.head(2)"
   ]
  },
  {
   "cell_type": "markdown",
   "metadata": {
    "id": "18r1SsXZMlYP"
   },
   "source": [
    "__Observation__\n",
    "\n",
    "- These are the first five rows of the dataset."
   ]
  },
  {
   "cell_type": "markdown",
   "metadata": {
    "id": "77nX5INabLYJ"
   },
   "source": [
    "## Step 2: Preprocess the Dataset\n",
    "\n",
    "Let's first drop all the missing values and look at the data types.\n"
   ]
  },
  {
   "cell_type": "code",
   "execution_count": 4,
   "metadata": {
    "executionInfo": {
     "elapsed": 38,
     "status": "ok",
     "timestamp": 1683714625637,
     "user": {
      "displayName": "Prerna Karn",
      "userId": "16431587453626938972"
     },
     "user_tz": -330
    },
    "id": "nV3BZMQJaoB-"
   },
   "outputs": [],
   "source": [
    "df.dropna(inplace=True)"
   ]
  },
  {
   "cell_type": "code",
   "execution_count": 5,
   "metadata": {
    "colab": {
     "base_uri": "https://localhost:8080/"
    },
    "executionInfo": {
     "elapsed": 39,
     "status": "ok",
     "timestamp": 1683714625638,
     "user": {
      "displayName": "Prerna Karn",
      "userId": "16431587453626938972"
     },
     "user_tz": -330
    },
    "id": "arp73X1WaoB-",
    "outputId": "e744c8ed-e443-4a15-e5e5-a7e21830887d"
   },
   "outputs": [
    {
     "data": {
      "text/plain": [
       "symboling             int64\n",
       "CarName              object\n",
       "fueltype             object\n",
       "aspiration           object\n",
       "doornumber           object\n",
       "carbody              object\n",
       "drivewheel           object\n",
       "enginelocation       object\n",
       "wheelbase           float64\n",
       "carlength           float64\n",
       "carwidth            float64\n",
       "carheight           float64\n",
       "curbweight            int64\n",
       "enginetype           object\n",
       "cylindernumber       object\n",
       "enginesize            int64\n",
       "fuelsystem           object\n",
       "boreratio           float64\n",
       "stroke              float64\n",
       "compressionratio    float64\n",
       "horsepower            int64\n",
       "peakrpm               int64\n",
       "citympg               int64\n",
       "highwaympg            int64\n",
       "price               float64\n",
       "dtype: object"
      ]
     },
     "execution_count": 5,
     "metadata": {},
     "output_type": "execute_result"
    }
   ],
   "source": [
    "df.dtypes"
   ]
  },
  {
   "cell_type": "markdown",
   "metadata": {
    "id": "EBDzcHqiNIw_"
   },
   "source": [
    "__Observation__\n",
    "\n",
    "- Here, we can see a lot of the columns contain data of the type **object**. They can be strings."
   ]
  },
  {
   "cell_type": "markdown",
   "metadata": {
    "id": "NoyHJGqoNrTV"
   },
   "source": [
    "Since we want the data to be uniform and formatted, let's convert\n",
    "all objects into strings.\n",
    "\n",
    "To do so: \n",
    "1. Put them into columns\n",
    "2. Convert them into strings\n",
    "3. Look at the data types"
   ]
  },
  {
   "cell_type": "code",
   "execution_count": 6,
   "metadata": {
    "executionInfo": {
     "elapsed": 33,
     "status": "ok",
     "timestamp": 1683714625638,
     "user": {
      "displayName": "Prerna Karn",
      "userId": "16431587453626938972"
     },
     "user_tz": -330
    },
    "id": "ZBVg-QUYaoB-"
   },
   "outputs": [],
   "source": [
    "cols = list(df.select_dtypes(np.object_).columns)"
   ]
  },
  {
   "cell_type": "code",
   "execution_count": 7,
   "metadata": {
    "executionInfo": {
     "elapsed": 34,
     "status": "ok",
     "timestamp": 1683714625639,
     "user": {
      "displayName": "Prerna Karn",
      "userId": "16431587453626938972"
     },
     "user_tz": -330
    },
    "id": "ehuhu_xVaoB_"
   },
   "outputs": [],
   "source": [
    "df[cols] = df[cols].astype('string')"
   ]
  },
  {
   "cell_type": "code",
   "execution_count": 8,
   "metadata": {
    "colab": {
     "base_uri": "https://localhost:8080/"
    },
    "executionInfo": {
     "elapsed": 33,
     "status": "ok",
     "timestamp": 1683714625639,
     "user": {
      "displayName": "Prerna Karn",
      "userId": "16431587453626938972"
     },
     "user_tz": -330
    },
    "id": "17TlEfMIaoB_",
    "outputId": "847faaaf-bd63-4004-8456-c562f8e1d289"
   },
   "outputs": [
    {
     "data": {
      "text/plain": [
       "symboling                    int64\n",
       "CarName             string[python]\n",
       "fueltype            string[python]\n",
       "aspiration          string[python]\n",
       "doornumber          string[python]\n",
       "carbody             string[python]\n",
       "drivewheel          string[python]\n",
       "enginelocation      string[python]\n",
       "wheelbase                  float64\n",
       "carlength                  float64\n",
       "carwidth                   float64\n",
       "carheight                  float64\n",
       "curbweight                   int64\n",
       "enginetype          string[python]\n",
       "cylindernumber      string[python]\n",
       "enginesize                   int64\n",
       "fuelsystem          string[python]\n",
       "boreratio                  float64\n",
       "stroke                     float64\n",
       "compressionratio           float64\n",
       "horsepower                   int64\n",
       "peakrpm                      int64\n",
       "citympg                      int64\n",
       "highwaympg                   int64\n",
       "price                      float64\n",
       "dtype: object"
      ]
     },
     "execution_count": 8,
     "metadata": {},
     "output_type": "execute_result"
    }
   ],
   "source": [
    "df.dtypes"
   ]
  },
  {
   "cell_type": "markdown",
   "metadata": {
    "id": "0MPwdtXWOYN9"
   },
   "source": [
    "__Observation__\n",
    "\n",
    "- Since all the **object** types are converted to **string** types, we have formatted them correctly.  \n",
    "\n",
    "Let's now look at the columns, especially the column **CarName**."
   ]
  },
  {
   "cell_type": "code",
   "execution_count": 9,
   "metadata": {
    "colab": {
     "base_uri": "https://localhost:8080/"
    },
    "executionInfo": {
     "elapsed": 28,
     "status": "ok",
     "timestamp": 1683714625639,
     "user": {
      "displayName": "Prerna Karn",
      "userId": "16431587453626938972"
     },
     "user_tz": -330
    },
    "id": "Op5mJFuvaoCA",
    "outputId": "e0460d85-3743-46da-b864-d5778352ca00"
   },
   "outputs": [
    {
     "data": {
      "text/plain": [
       "Index(['symboling', 'CarName', 'fueltype', 'aspiration', 'doornumber',\n",
       "       'carbody', 'drivewheel', 'enginelocation', 'wheelbase', 'carlength',\n",
       "       'carwidth', 'carheight', 'curbweight', 'enginetype', 'cylindernumber',\n",
       "       'enginesize', 'fuelsystem', 'boreratio', 'stroke', 'compressionratio',\n",
       "       'horsepower', 'peakrpm', 'citympg', 'highwaympg', 'price'],\n",
       "      dtype='object')"
      ]
     },
     "execution_count": 9,
     "metadata": {},
     "output_type": "execute_result"
    }
   ],
   "source": [
    "df.columns"
   ]
  },
  {
   "cell_type": "code",
   "execution_count": 10,
   "metadata": {
    "colab": {
     "base_uri": "https://localhost:8080/"
    },
    "executionInfo": {
     "elapsed": 27,
     "status": "ok",
     "timestamp": 1683714625640,
     "user": {
      "displayName": "Prerna Karn",
      "userId": "16431587453626938972"
     },
     "user_tz": -330
    },
    "id": "KZU8yiedaoCA",
    "outputId": "c37dca6a-8515-4c52-9ccf-5b3af5e61387"
   },
   "outputs": [
    {
     "data": {
      "text/plain": [
       "car_ID\n",
       "1            alfa-romero giulia\n",
       "2           alfa-romero stelvio\n",
       "3      alfa-romero Quadrifoglio\n",
       "4                   audi 100 ls\n",
       "5                    audi 100ls\n",
       "                 ...           \n",
       "201             volvo 145e (sw)\n",
       "202                 volvo 144ea\n",
       "203                 volvo 244dl\n",
       "204                   volvo 246\n",
       "205                 volvo 264gl\n",
       "Name: CarName, Length: 205, dtype: string"
      ]
     },
     "execution_count": 10,
     "metadata": {},
     "output_type": "execute_result"
    }
   ],
   "source": [
    "df['CarName'] "
   ]
  },
  {
   "cell_type": "markdown",
   "metadata": {
    "id": "oMzWin6rPqyb"
   },
   "source": [
    "__Observation__\n",
    "\n",
    "- Here, we can see that the company name is given first\n",
    "and then the model. \n"
   ]
  },
  {
   "cell_type": "markdown",
   "metadata": {
    "id": "qtjcc5Eibpve"
   },
   "source": [
    "## Step 3: Extract the Company Name from the CarName Column\n",
    "\n",
    "- Let’s create a lambda function that contains the company names."
   ]
  },
  {
   "cell_type": "code",
   "execution_count": 11,
   "metadata": {
    "executionInfo": {
     "elapsed": 26,
     "status": "ok",
     "timestamp": 1683714625640,
     "user": {
      "displayName": "Prerna Karn",
      "userId": "16431587453626938972"
     },
     "user_tz": -330
    },
    "id": "tbRW0OA6aoCA"
   },
   "outputs": [],
   "source": [
    "df['Company Name'] = df['CarName'].apply(lambda x: x.split()[0])"
   ]
  },
  {
   "cell_type": "code",
   "execution_count": 12,
   "metadata": {
    "colab": {
     "base_uri": "https://localhost:8080/"
    },
    "executionInfo": {
     "elapsed": 26,
     "status": "ok",
     "timestamp": 1683714625641,
     "user": {
      "displayName": "Prerna Karn",
      "userId": "16431587453626938972"
     },
     "user_tz": -330
    },
    "id": "fGEq5C5OaoCB",
    "outputId": "3c239cc7-2cd4-4e09-8cb9-aada63fd7369"
   },
   "outputs": [
    {
     "data": {
      "text/plain": [
       "array(['alfa-romero', 'audi', 'bmw', 'chevrolet', 'dodge', 'honda',\n",
       "       'isuzu', 'jaguar', 'maxda', 'mazda', 'buick', 'mercury',\n",
       "       'mitsubishi', 'Nissan', 'nissan', 'peugeot', 'plymouth', 'porsche',\n",
       "       'porcshce', 'renault', 'saab', 'subaru', 'toyota', 'toyouta',\n",
       "       'vokswagen', 'volkswagen', 'vw', 'volvo'], dtype=object)"
      ]
     },
     "execution_count": 12,
     "metadata": {},
     "output_type": "execute_result"
    }
   ],
   "source": [
    "df['Company Name'].unique()"
   ]
  },
  {
   "cell_type": "markdown",
   "metadata": {
    "id": "PP_FDuLqQj_K"
   },
   "source": [
    "__Observation__\n",
    "\n",
    "- Here, we can see that\n",
    "there is a discrepancy in the data.\n",
    "- For example, Porsche is spelled incorrectly, the acronym of Volkswagen is given instead of the full name, and Toyota is spelled incorrectly.\n",
    "- When we format the data, we need to look at all these things.\n",
    "\n",
    "\n",
    "Let's replace the wrong values\n",
    "of this column in the dataset and look at the unique values to sort them."
   ]
  },
  {
   "cell_type": "code",
   "execution_count": 13,
   "metadata": {
    "executionInfo": {
     "elapsed": 26,
     "status": "ok",
     "timestamp": 1683714625642,
     "user": {
      "displayName": "Prerna Karn",
      "userId": "16431587453626938972"
     },
     "user_tz": -330
    },
    "id": "x8eeL59ZaoCB"
   },
   "outputs": [],
   "source": [
    "cols = {'maxda':'mazda','porcshce':'porsche','toyouta':'toyota','vokswagen':'volkswagen','vw':'volkswagen','Nissan':'nissan'}"
   ]
  },
  {
   "cell_type": "code",
   "execution_count": 14,
   "metadata": {
    "executionInfo": {
     "elapsed": 27,
     "status": "ok",
     "timestamp": 1683714625643,
     "user": {
      "displayName": "Prerna Karn",
      "userId": "16431587453626938972"
     },
     "user_tz": -330
    },
    "id": "FpUunjzpaoCB"
   },
   "outputs": [],
   "source": [
    "df['Company Name'].replace(cols,inplace=True)"
   ]
  },
  {
   "cell_type": "code",
   "execution_count": 15,
   "metadata": {
    "colab": {
     "base_uri": "https://localhost:8080/"
    },
    "executionInfo": {
     "elapsed": 27,
     "status": "ok",
     "timestamp": 1683714625644,
     "user": {
      "displayName": "Prerna Karn",
      "userId": "16431587453626938972"
     },
     "user_tz": -330
    },
    "id": "RE9ipmx_aoCB",
    "outputId": "e5963e01-2025-4ac4-d6a8-5afbc1854453"
   },
   "outputs": [
    {
     "data": {
      "text/plain": [
       "array(['alfa-romero', 'audi', 'bmw', 'chevrolet', 'dodge', 'honda',\n",
       "       'isuzu', 'jaguar', 'mazda', 'buick', 'mercury', 'mitsubishi',\n",
       "       'nissan', 'peugeot', 'plymouth', 'porsche', 'renault', 'saab',\n",
       "       'subaru', 'toyota', 'volkswagen', 'volvo'], dtype=object)"
      ]
     },
     "execution_count": 15,
     "metadata": {},
     "output_type": "execute_result"
    }
   ],
   "source": [
    "df['Company Name'].unique()"
   ]
  },
  {
   "cell_type": "markdown",
   "metadata": {
    "id": "0qG_0IPhRhsP"
   },
   "source": [
    "__Observation__\n",
    "\n",
    "- Hence, this column of the dataset is corrected and sorted."
   ]
  },
  {
   "cell_type": "markdown",
   "metadata": {
    "id": "wU5Xfnd4b1ML"
   },
   "source": [
    "## Step 4: Standardization Techniques\n",
    "\n",
    "Let's look at standardizing the data with the peak RPM as an example."
   ]
  },
  {
   "cell_type": "code",
   "execution_count": 16,
   "metadata": {
    "colab": {
     "base_uri": "https://localhost:8080/"
    },
    "executionInfo": {
     "elapsed": 26,
     "status": "ok",
     "timestamp": 1683714625644,
     "user": {
      "displayName": "Prerna Karn",
      "userId": "16431587453626938972"
     },
     "user_tz": -330
    },
    "id": "l5pZFehHaoCC",
    "outputId": "8919583d-9b7f-40d7-d123-548a45ac04d1"
   },
   "outputs": [
    {
     "data": {
      "text/plain": [
       "car_ID\n",
       "1    5000\n",
       "2    5000\n",
       "3    5000\n",
       "4    5500\n",
       "5    5500\n",
       "Name: peakrpm, dtype: int64"
      ]
     },
     "execution_count": 16,
     "metadata": {},
     "output_type": "execute_result"
    }
   ],
   "source": [
    "df['peakrpm'].head()"
   ]
  },
  {
   "cell_type": "markdown",
   "metadata": {
    "id": "8EQ-9rosaoCC"
   },
   "source": [
    "### Single-Feature Scaling\n",
    "\n",
    "Let's standardize this \n",
    "by using single-feature scaling."
   ]
  },
  {
   "cell_type": "code",
   "execution_count": 17,
   "metadata": {
    "executionInfo": {
     "elapsed": 25,
     "status": "ok",
     "timestamp": 1683714625645,
     "user": {
      "displayName": "Prerna Karn",
      "userId": "16431587453626938972"
     },
     "user_tz": -330
    },
    "id": "Av0wJ-5laoCC"
   },
   "outputs": [],
   "source": [
    "df['SF_peakrpm'] = df['peakrpm']/df['peakrpm'].max()"
   ]
  },
  {
   "cell_type": "code",
   "execution_count": 18,
   "metadata": {
    "colab": {
     "base_uri": "https://localhost:8080/"
    },
    "executionInfo": {
     "elapsed": 28,
     "status": "ok",
     "timestamp": 1683714625648,
     "user": {
      "displayName": "Prerna Karn",
      "userId": "16431587453626938972"
     },
     "user_tz": -330
    },
    "id": "vskwKUSmaoCC",
    "outputId": "e79a0e18-78ba-4262-cdb9-2d4ca78ef72a"
   },
   "outputs": [
    {
     "data": {
      "text/plain": [
       "car_ID\n",
       "1      0.757576\n",
       "2      0.757576\n",
       "3      0.757576\n",
       "4      0.833333\n",
       "5      0.833333\n",
       "         ...   \n",
       "201    0.818182\n",
       "202    0.803030\n",
       "203    0.833333\n",
       "204    0.727273\n",
       "205    0.818182\n",
       "Name: SF_peakrpm, Length: 205, dtype: float64"
      ]
     },
     "execution_count": 18,
     "metadata": {},
     "output_type": "execute_result"
    }
   ],
   "source": [
    "df['SF_peakrpm']"
   ]
  },
  {
   "cell_type": "markdown",
   "metadata": {
    "id": "KdWIY-F3SRNe"
   },
   "source": [
    "__Observation__\n",
    "\n",
    "- Here, we can observe from the output that the data is standardized.\n",
    "\n"
   ]
  },
  {
   "cell_type": "markdown",
   "metadata": {
    "id": "-Eufd-ZWaoCD"
   },
   "source": [
    "### Min-Max Scaling\n",
    "\n",
    "Let's now look at another example where we can use min-max scaling."
   ]
  },
  {
   "cell_type": "code",
   "execution_count": 19,
   "metadata": {
    "executionInfo": {
     "elapsed": 28,
     "status": "ok",
     "timestamp": 1683714625649,
     "user": {
      "displayName": "Prerna Karn",
      "userId": "16431587453626938972"
     },
     "user_tz": -330
    },
    "id": "HAHuMoimaoCD"
   },
   "outputs": [],
   "source": [
    "df['MM_peakrpm'] = (df['peakrpm'] - df['peakrpm'].min() ) / (df['peakrpm'].max() - df['peakrpm'].min())"
   ]
  },
  {
   "cell_type": "code",
   "execution_count": 20,
   "metadata": {
    "colab": {
     "base_uri": "https://localhost:8080/"
    },
    "executionInfo": {
     "elapsed": 28,
     "status": "ok",
     "timestamp": 1683714625649,
     "user": {
      "displayName": "Prerna Karn",
      "userId": "16431587453626938972"
     },
     "user_tz": -330
    },
    "id": "O0vm92jdaoCD",
    "outputId": "e7dddfdc-7995-437c-985a-651b5d73b690"
   },
   "outputs": [
    {
     "data": {
      "text/plain": [
       "car_ID\n",
       "1      0.346939\n",
       "2      0.346939\n",
       "3      0.346939\n",
       "4      0.551020\n",
       "5      0.551020\n",
       "         ...   \n",
       "201    0.510204\n",
       "202    0.469388\n",
       "203    0.551020\n",
       "204    0.265306\n",
       "205    0.510204\n",
       "Name: MM_peakrpm, Length: 205, dtype: float64"
      ]
     },
     "execution_count": 20,
     "metadata": {},
     "output_type": "execute_result"
    }
   ],
   "source": [
    "df['MM_peakrpm']"
   ]
  },
  {
   "cell_type": "markdown",
   "metadata": {
    "id": "HvIB1qtESttV"
   },
   "source": [
    "__Observation__\n",
    "\n",
    "- Hence, we can see that this data is standardized\n",
    "using min-max scaling.\n",
    "\n",
    "- Similarly, we can apply standardization\n",
    "to various columns\n",
    "using Z-score, log, clipping or single feature in min-max scaling."
   ]
  }
 ],
 "metadata": {
  "colab": {
   "provenance": []
  },
  "kernelspec": {
   "display_name": "Python 3 (ipykernel)",
   "language": "python",
   "name": "python3"
  },
  "language_info": {
   "codemirror_mode": {
    "name": "ipython",
    "version": 3
   },
   "file_extension": ".py",
   "mimetype": "text/x-python",
   "name": "python",
   "nbconvert_exporter": "python",
   "pygments_lexer": "ipython3",
   "version": "3.8.2rc2"
  }
 },
 "nbformat": 4,
 "nbformat_minor": 4
}
