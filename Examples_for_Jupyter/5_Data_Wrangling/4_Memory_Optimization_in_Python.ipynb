{
 "cells": [
  {
   "cell_type": "markdown",
   "metadata": {
    "id": "2fFYY1BDP7sS"
   },
   "source": [
    "## Memory Optimization in Python\n",
    "\n"
   ]
  },
  {
   "cell_type": "markdown",
   "metadata": {
    "id": "QBD_guEdVLsu"
   },
   "source": [
    "## Step 1: Import the Required Library\n",
    "\n",
    "Let's learn about memory optimization in depth.\n",
    "\n",
    "- Import the pandas library\n"
   ]
  },
  {
   "cell_type": "code",
   "execution_count": 1,
   "metadata": {
    "id": "FCSsgLBI0_FV"
   },
   "outputs": [],
   "source": [
    "import pandas as pd"
   ]
  },
  {
   "cell_type": "markdown",
   "metadata": {
    "id": "4KaeBc_3VOUN"
   },
   "source": [
    "## Step 2: Load the Dataset\n",
    "\n",
    "- Load the **HousePrices.csv** dataset using pandas:\n"
   ]
  },
  {
   "cell_type": "code",
   "execution_count": 4,
   "metadata": {
    "id": "kV2Ritdb0_FX"
   },
   "outputs": [],
   "source": [
    "df = pd.read_csv('../../Datasets/HousePrices.csv')"
   ]
  },
  {
   "cell_type": "code",
   "execution_count": 5,
   "metadata": {
    "id": "hTB0EAvf0_FX",
    "outputId": "c98f32a7-a21d-43ab-a86d-eaa73137b895"
   },
   "outputs": [
    {
     "data": {
      "text/html": [
       "<div>\n",
       "<style scoped>\n",
       "    .dataframe tbody tr th:only-of-type {\n",
       "        vertical-align: middle;\n",
       "    }\n",
       "\n",
       "    .dataframe tbody tr th {\n",
       "        vertical-align: top;\n",
       "    }\n",
       "\n",
       "    .dataframe thead th {\n",
       "        text-align: right;\n",
       "    }\n",
       "</style>\n",
       "<table border=\"1\" class=\"dataframe\">\n",
       "  <thead>\n",
       "    <tr style=\"text-align: right;\">\n",
       "      <th></th>\n",
       "      <th>date</th>\n",
       "      <th>price</th>\n",
       "      <th>bedrooms</th>\n",
       "      <th>bathrooms</th>\n",
       "      <th>sqft_living</th>\n",
       "      <th>sqft_lot</th>\n",
       "      <th>floors</th>\n",
       "      <th>waterfront</th>\n",
       "      <th>view</th>\n",
       "      <th>condition</th>\n",
       "      <th>sqft_above</th>\n",
       "      <th>sqft_basement</th>\n",
       "      <th>yr_built</th>\n",
       "      <th>yr_renovated</th>\n",
       "      <th>street</th>\n",
       "      <th>city</th>\n",
       "      <th>statezip</th>\n",
       "      <th>country</th>\n",
       "    </tr>\n",
       "  </thead>\n",
       "  <tbody>\n",
       "    <tr>\n",
       "      <th>0</th>\n",
       "      <td>2014-05-02 00:00:00</td>\n",
       "      <td>313000.0</td>\n",
       "      <td>3.0</td>\n",
       "      <td>1.5</td>\n",
       "      <td>1340</td>\n",
       "      <td>7912</td>\n",
       "      <td>1.5</td>\n",
       "      <td>0</td>\n",
       "      <td>0</td>\n",
       "      <td>3</td>\n",
       "      <td>1340</td>\n",
       "      <td>0</td>\n",
       "      <td>1955</td>\n",
       "      <td>2005</td>\n",
       "      <td>18810 Densmore Ave N</td>\n",
       "      <td>Shoreline</td>\n",
       "      <td>WA 98133</td>\n",
       "      <td>USA</td>\n",
       "    </tr>\n",
       "    <tr>\n",
       "      <th>1</th>\n",
       "      <td>2014-05-02 00:00:00</td>\n",
       "      <td>2384000.0</td>\n",
       "      <td>5.0</td>\n",
       "      <td>2.5</td>\n",
       "      <td>3650</td>\n",
       "      <td>9050</td>\n",
       "      <td>2.0</td>\n",
       "      <td>0</td>\n",
       "      <td>4</td>\n",
       "      <td>5</td>\n",
       "      <td>3370</td>\n",
       "      <td>280</td>\n",
       "      <td>1921</td>\n",
       "      <td>0</td>\n",
       "      <td>709 W Blaine St</td>\n",
       "      <td>Seattle</td>\n",
       "      <td>WA 98119</td>\n",
       "      <td>USA</td>\n",
       "    </tr>\n",
       "  </tbody>\n",
       "</table>\n",
       "</div>"
      ],
      "text/plain": [
       "                  date      price  bedrooms  bathrooms  sqft_living  sqft_lot  \\\n",
       "0  2014-05-02 00:00:00   313000.0       3.0        1.5         1340      7912   \n",
       "1  2014-05-02 00:00:00  2384000.0       5.0        2.5         3650      9050   \n",
       "\n",
       "   floors  waterfront  view  condition  sqft_above  sqft_basement  yr_built  \\\n",
       "0     1.5           0     0          3        1340              0      1955   \n",
       "1     2.0           0     4          5        3370            280      1921   \n",
       "\n",
       "   yr_renovated                street       city  statezip country  \n",
       "0          2005  18810 Densmore Ave N  Shoreline  WA 98133     USA  \n",
       "1             0       709 W Blaine St    Seattle  WA 98119     USA  "
      ]
     },
     "execution_count": 5,
     "metadata": {},
     "output_type": "execute_result"
    }
   ],
   "source": [
    "df.head(2)"
   ]
  },
  {
   "cell_type": "markdown",
   "metadata": {
    "id": "breiv7F1VRuZ"
   },
   "source": [
    "## Step 3: Check the DataFrame's Size and Memory Usage\n",
    "\n",
    "- Check the size and memory usage of the DataFrame:\n"
   ]
  },
  {
   "cell_type": "code",
   "execution_count": 6,
   "metadata": {
    "id": "Fn5H5Nrl0_FY",
    "outputId": "10b564bb-f4bb-44b5-bad7-5ab2ce324886"
   },
   "outputs": [
    {
     "data": {
      "text/plain": [
       "82800"
      ]
     },
     "execution_count": 6,
     "metadata": {},
     "output_type": "execute_result"
    }
   ],
   "source": [
    "df.size"
   ]
  },
  {
   "cell_type": "markdown",
   "metadata": {
    "id": "yLm5qspivq8n"
   },
   "source": [
    "**Observation**\n",
    "\n",
    "The size of the DataFrame is 82800. "
   ]
  },
  {
   "cell_type": "markdown",
   "metadata": {
    "id": "w7DLSmJWv2on"
   },
   "source": [
    "- Use deep=True in memory_usage() to get the memory usage of the object columns:"
   ]
  },
  {
   "cell_type": "code",
   "execution_count": 7,
   "metadata": {
    "id": "h9axLuI40_FY",
    "outputId": "1af3537b-8679-4b45-ea8a-2b25f6340225"
   },
   "outputs": [
    {
     "data": {
      "text/plain": [
       "Index               128\n",
       "date             349600\n",
       "price             36800\n",
       "bedrooms          36800\n",
       "bathrooms         36800\n",
       "sqft_living       36800\n",
       "sqft_lot          36800\n",
       "floors            36800\n",
       "waterfront        36800\n",
       "view              36800\n",
       "condition         36800\n",
       "sqft_above        36800\n",
       "sqft_basement     36800\n",
       "yr_built          36800\n",
       "yr_renovated      36800\n",
       "street           340484\n",
       "city             297868\n",
       "statezip         299000\n",
       "country          276000\n",
       "dtype: int64"
      ]
     },
     "execution_count": 7,
     "metadata": {},
     "output_type": "execute_result"
    }
   ],
   "source": [
    "df.memory_usage(deep=True) "
   ]
  },
  {
   "cell_type": "markdown",
   "metadata": {
    "id": "l7MjEjLTwJjR"
   },
   "source": [
    "**Observation**\n",
    "\n",
    "Here, we can see the memory utilization of each column."
   ]
  },
  {
   "cell_type": "markdown",
   "metadata": {
    "id": "qRKGLfgZVWv-"
   },
   "source": [
    "## Step 4: Check the DataFrame's Data Types\n",
    "\n",
    "- Check the data types of the DataFrame columns:\n"
   ]
  },
  {
   "cell_type": "code",
   "execution_count": 8,
   "metadata": {
    "id": "OWTIjnBU0_FZ",
    "outputId": "90de1c20-2287-43c9-bce1-714cc53d2e1a"
   },
   "outputs": [
    {
     "data": {
      "text/plain": [
       "date              object\n",
       "price            float64\n",
       "bedrooms         float64\n",
       "bathrooms        float64\n",
       "sqft_living        int64\n",
       "sqft_lot           int64\n",
       "floors           float64\n",
       "waterfront         int64\n",
       "view               int64\n",
       "condition          int64\n",
       "sqft_above         int64\n",
       "sqft_basement      int64\n",
       "yr_built           int64\n",
       "yr_renovated       int64\n",
       "street            object\n",
       "city              object\n",
       "statezip          object\n",
       "country           object\n",
       "dtype: object"
      ]
     },
     "execution_count": 8,
     "metadata": {},
     "output_type": "execute_result"
    }
   ],
   "source": [
    "df.dtypes"
   ]
  },
  {
   "cell_type": "markdown",
   "metadata": {
    "id": "04cdWfivVaBd"
   },
   "source": [
    "## Step 5: Convert the Column's Data Types\n",
    "\n",
    "- Convert the data types of the columns to reduce memory usage:\n"
   ]
  },
  {
   "cell_type": "code",
   "execution_count": 9,
   "metadata": {
    "id": "tZ5w0os50_FZ"
   },
   "outputs": [],
   "source": [
    "df['date'] = pd.to_datetime(df['date'])\n",
    "df['street'] = df['street'].astype(str)\n",
    "df['city'] = df['city'].astype(str)\n",
    "df['statezip'] = df['statezip'].astype(str)\n",
    "df['country'] = df['country'].astype(str)"
   ]
  },
  {
   "cell_type": "markdown",
   "metadata": {
    "id": "7IDWET5EVdAF"
   },
   "source": [
    "## Step 6: Set the Index for the DataFrame\n",
    "\n",
    "- Set the **date** column as the index for the DataFrame:\n"
   ]
  },
  {
   "cell_type": "code",
   "execution_count": 10,
   "metadata": {
    "id": "wkbxmWKh0_FZ"
   },
   "outputs": [],
   "source": [
    "df.set_index(['date'],inplace = True)"
   ]
  },
  {
   "cell_type": "markdown",
   "metadata": {
    "id": "9nBI5X1nVgUV"
   },
   "source": [
    "## Step 7: Check the Updated Memory Usage\n",
    "\n",
    "- Check the memory usage of the DataFrame after converting the data types:\n"
   ]
  },
  {
   "cell_type": "code",
   "execution_count": 11,
   "metadata": {
    "id": "O6r3YgWy0_Fa",
    "outputId": "3fe2c145-02d6-466a-fbe3-20398e5657b4"
   },
   "outputs": [
    {
     "data": {
      "text/plain": [
       "Index             36800\n",
       "price             36800\n",
       "bedrooms          36800\n",
       "bathrooms         36800\n",
       "sqft_living       36800\n",
       "sqft_lot          36800\n",
       "floors            36800\n",
       "waterfront        36800\n",
       "view              36800\n",
       "condition         36800\n",
       "sqft_above        36800\n",
       "sqft_basement     36800\n",
       "yr_built          36800\n",
       "yr_renovated      36800\n",
       "street           340484\n",
       "city             297868\n",
       "statezip         299000\n",
       "country          276000\n",
       "dtype: int64"
      ]
     },
     "execution_count": 11,
     "metadata": {},
     "output_type": "execute_result"
    }
   ],
   "source": [
    "df.memory_usage(deep=True)"
   ]
  },
  {
   "cell_type": "code",
   "execution_count": 12,
   "metadata": {
    "id": "o4r5weGO0_Fa",
    "outputId": "1033e87e-97ac-472e-d91c-d8133458f516"
   },
   "outputs": [
    {
     "data": {
      "text/plain": [
       "78200"
      ]
     },
     "execution_count": 12,
     "metadata": {},
     "output_type": "execute_result"
    }
   ],
   "source": [
    "df.size"
   ]
  },
  {
   "cell_type": "markdown",
   "metadata": {
    "id": "LoC1idF3x0K7"
   },
   "source": [
    "**Observation**\n",
    "\n",
    "We can see that the memory used has reduced. "
   ]
  },
  {
   "cell_type": "code",
   "execution_count": 13,
   "metadata": {
    "id": "m6PWlmGy0_Fa",
    "outputId": "de2cd578-70b0-4b4b-a6dc-72d2922e0243"
   },
   "outputs": [
    {
     "data": {
      "text/html": [
       "<div>\n",
       "<style scoped>\n",
       "    .dataframe tbody tr th:only-of-type {\n",
       "        vertical-align: middle;\n",
       "    }\n",
       "\n",
       "    .dataframe tbody tr th {\n",
       "        vertical-align: top;\n",
       "    }\n",
       "\n",
       "    .dataframe thead th {\n",
       "        text-align: right;\n",
       "    }\n",
       "</style>\n",
       "<table border=\"1\" class=\"dataframe\">\n",
       "  <thead>\n",
       "    <tr style=\"text-align: right;\">\n",
       "      <th></th>\n",
       "      <th>price</th>\n",
       "      <th>bedrooms</th>\n",
       "      <th>bathrooms</th>\n",
       "      <th>sqft_living</th>\n",
       "      <th>sqft_lot</th>\n",
       "      <th>floors</th>\n",
       "      <th>waterfront</th>\n",
       "      <th>view</th>\n",
       "      <th>condition</th>\n",
       "      <th>sqft_above</th>\n",
       "      <th>sqft_basement</th>\n",
       "      <th>yr_built</th>\n",
       "      <th>yr_renovated</th>\n",
       "      <th>street</th>\n",
       "      <th>city</th>\n",
       "      <th>statezip</th>\n",
       "      <th>country</th>\n",
       "    </tr>\n",
       "    <tr>\n",
       "      <th>date</th>\n",
       "      <th></th>\n",
       "      <th></th>\n",
       "      <th></th>\n",
       "      <th></th>\n",
       "      <th></th>\n",
       "      <th></th>\n",
       "      <th></th>\n",
       "      <th></th>\n",
       "      <th></th>\n",
       "      <th></th>\n",
       "      <th></th>\n",
       "      <th></th>\n",
       "      <th></th>\n",
       "      <th></th>\n",
       "      <th></th>\n",
       "      <th></th>\n",
       "      <th></th>\n",
       "    </tr>\n",
       "  </thead>\n",
       "  <tbody>\n",
       "    <tr>\n",
       "      <th>2014-05-02</th>\n",
       "      <td>313000.0</td>\n",
       "      <td>3.0</td>\n",
       "      <td>1.5</td>\n",
       "      <td>1340</td>\n",
       "      <td>7912</td>\n",
       "      <td>1.5</td>\n",
       "      <td>0</td>\n",
       "      <td>0</td>\n",
       "      <td>3</td>\n",
       "      <td>1340</td>\n",
       "      <td>0</td>\n",
       "      <td>1955</td>\n",
       "      <td>2005</td>\n",
       "      <td>18810 Densmore Ave N</td>\n",
       "      <td>Shoreline</td>\n",
       "      <td>WA 98133</td>\n",
       "      <td>USA</td>\n",
       "    </tr>\n",
       "    <tr>\n",
       "      <th>2014-05-02</th>\n",
       "      <td>2384000.0</td>\n",
       "      <td>5.0</td>\n",
       "      <td>2.5</td>\n",
       "      <td>3650</td>\n",
       "      <td>9050</td>\n",
       "      <td>2.0</td>\n",
       "      <td>0</td>\n",
       "      <td>4</td>\n",
       "      <td>5</td>\n",
       "      <td>3370</td>\n",
       "      <td>280</td>\n",
       "      <td>1921</td>\n",
       "      <td>0</td>\n",
       "      <td>709 W Blaine St</td>\n",
       "      <td>Seattle</td>\n",
       "      <td>WA 98119</td>\n",
       "      <td>USA</td>\n",
       "    </tr>\n",
       "  </tbody>\n",
       "</table>\n",
       "</div>"
      ],
      "text/plain": [
       "                price  bedrooms  bathrooms  sqft_living  sqft_lot  floors  \\\n",
       "date                                                                        \n",
       "2014-05-02   313000.0       3.0        1.5         1340      7912     1.5   \n",
       "2014-05-02  2384000.0       5.0        2.5         3650      9050     2.0   \n",
       "\n",
       "            waterfront  view  condition  sqft_above  sqft_basement  yr_built  \\\n",
       "date                                                                           \n",
       "2014-05-02           0     0          3        1340              0      1955   \n",
       "2014-05-02           0     4          5        3370            280      1921   \n",
       "\n",
       "            yr_renovated                street       city  statezip country  \n",
       "date                                                                         \n",
       "2014-05-02          2005  18810 Densmore Ave N  Shoreline  WA 98133     USA  \n",
       "2014-05-02             0       709 W Blaine St    Seattle  WA 98119     USA  "
      ]
     },
     "execution_count": 13,
     "metadata": {},
     "output_type": "execute_result"
    }
   ],
   "source": [
    "df.head(2)"
   ]
  },
  {
   "cell_type": "markdown",
   "metadata": {
    "id": "n8GmOfiLVjhr"
   },
   "source": [
    "## Step 8: Further Reduce the Memory Usage by Converting More Columns\n",
    "\n",
    "- Convert the **bedrooms** and **price** columns to smaller data types:\n"
   ]
  },
  {
   "cell_type": "code",
   "execution_count": 14,
   "metadata": {
    "id": "g9hSDOL_0_Fb"
   },
   "outputs": [],
   "source": [
    "df['bedrooms'] = df['bedrooms'].astype('int8')"
   ]
  },
  {
   "cell_type": "code",
   "execution_count": 15,
   "metadata": {
    "id": "MxMGlYKk0_Fb"
   },
   "outputs": [],
   "source": [
    "df['price'] = df['price'].astype('int32')"
   ]
  },
  {
   "cell_type": "markdown",
   "metadata": {
    "id": "csJOtDYRVlhs"
   },
   "source": [
    "## Step 9: Check Final Memory Usage\n",
    "\n",
    "- Check the memory usage of the DataFrame after all data type conversions:\n"
   ]
  },
  {
   "cell_type": "code",
   "execution_count": 16,
   "metadata": {
    "id": "kUTFdoZF0_Fb",
    "outputId": "fd06facc-14de-4b27-cca8-176772d33f92"
   },
   "outputs": [
    {
     "data": {
      "text/plain": [
       "78200"
      ]
     },
     "execution_count": 16,
     "metadata": {},
     "output_type": "execute_result"
    }
   ],
   "source": [
    "df.size"
   ]
  },
  {
   "cell_type": "markdown",
   "metadata": {
    "id": "3JsYg6yByXlp"
   },
   "source": [
    "- Use **deep = True** to get the memory usage of the object columns:"
   ]
  },
  {
   "cell_type": "code",
   "execution_count": 17,
   "metadata": {
    "id": "UlZo5Liq0_Fb",
    "outputId": "230731ee-31ad-4e9c-df0f-b7df9475f6c3"
   },
   "outputs": [
    {
     "data": {
      "text/plain": [
       "Index             36800\n",
       "price             18400\n",
       "bedrooms           4600\n",
       "bathrooms         36800\n",
       "sqft_living       36800\n",
       "sqft_lot          36800\n",
       "floors            36800\n",
       "waterfront        36800\n",
       "view              36800\n",
       "condition         36800\n",
       "sqft_above        36800\n",
       "sqft_basement     36800\n",
       "yr_built          36800\n",
       "yr_renovated      36800\n",
       "street           340484\n",
       "city             297868\n",
       "statezip         299000\n",
       "country          276000\n",
       "dtype: int64"
      ]
     },
     "execution_count": 17,
     "metadata": {},
     "output_type": "execute_result"
    }
   ],
   "source": [
    "df.memory_usage(deep = True)"
   ]
  },
  {
   "cell_type": "markdown",
   "metadata": {
    "id": "MDKeb8J7yal8"
   },
   "source": [
    "**Observation**\n",
    "\n",
    "We can see the memory utilization of columns **bedrooms** and **price** has been reduced."
   ]
  }
 ],
 "metadata": {
  "colab": {
   "provenance": []
  },
  "kernelspec": {
   "display_name": "Python 3 (ipykernel)",
   "language": "python",
   "name": "python3"
  },
  "language_info": {
   "codemirror_mode": {
    "name": "ipython",
    "version": 3
   },
   "file_extension": ".py",
   "mimetype": "text/x-python",
   "name": "python",
   "nbconvert_exporter": "python",
   "pygments_lexer": "ipython3",
   "version": "3.8.2rc2"
  }
 },
 "nbformat": 4,
 "nbformat_minor": 4
}
