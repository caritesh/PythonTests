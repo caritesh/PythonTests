{
 "cells": [
  {
   "cell_type": "markdown",
   "metadata": {
    "id": "6VTw7qg3I8q1"
   },
   "source": [
    "## __Arithmetic Operations in Python__\n",
    "\n",
    "## Step 1: Arithmetic Operations using **NumPy**\n",
    "\n",
    "Let's import the NumPy library: "
   ]
  },
  {
   "cell_type": "code",
   "execution_count": 1,
   "metadata": {
    "id": "lv3PdfxBIKyj"
   },
   "outputs": [],
   "source": [
    "import numpy as np"
   ]
  },
  {
   "cell_type": "code",
   "execution_count": 2,
   "metadata": {},
   "outputs": [],
   "source": [
    "test_scores = np.array([[78,98,100],[76,88,43]])"
   ]
  },
  {
   "cell_type": "code",
   "execution_count": 3,
   "metadata": {},
   "outputs": [
    {
     "data": {
      "text/plain": [
       "array([[ 78,  98, 100],\n",
       "       [ 76,  88,  43]])"
      ]
     },
     "execution_count": 3,
     "metadata": {},
     "output_type": "execute_result"
    }
   ],
   "source": [
    "test_scores"
   ]
  },
  {
   "cell_type": "code",
   "execution_count": 4,
   "metadata": {},
   "outputs": [],
   "source": [
    "test = test_scores > 43"
   ]
  },
  {
   "cell_type": "code",
   "execution_count": 11,
   "metadata": {},
   "outputs": [
    {
     "data": {
      "text/plain": [
       "array([[ True,  True,  True],\n",
       "       [ True,  True, False]])"
      ]
     },
     "execution_count": 11,
     "metadata": {},
     "output_type": "execute_result"
    }
   ],
   "source": [
    "test"
   ]
  },
  {
   "cell_type": "code",
   "execution_count": 6,
   "metadata": {},
   "outputs": [],
   "source": [
    "test1 = test_scores[test_scores > 70]"
   ]
  },
  {
   "cell_type": "code",
   "execution_count": 9,
   "metadata": {},
   "outputs": [
    {
     "data": {
      "text/plain": [
       "array([ 78,  98, 100,  76,  88])"
      ]
     },
     "execution_count": 9,
     "metadata": {},
     "output_type": "execute_result"
    }
   ],
   "source": [
    "test1"
   ]
  },
  {
   "cell_type": "code",
   "execution_count": 12,
   "metadata": {},
   "outputs": [
    {
     "data": {
      "text/plain": [
       "array([ 78,  98, 100,  76,  88])"
      ]
     },
     "execution_count": 12,
     "metadata": {},
     "output_type": "execute_result"
    }
   ],
   "source": [
    "test_scores[test]"
   ]
  },
  {
   "cell_type": "code",
   "execution_count": 26,
   "metadata": {},
   "outputs": [],
   "source": [
    "countries = np.array(['germany','france','italy','finland','india','usa','australia',\n",
    "'belgium','korea','japan','china','poland'])"
   ]
  },
  {
   "cell_type": "code",
   "execution_count": 27,
   "metadata": {},
   "outputs": [],
   "source": [
    "countries2 = countries"
   ]
  },
  {
   "cell_type": "code",
   "execution_count": 28,
   "metadata": {},
   "outputs": [
    {
     "data": {
      "text/plain": [
       "array([ True,  True,  True,  True,  True,  True,  True,  True,  True,\n",
       "        True,  True,  True])"
      ]
     },
     "execution_count": 28,
     "metadata": {},
     "output_type": "execute_result"
    }
   ],
   "source": [
    "countries == countries2"
   ]
  },
  {
   "cell_type": "code",
   "execution_count": 29,
   "metadata": {},
   "outputs": [
    {
     "data": {
      "text/plain": [
       "array(['germany', 'austria', 'france', 'italy', 'finland', 'india', 'usa',\n",
       "       'australia', 'belgium', 'korea', 'japan', 'china', 'poland'],\n",
       "      dtype='<U9')"
      ]
     },
     "execution_count": 29,
     "metadata": {},
     "output_type": "execute_result"
    }
   ],
   "source": [
    "np.insert(countries,1,'austria')"
   ]
  },
  {
   "cell_type": "code",
   "execution_count": 30,
   "metadata": {},
   "outputs": [
    {
     "data": {
      "text/plain": [
       "array(['germany', 'france', 'italy', 'finland', 'india', 'usa',\n",
       "       'australia', 'belgium', 'korea', 'japan', 'china', 'poland'],\n",
       "      dtype='<U9')"
      ]
     },
     "execution_count": 30,
     "metadata": {},
     "output_type": "execute_result"
    }
   ],
   "source": [
    "countries"
   ]
  },
  {
   "cell_type": "code",
   "execution_count": 31,
   "metadata": {},
   "outputs": [
    {
     "data": {
      "text/plain": [
       "array(['germany', 'france', 'italy', 'finland', 'india', 'usa',\n",
       "       'australia', 'belgium', 'korea', 'japan', 'china', 'poland'],\n",
       "      dtype='<U9')"
      ]
     },
     "execution_count": 31,
     "metadata": {},
     "output_type": "execute_result"
    }
   ],
   "source": [
    "countries2"
   ]
  },
  {
   "cell_type": "code",
   "execution_count": 33,
   "metadata": {},
   "outputs": [],
   "source": [
    "countries[0] = 'deutschland'"
   ]
  },
  {
   "cell_type": "code",
   "execution_count": 34,
   "metadata": {},
   "outputs": [
    {
     "data": {
      "text/plain": [
       "array(['deutschla', 'france', 'italy', 'finland', 'india', 'usa',\n",
       "       'australia', 'belgium', 'korea', 'japan', 'china', 'poland'],\n",
       "      dtype='<U9')"
      ]
     },
     "execution_count": 34,
     "metadata": {},
     "output_type": "execute_result"
    }
   ],
   "source": [
    "countries"
   ]
  },
  {
   "cell_type": "code",
   "execution_count": 35,
   "metadata": {},
   "outputs": [
    {
     "data": {
      "text/plain": [
       "array(['deutschla', 'france', 'italy', 'finland', 'india', 'usa',\n",
       "       'australia', 'belgium', 'korea', 'japan', 'china', 'poland'],\n",
       "      dtype='<U9')"
      ]
     },
     "execution_count": 35,
     "metadata": {},
     "output_type": "execute_result"
    }
   ],
   "source": [
    "countries2"
   ]
  },
  {
   "cell_type": "markdown",
   "metadata": {
    "id": "4y4lxoRwKTcC"
   },
   "source": [
    "Create two NumPy arrays using np.array():"
   ]
  },
  {
   "cell_type": "code",
   "execution_count": 37,
   "metadata": {},
   "outputs": [],
   "source": [
    "countries3 = countries.view()"
   ]
  },
  {
   "cell_type": "code",
   "execution_count": 38,
   "metadata": {},
   "outputs": [
    {
     "data": {
      "text/plain": [
       "array([ True,  True,  True,  True,  True,  True,  True,  True,  True,\n",
       "        True,  True,  True])"
      ]
     },
     "execution_count": 38,
     "metadata": {},
     "output_type": "execute_result"
    }
   ],
   "source": [
    "countries3 == countries"
   ]
  },
  {
   "cell_type": "code",
   "execution_count": 39,
   "metadata": {},
   "outputs": [
    {
     "data": {
      "text/plain": [
       "False"
      ]
     },
     "execution_count": 39,
     "metadata": {},
     "output_type": "execute_result"
    }
   ],
   "source": [
    "countries3 is countries"
   ]
  },
  {
   "cell_type": "code",
   "execution_count": 43,
   "metadata": {},
   "outputs": [],
   "source": [
    "countries4 = countries[countries == 'italy']"
   ]
  },
  {
   "cell_type": "code",
   "execution_count": 45,
   "metadata": {},
   "outputs": [],
   "source": [
    "countries5 = countries.copy()"
   ]
  },
  {
   "cell_type": "code",
   "execution_count": 46,
   "metadata": {},
   "outputs": [
    {
     "data": {
      "text/plain": [
       "False"
      ]
     },
     "execution_count": 46,
     "metadata": {},
     "output_type": "execute_result"
    }
   ],
   "source": [
    "countries5 is countries"
   ]
  },
  {
   "cell_type": "code",
   "execution_count": 47,
   "metadata": {},
   "outputs": [
    {
     "data": {
      "text/plain": [
       "array(['Deutsch', 'france', 'italy', 'finland', 'india', 'usa',\n",
       "       'australia', 'belgium', 'korea', 'japan', 'china', 'poland'],\n",
       "      dtype='<U9')"
      ]
     },
     "execution_count": 47,
     "metadata": {},
     "output_type": "execute_result"
    }
   ],
   "source": [
    "countries\n"
   ]
  },
  {
   "cell_type": "code",
   "execution_count": 48,
   "metadata": {},
   "outputs": [],
   "source": [
    "countries[0] = 'Germany'"
   ]
  },
  {
   "cell_type": "code",
   "execution_count": 49,
   "metadata": {},
   "outputs": [
    {
     "data": {
      "text/plain": [
       "array(['Germany', 'france', 'italy', 'finland', 'india', 'usa',\n",
       "       'australia', 'belgium', 'korea', 'japan', 'china', 'poland'],\n",
       "      dtype='<U9')"
      ]
     },
     "execution_count": 49,
     "metadata": {},
     "output_type": "execute_result"
    }
   ],
   "source": [
    "countries"
   ]
  },
  {
   "cell_type": "code",
   "execution_count": 50,
   "metadata": {},
   "outputs": [
    {
     "data": {
      "text/plain": [
       "array(['Deutsch', 'france', 'italy', 'finland', 'india', 'usa',\n",
       "       'australia', 'belgium', 'korea', 'japan', 'china', 'poland'],\n",
       "      dtype='<U9')"
      ]
     },
     "execution_count": 50,
     "metadata": {},
     "output_type": "execute_result"
    }
   ],
   "source": [
    "countries5"
   ]
  },
  {
   "cell_type": "code",
   "execution_count": 41,
   "metadata": {},
   "outputs": [
    {
     "data": {
      "text/plain": [
       "array(['Deutsch', 'france', 'italy', 'finland', 'india', 'usa',\n",
       "       'australia', 'belgium', 'korea', 'japan', 'china', 'poland'],\n",
       "      dtype='<U9')"
      ]
     },
     "execution_count": 41,
     "metadata": {},
     "output_type": "execute_result"
    }
   ],
   "source": [
    "countries"
   ]
  },
  {
   "cell_type": "code",
   "execution_count": 42,
   "metadata": {},
   "outputs": [
    {
     "data": {
      "text/plain": [
       "array(['Deutsch', 'france', 'italy', 'finland', 'india', 'usa',\n",
       "       'australia', 'belgium', 'korea', 'japan', 'china', 'poland'],\n",
       "      dtype='<U9')"
      ]
     },
     "execution_count": 42,
     "metadata": {},
     "output_type": "execute_result"
    }
   ],
   "source": [
    "countries3"
   ]
  },
  {
   "cell_type": "code",
   "execution_count": 51,
   "metadata": {
    "id": "fovLh8PCIKyl"
   },
   "outputs": [],
   "source": [
    "A = np.array([[1,2,1],[2,2,3]])\n",
    "B = np.array([3,4,5])"
   ]
  },
  {
   "cell_type": "markdown",
   "metadata": {
    "id": "IrxaKdHXKv19"
   },
   "source": [
    "Display the arrays using their variable names:"
   ]
  },
  {
   "cell_type": "code",
   "execution_count": 53,
   "metadata": {
    "id": "X202zh_wIKyl",
    "outputId": "059b313f-b7ec-45aa-9fc1-c4dabd18627e"
   },
   "outputs": [
    {
     "data": {
      "text/plain": [
       "array([[1, 2, 1],\n",
       "       [2, 2, 3]])"
      ]
     },
     "execution_count": 53,
     "metadata": {},
     "output_type": "execute_result"
    }
   ],
   "source": [
    "A"
   ]
  },
  {
   "cell_type": "code",
   "execution_count": 56,
   "metadata": {
    "id": "855z8qyjIKym",
    "outputId": "d18d6527-c718-411f-c1af-17fe1656196b"
   },
   "outputs": [
    {
     "data": {
      "text/plain": [
       "array([3, 4, 5])"
      ]
     },
     "execution_count": 56,
     "metadata": {},
     "output_type": "execute_result"
    }
   ],
   "source": [
    "B"
   ]
  },
  {
   "cell_type": "markdown",
   "metadata": {
    "id": "QR8CW0_fJNjn"
   },
   "source": [
    "##Step 2: Addition\n",
    "Now, perform element-wise addition of 'A' and 'B' using the 'np.add' method:"
   ]
  },
  {
   "cell_type": "code",
   "execution_count": 57,
   "metadata": {
    "id": "GdULy-HUIKyn",
    "outputId": "a7b9b8b2-2749-4705-d79c-bcf7531c40f1"
   },
   "outputs": [
    {
     "data": {
      "text/plain": [
       "array([[4, 6, 6],\n",
       "       [5, 6, 8]])"
      ]
     },
     "execution_count": 57,
     "metadata": {},
     "output_type": "execute_result"
    }
   ],
   "source": [
    "np.add(A,B)"
   ]
  },
  {
   "cell_type": "markdown",
   "metadata": {
    "id": "sc9BdpXCLhUD"
   },
   "source": [
    "**Observation:**\n",
    "- The result presented above is obtained by adding the two NumPy arrays."
   ]
  },
  {
   "cell_type": "markdown",
   "metadata": {
    "id": "AxqV-ztZJcXJ"
   },
   "source": [
    "##Step 3: Subtraction\n",
    "Now, perform element-wise subtraction of 'A' from 'B' using the 'np.subtract' method:"
   ]
  },
  {
   "cell_type": "code",
   "execution_count": null,
   "metadata": {
    "id": "kY3v_pf6IKyn",
    "outputId": "d84df13f-6367-4a12-d007-e068f86f0100"
   },
   "outputs": [
    {
     "data": {
      "text/plain": [
       "array([[2, 2, 4],\n",
       "       [1, 2, 2]])"
      ]
     },
     "execution_count": 6,
     "metadata": {},
     "output_type": "execute_result"
    }
   ],
   "source": [
    "np.subtract(B,A)"
   ]
  },
  {
   "cell_type": "markdown",
   "metadata": {
    "id": "WX80uvb8MCrW"
   },
   "source": [
    "**Observation:**\n",
    "\n",
    "- The result presented above is obtained by subtracting one of the NumPy arrays from the other."
   ]
  },
  {
   "cell_type": "markdown",
   "metadata": {
    "id": "XA7AJ9YGJlb2"
   },
   "source": [
    "##Step 4: Multiplication\n",
    "Now, perform element-wise multiplication of 'A' and 'B' using the 'np.multiply' method:"
   ]
  },
  {
   "cell_type": "code",
   "execution_count": null,
   "metadata": {
    "id": "l7C-7A7lIKyn",
    "outputId": "bdfa9434-7e04-4a6a-a96a-bc823d1a04d8"
   },
   "outputs": [
    {
     "data": {
      "text/plain": [
       "array([[ 3,  8,  5],\n",
       "       [ 6,  8, 15]])"
      ]
     },
     "execution_count": 7,
     "metadata": {},
     "output_type": "execute_result"
    }
   ],
   "source": [
    "np.multiply(A,B)"
   ]
  },
  {
   "cell_type": "markdown",
   "metadata": {
    "id": "w4v_RkKTM5TW"
   },
   "source": [
    "**Observation:**\n",
    "\n",
    "- The result presented above is obtained by multiplying the two NumPy arrays.\n",
    "- Remember, this multiplication is an element-wise multiplication not a matrix-type multiplication."
   ]
  },
  {
   "cell_type": "markdown",
   "metadata": {
    "id": "o1V6XEGtJydJ"
   },
   "source": [
    "##Step 5. Division\n",
    "- Now, perform element-wise division of 'A' by 'B' using the 'np.divide' method:"
   ]
  },
  {
   "cell_type": "code",
   "execution_count": null,
   "metadata": {
    "id": "_ea09AqnIKyo",
    "outputId": "82ec5a68-96be-4e1d-e145-6d57474ffb41"
   },
   "outputs": [
    {
     "data": {
      "text/plain": [
       "array([[0.33333333, 0.5       , 0.2       ],\n",
       "       [0.66666667, 0.5       , 0.6       ]])"
      ]
     },
     "execution_count": 8,
     "metadata": {},
     "output_type": "execute_result"
    }
   ],
   "source": [
    "np.divide(A,B)"
   ]
  },
  {
   "cell_type": "markdown",
   "metadata": {
    "id": "1We8JHcVNiZ7"
   },
   "source": [
    "**Observation:**\n",
    "\n",
    "- The result presented above is obtained by dividing one of the NumPy arrays by the other."
   ]
  },
  {
   "cell_type": "markdown",
   "metadata": {
    "id": "cGdWQWGoJ7RZ"
   },
   "source": [
    "##Step 6: Power Of\n",
    "Now, let's raise one array to the power of '2' using the np.power() method:\n",
    "\n"
   ]
  },
  {
   "cell_type": "code",
   "execution_count": null,
   "metadata": {
    "id": "KNZcHdOIIKyo",
    "outputId": "c6ec95e8-72e1-4d33-b64b-c39907bafc5a"
   },
   "outputs": [
    {
     "data": {
      "text/plain": [
       "array([[1, 4, 1],\n",
       "       [4, 4, 9]])"
      ]
     },
     "execution_count": 9,
     "metadata": {},
     "output_type": "execute_result"
    }
   ],
   "source": [
    "np.power(A,2)"
   ]
  },
  {
   "cell_type": "markdown",
   "metadata": {
    "id": "jizVOsoaOhVo"
   },
   "source": [
    "**Observation:**\n",
    "\n",
    "- The result presented above shows the square of all the elements in the array."
   ]
  },
  {
   "cell_type": "markdown",
   "metadata": {
    "id": "AN3wQh3TPOdi"
   },
   "source": [
    "Perform element-wise power operation where each element in 'A' is raised\n",
    "to the corresponding element in 'B' using the 'np.power' method:"
   ]
  },
  {
   "cell_type": "code",
   "execution_count": null,
   "metadata": {
    "id": "15IRcCH6IKyo",
    "outputId": "de5d1159-2208-4bc3-ba29-6a639717e5b2"
   },
   "outputs": [
    {
     "data": {
      "text/plain": [
       "array([[  1,  16,   1],\n",
       "       [  8,  16, 243]])"
      ]
     },
     "execution_count": 10,
     "metadata": {},
     "output_type": "execute_result"
    }
   ],
   "source": [
    "np.power(A,B)"
   ]
  },
  {
   "cell_type": "markdown",
   "metadata": {
    "id": "uhCCOwbqPa96"
   },
   "source": [
    "**Observation:**\n",
    "\n",
    "- The result presented above shows the NumPy array 'A' raised to the power of other array 'B'."
   ]
  }
 ],
 "metadata": {
  "colab": {
   "provenance": []
  },
  "kernelspec": {
   "display_name": "Python 3 (ipykernel)",
   "language": "python",
   "name": "python3"
  },
  "language_info": {
   "codemirror_mode": {
    "name": "ipython",
    "version": 3
   },
   "file_extension": ".py",
   "mimetype": "text/x-python",
   "name": "python",
   "nbconvert_exporter": "python",
   "pygments_lexer": "ipython3",
   "version": "3.8.2rc2"
  }
 },
 "nbformat": 4,
 "nbformat_minor": 4
}
