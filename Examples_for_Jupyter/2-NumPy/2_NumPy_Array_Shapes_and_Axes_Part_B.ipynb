{
 "cells": [
  {
   "cell_type": "code",
   "execution_count": 9,
   "metadata": {},
   "outputs": [],
   "source": [
    "\n",
    "#countries = a 3*2*2 matrix (ndim array) with country names\n",
    "#times - 1D2H 2H30M 30M1S \n",
    "import numpy as np\n",
    "countries = ['germany','france','italy','finland','india','usa','australia','belgium','korea','japan','china','poland']"
   ]
  },
  {
   "cell_type": "code",
   "execution_count": 25,
   "metadata": {},
   "outputs": [],
   "source": [
    "list_of_countries = np.array(countries).reshape(3,2,2)"
   ]
  },
  {
   "cell_type": "code",
   "execution_count": 29,
   "metadata": {},
   "outputs": [
    {
     "data": {
      "text/plain": [
       "array([[['germany', 'france'],\n",
       "        ['italy', 'finland']],\n",
       "\n",
       "       [['india', 'usa'],\n",
       "        ['australia', 'belgium']],\n",
       "\n",
       "       [['korea', 'japan'],\n",
       "        ['china', 'poland']]], dtype='<U9')"
      ]
     },
     "execution_count": 29,
     "metadata": {},
     "output_type": "execute_result"
    }
   ],
   "source": [
    "list_of_countries"
   ]
  },
  {
   "cell_type": "code",
   "execution_count": 33,
   "metadata": {},
   "outputs": [
    {
     "data": {
      "text/plain": [
       "array(['india', 'usa'], dtype='<U9')"
      ]
     },
     "execution_count": 33,
     "metadata": {},
     "output_type": "execute_result"
    }
   ],
   "source": [
    "#list_of_countries[:]\n",
    "list_of_countries[:][1][0]"
   ]
  },
  {
   "cell_type": "code",
   "execution_count": 17,
   "metadata": {},
   "outputs": [
    {
     "name": "stdout",
     "output_type": "stream",
     "text": [
      "in\n",
      "us\n"
     ]
    }
   ],
   "source": [
    "for i in list_of_countries[:][1][0]:\n",
    "    print(i[0:2])"
   ]
  },
  {
   "cell_type": "code",
   "execution_count": 37,
   "metadata": {},
   "outputs": [],
   "source": [
    "list_of_countries2 = np.array(countries).reshape(2,2,-1)"
   ]
  },
  {
   "cell_type": "code",
   "execution_count": 39,
   "metadata": {},
   "outputs": [
    {
     "data": {
      "text/plain": [
       "array([[['germany', 'france', 'italy'],\n",
       "        ['finland', 'india', 'usa']],\n",
       "\n",
       "       [['australia', 'belgium', 'korea'],\n",
       "        ['japan', 'china', 'poland']]], dtype='<U9')"
      ]
     },
     "execution_count": 39,
     "metadata": {},
     "output_type": "execute_result"
    }
   ],
   "source": [
    "list_of_countries2"
   ]
  },
  {
   "cell_type": "markdown",
   "metadata": {
    "id": "qjpkPTGr3jQ3"
   },
   "source": [
    "## __NumPy Array Shapes and Axes__\n",
    "\n",
    "In the previous file, we learned how to create 0D, 1D, 2D and 3D arrays.  Here, we will learn to convert one form of array to another. \n",
    "\n",
    "## Step 1: Converting a 1D Array to a 2D Array\n",
    "\n",
    "Let's first create a 1D array:\n"
   ]
  },
  {
   "cell_type": "code",
   "execution_count": 34,
   "metadata": {
    "id": "-e4TO7-_1Ojj"
   },
   "outputs": [],
   "source": [
    "import numpy as np\n",
    "numpy_arr = np.array([x for x in range(1,10)])"
   ]
  },
  {
   "cell_type": "markdown",
   "metadata": {
    "id": "bL6Wa9NZ48Ta"
   },
   "source": [
    "Now, display the 1D array:"
   ]
  },
  {
   "cell_type": "code",
   "execution_count": 35,
   "metadata": {
    "id": "HUto-qbc1Ojk",
    "outputId": "6b1b473c-5546-4f16-8072-b422c04fd2f3"
   },
   "outputs": [
    {
     "data": {
      "text/plain": [
       "array([1, 2, 3, 4, 5, 6, 7, 8, 9])"
      ]
     },
     "execution_count": 35,
     "metadata": {},
     "output_type": "execute_result"
    }
   ],
   "source": [
    "numpy_arr"
   ]
  },
  {
   "cell_type": "markdown",
   "metadata": {
    "id": "VovNvcmS5MnD"
   },
   "source": [
    "Then, reshape the 1D array into a 2D array with shape **(3,3)**:\n",
    "- The .reshape() method is used to convert one form of array into another."
   ]
  },
  {
   "cell_type": "code",
   "execution_count": 36,
   "metadata": {
    "id": "rHTSNr361Ojn",
    "outputId": "52361dbd-c6ac-4867-a193-421c36a49a32"
   },
   "outputs": [
    {
     "data": {
      "text/plain": [
       "array([[1, 2, 3],\n",
       "       [4, 5, 6],\n",
       "       [7, 8, 9]])"
      ]
     },
     "execution_count": 36,
     "metadata": {},
     "output_type": "execute_result"
    }
   ],
   "source": [
    "numpy_arr.reshape(3,3)"
   ]
  },
  {
   "cell_type": "markdown",
   "metadata": {
    "id": "fTB6zYRDAvVb"
   },
   "source": [
    "**Observation:**\n",
    "- In this case, the desired array has the shape (3,3), and this shape is being passed as a parameter in the method."
   ]
  },
  {
   "cell_type": "markdown",
   "metadata": {
    "id": "_-4Wa9Gf3-wk"
   },
   "source": [
    "## Step 2: Converting a 1D Array to a 3D Array\n"
   ]
  },
  {
   "cell_type": "markdown",
   "metadata": {
    "id": "Bkyz2BzZBlgA"
   },
   "source": [
    "Let's create a 1D array:"
   ]
  },
  {
   "cell_type": "code",
   "execution_count": null,
   "metadata": {
    "id": "E9bpCjq31Ojo"
   },
   "outputs": [],
   "source": [
    "numpy_arr = np.array([x for x in range(1,13)])"
   ]
  },
  {
   "cell_type": "markdown",
   "metadata": {
    "id": "mRA1IKqDCVvC"
   },
   "source": [
    "Then, reshape this 1D array into a 3D array with the shape (2,2,3):"
   ]
  },
  {
   "cell_type": "code",
   "execution_count": null,
   "metadata": {
    "id": "NJx-pu6-1Ojp",
    "outputId": "2a8f8888-1340-4b33-ebd8-a20c95e50fbe"
   },
   "outputs": [
    {
     "data": {
      "text/plain": [
       "array([[[ 1,  2,  3],\n",
       "        [ 4,  5,  6]],\n",
       "\n",
       "       [[ 7,  8,  9],\n",
       "        [10, 11, 12]]])"
      ]
     },
     "execution_count": 6,
     "metadata": {},
     "output_type": "execute_result"
    }
   ],
   "source": [
    "numpy_arr.reshape(2,2,3)"
   ]
  },
  {
   "cell_type": "markdown",
   "metadata": {
    "id": "2GXz4LGVCwsL"
   },
   "source": [
    "It is also possible to change the shape of this array according to our desired specifications.\n",
    "- Reshape the 1D array used above into a 3D array with the shape (3,2,2):"
   ]
  },
  {
   "cell_type": "code",
   "execution_count": null,
   "metadata": {
    "colab": {
     "base_uri": "https://localhost:8080/"
    },
    "executionInfo": {
     "elapsed": 468,
     "status": "ok",
     "timestamp": 1682170340928,
     "user": {
      "displayName": "Vikas Singh",
      "userId": "04375885343580620832"
     },
     "user_tz": -330
    },
    "id": "QBHukCvM1Ojp",
    "outputId": "ae8042e7-57bd-4639-bd83-e7d0cda442ad"
   },
   "outputs": [
    {
     "data": {
      "text/plain": [
       "array([[[ 1,  2],\n",
       "        [ 3,  4]],\n",
       "\n",
       "       [[ 5,  6],\n",
       "        [ 7,  8]],\n",
       "\n",
       "       [[ 9, 10],\n",
       "        [11, 12]]])"
      ]
     },
     "execution_count": 12,
     "metadata": {},
     "output_type": "execute_result"
    }
   ],
   "source": [
    "numpy_arr.reshape(3,2,2)"
   ]
  },
  {
   "cell_type": "markdown",
   "metadata": {
    "id": "hGi6RzHJDpfd"
   },
   "source": [
    "**Observation:**\n",
    "- The shape of the array has been changed from (2,2,3) to (3,2,2).\n",
    "- Remember that the length of the 1D array must be equal to the product of the 3D array.\n",
    "- In this case, the length of the 1D array is 12 and the product of the 3D array is also 12 (2$*$2$*$3) or 12 (3$*$2$*$2).\n",
    "\n",
    "\n",
    "- If the above condition is not satisfied, an error will occur."
   ]
  },
  {
   "cell_type": "markdown",
   "metadata": {
    "id": "cn7EykHq5G6a"
   },
   "source": [
    "##Step 3: Reshaping Arrays Without Specifying a New Shape\n",
    "- Dealing with a large set of Pandas DataFrames can be challenging at times.\n",
    "- If NumPy is being used, the function can be reshaped into an unknown dimension in that case."
   ]
  },
  {
   "cell_type": "markdown",
   "metadata": {
    "id": "lnjfgR9xJ0xd"
   },
   "source": [
    "Let's take an example:\n",
    "- Take the 3D array used in step 2 and pass -1 as the value, and NumPy will calculate this number."
   ]
  },
  {
   "cell_type": "code",
   "execution_count": null,
   "metadata": {
    "colab": {
     "base_uri": "https://localhost:8080/"
    },
    "executionInfo": {
     "elapsed": 488,
     "status": "ok",
     "timestamp": 1682171227643,
     "user": {
      "displayName": "Vikas Singh",
      "userId": "04375885343580620832"
     },
     "user_tz": -330
    },
    "id": "j7J7JQhcKam6",
    "outputId": "8f8efe19-4579-4271-9fe9-578a01982aea"
   },
   "outputs": [
    {
     "data": {
      "text/plain": [
       "array([[[ 1,  2,  3],\n",
       "        [ 4,  5,  6]],\n",
       "\n",
       "       [[ 7,  8,  9],\n",
       "        [10, 11, 12]]])"
      ]
     },
     "execution_count": 18,
     "metadata": {},
     "output_type": "execute_result"
    }
   ],
   "source": [
    "numpy_arr.reshape(2,2,-1)"
   ]
  },
  {
   "cell_type": "markdown",
   "metadata": {
    "id": "JKSwDm8oL8ro"
   },
   "source": [
    "**Observation:**\n",
    "- The unknown dimension has been calculated automatically by NumPy."
   ]
  },
  {
   "cell_type": "markdown",
   "metadata": {
    "id": "8KJcmuQ_O9j4"
   },
   "source": [
    "##Step 4: Flattening the arrays\n",
    "- Now, we will start by converting a multidimensional array into a 1D array. "
   ]
  },
  {
   "cell_type": "markdown",
   "metadata": {
    "id": "JbkcEhUiPkFG"
   },
   "source": [
    "Take the 3D array used in **Step 2** and convert it to a 1D array\n",
    "- Assign a variable name to the 3D array as shown below:"
   ]
  },
  {
   "cell_type": "code",
   "execution_count": null,
   "metadata": {
    "id": "v178LFwB1Ojq"
   },
   "outputs": [],
   "source": [
    "numpy_arr = numpy_arr.reshape(3,2,2)"
   ]
  },
  {
   "cell_type": "markdown",
   "metadata": {
    "id": "aXoi37R1QPGf"
   },
   "source": [
    "Then, display the 3D array:"
   ]
  },
  {
   "cell_type": "code",
   "execution_count": null,
   "metadata": {
    "colab": {
     "base_uri": "https://localhost:8080/"
    },
    "executionInfo": {
     "elapsed": 441,
     "status": "ok",
     "timestamp": 1682171814726,
     "user": {
      "displayName": "Vikas Singh",
      "userId": "04375885343580620832"
     },
     "user_tz": -330
    },
    "id": "mCIMTN_Q1Ojr",
    "outputId": "125e9910-b18f-4866-c945-4325782b5362"
   },
   "outputs": [
    {
     "data": {
      "text/plain": [
       "array([[[ 1,  2],\n",
       "        [ 3,  4]],\n",
       "\n",
       "       [[ 5,  6],\n",
       "        [ 7,  8]],\n",
       "\n",
       "       [[ 9, 10],\n",
       "        [11, 12]]])"
      ]
     },
     "execution_count": 20,
     "metadata": {},
     "output_type": "execute_result"
    }
   ],
   "source": [
    "numpy_arr"
   ]
  },
  {
   "cell_type": "markdown",
   "metadata": {
    "id": "xBrNnD6UQVaD"
   },
   "source": [
    "Finally, reshape the 3D array into a 1D array:"
   ]
  },
  {
   "cell_type": "code",
   "execution_count": null,
   "metadata": {
    "colab": {
     "base_uri": "https://localhost:8080/"
    },
    "executionInfo": {
     "elapsed": 793,
     "status": "ok",
     "timestamp": 1682171858527,
     "user": {
      "displayName": "Vikas Singh",
      "userId": "04375885343580620832"
     },
     "user_tz": -330
    },
    "id": "Z2coOY101Ojr",
    "outputId": "3603c5b2-e3e2-4a92-f883-bf7064723b6a"
   },
   "outputs": [
    {
     "data": {
      "text/plain": [
       "array([ 1,  2,  3,  4,  5,  6,  7,  8,  9, 10, 11, 12])"
      ]
     },
     "execution_count": 21,
     "metadata": {},
     "output_type": "execute_result"
    }
   ],
   "source": [
    "numpy_arr.reshape(-1)"
   ]
  },
  {
   "cell_type": "code",
   "execution_count": 40,
   "metadata": {},
   "outputs": [],
   "source": [
    "\n",
    "new_cyclist_trials = np.array([[10,15,17,26,13,19],[12,13,14,24,14,23]])"
   ]
  },
  {
   "cell_type": "code",
   "execution_count": 41,
   "metadata": {},
   "outputs": [
    {
     "data": {
      "text/plain": [
       "2"
      ]
     },
     "execution_count": 41,
     "metadata": {},
     "output_type": "execute_result"
    }
   ],
   "source": [
    "new_cyclist_trials.ndim"
   ]
  },
  {
   "cell_type": "code",
   "execution_count": 42,
   "metadata": {},
   "outputs": [
    {
     "data": {
      "text/plain": [
       "array([[10, 15, 17, 26, 13, 19],\n",
       "       [12, 13, 14, 24, 14, 23]])"
      ]
     },
     "execution_count": 42,
     "metadata": {},
     "output_type": "execute_result"
    }
   ],
   "source": [
    "new_cyclist_trials"
   ]
  },
  {
   "cell_type": "code",
   "execution_count": 43,
   "metadata": {},
   "outputs": [],
   "source": [
    "#using ravel() to get altogether\n",
    "x = new_cyclist_trials.ravel()"
   ]
  },
  {
   "cell_type": "code",
   "execution_count": 44,
   "metadata": {},
   "outputs": [
    {
     "data": {
      "text/plain": [
       "1"
      ]
     },
     "execution_count": 44,
     "metadata": {},
     "output_type": "execute_result"
    }
   ],
   "source": [
    "x.ndim"
   ]
  },
  {
   "cell_type": "code",
   "execution_count": 45,
   "metadata": {},
   "outputs": [
    {
     "data": {
      "text/plain": [
       "array([10, 15, 17, 26, 13, 19, 12, 13, 14, 24, 14, 23])"
      ]
     },
     "execution_count": 45,
     "metadata": {},
     "output_type": "execute_result"
    }
   ],
   "source": [
    "x"
   ]
  },
  {
   "cell_type": "code",
   "execution_count": 46,
   "metadata": {},
   "outputs": [],
   "source": [
    "y = new_cyclist_trials.reshape(3,4)"
   ]
  },
  {
   "cell_type": "code",
   "execution_count": 50,
   "metadata": {},
   "outputs": [
    {
     "data": {
      "text/plain": [
       "2"
      ]
     },
     "execution_count": 50,
     "metadata": {},
     "output_type": "execute_result"
    }
   ],
   "source": [
    "y.ndim"
   ]
  },
  {
   "cell_type": "code",
   "execution_count": 10,
   "metadata": {},
   "outputs": [
    {
     "data": {
      "text/plain": [
       "array([[10, 15, 17, 26],\n",
       "       [13, 19, 12, 13],\n",
       "       [14, 24, 14, 23]])"
      ]
     },
     "execution_count": 10,
     "metadata": {},
     "output_type": "execute_result"
    }
   ],
   "source": [
    "y"
   ]
  },
  {
   "cell_type": "code",
   "execution_count": 48,
   "metadata": {},
   "outputs": [],
   "source": [
    "new_cyclist_trials.resize(6,2)"
   ]
  },
  {
   "cell_type": "code",
   "execution_count": 49,
   "metadata": {},
   "outputs": [
    {
     "data": {
      "text/plain": [
       "2"
      ]
     },
     "execution_count": 49,
     "metadata": {},
     "output_type": "execute_result"
    }
   ],
   "source": [
    "new_cyclist_trials.ndim"
   ]
  },
  {
   "cell_type": "code",
   "execution_count": 13,
   "metadata": {},
   "outputs": [
    {
     "data": {
      "text/plain": [
       "(6, 2)"
      ]
     },
     "execution_count": 13,
     "metadata": {},
     "output_type": "execute_result"
    }
   ],
   "source": [
    "new_cyclist_trials.shape"
   ]
  },
  {
   "cell_type": "code",
   "execution_count": 14,
   "metadata": {},
   "outputs": [
    {
     "name": "stdout",
     "output_type": "stream",
     "text": [
      "[10 15 17 26 13 19 12 13 14 24 14 23]\n"
     ]
    }
   ],
   "source": [
    "#flatten the dataset\n",
    "print(new_cyclist_trials.ravel())"
   ]
  },
  {
   "cell_type": "code",
   "execution_count": 51,
   "metadata": {},
   "outputs": [],
   "source": [
    "#split array into 2\n",
    "new_cyclist_trials = np.array([[10,15,17,26,13,19],[12,13,14,24,14,23]])"
   ]
  },
  {
   "cell_type": "code",
   "execution_count": 52,
   "metadata": {},
   "outputs": [
    {
     "data": {
      "text/plain": [
       "array([[10, 15, 17, 26, 13, 19],\n",
       "       [12, 13, 14, 24, 14, 23]])"
      ]
     },
     "execution_count": 52,
     "metadata": {},
     "output_type": "execute_result"
    }
   ],
   "source": [
    "new_cyclist_trials"
   ]
  },
  {
   "cell_type": "code",
   "execution_count": 19,
   "metadata": {},
   "outputs": [
    {
     "name": "stdout",
     "output_type": "stream",
     "text": [
      "[array([[10, 15, 17],\n",
      "       [12, 13, 14]]), array([[26, 13, 19],\n",
      "       [24, 14, 23]])]\n"
     ]
    }
   ],
   "source": [
    "print(np.hsplit(new_cyclist_trials,2))"
   ]
  },
  {
   "cell_type": "code",
   "execution_count": 20,
   "metadata": {},
   "outputs": [],
   "source": [
    "new_cyclist_1 = [10,15,17,26,13,19]\n",
    "new_cyclist_2 = [12,13,14,24,14,23]"
   ]
  },
  {
   "cell_type": "code",
   "execution_count": 21,
   "metadata": {},
   "outputs": [
    {
     "name": "stdout",
     "output_type": "stream",
     "text": [
      "[10 15 17 26 13 19 12 13 14 24 14 23]\n"
     ]
    }
   ],
   "source": [
    "#stack the arrays together\n",
    "print(np.hstack([new_cyclist_1,new_cyclist_2]))"
   ]
  },
  {
   "cell_type": "code",
   "execution_count": null,
   "metadata": {},
   "outputs": [],
   "source": []
  }
 ],
 "metadata": {
  "colab": {
   "provenance": []
  },
  "kernelspec": {
   "display_name": "Python 3 (ipykernel)",
   "language": "python",
   "name": "python3"
  },
  "language_info": {
   "codemirror_mode": {
    "name": "ipython",
    "version": 3
   },
   "file_extension": ".py",
   "mimetype": "text/x-python",
   "name": "python",
   "nbconvert_exporter": "python",
   "pygments_lexer": "ipython3",
   "version": "3.8.2rc2"
  }
 },
 "nbformat": 4,
 "nbformat_minor": 4
}
