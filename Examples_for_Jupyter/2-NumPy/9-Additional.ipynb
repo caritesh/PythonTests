{
 "cells": [
  {
   "cell_type": "code",
   "execution_count": 1,
   "id": "19a44604-7498-45d6-b8d4-75de9728e781",
   "metadata": {},
   "outputs": [],
   "source": [
    "import numpy as np"
   ]
  },
  {
   "cell_type": "markdown",
   "id": "4790f697-075e-4e42-8609-80c205de3b07",
   "metadata": {},
   "source": [
    "## Problem 1"
   ]
  },
  {
   "cell_type": "code",
   "execution_count": 2,
   "id": "8406f01e-a568-4441-b17b-afc9fd007d5a",
   "metadata": {},
   "outputs": [],
   "source": [
    "distance = [10,15,17,24]\n",
    "time = [.30,.47,.55,1.20]"
   ]
  },
  {
   "cell_type": "code",
   "execution_count": 3,
   "id": "f0c87e9d-7f0c-463b-b6b3-f4d2f403171e",
   "metadata": {},
   "outputs": [],
   "source": [
    "np_time = np.array(time)"
   ]
  },
  {
   "cell_type": "code",
   "execution_count": 5,
   "id": "11058e8b-326d-4575-aede-db8b0b792895",
   "metadata": {},
   "outputs": [
    {
     "name": "stdout",
     "output_type": "stream",
     "text": [
      "<class 'numpy.float64'>\n",
      "<class 'numpy.float64'>\n",
      "<class 'numpy.float64'>\n",
      "<class 'numpy.float64'>\n"
     ]
    }
   ],
   "source": [
    "for i in np_time:\n",
    "    print(type(i))"
   ]
  },
  {
   "cell_type": "code",
   "execution_count": 6,
   "id": "983166cf-9e34-498f-a2a4-a2836b30656e",
   "metadata": {},
   "outputs": [],
   "source": [
    "time2 = [100,.30,.47,.55,1.20]   \n",
    "np_time2 = np.array(time2)"
   ]
  },
  {
   "cell_type": "code",
   "execution_count": 7,
   "id": "49204b79-c6ac-47e6-b6ab-9ca521ff87e3",
   "metadata": {},
   "outputs": [
    {
     "name": "stdout",
     "output_type": "stream",
     "text": [
      "<class 'numpy.float64'>\n",
      "<class 'numpy.float64'>\n",
      "<class 'numpy.float64'>\n",
      "<class 'numpy.float64'>\n",
      "<class 'numpy.float64'>\n"
     ]
    }
   ],
   "source": [
    "for i in np_time2:\n",
    "    print(type(i))"
   ]
  },
  {
   "cell_type": "code",
   "execution_count": 8,
   "id": "c9da65b2-29c4-4f8f-8bd5-0800a0e13a40",
   "metadata": {},
   "outputs": [
    {
     "name": "stdout",
     "output_type": "stream",
     "text": [
      "[33.33333333 31.91489362 30.90909091 20.        ]\n"
     ]
    }
   ],
   "source": [
    "np_distance = np.array(distance)\n",
    "speed = np_distance/np_time\n",
    "print(speed)"
   ]
  },
  {
   "cell_type": "markdown",
   "id": "1ba8bd66-f16b-48c4-ad79-5f374324895d",
   "metadata": {},
   "source": [
    "## Problem 2"
   ]
  },
  {
   "cell_type": "code",
   "execution_count": 9,
   "id": "c49546cd-76a8-4334-820c-fa64d07fc48c",
   "metadata": {},
   "outputs": [],
   "source": [
    "first_trial_cyclist = [10,15,17,24]\n",
    "second_trial_cyclist = [12,11,21,24]"
   ]
  },
  {
   "cell_type": "code",
   "execution_count": 10,
   "id": "1eb5d5de-30e8-40ab-beb0-cb6e5f4f6b06",
   "metadata": {},
   "outputs": [],
   "source": [
    "np_first_trial_cyclist = np.array(first_trial_cyclist)\n",
    "np_second_trial_cylist = np.array(second_trial_cyclist)"
   ]
  },
  {
   "cell_type": "code",
   "execution_count": 11,
   "id": "50bc30bd-a202-4640-ab67-5e2d6980b118",
   "metadata": {},
   "outputs": [],
   "source": [
    "result = np_first_trial_cyclist+np_second_trial_cylist"
   ]
  },
  {
   "cell_type": "code",
   "execution_count": 12,
   "id": "458b3fa2-dd78-422b-b019-a21be5592574",
   "metadata": {},
   "outputs": [
    {
     "name": "stdout",
     "output_type": "stream",
     "text": [
      "[22 26 38 48]\n"
     ]
    }
   ],
   "source": [
    "print(result)"
   ]
  },
  {
   "cell_type": "code",
   "execution_count": 13,
   "id": "86d306af-f6f3-4cc0-99c5-0ee91e695583",
   "metadata": {},
   "outputs": [],
   "source": [
    "trials_new = np.array([first_trial_cyclist,second_trial_cyclist])"
   ]
  },
  {
   "cell_type": "code",
   "execution_count": 14,
   "id": "4fefa313-519d-4a98-8342-c93e2ced3b75",
   "metadata": {},
   "outputs": [
    {
     "name": "stdout",
     "output_type": "stream",
     "text": [
      "[[10 15 17 24]\n",
      " [12 11 21 24]]\n"
     ]
    }
   ],
   "source": [
    "print(trials_new)"
   ]
  },
  {
   "cell_type": "code",
   "execution_count": 15,
   "id": "1ce9cfc8-4845-4bfd-b59a-5043aa1ebeba",
   "metadata": {},
   "outputs": [
    {
     "data": {
      "text/plain": [
       "2"
      ]
     },
     "execution_count": 15,
     "metadata": {},
     "output_type": "execute_result"
    }
   ],
   "source": [
    "trials_new.ndim"
   ]
  },
  {
   "cell_type": "code",
   "execution_count": 16,
   "id": "35a009d6-219f-4255-84d4-19af1f33ca83",
   "metadata": {},
   "outputs": [
    {
     "data": {
      "text/plain": [
       "dtype('int32')"
      ]
     },
     "execution_count": 16,
     "metadata": {},
     "output_type": "execute_result"
    }
   ],
   "source": [
    "trials_new.dtype"
   ]
  },
  {
   "cell_type": "code",
   "execution_count": 17,
   "id": "1b2dfb18-168d-43b7-bc42-000713418adf",
   "metadata": {},
   "outputs": [
    {
     "data": {
      "text/plain": [
       "array([[12, 11, 21, 24]])"
      ]
     },
     "execution_count": 17,
     "metadata": {},
     "output_type": "execute_result"
    }
   ],
   "source": [
    "trials_new[1:]"
   ]
  },
  {
   "cell_type": "code",
   "execution_count": 18,
   "id": "f65ef0fe-7336-406b-8993-fdefaa8a9018",
   "metadata": {},
   "outputs": [
    {
     "data": {
      "text/plain": [
       "array([[10, 15, 17, 24],\n",
       "       [12, 11, 21, 24]])"
      ]
     },
     "execution_count": 18,
     "metadata": {},
     "output_type": "execute_result"
    }
   ],
   "source": [
    "trials_new[:]"
   ]
  },
  {
   "cell_type": "code",
   "execution_count": 19,
   "id": "0f6e776e-0be7-4ebb-a3b4-6039911eb604",
   "metadata": {},
   "outputs": [
    {
     "data": {
      "text/plain": [
       "array([10, 12])"
      ]
     },
     "execution_count": 19,
     "metadata": {},
     "output_type": "execute_result"
    }
   ],
   "source": [
    "trials_new[:,0]"
   ]
  },
  {
   "cell_type": "code",
   "execution_count": 20,
   "id": "76eea8cb-66ff-4fb6-b3e4-8f7d0625093d",
   "metadata": {},
   "outputs": [
    {
     "data": {
      "text/plain": [
       "array([[15, 17],\n",
       "       [11, 21]])"
      ]
     },
     "execution_count": 20,
     "metadata": {},
     "output_type": "execute_result"
    }
   ],
   "source": [
    "trials_new[:,1:3]"
   ]
  },
  {
   "cell_type": "code",
   "execution_count": 21,
   "id": "7c26cd8d-ac99-450b-b518-86ebd7a0ab9b",
   "metadata": {},
   "outputs": [
    {
     "data": {
      "text/plain": [
       "(2, 2)"
      ]
     },
     "execution_count": 21,
     "metadata": {},
     "output_type": "execute_result"
    }
   ],
   "source": [
    "trials_new[:,1:3].shape"
   ]
  },
  {
   "cell_type": "code",
   "execution_count": 22,
   "id": "f225ea1a-f5fa-4da0-8a45-bbc9bff0325c",
   "metadata": {},
   "outputs": [
    {
     "name": "stdout",
     "output_type": "stream",
     "text": [
      "12 [12 11 21 24]\n",
      "11 [12 11 21 24]\n",
      "21 [12 11 21 24]\n",
      "24 [12 11 21 24]\n"
     ]
    }
   ],
   "source": [
    "for n in trials_new[1:]:\n",
    "    for j in n:\n",
    "         print(j,n)"
   ]
  },
  {
   "cell_type": "code",
   "execution_count": 23,
   "id": "87453798-d448-4a47-9143-2b800df82289",
   "metadata": {},
   "outputs": [
    {
     "name": "stdout",
     "output_type": "stream",
     "text": [
      "[10 15 17 24]\n",
      "[12 11 21 24]\n"
     ]
    }
   ],
   "source": [
    "for n in trials_new:\n",
    "    print(n)"
   ]
  },
  {
   "cell_type": "code",
   "execution_count": 24,
   "id": "9ff8688c-e7cd-4b35-848a-39ef236206d8",
   "metadata": {},
   "outputs": [
    {
     "name": "stdout",
     "output_type": "stream",
     "text": [
      "10 [10 15 17 24]\n",
      "15 [10 15 17 24]\n",
      "17 [10 15 17 24]\n",
      "24 [10 15 17 24]\n",
      "12 [12 11 21 24]\n",
      "11 [12 11 21 24]\n",
      "21 [12 11 21 24]\n",
      "24 [12 11 21 24]\n"
     ]
    }
   ],
   "source": [
    "for n in trials_new:\n",
    "    for j in n:\n",
    "         print(j,n)"
   ]
  },
  {
   "cell_type": "code",
   "execution_count": 25,
   "id": "f4b14543-9603-43ee-ac93-fa3a7e9ae2cc",
   "metadata": {},
   "outputs": [],
   "source": [
    "trials_sel = trials_new>17"
   ]
  },
  {
   "cell_type": "code",
   "execution_count": 26,
   "id": "77186e04-8b64-470c-bd0d-ec6f33dcb15a",
   "metadata": {},
   "outputs": [
    {
     "name": "stdout",
     "output_type": "stream",
     "text": [
      "[[False False False  True]\n",
      " [False False  True  True]]\n"
     ]
    }
   ],
   "source": [
    "print(trials_sel)"
   ]
  },
  {
   "cell_type": "code",
   "execution_count": 27,
   "id": "ba6d4032-6a86-4f42-95be-babeb611c430",
   "metadata": {},
   "outputs": [],
   "source": [
    "trials_self = trials_new[trials_sel]"
   ]
  },
  {
   "cell_type": "code",
   "execution_count": 28,
   "id": "ab8330a4-55d7-45db-b7d2-29545ed0d667",
   "metadata": {},
   "outputs": [
    {
     "data": {
      "text/plain": [
       "array([24, 21, 24])"
      ]
     },
     "execution_count": 28,
     "metadata": {},
     "output_type": "execute_result"
    }
   ],
   "source": [
    "trials_self"
   ]
  },
  {
   "cell_type": "markdown",
   "id": "f9569ca8-4b31-4682-9e59-fc3a066a1251",
   "metadata": {},
   "source": [
    "## Broadcasting"
   ]
  },
  {
   "cell_type": "code",
   "execution_count": 3,
   "id": "423e6201-6003-4456-9d07-a42360feb1ac",
   "metadata": {},
   "outputs": [],
   "source": [
    "import numpy as np\n",
    "array_a = np.array([2,34,5,8])\n",
    "array_b = np.array([.3,.3,.3,.3])"
   ]
  },
  {
   "cell_type": "code",
   "execution_count": 4,
   "id": "8a2b663d-5c6b-48c4-aedb-a227760a7cb3",
   "metadata": {},
   "outputs": [
    {
     "name": "stdout",
     "output_type": "stream",
     "text": [
      "[ 0.6 10.2  1.5  2.4]\n"
     ]
    }
   ],
   "source": [
    "result = array_a * array_b\n",
    "print(result)"
   ]
  },
  {
   "cell_type": "code",
   "execution_count": 5,
   "id": "382cc4ef-3067-4ebb-992b-df5fee266db8",
   "metadata": {},
   "outputs": [],
   "source": [
    "#variable with a scalar value\n",
    "scalar_c = 0.3"
   ]
  },
  {
   "cell_type": "code",
   "execution_count": 6,
   "id": "01bd9b85-759e-4080-82b9-cc9651b25331",
   "metadata": {},
   "outputs": [
    {
     "name": "stdout",
     "output_type": "stream",
     "text": [
      "[ 0.6 10.2  1.5  2.4]\n"
     ]
    }
   ],
   "source": [
    "#multiple array with scalar value\n",
    "result2 = array_a * scalar_c\n",
    "print(result2)"
   ]
  },
  {
   "cell_type": "markdown",
   "id": "7e5cbc15-4be3-479e-ac81-946871af3f93",
   "metadata": {},
   "source": [
    "## Problem 3"
   ]
  },
  {
   "cell_type": "code",
   "execution_count": 34,
   "id": "dc9f2c9d-1b95-458d-91aa-c8a43e71f283",
   "metadata": {},
   "outputs": [],
   "source": [
    "countries = np.array(['luxembourg','Norway','Japan','Switzerland','USA'])\n",
    "gdp_per_capita = np.array([52056.1234,40345.4565,45456.78564,33245.56782,34544.45888])"
   ]
  },
  {
   "cell_type": "code",
   "execution_count": 35,
   "id": "ab4e354d-22a5-432b-85c9-8b2a46a4a2ed",
   "metadata": {},
   "outputs": [
    {
     "name": "stdout",
     "output_type": "stream",
     "text": [
      "0\n"
     ]
    }
   ],
   "source": [
    "#max gdp per capita (shows index position)\n",
    "max_gdp_per_capita = gdp_per_capita.argmax()\n",
    "print(max_gdp_per_capita)"
   ]
  },
  {
   "cell_type": "code",
   "execution_count": 36,
   "id": "2c51736d-4a21-4f17-9434-f0d3357147d6",
   "metadata": {},
   "outputs": [
    {
     "name": "stdout",
     "output_type": "stream",
     "text": [
      "luxembourg\n"
     ]
    }
   ],
   "source": [
    "country_with_max_gdp_per_capita = countries[max_gdp_per_capita]\n",
    "print(country_with_max_gdp_per_capita)"
   ]
  },
  {
   "cell_type": "code",
   "execution_count": 37,
   "id": "d5c65b79-450f-4700-9edf-ca9b2731c9fd",
   "metadata": {},
   "outputs": [
    {
     "name": "stdout",
     "output_type": "stream",
     "text": [
      "3\n"
     ]
    }
   ],
   "source": [
    "min_gdp_per_capital = gdp_per_capita.argmin()\n",
    "print(min_gdp_per_capital)"
   ]
  },
  {
   "cell_type": "code",
   "execution_count": 38,
   "id": "8fa9cd49-0217-4b8a-b54b-df7cc71eed10",
   "metadata": {},
   "outputs": [
    {
     "name": "stdout",
     "output_type": "stream",
     "text": [
      "Switzerland\n"
     ]
    }
   ],
   "source": [
    "country_with_min_gdp_per_capita = countries[min_gdp_per_capital]\n",
    "print(country_with_min_gdp_per_capita)\n"
   ]
  },
  {
   "cell_type": "code",
   "execution_count": 39,
   "id": "14820c59-7467-4e73-b998-4c5a2fe90802",
   "metadata": {},
   "outputs": [
    {
     "name": "stdout",
     "output_type": "stream",
     "text": [
      "ecalculating country luxembourg\n",
      "ecalculating country Norway\n",
      "ecalculating country Japan\n",
      "ecalculating country Switzerland\n",
      "ecalculating country USA\n"
     ]
    }
   ],
   "source": [
    "#printing values iteratively\n",
    "for country in countries:\n",
    "    print('ecalculating country {}'.format(country))"
   ]
  },
  {
   "cell_type": "code",
   "execution_count": 40,
   "id": "e712c60c-0ff6-49ff-9831-1644a2b63079",
   "metadata": {},
   "outputs": [
    {
     "name": "stdout",
     "output_type": "stream",
     "text": [
      "country luxembourg per capita gdp is 52056.1234\n",
      "country Norway per capita gdp is 40345.4565\n",
      "country Japan per capita gdp is 45456.78564\n",
      "country Switzerland per capita gdp is 33245.56782\n"
     ]
    }
   ],
   "source": [
    "#using formating\n",
    "for i in range(0,len(countries)-1):\n",
    "    country = countries[i]\n",
    "    country_gdp_per_capita = gdp_per_capita[i]\n",
    "    print('country {} per capita gdp is {}'.format(country,country_gdp_per_capita))"
   ]
  },
  {
   "cell_type": "code",
   "execution_count": 41,
   "id": "c4684e29-fe1a-4aa8-b51f-ae0fc442dc22",
   "metadata": {},
   "outputs": [
    {
     "name": "stdout",
     "output_type": "stream",
     "text": [
      "52056.1234\n",
      "33245.56782\n",
      "41129.678448\n",
      "6989.282898226141\n"
     ]
    }
   ],
   "source": [
    "print(gdp_per_capita.max())\n",
    "print(gdp_per_capita.min())\n",
    "print(gdp_per_capita.mean())\n",
    "print(gdp_per_capita.std())"
   ]
  },
  {
   "cell_type": "code",
   "execution_count": 7,
   "id": "9909503f-364e-4032-9c90-f2a29cd00b33",
   "metadata": {},
   "outputs": [],
   "source": [
    "#Using other functions\n",
    "marks = np.array([[23,34,45,56],[23,23,34,67]])"
   ]
  },
  {
   "cell_type": "code",
   "execution_count": 8,
   "id": "70dca26e-391f-49dd-adf6-ad4e1c514689",
   "metadata": {},
   "outputs": [
    {
     "data": {
      "text/plain": [
       "array([[23, 34, 45, 56],\n",
       "       [23, 23, 34, 67]])"
      ]
     },
     "execution_count": 8,
     "metadata": {},
     "output_type": "execute_result"
    }
   ],
   "source": [
    "marks"
   ]
  },
  {
   "cell_type": "code",
   "execution_count": 9,
   "id": "945c68a5-47af-4156-8370-17c1f78499e8",
   "metadata": {},
   "outputs": [
    {
     "data": {
      "text/plain": [
       "array([[23, 23],\n",
       "       [34, 23],\n",
       "       [45, 34],\n",
       "       [56, 67]])"
      ]
     },
     "execution_count": 9,
     "metadata": {},
     "output_type": "execute_result"
    }
   ],
   "source": [
    "marks.transpose()"
   ]
  },
  {
   "cell_type": "code",
   "execution_count": 10,
   "id": "eb76d950-7847-4859-a1ef-0eab16597d76",
   "metadata": {},
   "outputs": [
    {
     "data": {
      "text/plain": [
       "array([[23, 34],\n",
       "       [45, 56],\n",
       "       [23, 23],\n",
       "       [34, 67]])"
      ]
     },
     "execution_count": 10,
     "metadata": {},
     "output_type": "execute_result"
    }
   ],
   "source": [
    "marks.reshape(4,2)"
   ]
  },
  {
   "cell_type": "code",
   "execution_count": 46,
   "id": "5790d1d5-fc52-49fc-b201-6b883cec665d",
   "metadata": {},
   "outputs": [
    {
     "data": {
      "text/plain": [
       "array([[23, 34, 45, 56],\n",
       "       [23, 23, 34, 67]])"
      ]
     },
     "execution_count": 46,
     "metadata": {},
     "output_type": "execute_result"
    }
   ],
   "source": [
    "marks"
   ]
  },
  {
   "cell_type": "code",
   "execution_count": 47,
   "id": "3f3ff2f5-9348-4378-8e56-be38c9baacdd",
   "metadata": {},
   "outputs": [
    {
     "ename": "LinAlgError",
     "evalue": "Last 2 dimensions of the array must be square",
     "output_type": "error",
     "traceback": [
      "\u001b[1;31m---------------------------------------------------------------------------\u001b[0m",
      "\u001b[1;31mLinAlgError\u001b[0m                               Traceback (most recent call last)",
      "Cell \u001b[1;32mIn[47], line 2\u001b[0m\n\u001b[0;32m      1\u001b[0m \u001b[38;5;28;01mfrom\u001b[39;00m \u001b[38;5;21;01mnumpy\u001b[39;00m \u001b[38;5;28;01mimport\u001b[39;00m linalg\n\u001b[1;32m----> 2\u001b[0m \u001b[43mnp\u001b[49m\u001b[38;5;241;43m.\u001b[39;49m\u001b[43mlinalg\u001b[49m\u001b[38;5;241;43m.\u001b[39;49m\u001b[43minv\u001b[49m\u001b[43m(\u001b[49m\u001b[43mmarks\u001b[49m\u001b[43m)\u001b[49m\n",
      "File \u001b[1;32m<__array_function__ internals>:200\u001b[0m, in \u001b[0;36minv\u001b[1;34m(*args, **kwargs)\u001b[0m\n",
      "File \u001b[1;32mc:\\users\\ajay\\appdata\\local\\programs\\python\\python38\\lib\\site-packages\\numpy\\linalg\\linalg.py:533\u001b[0m, in \u001b[0;36minv\u001b[1;34m(a)\u001b[0m\n\u001b[0;32m    531\u001b[0m a, wrap \u001b[38;5;241m=\u001b[39m _makearray(a)\n\u001b[0;32m    532\u001b[0m _assert_stacked_2d(a)\n\u001b[1;32m--> 533\u001b[0m \u001b[43m_assert_stacked_square\u001b[49m\u001b[43m(\u001b[49m\u001b[43ma\u001b[49m\u001b[43m)\u001b[49m\n\u001b[0;32m    534\u001b[0m t, result_t \u001b[38;5;241m=\u001b[39m _commonType(a)\n\u001b[0;32m    536\u001b[0m signature \u001b[38;5;241m=\u001b[39m \u001b[38;5;124m'\u001b[39m\u001b[38;5;124mD->D\u001b[39m\u001b[38;5;124m'\u001b[39m \u001b[38;5;28;01mif\u001b[39;00m isComplexType(t) \u001b[38;5;28;01melse\u001b[39;00m \u001b[38;5;124m'\u001b[39m\u001b[38;5;124md->d\u001b[39m\u001b[38;5;124m'\u001b[39m\n",
      "File \u001b[1;32mc:\\users\\ajay\\appdata\\local\\programs\\python\\python38\\lib\\site-packages\\numpy\\linalg\\linalg.py:190\u001b[0m, in \u001b[0;36m_assert_stacked_square\u001b[1;34m(*arrays)\u001b[0m\n\u001b[0;32m    188\u001b[0m m, n \u001b[38;5;241m=\u001b[39m a\u001b[38;5;241m.\u001b[39mshape[\u001b[38;5;241m-\u001b[39m\u001b[38;5;241m2\u001b[39m:]\n\u001b[0;32m    189\u001b[0m \u001b[38;5;28;01mif\u001b[39;00m m \u001b[38;5;241m!=\u001b[39m n:\n\u001b[1;32m--> 190\u001b[0m     \u001b[38;5;28;01mraise\u001b[39;00m LinAlgError(\u001b[38;5;124m'\u001b[39m\u001b[38;5;124mLast 2 dimensions of the array must be square\u001b[39m\u001b[38;5;124m'\u001b[39m)\n",
      "\u001b[1;31mLinAlgError\u001b[0m: Last 2 dimensions of the array must be square"
     ]
    }
   ],
   "source": [
    "from numpy import linalg\n",
    "np.linalg.inv(marks)"
   ]
  },
  {
   "cell_type": "code",
   "execution_count": 48,
   "id": "1031d193-60e0-4dd9-8abd-9599fd01bb8d",
   "metadata": {},
   "outputs": [],
   "source": [
    "marks = np.array([[23,34],[23,23]])"
   ]
  },
  {
   "cell_type": "code",
   "execution_count": 49,
   "id": "0c64a191-de9e-4e2e-bc73-d955146d60b0",
   "metadata": {},
   "outputs": [
    {
     "data": {
      "text/plain": [
       "array([[-0.09090909,  0.13438735],\n",
       "       [ 0.09090909, -0.09090909]])"
      ]
     },
     "execution_count": 49,
     "metadata": {},
     "output_type": "execute_result"
    }
   ],
   "source": [
    "from numpy import linalg\n",
    "np.linalg.inv(marks)"
   ]
  },
  {
   "cell_type": "code",
   "execution_count": 50,
   "id": "ebee36e8-abfd-40cf-86a5-1e9b6bf0e9f7",
   "metadata": {},
   "outputs": [
    {
     "data": {
      "text/plain": [
       "46"
      ]
     },
     "execution_count": 50,
     "metadata": {},
     "output_type": "execute_result"
    }
   ],
   "source": [
    "np.trace(marks)"
   ]
  },
  {
   "cell_type": "markdown",
   "id": "834a4f8b-ba88-45a6-9abd-c862ded8e687",
   "metadata": {},
   "source": [
    "## SciPy"
   ]
  },
  {
   "cell_type": "code",
   "execution_count": 1,
   "id": "81567e7d-87f1-4b6f-bc4f-5f652a091a3b",
   "metadata": {},
   "outputs": [],
   "source": [
    "import numpy as np\n",
    "from scipy.integrate import quad"
   ]
  },
  {
   "cell_type": "code",
   "execution_count": 2,
   "id": "d228cfb4-3a1a-4e9f-92fa-5bef56a47896",
   "metadata": {},
   "outputs": [],
   "source": [
    "def integrateFunction(x):\n",
    "    return x"
   ]
  },
  {
   "cell_type": "code",
   "execution_count": 3,
   "id": "89492477-cd92-4144-9c65-dedcc59c9385",
   "metadata": {},
   "outputs": [
    {
     "data": {
      "text/plain": [
       "(0.5, 5.551115123125783e-15)"
      ]
     },
     "execution_count": 3,
     "metadata": {},
     "output_type": "execute_result"
    }
   ],
   "source": [
    "quad(integrateFunction,0,1)"
   ]
  },
  {
   "cell_type": "code",
   "execution_count": 4,
   "id": "c43e1e43-7f47-4779-a507-c08897666006",
   "metadata": {},
   "outputs": [],
   "source": [
    "def integrateFn(x,a,b):\n",
    "    return x*a+b"
   ]
  },
  {
   "cell_type": "code",
   "execution_count": 5,
   "id": "6076235a-a326-4012-83d0-531a3cb05239",
   "metadata": {},
   "outputs": [],
   "source": [
    "a = 3\n",
    "b = 2"
   ]
  },
  {
   "cell_type": "code",
   "execution_count": 6,
   "id": "ce020ccc-01af-4f26-a641-df334bc652f2",
   "metadata": {},
   "outputs": [
    {
     "data": {
      "text/plain": [
       "(3.5, 3.885780586188048e-14)"
      ]
     },
     "execution_count": 6,
     "metadata": {},
     "output_type": "execute_result"
    }
   ],
   "source": [
    "quad(integrateFn,0,1,args=(a,b))"
   ]
  },
  {
   "cell_type": "code",
   "execution_count": 7,
   "id": "f337be4a-e092-480b-80ce-2eef37af3b66",
   "metadata": {},
   "outputs": [],
   "source": [
    "import scipy.integrate as integrate"
   ]
  },
  {
   "cell_type": "code",
   "execution_count": 9,
   "id": "b59abc26-7be1-4e10-9206-21fda16e8d01",
   "metadata": {},
   "outputs": [],
   "source": [
    "def f(x,y):\n",
    "    return x + y\n",
    "    integrate.dblquad(f,0,1,lambda x: 0, lambda x:2)"
   ]
  },
  {
   "cell_type": "code",
   "execution_count": 10,
   "id": "fbe7efbc-67bd-4e12-b9fa-497e2a860f9c",
   "metadata": {},
   "outputs": [
    {
     "data": {
      "text/plain": [
       "2"
      ]
     },
     "execution_count": 10,
     "metadata": {},
     "output_type": "execute_result"
    }
   ],
   "source": [
    "f(0,2)"
   ]
  },
  {
   "cell_type": "markdown",
   "id": "f509e788-50c3-4bb6-aa7c-bccd9437ca18",
   "metadata": {},
   "source": [
    "**Optimization**"
   ]
  },
  {
   "cell_type": "code",
   "execution_count": 12,
   "id": "f787e1ef-d15c-4373-9875-608fda6bfdff",
   "metadata": {},
   "outputs": [],
   "source": [
    "import numpy as np\n",
    "from scipy import optimize"
   ]
  },
  {
   "cell_type": "code",
   "execution_count": 13,
   "id": "6d53c7dc-ec4c-4ba3-afc4-be03fdee235b",
   "metadata": {},
   "outputs": [],
   "source": [
    "def f(x):\n",
    "    return x**2 + 5*np.sin(x)"
   ]
  },
  {
   "cell_type": "code",
   "execution_count": 15,
   "id": "3dbcef4e-2ce2-4a41-a164-328b2b98ea5c",
   "metadata": {},
   "outputs": [
    {
     "name": "stdout",
     "output_type": "stream",
     "text": [
      "Optimization terminated successfully.\n",
      "         Current function value: -3.246394\n",
      "         Iterations: 5\n",
      "         Function evaluations: 18\n",
      "         Gradient evaluations: 9\n"
     ]
    }
   ],
   "source": [
    "minimaValue = optimize.minimize(f,x0=2,method='bfgs', options={'disp': True})"
   ]
  },
  {
   "cell_type": "code",
   "execution_count": 16,
   "id": "0280ce17-5dc1-41d5-bf9b-f14859193337",
   "metadata": {},
   "outputs": [],
   "source": [
    "minimaValueWithoutOpt = optimize.minimize(f,x0=2,method='bfgs')"
   ]
  },
  {
   "cell_type": "code",
   "execution_count": 17,
   "id": "855af271-8389-4bd7-9e1d-cab7b34f3c61",
   "metadata": {},
   "outputs": [
    {
     "data": {
      "text/plain": [
       "  message: Optimization terminated successfully.\n",
       "  success: True\n",
       "   status: 0\n",
       "      fun: -3.2463942726915196\n",
       "        x: [-1.111e+00]\n",
       "      nit: 5\n",
       "      jac: [-4.470e-07]\n",
       " hess_inv: [[ 1.545e-01]]\n",
       "     nfev: 18\n",
       "     njev: 9"
      ]
     },
     "execution_count": 17,
     "metadata": {},
     "output_type": "execute_result"
    }
   ],
   "source": [
    "minimaValueWithoutOpt"
   ]
  },
  {
   "cell_type": "markdown",
   "id": "39400b25-a36a-4d30-b9a5-0c7b126856b2",
   "metadata": {},
   "source": [
    "__Another example"
   ]
  },
  {
   "cell_type": "code",
   "execution_count": 18,
   "id": "2a42292c-fbbc-40d0-8f8e-28c8237c67e8",
   "metadata": {},
   "outputs": [],
   "source": [
    "from scipy.optimize import root"
   ]
  },
  {
   "cell_type": "code",
   "execution_count": 19,
   "id": "56583f2e-793c-4655-a7f7-d7291f311b7b",
   "metadata": {},
   "outputs": [],
   "source": [
    "def rootfunc(x):\n",
    "    return x + 3.5 * np.cos(x)"
   ]
  },
  {
   "cell_type": "code",
   "execution_count": 20,
   "id": "d9ee7fa4-86e7-4183-8914-408a983b5c26",
   "metadata": {},
   "outputs": [],
   "source": [
    "rootValue = root(rootfunc, 0.3)"
   ]
  },
  {
   "cell_type": "code",
   "execution_count": 21,
   "id": "c176f8c1-08c3-41e9-b907-34a10f53a913",
   "metadata": {},
   "outputs": [
    {
     "data": {
      "text/plain": [
       " message: The solution converged.\n",
       " success: True\n",
       "  status: 1\n",
       "     fun: [ 0.000e+00]\n",
       "       x: [-1.216e+00]\n",
       "    nfev: 14\n",
       "    fjac: [[-1.000e+00]]\n",
       "       r: [-4.282e+00]\n",
       "     qtf: [-8.329e-13]"
      ]
     },
     "execution_count": 21,
     "metadata": {},
     "output_type": "execute_result"
    }
   ],
   "source": [
    "rootValue"
   ]
  },
  {
   "cell_type": "markdown",
   "id": "26852a56-2785-4b85-aed9-4f9d187a3513",
   "metadata": {},
   "source": [
    "**linalg**"
   ]
  },
  {
   "cell_type": "code",
   "execution_count": 22,
   "id": "971f4cf2-e45f-474a-9c33-d0f7a8ca04c5",
   "metadata": {},
   "outputs": [],
   "source": [
    "#Linear algebra\n",
    "from scipy import linalg"
   ]
  },
  {
   "cell_type": "code",
   "execution_count": 24,
   "id": "8eec052f-3b6a-445f-8190-422f5b143ee2",
   "metadata": {},
   "outputs": [],
   "source": [
    "matrix = np.array([[10,6],[2,7]])"
   ]
  },
  {
   "cell_type": "code",
   "execution_count": 25,
   "id": "c9080cac-c915-485c-b892-fd845f76505b",
   "metadata": {},
   "outputs": [
    {
     "data": {
      "text/plain": [
       "array([[10,  6],\n",
       "       [ 2,  7]])"
      ]
     },
     "execution_count": 25,
     "metadata": {},
     "output_type": "execute_result"
    }
   ],
   "source": [
    "matrix"
   ]
  },
  {
   "cell_type": "code",
   "execution_count": 26,
   "id": "cd8cb4dd-a340-4cbc-b59f-5cf47e58f1a3",
   "metadata": {},
   "outputs": [
    {
     "data": {
      "text/plain": [
       "numpy.ndarray"
      ]
     },
     "execution_count": 26,
     "metadata": {},
     "output_type": "execute_result"
    }
   ],
   "source": [
    "type(matrix)"
   ]
  },
  {
   "cell_type": "code",
   "execution_count": 27,
   "id": "a55a475a-885b-4cf3-b10c-d3e7df77c7e7",
   "metadata": {},
   "outputs": [
    {
     "data": {
      "text/plain": [
       "array([[ 0.12068966, -0.10344828],\n",
       "       [-0.03448276,  0.17241379]])"
      ]
     },
     "execution_count": 27,
     "metadata": {},
     "output_type": "execute_result"
    }
   ],
   "source": [
    "linalg.inv(matrix)"
   ]
  },
  {
   "cell_type": "code",
   "execution_count": 28,
   "id": "f4e1c68b-42c6-4da0-9fc9-fc9200334b23",
   "metadata": {},
   "outputs": [],
   "source": [
    "matrix = np.array([[4,9],[3,5]])"
   ]
  },
  {
   "cell_type": "code",
   "execution_count": 30,
   "id": "3887f5d7-43df-40f9-8099-b075929d645c",
   "metadata": {},
   "outputs": [
    {
     "data": {
      "text/plain": [
       "-6.999999999999999"
      ]
     },
     "execution_count": 30,
     "metadata": {},
     "output_type": "execute_result"
    }
   ],
   "source": [
    "linalg.det(matrix)"
   ]
  },
  {
   "cell_type": "code",
   "execution_count": 31,
   "id": "a97b4485-f7ce-4d33-bda7-467b742c8496",
   "metadata": {},
   "outputs": [],
   "source": [
    "numArray = np.array([[2,3,1],[-1,5,4],[3,2,9]])"
   ]
  },
  {
   "cell_type": "code",
   "execution_count": 32,
   "id": "a7864b7a-8449-431a-adfb-76cf7a5f57e8",
   "metadata": {},
   "outputs": [],
   "source": [
    "numArrValue = np.array([21,9,6])"
   ]
  },
  {
   "cell_type": "code",
   "execution_count": 33,
   "id": "689913d0-ce89-4b6b-91dc-f3f3313446fc",
   "metadata": {},
   "outputs": [
    {
     "data": {
      "text/plain": [
       "array([ 4.95,  4.35, -1.95])"
      ]
     },
     "execution_count": 33,
     "metadata": {},
     "output_type": "execute_result"
    }
   ],
   "source": [
    "linalg.solve(numArray,numArrValue)"
   ]
  },
  {
   "cell_type": "markdown",
   "id": "4f24dc2a-ea6b-46db-ab10-38c45be17864",
   "metadata": {},
   "source": [
    "__Another example"
   ]
  },
  {
   "cell_type": "code",
   "execution_count": 35,
   "id": "6b41948b-e80f-42b1-a0c9-3248557117ac",
   "metadata": {},
   "outputs": [],
   "source": [
    "numSvdArr = np.array([[3,5,1],[9,5,7]])"
   ]
  },
  {
   "cell_type": "code",
   "execution_count": 36,
   "id": "3a09d1be-5e67-46b8-8376-1a00bc7e43b5",
   "metadata": {},
   "outputs": [
    {
     "data": {
      "text/plain": [
       "(2, 3)"
      ]
     },
     "execution_count": 36,
     "metadata": {},
     "output_type": "execute_result"
    }
   ],
   "source": [
    "numSvdArr.shape"
   ]
  },
  {
   "cell_type": "code",
   "execution_count": 37,
   "id": "462d6cc0-e0bc-4320-ba8e-ebd98e70a207",
   "metadata": {},
   "outputs": [
    {
     "data": {
      "text/plain": [
       "(array([[-0.37879831, -0.92547925],\n",
       "        [-0.92547925,  0.37879831]]),\n",
       " array([13.38464336,  3.29413449]),\n",
       " array([[-0.7072066 , -0.4872291 , -0.51231496],\n",
       "        [ 0.19208294, -0.82977932,  0.52399467],\n",
       "        [-0.68041382,  0.27216553,  0.68041382]]))"
      ]
     },
     "execution_count": 37,
     "metadata": {},
     "output_type": "execute_result"
    }
   ],
   "source": [
    "linalg.svd(numSvdArr)"
   ]
  },
  {
   "cell_type": "markdown",
   "id": "95e12c57-9e53-4101-8c0f-478418e775ed",
   "metadata": {},
   "source": [
    "**Statistics**"
   ]
  },
  {
   "cell_type": "code",
   "execution_count": 38,
   "id": "b6a9a810-97b7-43ca-b55b-59897b641563",
   "metadata": {},
   "outputs": [],
   "source": [
    "from scipy.stats import norm"
   ]
  },
  {
   "cell_type": "code",
   "execution_count": 39,
   "id": "89097f4a-ad6f-4f52-9b90-3dab8f62b0bb",
   "metadata": {},
   "outputs": [
    {
     "data": {
      "text/plain": [
       "array([-0.8293302 , -0.66200263, -0.92709841,  2.15202888, -2.04392342,\n",
       "        0.35101175, -0.01326101,  1.32203626,  1.13741918,  1.37192395])"
      ]
     },
     "execution_count": 39,
     "metadata": {},
     "output_type": "execute_result"
    }
   ],
   "source": [
    "norm.rvs(loc=0,scale=1,size=10)"
   ]
  },
  {
   "cell_type": "code",
   "execution_count": 40,
   "id": "62c4a3ed-cdc4-414e-8f56-f181a443e6a2",
   "metadata": {},
   "outputs": [
    {
     "data": {
      "text/plain": [
       "0.9772498680518208"
      ]
     },
     "execution_count": 40,
     "metadata": {},
     "output_type": "execute_result"
    }
   ],
   "source": [
    "norm.cdf(5,loc=1,scale=2)"
   ]
  },
  {
   "cell_type": "code",
   "execution_count": 41,
   "id": "94c2cc5e-817a-4bea-91ae-6b6c0d908a8b",
   "metadata": {},
   "outputs": [
    {
     "data": {
      "text/plain": [
       "1.0279773571668917e-18"
      ]
     },
     "execution_count": 41,
     "metadata": {},
     "output_type": "execute_result"
    }
   ],
   "source": [
    "norm.pdf(9,loc=0,scale=1)"
   ]
  },
  {
   "cell_type": "code",
   "execution_count": 42,
   "id": "8043c05c-cbbb-4d89-8bc8-d9620e79b13d",
   "metadata": {},
   "outputs": [],
   "source": [
    "#loc and scale are used to adjust the location and scale of the data distribution"
   ]
  },
  {
   "cell_type": "code",
   "execution_count": 44,
   "id": "e421090b-41c5-4bc0-a8f1-0c5e439e7e8f",
   "metadata": {},
   "outputs": [],
   "source": [
    "import scipy.io as sio"
   ]
  },
  {
   "cell_type": "code",
   "execution_count": 50,
   "id": "724e12c7-f0ca-401c-8f2c-224b35cd8706",
   "metadata": {},
   "outputs": [],
   "source": [
    "mldata = sio.loadmat('../../Datasets/lena.mat')"
   ]
  },
  {
   "cell_type": "code",
   "execution_count": 51,
   "id": "01bad594-7186-421e-b9c5-f08e0e6f5ca6",
   "metadata": {},
   "outputs": [
    {
     "data": {
      "text/plain": [
       "dict"
      ]
     },
     "execution_count": 51,
     "metadata": {},
     "output_type": "execute_result"
    }
   ],
   "source": [
    "type(mldata)"
   ]
  },
  {
   "cell_type": "code",
   "execution_count": 52,
   "id": "8f5e360d-b249-4011-b733-3d0fdeffe757",
   "metadata": {},
   "outputs": [
    {
     "data": {
      "text/plain": [
       "{'__header__': b'MATLAB 5.0 MAT-file, Platform: GLNX86, Created on: Wed Feb 20 11:29:14 2002',\n",
       " '__version__': '1.0',\n",
       " '__globals__': [],\n",
       " 'lena512': array([[162, 162, 162, ..., 170, 155, 128],\n",
       "        [162, 162, 162, ..., 170, 155, 128],\n",
       "        [162, 162, 162, ..., 170, 155, 128],\n",
       "        ...,\n",
       "        [ 43,  43,  50, ..., 104, 100,  98],\n",
       "        [ 44,  44,  55, ..., 104, 105, 108],\n",
       "        [ 44,  44,  55, ..., 104, 105, 108]], dtype=uint8)}"
      ]
     },
     "execution_count": 52,
     "metadata": {},
     "output_type": "execute_result"
    }
   ],
   "source": [
    "mldata"
   ]
  },
  {
   "cell_type": "code",
   "execution_count": 53,
   "id": "6d88358a-ea7c-47e3-924a-ab953bdc0be9",
   "metadata": {},
   "outputs": [],
   "source": [
    "lena_a = mldata['lena512']"
   ]
  },
  {
   "cell_type": "code",
   "execution_count": 54,
   "id": "2e9f0256-cf5a-4017-9faa-76446d0c218a",
   "metadata": {},
   "outputs": [
    {
     "data": {
      "text/plain": [
       "array([[162, 162, 162, ..., 170, 155, 128],\n",
       "       [162, 162, 162, ..., 170, 155, 128],\n",
       "       [162, 162, 162, ..., 170, 155, 128],\n",
       "       ...,\n",
       "       [ 43,  43,  50, ..., 104, 100,  98],\n",
       "       [ 44,  44,  55, ..., 104, 105, 108],\n",
       "       [ 44,  44,  55, ..., 104, 105, 108]], dtype=uint8)"
      ]
     },
     "execution_count": 54,
     "metadata": {},
     "output_type": "execute_result"
    }
   ],
   "source": [
    "lena_a"
   ]
  },
  {
   "cell_type": "code",
   "execution_count": 55,
   "id": "84910425-c2b2-44b8-a698-742ae1781f3f",
   "metadata": {},
   "outputs": [
    {
     "data": {
      "text/plain": [
       "(512, 512)"
      ]
     },
     "execution_count": 55,
     "metadata": {},
     "output_type": "execute_result"
    }
   ],
   "source": [
    "lena_a.shape"
   ]
  },
  {
   "cell_type": "markdown",
   "id": "6102d2b0-2a9e-4b41-bcdc-6400d8b36dbf",
   "metadata": {},
   "source": [
    "__Another example"
   ]
  },
  {
   "cell_type": "code",
   "execution_count": 63,
   "id": "0aae0f89-bf9f-4020-8181-496341bce2e5",
   "metadata": {},
   "outputs": [],
   "source": [
    "vect = np.arange(10)"
   ]
  },
  {
   "cell_type": "code",
   "execution_count": 64,
   "id": "908f61b8-ebad-49f6-a7ef-05185351bbb9",
   "metadata": {},
   "outputs": [
    {
     "data": {
      "text/plain": [
       "(10,)"
      ]
     },
     "execution_count": 64,
     "metadata": {},
     "output_type": "execute_result"
    }
   ],
   "source": [
    "vect.shape"
   ]
  },
  {
   "cell_type": "code",
   "execution_count": 65,
   "id": "f3e33785-65bc-4eff-923f-bfc7efc1951e",
   "metadata": {},
   "outputs": [],
   "source": [
    "sio.savemat('np_vector.mat', {'vect':vect})"
   ]
  },
  {
   "cell_type": "code",
   "execution_count": 66,
   "id": "190304d1-8a94-441c-87b6-a203fe9aeec0",
   "metadata": {},
   "outputs": [],
   "source": [
    "vcdata = sio.loadmat('np_vector.mat')"
   ]
  },
  {
   "cell_type": "code",
   "execution_count": 67,
   "id": "4d33de3a-1a0d-45b8-a2a6-deeb8f36e4cb",
   "metadata": {},
   "outputs": [
    {
     "data": {
      "text/plain": [
       "{'__header__': b'MATLAB 5.0 MAT-file Platform: nt, Created on: Wed Sep 18 07:58:33 2024',\n",
       " '__version__': '1.0',\n",
       " '__globals__': [],\n",
       " 'vect': array([[0, 1, 2, 3, 4, 5, 6, 7, 8, 9]])}"
      ]
     },
     "execution_count": 67,
     "metadata": {},
     "output_type": "execute_result"
    }
   ],
   "source": [
    "vcdata"
   ]
  },
  {
   "cell_type": "code",
   "execution_count": 70,
   "id": "add0ac5f-7f19-45b8-99bf-e26535181b2c",
   "metadata": {},
   "outputs": [],
   "source": [
    "vector_a = vcdata['vect']"
   ]
  },
  {
   "cell_type": "code",
   "execution_count": 71,
   "id": "f630fe59-895b-4d78-83f3-6ec3153e6637",
   "metadata": {},
   "outputs": [
    {
     "data": {
      "text/plain": [
       "10"
      ]
     },
     "execution_count": 71,
     "metadata": {},
     "output_type": "execute_result"
    }
   ],
   "source": [
    "vector_a.size"
   ]
  },
  {
   "cell_type": "code",
   "execution_count": 72,
   "id": "4c7c9b16-563e-4afc-959c-799926d23cbf",
   "metadata": {},
   "outputs": [
    {
     "data": {
      "text/plain": [
       "(1, 10)"
      ]
     },
     "execution_count": 72,
     "metadata": {},
     "output_type": "execute_result"
    }
   ],
   "source": [
    "vector_a.shape"
   ]
  },
  {
   "cell_type": "code",
   "execution_count": null,
   "id": "103d86a8-2492-4a60-865d-6e54d808f1a7",
   "metadata": {},
   "outputs": [],
   "source": []
  }
 ],
 "metadata": {
  "kernelspec": {
   "display_name": "Python 3 (ipykernel)",
   "language": "python",
   "name": "python3"
  },
  "language_info": {
   "codemirror_mode": {
    "name": "ipython",
    "version": 3
   },
   "file_extension": ".py",
   "mimetype": "text/x-python",
   "name": "python",
   "nbconvert_exporter": "python",
   "pygments_lexer": "ipython3",
   "version": "3.8.2rc2"
  }
 },
 "nbformat": 4,
 "nbformat_minor": 5
}
