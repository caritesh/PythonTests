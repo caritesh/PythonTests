{
 "cells": [
  {
   "cell_type": "markdown",
   "metadata": {
    "id": "5BKRkDolpKCf"
   },
   "source": [
    "## __Importing and Exporting Data in Python__\n",
    "\n",
    " We'll cover the following methods in pandas:\n",
    "1. Writing JSON\n",
    "2. Reading JSON\n",
    "3. Writing Excel\n",
    "4. Reading Excel\n",
    "5. Writing gzip files\n",
    "6. Reading gzip files\n",
    "\n",
    "## Step 1: Import Pandas"
   ]
  },
  {
   "cell_type": "code",
   "execution_count": 1,
   "metadata": {
    "id": "zWqq488FpKCi"
   },
   "outputs": [],
   "source": [
    "import pandas as pd"
   ]
  },
  {
   "cell_type": "markdown",
   "metadata": {
    "id": "q8pw7X9opgyS"
   },
   "source": [
    "## Step 2: Read the CSV File\n",
    "\n",
    "- Read the CSV file using the pd.read_csv() function:\n"
   ]
  },
  {
   "cell_type": "code",
   "execution_count": 2,
   "metadata": {
    "id": "HZoC7bk5pKCj"
   },
   "outputs": [],
   "source": [
    "df = pd.read_csv('../../Datasets/Sample_dataO.csv')"
   ]
  },
  {
   "cell_type": "markdown",
   "metadata": {
    "id": "UmYgtiKTpjJg"
   },
   "source": [
    "## Step 3: Display the First Few Rows\n",
    "\n",
    "- Display the first few rows of the DataFrame using the .head() method:\n"
   ]
  },
  {
   "cell_type": "code",
   "execution_count": 3,
   "metadata": {
    "id": "4jf0WJpGpKCj",
    "outputId": "d9fdae7f-88da-4cf4-bc15-8aaf2a70362a"
   },
   "outputs": [
    {
     "data": {
      "text/html": [
       "<div>\n",
       "<style scoped>\n",
       "    .dataframe tbody tr th:only-of-type {\n",
       "        vertical-align: middle;\n",
       "    }\n",
       "\n",
       "    .dataframe tbody tr th {\n",
       "        vertical-align: top;\n",
       "    }\n",
       "\n",
       "    .dataframe thead th {\n",
       "        text-align: right;\n",
       "    }\n",
       "</style>\n",
       "<table border=\"1\" class=\"dataframe\">\n",
       "  <thead>\n",
       "    <tr style=\"text-align: right;\">\n",
       "      <th></th>\n",
       "      <th>name</th>\n",
       "      <th>age</th>\n",
       "      <th>location</th>\n",
       "      <th>phpref</th>\n",
       "    </tr>\n",
       "  </thead>\n",
       "  <tbody>\n",
       "    <tr>\n",
       "      <th>0</th>\n",
       "      <td>john</td>\n",
       "      <td>35</td>\n",
       "      <td>germany</td>\n",
       "      <td>iphone</td>\n",
       "    </tr>\n",
       "    <tr>\n",
       "      <th>1</th>\n",
       "      <td>mary</td>\n",
       "      <td>23</td>\n",
       "      <td>france</td>\n",
       "      <td>motorola</td>\n",
       "    </tr>\n",
       "    <tr>\n",
       "      <th>2</th>\n",
       "      <td>johnie</td>\n",
       "      <td>40</td>\n",
       "      <td>germany</td>\n",
       "      <td>samsung</td>\n",
       "    </tr>\n",
       "    <tr>\n",
       "      <th>3</th>\n",
       "      <td>Aarbhiii</td>\n",
       "      <td>27</td>\n",
       "      <td>italy</td>\n",
       "      <td>iphone</td>\n",
       "    </tr>\n",
       "    <tr>\n",
       "      <th>4</th>\n",
       "      <td>Gane</td>\n",
       "      <td>20</td>\n",
       "      <td>Romania</td>\n",
       "      <td>sony</td>\n",
       "    </tr>\n",
       "  </tbody>\n",
       "</table>\n",
       "</div>"
      ],
      "text/plain": [
       "       name  age location    phpref\n",
       "0      john   35  germany    iphone\n",
       "1      mary   23   france  motorola\n",
       "2    johnie   40  germany   samsung\n",
       "3  Aarbhiii   27    italy    iphone\n",
       "4      Gane   20  Romania      sony"
      ]
     },
     "execution_count": 3,
     "metadata": {},
     "output_type": "execute_result"
    }
   ],
   "source": [
    "df.head()"
   ]
  },
  {
   "cell_type": "markdown",
   "metadata": {
    "id": "Vzm49tplibF2"
   },
   "source": [
    "__Observation__\n",
    "\n",
    "- These are the contents of the CSV file.\n"
   ]
  },
  {
   "cell_type": "markdown",
   "metadata": {
    "id": "B0XUxdJbpmnV"
   },
   "source": [
    "## Step 4: Write a JSON File\n",
    "\n",
    "- Write the DataFrame to a JSON file using the .to_json() method:\n"
   ]
  },
  {
   "cell_type": "code",
   "execution_count": 5,
   "metadata": {
    "id": "uFw1fkpxpKCk"
   },
   "outputs": [],
   "source": [
    "df.to_json('Sample_dataO_json.json')"
   ]
  },
  {
   "cell_type": "markdown",
   "metadata": {
    "id": "Ye_Xv4T-po5Y"
   },
   "source": [
    "## Step 5: Read the JSON File\n",
    "\n",
    "- Read the JSON file using the pd.read_json() function:\n"
   ]
  },
  {
   "cell_type": "code",
   "execution_count": 4,
   "metadata": {
    "id": "MHVUCddupKCk"
   },
   "outputs": [],
   "source": [
    "df = pd.read_json('Sample_dataO_json.json')"
   ]
  },
  {
   "cell_type": "markdown",
   "metadata": {
    "id": "VZ57fuIEptBv"
   },
   "source": [
    "## Step 6: Display the DataFrame\n",
    "\n",
    "- Display the DataFrame:\n"
   ]
  },
  {
   "cell_type": "code",
   "execution_count": 5,
   "metadata": {
    "id": "0p7m1SXJpKCk",
    "outputId": "2320711e-a865-4c5e-b9a5-e8b3e60e6724"
   },
   "outputs": [
    {
     "data": {
      "text/html": [
       "<div>\n",
       "<style scoped>\n",
       "    .dataframe tbody tr th:only-of-type {\n",
       "        vertical-align: middle;\n",
       "    }\n",
       "\n",
       "    .dataframe tbody tr th {\n",
       "        vertical-align: top;\n",
       "    }\n",
       "\n",
       "    .dataframe thead th {\n",
       "        text-align: right;\n",
       "    }\n",
       "</style>\n",
       "<table border=\"1\" class=\"dataframe\">\n",
       "  <thead>\n",
       "    <tr style=\"text-align: right;\">\n",
       "      <th></th>\n",
       "      <th>name</th>\n",
       "      <th>age</th>\n",
       "      <th>location</th>\n",
       "      <th>phpref</th>\n",
       "    </tr>\n",
       "  </thead>\n",
       "  <tbody>\n",
       "    <tr>\n",
       "      <th>0</th>\n",
       "      <td>john</td>\n",
       "      <td>35</td>\n",
       "      <td>germany</td>\n",
       "      <td>iphone</td>\n",
       "    </tr>\n",
       "    <tr>\n",
       "      <th>1</th>\n",
       "      <td>mary</td>\n",
       "      <td>23</td>\n",
       "      <td>france</td>\n",
       "      <td>motorola</td>\n",
       "    </tr>\n",
       "    <tr>\n",
       "      <th>2</th>\n",
       "      <td>johnie</td>\n",
       "      <td>40</td>\n",
       "      <td>germany</td>\n",
       "      <td>samsung</td>\n",
       "    </tr>\n",
       "    <tr>\n",
       "      <th>3</th>\n",
       "      <td>Aarbhiii</td>\n",
       "      <td>27</td>\n",
       "      <td>italy</td>\n",
       "      <td>iphone</td>\n",
       "    </tr>\n",
       "    <tr>\n",
       "      <th>4</th>\n",
       "      <td>Gane</td>\n",
       "      <td>20</td>\n",
       "      <td>Romania</td>\n",
       "      <td>sony</td>\n",
       "    </tr>\n",
       "    <tr>\n",
       "      <th>5</th>\n",
       "      <td>Aarbhiii</td>\n",
       "      <td>27</td>\n",
       "      <td>italy</td>\n",
       "      <td>iphone</td>\n",
       "    </tr>\n",
       "  </tbody>\n",
       "</table>\n",
       "</div>"
      ],
      "text/plain": [
       "       name  age location    phpref\n",
       "0      john   35  germany    iphone\n",
       "1      mary   23   france  motorola\n",
       "2    johnie   40  germany   samsung\n",
       "3  Aarbhiii   27    italy    iphone\n",
       "4      Gane   20  Romania      sony\n",
       "5  Aarbhiii   27    italy    iphone"
      ]
     },
     "execution_count": 5,
     "metadata": {},
     "output_type": "execute_result"
    }
   ],
   "source": [
    "df"
   ]
  },
  {
   "cell_type": "markdown",
   "metadata": {
    "id": "_kjgxD_QpwTs"
   },
   "source": [
    "## Step 7: Write to an Excel File\n",
    "\n",
    "- Write the DataFrame to an Excel file using the .to_excel() method:\n"
   ]
  },
  {
   "cell_type": "code",
   "execution_count": 10,
   "metadata": {
    "id": "hjqPczAhpKCl"
   },
   "outputs": [],
   "source": [
    "#pip install openpyxl\n",
    "df.to_excel('Sample_dataO_Excel.xlsx',index = False)"
   ]
  },
  {
   "cell_type": "markdown",
   "metadata": {
    "id": "dxPGJmoypz4V"
   },
   "source": [
    "## Step 8: Read an Excel File\n",
    "\n",
    "- Read the Excel file using the pd.read_excel() function:\n"
   ]
  },
  {
   "cell_type": "code",
   "execution_count": 12,
   "metadata": {
    "id": "NW1r67l1pKCl"
   },
   "outputs": [],
   "source": [
    "df = pd.read_excel('Sample_dataO_Excel.xlsx')"
   ]
  },
  {
   "cell_type": "markdown",
   "metadata": {
    "id": "s78rOrJgp2XG"
   },
   "source": [
    "## Step 9: Display the DataFrame\n",
    "\n",
    "- Display the DataFrame:\n"
   ]
  },
  {
   "cell_type": "code",
   "execution_count": 13,
   "metadata": {
    "id": "ywRmesIxpKCl",
    "outputId": "52549fa7-9e74-4bd9-9168-5b4e0e3c3b13"
   },
   "outputs": [
    {
     "data": {
      "text/html": [
       "<div>\n",
       "<style scoped>\n",
       "    .dataframe tbody tr th:only-of-type {\n",
       "        vertical-align: middle;\n",
       "    }\n",
       "\n",
       "    .dataframe tbody tr th {\n",
       "        vertical-align: top;\n",
       "    }\n",
       "\n",
       "    .dataframe thead th {\n",
       "        text-align: right;\n",
       "    }\n",
       "</style>\n",
       "<table border=\"1\" class=\"dataframe\">\n",
       "  <thead>\n",
       "    <tr style=\"text-align: right;\">\n",
       "      <th></th>\n",
       "      <th>name</th>\n",
       "      <th>age</th>\n",
       "      <th>location</th>\n",
       "      <th>phpref</th>\n",
       "    </tr>\n",
       "  </thead>\n",
       "  <tbody>\n",
       "    <tr>\n",
       "      <th>0</th>\n",
       "      <td>john</td>\n",
       "      <td>35</td>\n",
       "      <td>germany</td>\n",
       "      <td>iphone</td>\n",
       "    </tr>\n",
       "    <tr>\n",
       "      <th>1</th>\n",
       "      <td>mary</td>\n",
       "      <td>23</td>\n",
       "      <td>france</td>\n",
       "      <td>motorola</td>\n",
       "    </tr>\n",
       "    <tr>\n",
       "      <th>2</th>\n",
       "      <td>johnie</td>\n",
       "      <td>40</td>\n",
       "      <td>germany</td>\n",
       "      <td>samsung</td>\n",
       "    </tr>\n",
       "    <tr>\n",
       "      <th>3</th>\n",
       "      <td>Aarbhiii</td>\n",
       "      <td>27</td>\n",
       "      <td>italy</td>\n",
       "      <td>iphone</td>\n",
       "    </tr>\n",
       "    <tr>\n",
       "      <th>4</th>\n",
       "      <td>Gane</td>\n",
       "      <td>20</td>\n",
       "      <td>Romania</td>\n",
       "      <td>sony</td>\n",
       "    </tr>\n",
       "    <tr>\n",
       "      <th>5</th>\n",
       "      <td>Aarbhiii</td>\n",
       "      <td>27</td>\n",
       "      <td>italy</td>\n",
       "      <td>iphone</td>\n",
       "    </tr>\n",
       "  </tbody>\n",
       "</table>\n",
       "</div>"
      ],
      "text/plain": [
       "       name  age location    phpref\n",
       "0      john   35  germany    iphone\n",
       "1      mary   23   france  motorola\n",
       "2    johnie   40  germany   samsung\n",
       "3  Aarbhiii   27    italy    iphone\n",
       "4      Gane   20  Romania      sony\n",
       "5  Aarbhiii   27    italy    iphone"
      ]
     },
     "execution_count": 13,
     "metadata": {},
     "output_type": "execute_result"
    }
   ],
   "source": [
    "df"
   ]
  },
  {
   "cell_type": "markdown",
   "metadata": {
    "id": "vdKWAH7ap7sO"
   },
   "source": [
    "## Step 10: Write to a GZIP File\n",
    "\n",
    "- Write the DataFrame to a GZIP file using the .to_csv() method with **compression=gzip**:\n"
   ]
  },
  {
   "cell_type": "code",
   "execution_count": 14,
   "metadata": {
    "id": "7pz_toulpKCm"
   },
   "outputs": [],
   "source": [
    "df.to_csv('SampleFilegzip.gz',compression='gzip',index = False)"
   ]
  },
  {
   "cell_type": "markdown",
   "metadata": {
    "id": "ZD8iSJVBp_tq"
   },
   "source": [
    "## Step 11: Read the GZIP File\n",
    "\n",
    "- Read the GZIP file using the pd.read_csv() function:\n"
   ]
  },
  {
   "cell_type": "code",
   "execution_count": 15,
   "metadata": {
    "id": "AbAcG0zjpKCm"
   },
   "outputs": [],
   "source": [
    "df = pd.read_csv('SampleFilegzip.gz')"
   ]
  },
  {
   "cell_type": "markdown",
   "metadata": {
    "id": "1SdYG4wxqBj8"
   },
   "source": [
    "## Step 12: Display the DataFrame\n",
    "\n",
    "- Display the DataFrame:\n"
   ]
  },
  {
   "cell_type": "code",
   "execution_count": 16,
   "metadata": {
    "id": "Nxp1PALZpKCm",
    "outputId": "1fce33a0-9ffb-4d76-9bd0-c1c2c8141aa1"
   },
   "outputs": [
    {
     "data": {
      "text/html": [
       "<div>\n",
       "<style scoped>\n",
       "    .dataframe tbody tr th:only-of-type {\n",
       "        vertical-align: middle;\n",
       "    }\n",
       "\n",
       "    .dataframe tbody tr th {\n",
       "        vertical-align: top;\n",
       "    }\n",
       "\n",
       "    .dataframe thead th {\n",
       "        text-align: right;\n",
       "    }\n",
       "</style>\n",
       "<table border=\"1\" class=\"dataframe\">\n",
       "  <thead>\n",
       "    <tr style=\"text-align: right;\">\n",
       "      <th></th>\n",
       "      <th>name</th>\n",
       "      <th>age</th>\n",
       "      <th>location</th>\n",
       "      <th>phpref</th>\n",
       "    </tr>\n",
       "  </thead>\n",
       "  <tbody>\n",
       "    <tr>\n",
       "      <th>0</th>\n",
       "      <td>john</td>\n",
       "      <td>35</td>\n",
       "      <td>germany</td>\n",
       "      <td>iphone</td>\n",
       "    </tr>\n",
       "    <tr>\n",
       "      <th>1</th>\n",
       "      <td>mary</td>\n",
       "      <td>23</td>\n",
       "      <td>france</td>\n",
       "      <td>motorola</td>\n",
       "    </tr>\n",
       "    <tr>\n",
       "      <th>2</th>\n",
       "      <td>johnie</td>\n",
       "      <td>40</td>\n",
       "      <td>germany</td>\n",
       "      <td>samsung</td>\n",
       "    </tr>\n",
       "    <tr>\n",
       "      <th>3</th>\n",
       "      <td>Aarbhiii</td>\n",
       "      <td>27</td>\n",
       "      <td>italy</td>\n",
       "      <td>iphone</td>\n",
       "    </tr>\n",
       "    <tr>\n",
       "      <th>4</th>\n",
       "      <td>Gane</td>\n",
       "      <td>20</td>\n",
       "      <td>Romania</td>\n",
       "      <td>sony</td>\n",
       "    </tr>\n",
       "    <tr>\n",
       "      <th>5</th>\n",
       "      <td>Aarbhiii</td>\n",
       "      <td>27</td>\n",
       "      <td>italy</td>\n",
       "      <td>iphone</td>\n",
       "    </tr>\n",
       "  </tbody>\n",
       "</table>\n",
       "</div>"
      ],
      "text/plain": [
       "       name  age location    phpref\n",
       "0      john   35  germany    iphone\n",
       "1      mary   23   france  motorola\n",
       "2    johnie   40  germany   samsung\n",
       "3  Aarbhiii   27    italy    iphone\n",
       "4      Gane   20  Romania      sony\n",
       "5  Aarbhiii   27    italy    iphone"
      ]
     },
     "execution_count": 16,
     "metadata": {},
     "output_type": "execute_result"
    }
   ],
   "source": [
    "df"
   ]
  },
  {
   "cell_type": "code",
   "execution_count": null,
   "metadata": {},
   "outputs": [],
   "source": []
  }
 ],
 "metadata": {
  "colab": {
   "provenance": []
  },
  "kernelspec": {
   "display_name": "Python 3 (ipykernel)",
   "language": "python",
   "name": "python3"
  },
  "language_info": {
   "codemirror_mode": {
    "name": "ipython",
    "version": 3
   },
   "file_extension": ".py",
   "mimetype": "text/x-python",
   "name": "python",
   "nbconvert_exporter": "python",
   "pygments_lexer": "ipython3",
   "version": "3.8.2rc2"
  }
 },
 "nbformat": 4,
 "nbformat_minor": 4
}
