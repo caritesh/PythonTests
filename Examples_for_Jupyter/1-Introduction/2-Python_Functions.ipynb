{
 "cells": [
  {
   "cell_type": "markdown",
   "metadata": {
    "id": "BlLSAta8NNrL"
   },
   "source": [
    "## __Python Functions__\n",
    "\n",
    "A Python function is a block of reusable, organized code that performs a specific task. It offers better modularity for the application and a high level of code reuse.\n",
    "\n"
   ]
  },
  {
   "cell_type": "markdown",
   "metadata": {
    "id": "ePiPYO7QvkBA"
   },
   "source": [
    "\n",
    "## Step 1: Define Empty Functions \n",
    "\n",
    "- Python functions are defined using the “def” keyword followed by the function name with brackets and a semicolon. \n",
    "- When we press enter, it creates four blocks or four-wide spaces. This is Python's way of indicating that it's a separate block of code.\n",
    " "
   ]
  },
  {
   "cell_type": "code",
   "execution_count": 1,
   "metadata": {
    "id": "ZdoxavoGCnCd"
   },
   "outputs": [],
   "source": [
    "def function_name():\n",
    "    '''\n",
    "    '''"
   ]
  },
  {
   "cell_type": "markdown",
   "metadata": {
    "id": "dbr5RRgKNcD6"
   },
   "source": [
    "## Step 2: Define and Call the HelloWorld() Function\n",
    "Let's create a function to print \"Hello World\".\n",
    "\n",
    "- Use the keyword 'def' followed by \"HelloWorld\" with the brackets and a colon\n",
    "- Use the 'print()' function to print \" Hello world\"\n",
    "\n",
    "\n"
   ]
  },
  {
   "cell_type": "code",
   "execution_count": 2,
   "metadata": {
    "id": "leXcQnbee89q"
   },
   "outputs": [],
   "source": [
    "def HelloWorld():\n",
    "  print('Hello world')"
   ]
  },
  {
   "cell_type": "markdown",
   "metadata": {
    "id": "YhWL8qafhmx_"
   },
   "source": [
    "Once the function is defined, call the function for execution."
   ]
  },
  {
   "cell_type": "code",
   "execution_count": 3,
   "metadata": {
    "colab": {
     "base_uri": "https://localhost:8080/"
    },
    "executionInfo": {
     "elapsed": 5,
     "status": "ok",
     "timestamp": 1683192821626,
     "user": {
      "displayName": "IFFATH ZAKIR",
      "userId": "08841559175934332701"
     },
     "user_tz": -330
    },
    "id": "82fKoM1-hztQ",
    "outputId": "12c13eca-9b75-4fb6-85a7-be754fb9980f"
   },
   "outputs": [
    {
     "name": "stdout",
     "output_type": "stream",
     "text": [
      "Hello world\n"
     ]
    }
   ],
   "source": [
    "HelloWorld()"
   ]
  },
  {
   "cell_type": "markdown",
   "metadata": {
    "id": "6YPwMlEBiJDp"
   },
   "source": [
    "\n",
    "\n",
    "__Observation__ \n",
    "- In order to call the function, we use the function name \"HelloWorld()\" and execute it. It prints \"Hello World\". \n",
    "- Notice that once we call the function \"HelloWorld()\", it goes into the function definition and executes it.\n"
   ]
  },
  {
   "cell_type": "markdown",
   "metadata": {
    "id": "MEA1EIBOiopP"
   },
   "source": [
    "Let’s modify this to 'Hello world, welcome to the company' and re-execute it.\n"
   ]
  },
  {
   "cell_type": "code",
   "execution_count": 4,
   "metadata": {
    "id": "IZJZivpkCnCe"
   },
   "outputs": [],
   "source": [
    "def HelloWorld():\n",
    "    print('Hello world, welcome to the company')"
   ]
  },
  {
   "cell_type": "code",
   "execution_count": null,
   "metadata": {
    "colab": {
     "base_uri": "https://localhost:8080/"
    },
    "executionInfo": {
     "elapsed": 3,
     "status": "ok",
     "timestamp": 1683193404705,
     "user": {
      "displayName": "IFFATH ZAKIR",
      "userId": "08841559175934332701"
     },
     "user_tz": -330
    },
    "id": "xVhlRcUkCnCf",
    "outputId": "0391869a-2e1c-461b-b98b-d0473fa699bb"
   },
   "outputs": [],
   "source": [
    "HelloWorld()"
   ]
  },
  {
   "cell_type": "markdown",
   "metadata": {
    "id": "PCeV4SyXjpjl"
   },
   "source": [
    "__Observation__\n",
    "\n",
    "- We can see that the output has changed. \n",
    "- Note that there are no parameters included."
   ]
  },
  {
   "cell_type": "markdown",
   "metadata": {
    "id": "MQQU-KiONgUI"
   },
   "source": [
    "## Step 3: Types of Functions\n",
    "\n",
    "- User-defined functions: We can create our own functions based on our requirements.\n",
    "- Built-in functions: These are standard functions available in Python.\n",
    "\n",
    "\n",
    "\n"
   ]
  },
  {
   "cell_type": "markdown",
   "metadata": {
    "id": "g1sjUqu5NgEZ"
   },
   "source": [
    "## Example of a Built-In Function\n",
    "- The built-in sum function in Python accepts an iterable, such as a list, tuple, dictionary or set, as an argument, adds the iterable's elements and then returns the sum. "
   ]
  },
  {
   "cell_type": "code",
   "execution_count": 6,
   "metadata": {
    "id": "8suXxpB5NlM5"
   },
   "outputs": [
    {
     "name": "stdout",
     "output_type": "stream",
     "text": [
      "9\n"
     ]
    }
   ],
   "source": [
    "a = (4,5)\n",
    "x = sum(a)\n",
    "print(x)\n"
   ]
  },
  {
   "cell_type": "markdown",
   "metadata": {
    "id": "1WnnxwIDT2nu"
   },
   "source": [
    "__Observation__\n",
    "\n",
    "- The above code prints the value 9."
   ]
  },
  {
   "cell_type": "markdown",
   "metadata": {
    "id": "y-8i1_RgLB3p"
   },
   "source": [
    "## Example of a User-Defined Function\n",
    "- Let's write a small function to add two numbers x and y.\n",
    "- This returns x+y.\n",
    "\n",
    "\n",
    "\n"
   ]
  },
  {
   "cell_type": "code",
   "execution_count": 7,
   "metadata": {
    "id": "eoe23tYPCnCf"
   },
   "outputs": [],
   "source": [
    "def add(x,y):\n",
    "    return x+y"
   ]
  },
  {
   "cell_type": "markdown",
   "metadata": {},
   "source": [
    "__Good Practice__\n",
    "Add a docustring (documentation) to your function, which can later be seen using help() function"
   ]
  },
  {
   "cell_type": "markdown",
   "metadata": {
    "id": "3gX56WTRlEdl"
   },
   "source": [
    "__Observation__ \n",
    "- x and y are the parameters.\n",
    "- The 'return' keyword is used to return the result."
   ]
  },
  {
   "cell_type": "code",
   "execution_count": 8,
   "metadata": {},
   "outputs": [],
   "source": [
    "def add(x,y):\n",
    "    \"\"\"\n",
    "    This function adds two numbers\n",
    "    Returns the sum\n",
    "    \"\"\"\n",
    "    return x+y"
   ]
  },
  {
   "cell_type": "code",
   "execution_count": 9,
   "metadata": {},
   "outputs": [
    {
     "name": "stdout",
     "output_type": "stream",
     "text": [
      "Help on function add in module __main__:\n",
      "\n",
      "add(x, y)\n",
      "    This function adds two numbers\n",
      "    Returns the sum\n",
      "\n"
     ]
    }
   ],
   "source": [
    "help(add)"
   ]
  },
  {
   "cell_type": "markdown",
   "metadata": {
    "id": "VOtYi7gjlgf4"
   },
   "source": [
    "## Step 4: Parameters and Arguments\n",
    "\n",
    "- A parameter is a variable that is specified in the function definition inside parentheses.\n",
    "- The value passed to a function when it is called is known as an argument."
   ]
  },
  {
   "cell_type": "code",
   "execution_count": null,
   "metadata": {
    "colab": {
     "base_uri": "https://localhost:8080/"
    },
    "executionInfo": {
     "elapsed": 462,
     "status": "ok",
     "timestamp": 1682332581798,
     "user": {
      "displayName": "Prerna Karn",
      "userId": "16431587453626938972"
     },
     "user_tz": -330
    },
    "id": "j8u10TAtCnCg",
    "outputId": "461ba01a-3057-4667-8e9a-b4830d322a2d"
   },
   "outputs": [
    {
     "data": {
      "text/plain": [
       "9"
      ]
     },
     "execution_count": 13,
     "metadata": {},
     "output_type": "execute_result"
    }
   ],
   "source": [
    "add(5, 4) "
   ]
  },
  {
   "cell_type": "markdown",
   "metadata": {
    "id": "Ofvt_Sn7M77t"
   },
   "source": [
    "If we execute the above code, it returns the value 9."
   ]
  },
  {
   "cell_type": "markdown",
   "metadata": {
    "id": "JYG9aRIeNnyJ"
   },
   "source": [
    "## Step 5: Check the Type of the 'HelloWorld' Function and 'None' Function\n",
    "\n",
    "- Use the 'type' function to determine the type of the 'HelloWorld' function\n",
    "- Use the 'type' function to determine the type of the 'None' function\n"
   ]
  },
  {
   "cell_type": "code",
   "execution_count": null,
   "metadata": {
    "colab": {
     "base_uri": "https://localhost:8080/"
    },
    "executionInfo": {
     "elapsed": 604,
     "status": "ok",
     "timestamp": 1683197027898,
     "user": {
      "displayName": "IFFATH ZAKIR",
      "userId": "08841559175934332701"
     },
     "user_tz": -330
    },
    "id": "1QE5CTURCnCg",
    "outputId": "f80d0ea9-da95-400d-bbc8-4cf8645196cc"
   },
   "outputs": [
    {
     "data": {
      "text/plain": [
       "function"
      ]
     },
     "execution_count": 19,
     "metadata": {},
     "output_type": "execute_result"
    }
   ],
   "source": [
    "type(HelloWorld)"
   ]
  },
  {
   "cell_type": "code",
   "execution_count": null,
   "metadata": {
    "colab": {
     "base_uri": "https://localhost:8080/"
    },
    "executionInfo": {
     "elapsed": 410,
     "status": "ok",
     "timestamp": 1682332609086,
     "user": {
      "displayName": "Prerna Karn",
      "userId": "16431587453626938972"
     },
     "user_tz": -330
    },
    "id": "krLQ5hf0CnCg",
    "outputId": "2a5eccf9-c793-47d0-cce2-adccae43f16b"
   },
   "outputs": [
    {
     "data": {
      "text/plain": [
       "NoneType"
      ]
     },
     "execution_count": 15,
     "metadata": {},
     "output_type": "execute_result"
    }
   ],
   "source": [
    "type(None)"
   ]
  },
  {
   "cell_type": "markdown",
   "metadata": {
    "id": "vbEwSOOImdTP"
   },
   "source": [
    "'HelloWorld' returns 'function' as the type, and 'None' is a special function in Python that represents the absence of a value."
   ]
  },
  {
   "cell_type": "markdown",
   "metadata": {},
   "source": [
    "## More on Functions"
   ]
  },
  {
   "cell_type": "code",
   "execution_count": 14,
   "metadata": {},
   "outputs": [],
   "source": [
    "#add details"
   ]
  },
  {
   "cell_type": "markdown",
   "metadata": {},
   "source": [
    "## Other inbuilt functions"
   ]
  },
  {
   "cell_type": "markdown",
   "metadata": {},
   "source": [
    "## Using the Map Function"
   ]
  },
  {
   "cell_type": "code",
   "execution_count": 1,
   "metadata": {},
   "outputs": [],
   "source": [
    "#Maps in Python are very useful when you are trying to apply a function to an iterable. map() applies a function to\n",
    "#each item in an iterable and returns a new iterable or a map object. This can then be converted to a list, a tuple \n",
    "#or whichever is suited for our programming.\n"
   ]
  },
  {
   "cell_type": "markdown",
   "metadata": {},
   "source": [
    "Create a list of integers & \n",
    "Create a function squares to compute the squares of a given number"
   ]
  },
  {
   "cell_type": "code",
   "execution_count": 2,
   "metadata": {},
   "outputs": [],
   "source": [
    "l = [1,2,3,4,5]\n",
    "def squares(x):\n",
    "    return x*x"
   ]
  },
  {
   "cell_type": "markdown",
   "metadata": {},
   "source": [
    "Now let's update the list with the squares of the list items using the traditional for loop method. Here we create a function called squares that takes the parameter x square of x. Now, let's apply this to each element with a for loop.\n",
    "\n",
    "Define an empty list to add sqaures\n",
    "Iterate through the list 'l' using for loop\n",
    "Append squares to the updated list"
   ]
  },
  {
   "cell_type": "code",
   "execution_count": 4,
   "metadata": {},
   "outputs": [],
   "source": [
    "updated_list = []\n",
    "for i in l:\n",
    "    updated_list.append(squares(i))"
   ]
  },
  {
   "cell_type": "code",
   "execution_count": 5,
   "metadata": {},
   "outputs": [
    {
     "data": {
      "text/plain": [
       "[1, 4, 9, 16, 25]"
      ]
     },
     "execution_count": 5,
     "metadata": {},
     "output_type": "execute_result"
    }
   ],
   "source": [
    "#Now, let's display the updated list.\n",
    "updated_list"
   ]
  },
  {
   "cell_type": "markdown",
   "metadata": {},
   "source": [
    "**Observation**\n",
    "\n",
    "The updated list has squares of each list item.\n",
    "\n",
    "Now, let's do the same using map function.\n",
    "\n",
    "Declare a variable updated_list, and call the map function with the function name squares and list l as attributes\n",
    "Convert the map object to list, and assign to the updated_list variable"
   ]
  },
  {
   "cell_type": "code",
   "execution_count": 6,
   "metadata": {},
   "outputs": [],
   "source": [
    "updated_list = list(map(squares,l))"
   ]
  },
  {
   "cell_type": "code",
   "execution_count": 7,
   "metadata": {},
   "outputs": [
    {
     "data": {
      "text/plain": [
       "[1, 4, 9, 16, 25]"
      ]
     },
     "execution_count": 7,
     "metadata": {},
     "output_type": "execute_result"
    }
   ],
   "source": [
    "#Let's display the updated list.\n",
    "updated_list"
   ]
  },
  {
   "cell_type": "markdown",
   "metadata": {},
   "source": [
    "**Observation**\n",
    "\n",
    "updated_list contains the squares of list elements.\n",
    "Now, let's check the type of the map object."
   ]
  },
  {
   "cell_type": "code",
   "execution_count": 8,
   "metadata": {},
   "outputs": [
    {
     "data": {
      "text/plain": [
       "map"
      ]
     },
     "execution_count": 8,
     "metadata": {},
     "output_type": "execute_result"
    }
   ],
   "source": [
    "type(map(squares,l))"
   ]
  },
  {
   "cell_type": "markdown",
   "metadata": {},
   "source": [
    "**Observation**\n",
    "\n",
    "The type of the map object is map."
   ]
  },
  {
   "cell_type": "markdown",
   "metadata": {},
   "source": [
    "Now, let's apply the map function to strings and multiple iterables.\n",
    "\n",
    "Define a string s\n",
    "Define a function to return the uppercase of a character\n",
    "Apply the map function to the string defined, and assign it back to the same string\n",
    "Iterate through each character of the string and apply a space using the delimiter end = ' '"
   ]
  },
  {
   "cell_type": "code",
   "execution_count": 9,
   "metadata": {},
   "outputs": [
    {
     "name": "stdout",
     "output_type": "stream",
     "text": [
      "H E L L O   W O R L D "
     ]
    }
   ],
   "source": [
    "s = \"Hello World\"\n",
    "def return_upper(x):\n",
    "    return x.upper()\n",
    "s = map(return_upper,s)\n",
    "for i in s:\n",
    "    print(i,end = ' ')"
   ]
  },
  {
   "cell_type": "markdown",
   "metadata": {},
   "source": [
    "In the above example, we have defined a function to convert all the characters to uppercase. We can avoid this by using the lambda function. Now, let's use the lambda function to convert the characters into uppercase.\n",
    "\n",
    "Define a string s\n",
    "Call the map function with attributes lambda and function uppercase applied to it and string s"
   ]
  },
  {
   "cell_type": "code",
   "execution_count": 10,
   "metadata": {},
   "outputs": [],
   "source": [
    "s = \" Hello World \"\n",
    "s = map(lambda x: x.upper(),s)"
   ]
  },
  {
   "cell_type": "code",
   "execution_count": 11,
   "metadata": {},
   "outputs": [
    {
     "name": "stdout",
     "output_type": "stream",
     "text": [
      "  H E L L O   W O R L D   "
     ]
    }
   ],
   "source": [
    "#Now, let's display the updated string.\n",
    "for i in s:\n",
    "    print(i,end = ' ')"
   ]
  },
  {
   "cell_type": "markdown",
   "metadata": {},
   "source": [
    "**Observation**\n",
    "\n",
    "All characters in the string are now in uppercase."
   ]
  },
  {
   "cell_type": "markdown",
   "metadata": {},
   "source": [
    "Now, let's see how to convert multiple strings into uppercase.\n",
    "\n",
    "Create a variable for updated strings\n",
    "Call map function with lambda with expression x maps to x's uppercase and the strings"
   ]
  },
  {
   "cell_type": "markdown",
   "metadata": {},
   "source": [
    "__Lambda and List Comprehension in Python\n",
    "In Python, Lambda is a small, anonymous function without a name, and it can take many arguments, but it can have only one expression.\n",
    "\n",
    "Let's see the syntax of lambda:\n",
    "Syntax: lambda arguments: expression\n",
    "\n",
    "Lambda is useful when it is required for a short period of time."
   ]
  },
  {
   "cell_type": "code",
   "execution_count": 1,
   "metadata": {},
   "outputs": [],
   "source": [
    "s1 = 'Hello World'\n",
    "s2 = 'Welcome to Simplclass'\n",
    "updated_strings = map(lambda x:x.upper(),[s1,s2])"
   ]
  },
  {
   "cell_type": "code",
   "execution_count": 2,
   "metadata": {},
   "outputs": [
    {
     "name": "stdout",
     "output_type": "stream",
     "text": [
      "HELLO WORLD\n",
      "WELCOME TO SIMPLCLASS\n"
     ]
    }
   ],
   "source": [
    "#Now, let's display the updated string.\n",
    "for i in updated_strings:\n",
    "    print(i)"
   ]
  },
  {
   "cell_type": "markdown",
   "metadata": {},
   "source": [
    "Observation\n",
    "\n",
    "The characters of both the strings are in uppercase now."
   ]
  },
  {
   "cell_type": "code",
   "execution_count": 3,
   "metadata": {},
   "outputs": [],
   "source": [
    "#Using filter() and lambda()\n",
    "names = ['john','marie','joe','meer','chris']"
   ]
  },
  {
   "cell_type": "code",
   "execution_count": 5,
   "metadata": {},
   "outputs": [],
   "source": [
    "#k,v pair\n",
    "nameskv = list(map(lambda n: (n[0],n),names))"
   ]
  },
  {
   "cell_type": "code",
   "execution_count": 6,
   "metadata": {},
   "outputs": [
    {
     "data": {
      "text/plain": [
       "[('j', 'john'), ('m', 'marie'), ('j', 'joe'), ('m', 'meer'), ('c', 'chris')]"
      ]
     },
     "execution_count": 6,
     "metadata": {},
     "output_type": "execute_result"
    }
   ],
   "source": [
    "nameskv"
   ]
  },
  {
   "cell_type": "code",
   "execution_count": 10,
   "metadata": {},
   "outputs": [],
   "source": [
    "filtred_data = list(map(lambda n: n[0] in ('a','j'),names))"
   ]
  },
  {
   "cell_type": "code",
   "execution_count": 11,
   "metadata": {},
   "outputs": [
    {
     "data": {
      "text/plain": [
       "[True, False, True, False, False]"
      ]
     },
     "execution_count": 11,
     "metadata": {},
     "output_type": "execute_result"
    }
   ],
   "source": [
    "filtred_data"
   ]
  },
  {
   "cell_type": "code",
   "execution_count": 12,
   "metadata": {},
   "outputs": [],
   "source": [
    "filtred_data2 = list(filter(lambda n: n[0] in ('a','j'),names))"
   ]
  },
  {
   "cell_type": "code",
   "execution_count": 13,
   "metadata": {},
   "outputs": [
    {
     "data": {
      "text/plain": [
       "['john', 'joe']"
      ]
     },
     "execution_count": 13,
     "metadata": {},
     "output_type": "execute_result"
    }
   ],
   "source": [
    "filtred_data2"
   ]
  },
  {
   "cell_type": "code",
   "execution_count": 20,
   "metadata": {},
   "outputs": [],
   "source": [
    "def newfunc(x: int, y:int):\n",
    "    return x*y"
   ]
  },
  {
   "cell_type": "code",
   "execution_count": 21,
   "metadata": {},
   "outputs": [
    {
     "data": {
      "text/plain": [
       "0.0"
      ]
     },
     "execution_count": 21,
     "metadata": {},
     "output_type": "execute_result"
    }
   ],
   "source": [
    "newfunc(0,3.5)"
   ]
  },
  {
   "cell_type": "code",
   "execution_count": 23,
   "metadata": {},
   "outputs": [
    {
     "data": {
      "text/plain": [
       "100"
      ]
     },
     "execution_count": 23,
     "metadata": {},
     "output_type": "execute_result"
    }
   ],
   "source": [
    "newfunc(100,1)"
   ]
  },
  {
   "cell_type": "code",
   "execution_count": 26,
   "metadata": {},
   "outputs": [],
   "source": [
    "def newfunc2(x: int, y:int):\n",
    "    return x+y"
   ]
  },
  {
   "cell_type": "code",
   "execution_count": 27,
   "metadata": {},
   "outputs": [
    {
     "data": {
      "text/plain": [
       "'winter'"
      ]
     },
     "execution_count": 27,
     "metadata": {},
     "output_type": "execute_result"
    }
   ],
   "source": [
    "newfunc('win','ter')"
   ]
  },
  {
   "cell_type": "code",
   "execution_count": 28,
   "metadata": {},
   "outputs": [],
   "source": [
    "def newfunc3(x,y=10):\n",
    "    if x>10:\n",
    "        return x*y\n",
    "    else:\n",
    "        print('x shud be provided more than 10')"
   ]
  },
  {
   "cell_type": "code",
   "execution_count": 30,
   "metadata": {},
   "outputs": [
    {
     "name": "stdout",
     "output_type": "stream",
     "text": [
      "x shud be provided more than 10\n"
     ]
    }
   ],
   "source": [
    "newfunc3(9,2)"
   ]
  },
  {
   "cell_type": "code",
   "execution_count": 32,
   "metadata": {},
   "outputs": [
    {
     "data": {
      "text/plain": [
       "110"
      ]
     },
     "execution_count": 32,
     "metadata": {},
     "output_type": "execute_result"
    }
   ],
   "source": [
    "newfunc3(11)"
   ]
  },
  {
   "cell_type": "code",
   "execution_count": 40,
   "metadata": {},
   "outputs": [],
   "source": [
    "def calculateTotalSum(*args):\n",
    "    totalSum = 0\n",
    "    for number in args:\n",
    "        totalSum += number\n",
    "    print(totalSum)"
   ]
  },
  {
   "cell_type": "code",
   "execution_count": 41,
   "metadata": {},
   "outputs": [
    {
     "name": "stdout",
     "output_type": "stream",
     "text": [
      "6\n"
     ]
    }
   ],
   "source": [
    "calculateTotalSum(1,2,3)"
   ]
  },
  {
   "cell_type": "code",
   "execution_count": 43,
   "metadata": {},
   "outputs": [
    {
     "name": "stdout",
     "output_type": "stream",
     "text": [
      "128\n"
     ]
    }
   ],
   "source": [
    "calculateTotalSum(1,2,4,5,7,9,100)"
   ]
  },
  {
   "cell_type": "code",
   "execution_count": 44,
   "metadata": {},
   "outputs": [
    {
     "name": "stdout",
     "output_type": "stream",
     "text": [
      "('argument1', 'welcome')\n",
      "('argument2', 4)\n",
      "('argument3', 'guys!')\n"
     ]
    }
   ],
   "source": [
    "# variable number of keyword arguments passed\n",
    "\n",
    "# function definition\n",
    "def displayArgument(**args): \n",
    "    for arg in args.items():\n",
    "        print(arg)\n",
    "\n",
    "# function call\n",
    "displayArgument(argument1 =\"welcome\", argument2 = 4,\n",
    "                argument3 =\"guys!\")"
   ]
  },
  {
   "cell_type": "code",
   "execution_count": null,
   "metadata": {},
   "outputs": [],
   "source": []
  }
 ],
 "metadata": {
  "colab": {
   "collapsed_sections": [
    "BlLSAta8NNrL",
    "MQQU-KiONgUI"
   ],
   "provenance": []
  },
  "kernelspec": {
   "display_name": "Python 3 (ipykernel)",
   "language": "python",
   "name": "python3"
  },
  "language_info": {
   "codemirror_mode": {
    "name": "ipython",
    "version": 3
   },
   "file_extension": ".py",
   "mimetype": "text/x-python",
   "name": "python",
   "nbconvert_exporter": "python",
   "pygments_lexer": "ipython3",
   "version": "3.8.2rc2"
  }
 },
 "nbformat": 4,
 "nbformat_minor": 4
}
