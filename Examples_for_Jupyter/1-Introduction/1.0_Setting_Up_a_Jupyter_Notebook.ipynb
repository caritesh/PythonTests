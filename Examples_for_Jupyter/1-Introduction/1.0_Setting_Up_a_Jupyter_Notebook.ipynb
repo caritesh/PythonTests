{
 "cells": [
  {
   "cell_type": "markdown",
   "metadata": {
    "id": "hpV4LTshOxd_"
   },
   "source": [
    "## __Setting Up a Jupyter Notebook: \n"
   ]
  },
  {
   "cell_type": "markdown",
   "metadata": {
    "id": "k4Q9UUbv5ldm"
   },
   "source": [
    "## Step 1: Importing Library : Pandas, Numpy etc.\n",
    "- Import the pandas & numpy library, and give it an alias for ease of use\n",
    "\n"
   ]
  },
  {
   "cell_type": "code",
   "execution_count": 3,
   "metadata": {},
   "outputs": [],
   "source": [
    "import pandas as pd\n",
    "import numpy as np"
   ]
  },
  {
   "cell_type": "markdown",
   "metadata": {},
   "source": [
    "## Customizing notebook"
   ]
  },
  {
   "cell_type": "markdown",
   "metadata": {
    "id": "csBxKdDAmYzE"
   },
   "source": [
    "Now, let's learn to rename the notebook.\n",
    "- Click on file\n",
    "- Click on rename notebook\n",
    "\n",
    "In case the kernel is stuck or if you run into an infinite loop, you can restart the kernel: \n",
    "- Click on kernel\n",
    "- Click on restart the kernel\n",
    "\n",
    "__Note__: There are also other options that you can explore. Jupyter notebooks offer a range of options for us to write Markdown and LaTeX code.\n",
    "- Markdown acts as textual explanations or descriptions for your code.\n",
    "- You can type plain text and mathematical symbols in Markdown cells as it supports regular LaTeX notation as well. \n"
   ]
  },
  {
   "cell_type": "markdown",
   "metadata": {
    "id": "_DJR1a6jO2c9"
   },
   "source": [
    "##Step 2: Markdown Headings and Lists\n",
    "\n",
    "In order to write Markdown codes:\n",
    "- Click on code\n",
    "- Click on Markdown\n",
    "\n",
    "Then, type the code in Markdown. We can use special symbols and tags to execute Markdown code and HTML can also be rendered.\n",
    "\n",
    "- Markdown syntax is used to create headings and lists.\n",
    "\n",
    "- The '#' character is used for headings, '-' character for unstructed lists and \"1,2,3,..\" for ordered lists.\n",
    "\n",
    "__Note__: '#' is used for header 1 (title), '##' for header 2 (major headings), '###' for header 3 (subheadings) and so on. This can go on until header 6.\n",
    "\n",
    "Let's see various header and list formats.\n"
   ]
  },
  {
   "cell_type": "markdown",
   "metadata": {
    "id": "unKw_x8rhlZ8"
   },
   "source": [
    "# Heading 1\n",
    "## Heading 2\n",
    "### Heading 3\n",
    "\n",
    "1. List 1\n",
    "2. List 2\n",
    "3. List 3\n",
    "\n",
    "- List 1\n",
    "- List 2\n",
    "- List 3"
   ]
  },
  {
   "cell_type": "markdown",
   "metadata": {
    "id": "5bcP43S4Pbha"
   },
   "source": [
    "##Step 3: Markdown Equations\n",
    "\n",
    "Now, let's look at LaTeX. It is really important and useful when we are trying to depict mathematical formulas.\n",
    "\n",
    "We can also create LaTeX by enclosing the text within the '$' symbol.\n",
    "\n",
    "- Use the '$' symbol for inline equations and '$$' for block of equations.\n",
    "\n",
    "\n",
    "- These equations are not executed as code; they are simply displayed as formatted text when the code is run.\n",
    "\n",
    "Let's see some examples of these.\n"
   ]
  },
  {
   "cell_type": "markdown",
   "metadata": {
    "id": "fCw3nPWlhS00"
   },
   "source": [
    "1. Inline equation with exponent:"
   ]
  },
  {
   "cell_type": "markdown",
   "metadata": {
    "id": "j23Gc9gF5ldr"
   },
   "source": [
    "$ x^2 $"
   ]
  },
  {
   "cell_type": "markdown",
   "metadata": {
    "id": "nb7D_c_qhMYt"
   },
   "source": [
    "2. Block of equation with exponent:"
   ]
  },
  {
   "cell_type": "markdown",
   "metadata": {
    "id": "4v-dpykD5ldr"
   },
   "source": [
    "$$ e^{i \\pi} + 1 = 0 $$"
   ]
  },
  {
   "cell_type": "markdown",
   "metadata": {
    "id": "qzQcM_mQhEgD"
   },
   "source": [
    "3. Block of equation with various mathematical expressions:"
   ]
  },
  {
   "cell_type": "markdown",
   "metadata": {
    "id": "80DFJIf95lds"
   },
   "source": [
    "$$\n",
    "\\frac{arg1}{arg2} \\\\\n",
    "x^2 \\\\\n",
    "A_i \\\\\n",
    "B_{ij} \\\\\n",
    "\\sqrt[n]{arg1}\n",
    "$$"
   ]
  }
 ],
 "metadata": {
  "colab": {
   "provenance": []
  },
  "kernelspec": {
   "display_name": "Python 3 (ipykernel)",
   "language": "python",
   "name": "python3"
  },
  "language_info": {
   "codemirror_mode": {
    "name": "ipython",
    "version": 3
   },
   "file_extension": ".py",
   "mimetype": "text/x-python",
   "name": "python",
   "nbconvert_exporter": "python",
   "pygments_lexer": "ipython3",
   "version": "3.8.2rc2"
  }
 },
 "nbformat": 4,
 "nbformat_minor": 4
}
