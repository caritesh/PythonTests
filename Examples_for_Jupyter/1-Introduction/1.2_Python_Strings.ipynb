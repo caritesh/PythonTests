{
 "cells": [
  {
   "cell_type": "markdown",
   "metadata": {
    "id": "JZsxHQGJncDC"
   },
   "source": [
    "## __Python Strings__"
   ]
  },
  {
   "cell_type": "markdown",
   "metadata": {
    "id": "ePu1ycIGKrnK"
   },
   "source": [
    "##Step 1: Define and Print the Strings\n",
    "\n",
    "- Strings are a collection of characters\n",
    "- To define a string, enclose the set of characters inside double or single quotes\n",
    "\n",
    "Now, let's assign the string to a variable and print it.\n",
    "\n",
    "\n"
   ]
  },
  {
   "cell_type": "code",
   "execution_count": 1,
   "metadata": {
    "colab": {
     "base_uri": "https://localhost:8080/"
    },
    "executionInfo": {
     "elapsed": 516,
     "status": "ok",
     "timestamp": 1683219716467,
     "user": {
      "displayName": "IFFATH ZAKIR",
      "userId": "08841559175934332701"
     },
     "user_tz": -330
    },
    "id": "DpWfiHnIHdHJ",
    "outputId": "9ddbf536-c83e-45e0-a1f9-06d45fd4b971"
   },
   "outputs": [
    {
     "name": "stdout",
     "output_type": "stream",
     "text": [
      "Hello\n",
      "Hello\n"
     ]
    }
   ],
   "source": [
    "s = 'Hello'\n",
    "str = \"Hello\"\n",
    "print(s)\n",
    "print(str)"
   ]
  },
  {
   "cell_type": "markdown",
   "metadata": {
    "id": "mhnSvnaKn_VO"
   },
   "source": [
    "**Observation** \n",
    "\n",
    "Here, both Hello in single quotes and Hello in double quotes are same."
   ]
  },
  {
   "cell_type": "markdown",
   "metadata": {
    "id": "ezj8xD1vlxcL"
   },
   "source": [
    "- To define a multi-line string, enclose the string inside three double quotes or three single quotes\n",
    "\n",
    "Now, let's assign the multi-line string to a variable and print it."
   ]
  },
  {
   "cell_type": "code",
   "execution_count": 2,
   "metadata": {
    "id": "V6AnnTO5HdHL"
   },
   "outputs": [],
   "source": [
    "s = '''Hello \n",
    "this is a multiline string'''"
   ]
  },
  {
   "cell_type": "code",
   "execution_count": null,
   "metadata": {
    "colab": {
     "base_uri": "https://localhost:8080/"
    },
    "executionInfo": {
     "elapsed": 4,
     "status": "ok",
     "timestamp": 1683219721280,
     "user": {
      "displayName": "IFFATH ZAKIR",
      "userId": "08841559175934332701"
     },
     "user_tz": -330
    },
    "id": "54QZyVH2HdHL",
    "outputId": "2b23ccb4-c633-4f8a-e0c1-6cb81451cb97"
   },
   "outputs": [
    {
     "name": "stdout",
     "output_type": "stream",
     "text": [
      "Hello \n",
      "this is a multiline string\n"
     ]
    }
   ],
   "source": [
    "print(s)"
   ]
  },
  {
   "cell_type": "markdown",
   "metadata": {
    "id": "ceMKK3b9jVPj"
   },
   "source": [
    "**Observation** \n",
    "\n",
    "'this is a multiline string' is printed."
   ]
  },
  {
   "cell_type": "markdown",
   "metadata": {
    "id": "yPLu5PGBKxJh"
   },
   "source": [
    "##Step 2: String Length and Indexing\n",
    "\n",
    "- Python does not include character data type \n",
    "- A character is a string with a length of 1\n",
    "- Use the 'len' function to find the length of the string\n",
    "- String indices start from zero and go up to n-1 and can be accessed using the index number\n",
    "- Access individual characters in a string using positive and negative indexing\n",
    "\n",
    "Let's assign the string 'a' to a variable and find the length of the string.\n",
    "\n"
   ]
  },
  {
   "cell_type": "code",
   "execution_count": 3,
   "metadata": {
    "id": "42_SdyyPHdHM"
   },
   "outputs": [],
   "source": [
    "s = 'a'"
   ]
  },
  {
   "cell_type": "code",
   "execution_count": 4,
   "metadata": {
    "colab": {
     "base_uri": "https://localhost:8080/"
    },
    "executionInfo": {
     "elapsed": 2,
     "status": "ok",
     "timestamp": 1683219726448,
     "user": {
      "displayName": "IFFATH ZAKIR",
      "userId": "08841559175934332701"
     },
     "user_tz": -330
    },
    "id": "rkHy30wKHdHM",
    "outputId": "25281adc-7133-4258-8a26-3128a427a9d7"
   },
   "outputs": [
    {
     "data": {
      "text/plain": [
       "1"
      ]
     },
     "execution_count": 4,
     "metadata": {},
     "output_type": "execute_result"
    }
   ],
   "source": [
    "len(s)"
   ]
  },
  {
   "cell_type": "markdown",
   "metadata": {
    "id": "d38DuryqqdiI"
   },
   "source": [
    "**Observation** \n",
    "\n",
    "String 's' has only one character in it, and the len() function returns 1 as a string length."
   ]
  },
  {
   "cell_type": "markdown",
   "metadata": {
    "id": "pCBVvOAk04hi"
   },
   "source": [
    "Now, let's see how to access the characters from a string. Get the character from the 0<sup>th</sup> and 4<sup>th</sup> position."
   ]
  },
  {
   "cell_type": "code",
   "execution_count": 5,
   "metadata": {
    "id": "nhiayfHjHdHN"
   },
   "outputs": [],
   "source": [
    "s = \"Hello World\""
   ]
  },
  {
   "cell_type": "code",
   "execution_count": 6,
   "metadata": {
    "colab": {
     "base_uri": "https://localhost:8080/",
     "height": 35
    },
    "executionInfo": {
     "elapsed": 9,
     "status": "ok",
     "timestamp": 1683219731832,
     "user": {
      "displayName": "IFFATH ZAKIR",
      "userId": "08841559175934332701"
     },
     "user_tz": -330
    },
    "id": "hJt8_GzBHdHN",
    "outputId": "84f7042a-1621-474f-9c12-5167c0066a2c"
   },
   "outputs": [
    {
     "data": {
      "text/plain": [
       "'H'"
      ]
     },
     "execution_count": 6,
     "metadata": {},
     "output_type": "execute_result"
    }
   ],
   "source": [
    "s[0]"
   ]
  },
  {
   "cell_type": "code",
   "execution_count": 7,
   "metadata": {
    "colab": {
     "base_uri": "https://localhost:8080/",
     "height": 35
    },
    "executionInfo": {
     "elapsed": 7,
     "status": "ok",
     "timestamp": 1683219733679,
     "user": {
      "displayName": "IFFATH ZAKIR",
      "userId": "08841559175934332701"
     },
     "user_tz": -330
    },
    "id": "D1EIdEpDHdHN",
    "outputId": "00571f2a-58ab-4eb0-98af-7c678b79d503"
   },
   "outputs": [
    {
     "data": {
      "text/plain": [
       "'o'"
      ]
     },
     "execution_count": 7,
     "metadata": {},
     "output_type": "execute_result"
    }
   ],
   "source": [
    "s[4]"
   ]
  },
  {
   "cell_type": "markdown",
   "metadata": {
    "id": "ePUJF0BhsG2t"
   },
   "source": [
    "**Observation** \n",
    "\n",
    " Positive indices start from 0, which gives the first letter."
   ]
  },
  {
   "cell_type": "markdown",
   "metadata": {
    "id": "ZLCplNG-2SNN"
   },
   "source": [
    "*   An easy way to get last element from a string is to use negative indexing. \n",
    "*   Negative indexing starts from -1 to -n.\n",
    "\n",
    "\n"
   ]
  },
  {
   "cell_type": "code",
   "execution_count": 8,
   "metadata": {
    "colab": {
     "base_uri": "https://localhost:8080/",
     "height": 35
    },
    "executionInfo": {
     "elapsed": 931,
     "status": "ok",
     "timestamp": 1683219738796,
     "user": {
      "displayName": "IFFATH ZAKIR",
      "userId": "08841559175934332701"
     },
     "user_tz": -330
    },
    "id": "91yymzaqHdHN",
    "outputId": "dd480c73-331d-4618-9f2c-34964936b34c"
   },
   "outputs": [
    {
     "data": {
      "text/plain": [
       "'d'"
      ]
     },
     "execution_count": 8,
     "metadata": {},
     "output_type": "execute_result"
    }
   ],
   "source": [
    "s[-1]"
   ]
  },
  {
   "cell_type": "code",
   "execution_count": 9,
   "metadata": {
    "colab": {
     "base_uri": "https://localhost:8080/",
     "height": 35
    },
    "executionInfo": {
     "elapsed": 517,
     "status": "ok",
     "timestamp": 1683219743710,
     "user": {
      "displayName": "IFFATH ZAKIR",
      "userId": "08841559175934332701"
     },
     "user_tz": -330
    },
    "id": "ir0qHJV-HdHO",
    "outputId": "4338360c-c095-483a-a64f-8d3f35b9d0fe"
   },
   "outputs": [
    {
     "data": {
      "text/plain": [
       "'r'"
      ]
     },
     "execution_count": 9,
     "metadata": {},
     "output_type": "execute_result"
    }
   ],
   "source": [
    "s[-3]"
   ]
  },
  {
   "cell_type": "markdown",
   "metadata": {
    "id": "-EfrbfDjroSN"
   },
   "source": [
    "**Observation** \n",
    "\n",
    " The last element in the string \"Hello World\" is 'd', which is accessed by the index -1."
   ]
  },
  {
   "cell_type": "markdown",
   "metadata": {
    "id": "C9moHVbS-DUC"
   },
   "source": [
    "Now let's print the elements of the array iteratively.\n",
    "\n",
    "* In the for loop, declare a variable i that iterates through string s\n",
    "*print i \n"
   ]
  },
  {
   "cell_type": "code",
   "execution_count": 10,
   "metadata": {
    "colab": {
     "base_uri": "https://localhost:8080/"
    },
    "executionInfo": {
     "elapsed": 810,
     "status": "ok",
     "timestamp": 1683219749325,
     "user": {
      "displayName": "IFFATH ZAKIR",
      "userId": "08841559175934332701"
     },
     "user_tz": -330
    },
    "id": "5HL0YVPgHdHO",
    "outputId": "af10d65d-b24c-4868-9d25-2b770d8061c0"
   },
   "outputs": [
    {
     "name": "stdout",
     "output_type": "stream",
     "text": [
      "H\n",
      "e\n",
      "l\n",
      "l\n",
      "o\n",
      " \n",
      "W\n",
      "o\n",
      "r\n",
      "l\n",
      "d\n"
     ]
    }
   ],
   "source": [
    "for i in s:\n",
    "    print(i)"
   ]
  },
  {
   "cell_type": "markdown",
   "metadata": {
    "id": "1WDeqg5QshvF"
   },
   "source": [
    "**Observation** \n",
    "\n",
    " The for loop iterates over each character in the string **s** and prints each character to the console."
   ]
  },
  {
   "cell_type": "markdown",
   "metadata": {
    "id": "S_50pFikDsWq"
   },
   "source": [
    "Another way to print the characters in a string one by one is by using index method. \n",
    "* Declare variable i to iterate from 0<sup>th</sup> location till the end. \n",
    "* The range() function returns a sequence of numbers starting from 0 to the given end value. Here we can give the length of the string which represents the last location. Since the starting point is not specified, 0 is chosen as it is the default.\n",
    "* Now, access the element in the location **i** from string **s** and print.\n"
   ]
  },
  {
   "cell_type": "code",
   "execution_count": 11,
   "metadata": {
    "colab": {
     "base_uri": "https://localhost:8080/"
    },
    "executionInfo": {
     "elapsed": 973,
     "status": "ok",
     "timestamp": 1683219755333,
     "user": {
      "displayName": "IFFATH ZAKIR",
      "userId": "08841559175934332701"
     },
     "user_tz": -330
    },
    "id": "3HozEKgDHdHO",
    "outputId": "40ea2e84-c3d9-40fc-d6a6-75a7990bcc3b"
   },
   "outputs": [
    {
     "name": "stdout",
     "output_type": "stream",
     "text": [
      "H\n",
      "e\n",
      "l\n",
      "l\n",
      "o\n",
      " \n",
      "W\n",
      "o\n",
      "r\n",
      "l\n",
      "d\n"
     ]
    }
   ],
   "source": [
    "for i in range(len(s)):\n",
    "    print(s[i])"
   ]
  },
  {
   "cell_type": "markdown",
   "metadata": {
    "id": "zng--ghKsvgM"
   },
   "source": [
    "**Observation** \n",
    "\n",
    " The for loop and **range** functions are used to iterate over each index in the string **s** and print the character at that index to the console.\n",
    "\n",
    "\n"
   ]
  },
  {
   "cell_type": "markdown",
   "metadata": {
    "id": "RYDS_n5QL6qJ"
   },
   "source": [
    "Now, let's find the length of the string."
   ]
  },
  {
   "cell_type": "code",
   "execution_count": 12,
   "metadata": {
    "colab": {
     "base_uri": "https://localhost:8080/"
    },
    "executionInfo": {
     "elapsed": 7,
     "status": "ok",
     "timestamp": 1683219760299,
     "user": {
      "displayName": "IFFATH ZAKIR",
      "userId": "08841559175934332701"
     },
     "user_tz": -330
    },
    "id": "QEroW0hfHdHO",
    "outputId": "df1adceb-8f33-4dbb-a111-56bb5226b59f"
   },
   "outputs": [
    {
     "data": {
      "text/plain": [
       "11"
      ]
     },
     "execution_count": 12,
     "metadata": {},
     "output_type": "execute_result"
    }
   ],
   "source": [
    "len(s)"
   ]
  },
  {
   "cell_type": "markdown",
   "metadata": {
    "id": "RWfC8ZDFktGo"
   },
   "source": [
    "**Observation** \n",
    "\n",
    " The length of the string is 11, including white spaces."
   ]
  },
  {
   "cell_type": "markdown",
   "metadata": {
    "id": "cgAGeYc8LPQZ"
   },
   "source": [
    "## Step 3: String Membership, Slicing and Inbuilt Methods\n",
    "\n",
    "- Check for string membership using **in** and **not in**\n",
    "- Access portions of a string using slicing\n",
    "- Use inbuilt methods such as upper(), lower(), split() and replace()\n"
   ]
  },
  {
   "cell_type": "markdown",
   "metadata": {
    "id": "4lvvkcsCPY6d"
   },
   "source": [
    "We can check if a string is present in the given string.\n",
    "\n",
    "* The **in** and **not in** keywords are used to check for the presence of a substring in a string.\n",
    "\n",
    "\n",
    " "
   ]
  },
  {
   "cell_type": "code",
   "execution_count": 13,
   "metadata": {
    "colab": {
     "base_uri": "https://localhost:8080/"
    },
    "executionInfo": {
     "elapsed": 537,
     "status": "ok",
     "timestamp": 1683219764826,
     "user": {
      "displayName": "IFFATH ZAKIR",
      "userId": "08841559175934332701"
     },
     "user_tz": -330
    },
    "id": "dEGNBzYPHdHP",
    "outputId": "5ddd3933-12b1-4dff-d8f4-eed941e50e67"
   },
   "outputs": [
    {
     "data": {
      "text/plain": [
       "False"
      ]
     },
     "execution_count": 13,
     "metadata": {},
     "output_type": "execute_result"
    }
   ],
   "source": [
    "'WOrld' in s"
   ]
  },
  {
   "cell_type": "markdown",
   "metadata": {
    "id": "AZ4JhzMjtqes"
   },
   "source": [
    "**Observation** \n",
    "\n",
    " Python is case sensitive. Here **in** returned False since the string 'WOrld' is not present in **s**. \n"
   ]
  },
  {
   "cell_type": "code",
   "execution_count": 14,
   "metadata": {
    "colab": {
     "base_uri": "https://localhost:8080/"
    },
    "executionInfo": {
     "elapsed": 5,
     "status": "ok",
     "timestamp": 1683219768794,
     "user": {
      "displayName": "IFFATH ZAKIR",
      "userId": "08841559175934332701"
     },
     "user_tz": -330
    },
    "id": "M_QoNWcaHdHP",
    "outputId": "2b109c40-04e4-4cb1-c5c0-15282ff6a5fa"
   },
   "outputs": [
    {
     "data": {
      "text/plain": [
       "True"
      ]
     },
     "execution_count": 14,
     "metadata": {},
     "output_type": "execute_result"
    }
   ],
   "source": [
    "'WORLD' not in s"
   ]
  },
  {
   "cell_type": "markdown",
   "metadata": {
    "id": "-48_eSBmvhFE"
   },
   "source": [
    "**Observation** \n",
    "\n",
    "The **not in** key word returned **True** since the string 'WORLD' is not present in string **s**."
   ]
  },
  {
   "cell_type": "markdown",
   "metadata": {
    "id": "9VTt13bRwnPF"
   },
   "source": [
    "Use slicing to access a portion of the string **s**.\n",
    "* Inside the square bracket of the string, mention the starting and end point.\n",
    "Syntax: s[start:end]\n",
    "* This slices the string from the start point till the end point.\n"
   ]
  },
  {
   "cell_type": "code",
   "execution_count": null,
   "metadata": {
    "colab": {
     "base_uri": "https://localhost:8080/",
     "height": 35
    },
    "executionInfo": {
     "elapsed": 520,
     "status": "ok",
     "timestamp": 1683219775148,
     "user": {
      "displayName": "IFFATH ZAKIR",
      "userId": "08841559175934332701"
     },
     "user_tz": -330
    },
    "id": "8LMMTFKJHdHP",
    "outputId": "68fca00c-9f2f-45ef-aaae-6dcb8e64b89b"
   },
   "outputs": [
    {
     "data": {
      "application/vnd.google.colaboratory.intrinsic+json": {
       "type": "string"
      },
      "text/plain": [
       "'ello Wo'"
      ]
     },
     "execution_count": 34,
     "metadata": {},
     "output_type": "execute_result"
    }
   ],
   "source": [
    "s[1:8]"
   ]
  },
  {
   "cell_type": "markdown",
   "metadata": {
    "id": "JyH97hfgwyF7"
   },
   "source": [
    "**Observation** \n",
    "\n",
    "The code returns the substring starting from the index 1 to index 7."
   ]
  },
  {
   "cell_type": "code",
   "execution_count": null,
   "metadata": {
    "colab": {
     "base_uri": "https://localhost:8080/",
     "height": 35
    },
    "executionInfo": {
     "elapsed": 16,
     "status": "ok",
     "timestamp": 1683219779049,
     "user": {
      "displayName": "IFFATH ZAKIR",
      "userId": "08841559175934332701"
     },
     "user_tz": -330
    },
    "id": "Pg8gw3ajHdHP",
    "outputId": "b5c61f79-6274-4851-94ec-a89d8ac1fc26"
   },
   "outputs": [
    {
     "data": {
      "application/vnd.google.colaboratory.intrinsic+json": {
       "type": "string"
      },
      "text/plain": [
       "'Worl'"
      ]
     },
     "execution_count": 35,
     "metadata": {},
     "output_type": "execute_result"
    }
   ],
   "source": [
    "s[-5:-1]"
   ]
  },
  {
   "cell_type": "markdown",
   "metadata": {
    "id": "TA5Cqx6_xd4M"
   },
   "source": [
    "**Observation** \n",
    "\n",
    "Here, negative indexing is used. The code returns the substring that starts from index -5 to index -1."
   ]
  },
  {
   "cell_type": "code",
   "execution_count": null,
   "metadata": {
    "colab": {
     "base_uri": "https://localhost:8080/",
     "height": 35
    },
    "executionInfo": {
     "elapsed": 6,
     "status": "ok",
     "timestamp": 1683219782463,
     "user": {
      "displayName": "IFFATH ZAKIR",
      "userId": "08841559175934332701"
     },
     "user_tz": -330
    },
    "id": "vHkzq2JJHdHQ",
    "outputId": "cf030968-d6de-4cb1-e1cc-bbef45cc6097"
   },
   "outputs": [
    {
     "data": {
      "application/vnd.google.colaboratory.intrinsic+json": {
       "type": "string"
      },
      "text/plain": [
       "'dlroW olleH'"
      ]
     },
     "execution_count": 36,
     "metadata": {},
     "output_type": "execute_result"
    }
   ],
   "source": [
    "s[-1::-1]"
   ]
  },
  {
   "cell_type": "markdown",
   "metadata": {
    "id": "ZT8ARgaAxnbL"
   },
   "source": [
    "**Observation** \n",
    "\n",
    "Slicing is used to reverse the string. Here, the line starts from index 1 and goes to the end with index -1. "
   ]
  },
  {
   "cell_type": "markdown",
   "metadata": {
    "id": "xJRT2ar8HdHQ"
   },
   "source": [
    "### Inbuilt methods for strings\n",
    "1. upper() - Returns the string in uppercase\n",
    "2. lower() - Returns the string in lowercase\n",
    "3. split() - Splits the string into a list\n",
    "4. replace() - Replaces the substring with another substring\n",
    "5. len() - Finds the length of the string"
   ]
  },
  {
   "cell_type": "markdown",
   "metadata": {
    "id": "jLudI_wnbcoh"
   },
   "source": [
    "Let's convert string 'Hello world' to uppercase."
   ]
  },
  {
   "cell_type": "code",
   "execution_count": null,
   "metadata": {
    "colab": {
     "base_uri": "https://localhost:8080/",
     "height": 35
    },
    "executionInfo": {
     "elapsed": 10,
     "status": "ok",
     "timestamp": 1683219786508,
     "user": {
      "displayName": "IFFATH ZAKIR",
      "userId": "08841559175934332701"
     },
     "user_tz": -330
    },
    "id": "-Uq7610kHdHR",
    "outputId": "56ceaebf-7244-4be7-fc96-8c3123f18296"
   },
   "outputs": [
    {
     "data": {
      "application/vnd.google.colaboratory.intrinsic+json": {
       "type": "string"
      },
      "text/plain": [
       "'HELLO WORLD'"
      ]
     },
     "execution_count": 37,
     "metadata": {},
     "output_type": "execute_result"
    }
   ],
   "source": [
    "s.upper()"
   ]
  },
  {
   "cell_type": "markdown",
   "metadata": {
    "id": "5zAwSI7Xyfib"
   },
   "source": [
    "**Observation** \n",
    "\n",
    " upper() converts all the letters in the string to uppercase."
   ]
  },
  {
   "cell_type": "markdown",
   "metadata": {
    "id": "1L7M2Um8bjoI"
   },
   "source": [
    "Now, let's convert the string to lower case."
   ]
  },
  {
   "cell_type": "code",
   "execution_count": null,
   "metadata": {
    "colab": {
     "base_uri": "https://localhost:8080/",
     "height": 35
    },
    "executionInfo": {
     "elapsed": 592,
     "status": "ok",
     "timestamp": 1683219792154,
     "user": {
      "displayName": "IFFATH ZAKIR",
      "userId": "08841559175934332701"
     },
     "user_tz": -330
    },
    "id": "hRgVsoyFHdHR",
    "outputId": "0efe56fa-21eb-448c-cff6-8c802b53897d"
   },
   "outputs": [
    {
     "data": {
      "application/vnd.google.colaboratory.intrinsic+json": {
       "type": "string"
      },
      "text/plain": [
       "'hello world'"
      ]
     },
     "execution_count": 38,
     "metadata": {},
     "output_type": "execute_result"
    }
   ],
   "source": [
    "s.lower()"
   ]
  },
  {
   "cell_type": "markdown",
   "metadata": {
    "id": "-I88d39vymKT"
   },
   "source": [
    "**Observation** \n",
    "\n",
    " lower() converts all the letters in the string to lowercase."
   ]
  },
  {
   "cell_type": "markdown",
   "metadata": {
    "id": "AQa9_5t5brF5"
   },
   "source": [
    "Let's split the string into two separate strings."
   ]
  },
  {
   "cell_type": "code",
   "execution_count": null,
   "metadata": {
    "colab": {
     "base_uri": "https://localhost:8080/"
    },
    "executionInfo": {
     "elapsed": 7,
     "status": "ok",
     "timestamp": 1683219796250,
     "user": {
      "displayName": "IFFATH ZAKIR",
      "userId": "08841559175934332701"
     },
     "user_tz": -330
    },
    "id": "0qTF4VqpHdHR",
    "outputId": "b9f15303-f2b3-458c-8467-b35c47b1236d"
   },
   "outputs": [
    {
     "data": {
      "text/plain": [
       "['Hello', 'World']"
      ]
     },
     "execution_count": 39,
     "metadata": {},
     "output_type": "execute_result"
    }
   ],
   "source": [
    "s.split()"
   ]
  },
  {
   "cell_type": "markdown",
   "metadata": {
    "id": "Dxv139eWy5mK"
   },
   "source": [
    "**Observation** \n",
    "\n",
    "The split() function splits the string using a separator, which by default is white space. "
   ]
  },
  {
   "cell_type": "markdown",
   "metadata": {
    "id": "87VWKQtyzSYq"
   },
   "source": [
    "Strings can also be split by using any separators."
   ]
  },
  {
   "cell_type": "code",
   "execution_count": null,
   "metadata": {
    "colab": {
     "base_uri": "https://localhost:8080/"
    },
    "executionInfo": {
     "elapsed": 4,
     "status": "ok",
     "timestamp": 1683538335518,
     "user": {
      "displayName": "Winnie Aravindan",
      "userId": "17757356026009537686"
     },
     "user_tz": -330
    },
    "id": "XaX44166HdHS",
    "outputId": "66734bd0-b1b3-4a34-a7fb-47f564e7233e"
   },
   "outputs": [
    {
     "data": {
      "text/plain": [
       "['Hello', 'World']"
      ]
     },
     "execution_count": 1,
     "metadata": {},
     "output_type": "execute_result"
    }
   ],
   "source": [
    "s = 'Hello-World'\n",
    "s.split('-')"
   ]
  },
  {
   "cell_type": "markdown",
   "metadata": {
    "id": "fHsAzKwrzfmx"
   },
   "source": [
    "**Observation** \n",
    "\n",
    "- Here, the string **s** is separated using a hyphen. \n",
    "- The list of strings is not assigned back to the string 's'. Variable 's' still holds 'Hello-World'"
   ]
  },
  {
   "cell_type": "markdown",
   "metadata": {
    "id": "Al25xh0guo3O"
   },
   "source": [
    "Now, let's assign the list of string to a variable."
   ]
  },
  {
   "cell_type": "code",
   "execution_count": null,
   "metadata": {
    "colab": {
     "base_uri": "https://localhost:8080/"
    },
    "executionInfo": {
     "elapsed": 611,
     "status": "ok",
     "timestamp": 1683538817482,
     "user": {
      "displayName": "Winnie Aravindan",
      "userId": "17757356026009537686"
     },
     "user_tz": -330
    },
    "id": "OHEhmP5ruwZT",
    "outputId": "10dc59c4-3293-4daa-da57-8b44f99442cc"
   },
   "outputs": [
    {
     "data": {
      "text/plain": [
       "['Hello', 'World']"
      ]
     },
     "execution_count": 3,
     "metadata": {},
     "output_type": "execute_result"
    }
   ],
   "source": [
    "s = 'Hello-World'\n",
    "split_list = s.split('-')\n",
    "split_list\n"
   ]
  },
  {
   "cell_type": "code",
   "execution_count": null,
   "metadata": {
    "colab": {
     "base_uri": "https://localhost:8080/",
     "height": 35
    },
    "executionInfo": {
     "elapsed": 7,
     "status": "ok",
     "timestamp": 1683538342364,
     "user": {
      "displayName": "Winnie Aravindan",
      "userId": "17757356026009537686"
     },
     "user_tz": -330
    },
    "id": "046vM4A5HdHS",
    "outputId": "e0cc528a-e1f5-437e-f5b0-142b96b0f484"
   },
   "outputs": [
    {
     "data": {
      "application/vnd.google.colaboratory.intrinsic+json": {
       "type": "string"
      },
      "text/plain": [
       "'Hello-World'"
      ]
     },
     "execution_count": 2,
     "metadata": {},
     "output_type": "execute_result"
    }
   ],
   "source": [
    "s"
   ]
  },
  {
   "cell_type": "markdown",
   "metadata": {
    "id": "k9D1LO3KbzYW"
   },
   "source": [
    "Let's remove the hyphen present in the string 'Hello-world'"
   ]
  },
  {
   "cell_type": "code",
   "execution_count": null,
   "metadata": {
    "colab": {
     "base_uri": "https://localhost:8080/",
     "height": 35
    },
    "executionInfo": {
     "elapsed": 9,
     "status": "ok",
     "timestamp": 1683219807811,
     "user": {
      "displayName": "IFFATH ZAKIR",
      "userId": "08841559175934332701"
     },
     "user_tz": -330
    },
    "id": "LnCQOJ2eHdHS",
    "outputId": "0b08c803-e1a2-469f-aebc-9490eb958fdc"
   },
   "outputs": [
    {
     "data": {
      "application/vnd.google.colaboratory.intrinsic+json": {
       "type": "string"
      },
      "text/plain": [
       "'Hello World'"
      ]
     },
     "execution_count": 42,
     "metadata": {},
     "output_type": "execute_result"
    }
   ],
   "source": [
    "s.replace('-',' ')"
   ]
  },
  {
   "cell_type": "markdown",
   "metadata": {
    "id": "3yUqCIog0Epb"
   },
   "source": [
    "**Observation** \n",
    "\n",
    "Here, the replace method replaces all occurrences of hyphens in the string **s** with a space.\n"
   ]
  },
  {
   "cell_type": "markdown",
   "metadata": {
    "id": "btgMdEi8cGcB"
   },
   "source": [
    "Concatenation refers to combining two different strings into one. Let's concatenate string **s** with 'Welcome to Simplilearn'.\n",
    "\n",
    "\n"
   ]
  },
  {
   "cell_type": "code",
   "execution_count": null,
   "metadata": {
    "colab": {
     "base_uri": "https://localhost:8080/",
     "height": 35
    },
    "executionInfo": {
     "elapsed": 1438,
     "status": "ok",
     "timestamp": 1683219832079,
     "user": {
      "displayName": "IFFATH ZAKIR",
      "userId": "08841559175934332701"
     },
     "user_tz": -330
    },
    "id": "4yZjcCMIHdHS",
    "outputId": "9a1a4a84-a293-4478-cdb6-1571acd1a7db"
   },
   "outputs": [
    {
     "data": {
      "application/vnd.google.colaboratory.intrinsic+json": {
       "type": "string"
      },
      "text/plain": [
       "'Hello-World Welcome to Simplilearn'"
      ]
     },
     "execution_count": 45,
     "metadata": {},
     "output_type": "execute_result"
    }
   ],
   "source": [
    "# Concatenate the string 's' with another string\n",
    "s + ' Welcome to Simplilearn'"
   ]
  },
  {
   "cell_type": "markdown",
   "metadata": {
    "id": "c-fVi60E0i5S"
   },
   "source": [
    "**Observation** \n",
    "\n",
    "Here, strings are concatenated using **+**\n",
    "\n",
    "The escape character, **\\**, can be used in cases where single or double quotes are used inside a string."
   ]
  },
  {
   "cell_type": "markdown",
   "metadata": {
    "id": "13BRaJuL1M7a"
   },
   "source": [
    "The format method is used to manipulate a string dynamically. \n",
    "* Add the placeholder {} for the formatted string\n",
    "* Add a string which needs to be combined with the formatted string\n",
    "* The format() function returns the formatted string."
   ]
  },
  {
   "cell_type": "code",
   "execution_count": null,
   "metadata": {
    "colab": {
     "base_uri": "https://localhost:8080/"
    },
    "executionInfo": {
     "elapsed": 619,
     "status": "ok",
     "timestamp": 1683220421656,
     "user": {
      "displayName": "IFFATH ZAKIR",
      "userId": "08841559175934332701"
     },
     "user_tz": -330
    },
    "id": "K3wE58-FHdHS",
    "outputId": "2f1b124e-db0b-414d-ace0-f9330e41f022"
   },
   "outputs": [
    {
     "name": "stdout",
     "output_type": "stream",
     "text": [
      "Manoj Welcome to Simplilearn\n"
     ]
    }
   ],
   "source": [
    "print('{} Welcome to Simplilearn'.format('Manoj'))"
   ]
  },
  {
   "cell_type": "markdown",
   "metadata": {
    "id": "nyQeNyy3lRxy"
   },
   "source": [
    "**Observation** \n",
    "\n",
    "Here the placeholder is replaced with the name 'Manoj' and combined with the specified string."
   ]
  },
  {
   "cell_type": "markdown",
   "metadata": {
    "id": "8Ci2y466LXMX"
   },
   "source": [
    "## Step 4: Strings with Quotes\n",
    "\n",
    "- The escape characters come in handy when using single and double quotes inside a string\n",
    "- Use backslashes to include quotes in a string variable\n",
    "- Define and print a string variable that includes a quote character\n"
   ]
  },
  {
   "cell_type": "code",
   "execution_count": null,
   "metadata": {
    "id": "Ffp5nVebHdHT",
    "outputId": "3e2cd163-279c-4813-bac6-d3bf6dd9aebf"
   },
   "outputs": [
    {
     "ename": "SyntaxError",
     "evalue": "invalid syntax (<ipython-input-27-5e4e349a1f71>, line 1)",
     "output_type": "error",
     "traceback": [
      "\u001b[0;36m  File \u001b[0;32m\"<ipython-input-27-5e4e349a1f71>\"\u001b[0;36m, line \u001b[0;32m1\u001b[0m\n\u001b[0;31m    s = 'He said, 'hi''\u001b[0m\n\u001b[0m                    ^\u001b[0m\n\u001b[0;31mSyntaxError\u001b[0m\u001b[0;31m:\u001b[0m invalid syntax\n"
     ]
    }
   ],
   "source": [
    "s = 'He said, 'hi''"
   ]
  },
  {
   "cell_type": "markdown",
   "metadata": {
    "id": "0_EtjrW-3Ph5"
   },
   "source": [
    "**Observation** \n",
    "\n",
    "It’s an invalid syntax because Python considers 'He said' as one string and 'hi' as another string."
   ]
  },
  {
   "cell_type": "markdown",
   "metadata": {
    "id": "anKnhvaJ4AVz"
   },
   "source": [
    "To print single quotes inside a single quote string, use the escape character. Add the escape character just before the quotes that is part of string. "
   ]
  },
  {
   "cell_type": "code",
   "execution_count": null,
   "metadata": {
    "id": "PBqquRMzHdHT"
   },
   "outputs": [],
   "source": [
    "s = 'He said, \\'Hi\\''"
   ]
  },
  {
   "cell_type": "code",
   "execution_count": null,
   "metadata": {
    "id": "UW_mnBHkHdHT",
    "outputId": "caa9fc77-dc2a-4737-f680-df68c98d1c02"
   },
   "outputs": [
    {
     "name": "stdout",
     "output_type": "stream",
     "text": [
      "He said, 'Hi'\n"
     ]
    }
   ],
   "source": [
    "print(s)"
   ]
  },
  {
   "cell_type": "code",
   "execution_count": null,
   "metadata": {
    "id": "M3vGIL-FHdHT"
   },
   "outputs": [],
   "source": [
    "s = \"He said, 'Hi'\""
   ]
  },
  {
   "cell_type": "code",
   "execution_count": null,
   "metadata": {
    "id": "v-J-BJwKHdHT",
    "outputId": "abdf5053-1da0-4989-f769-c4e8dc0af471"
   },
   "outputs": [
    {
     "name": "stdout",
     "output_type": "stream",
     "text": [
      "He said, 'Hi'\n"
     ]
    }
   ],
   "source": [
    "print(s)"
   ]
  },
  {
   "cell_type": "markdown",
   "metadata": {
    "id": "rlh29ZBzlfYj"
   },
   "source": [
    "**Observation** \n",
    "\n",
    "Both strings are printed with the quote character included."
   ]
  }
 ],
 "metadata": {
  "colab": {
   "provenance": []
  },
  "kernelspec": {
   "display_name": "Python 3 (ipykernel)",
   "language": "python",
   "name": "python3"
  },
  "language_info": {
   "codemirror_mode": {
    "name": "ipython",
    "version": 3
   },
   "file_extension": ".py",
   "mimetype": "text/x-python",
   "name": "python",
   "nbconvert_exporter": "python",
   "pygments_lexer": "ipython3",
   "version": "3.8.2rc2"
  }
 },
 "nbformat": 4,
 "nbformat_minor": 4
}
