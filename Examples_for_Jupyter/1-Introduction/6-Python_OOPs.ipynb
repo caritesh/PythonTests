{
 "cells": [
  {
   "cell_type": "markdown",
   "metadata": {
    "id": "USekxYb9GZ9P"
   },
   "source": [
    "## Python Objects and Map Function\n",
    "\n",
    "Objects are instances of a class, and class is a blueprint for objects. They determine the attributes and functionalities of an object. "
   ]
  },
  {
   "cell_type": "markdown",
   "metadata": {
    "id": "rgd0z_1SHjMa"
   },
   "source": [
    "## Step 1: Working with Classes\n",
    "\n",
    "\n",
    "Let's create a class using the class keyword:\n",
    "- Create a class called House\n",
    "- Define a class variable **Rented House** that says the house type is equal to a Rented House\n",
    "- Define the constructor (__init__) with instance variables **floors**, **rooms** and **price**\n"
   ]
  },
  {
   "cell_type": "code",
   "execution_count": null,
   "metadata": {
    "id": "pbTpwXq5SuPu"
   },
   "outputs": [],
   "source": [
    "class House:\n",
    "    house_type = 'Rented House'\n",
    "    def __init__(self,floors,rooms,price):\n",
    "        self.floors = floors \n",
    "        self.rooms = rooms \n",
    "        self.price = price"
   ]
  },
  {
   "cell_type": "markdown",
   "metadata": {
    "id": "FMnk-elCHuy4"
   },
   "source": [
    "- Create an object (instance) **home** of the house class with 1 floor, 3 rooms and a price of 25000\n",
    "- Access and modify its attributes\n",
    "- Add new attributes dynamically\n"
   ]
  },
  {
   "cell_type": "code",
   "execution_count": null,
   "metadata": {
    "id": "PMH4JuLNSuPv"
   },
   "outputs": [],
   "source": [
    "home = House(1,3,25000) "
   ]
  },
  {
   "cell_type": "markdown",
   "metadata": {
    "id": "V20sVeMIxFrg"
   },
   "source": [
    "Let's check the type of the home object."
   ]
  },
  {
   "cell_type": "code",
   "execution_count": null,
   "metadata": {
    "colab": {
     "base_uri": "https://localhost:8080/"
    },
    "executionInfo": {
     "elapsed": 415,
     "status": "ok",
     "timestamp": 1683247424195,
     "user": {
      "displayName": "IFFATH ZAKIR",
      "userId": "08841559175934332701"
     },
     "user_tz": -330
    },
    "id": "PqxOrXPFSuPw",
    "outputId": "b634cf78-4b1e-4689-ed99-841b4898d2e6"
   },
   "outputs": [
    {
     "data": {
      "text/plain": [
       "__main__.House"
      ]
     },
     "execution_count": 4,
     "metadata": {},
     "output_type": "execute_result"
    }
   ],
   "source": [
    "type(home)"
   ]
  },
  {
   "cell_type": "markdown",
   "metadata": {
    "id": "PwjZPl2FxYit"
   },
   "source": [
    "**Observation**\n",
    "\n",
    "The object type is House class"
   ]
  },
  {
   "cell_type": "markdown",
   "metadata": {
    "id": "rsoM3cxCxg5H"
   },
   "source": [
    "Now let's access the variable **floors**, **rooms**, **price** and **house_type**. We can access the variables of the home object using the dot(.) operator."
   ]
  },
  {
   "cell_type": "code",
   "execution_count": null,
   "metadata": {
    "colab": {
     "base_uri": "https://localhost:8080/"
    },
    "executionInfo": {
     "elapsed": 414,
     "status": "ok",
     "timestamp": 1683247518912,
     "user": {
      "displayName": "IFFATH ZAKIR",
      "userId": "08841559175934332701"
     },
     "user_tz": -330
    },
    "id": "AZy_7ZsPSuPw",
    "outputId": "17a26844-fe85-4271-b29d-e416e67c80c6"
   },
   "outputs": [
    {
     "data": {
      "text/plain": [
       "1"
      ]
     },
     "execution_count": 6,
     "metadata": {},
     "output_type": "execute_result"
    }
   ],
   "source": [
    "home.floors"
   ]
  },
  {
   "cell_type": "code",
   "execution_count": null,
   "metadata": {
    "colab": {
     "base_uri": "https://localhost:8080/"
    },
    "executionInfo": {
     "elapsed": 5,
     "status": "ok",
     "timestamp": 1683247521675,
     "user": {
      "displayName": "IFFATH ZAKIR",
      "userId": "08841559175934332701"
     },
     "user_tz": -330
    },
    "id": "e-P4C3rNSuPx",
    "outputId": "faef4a70-b645-4412-c923-287629a95a49"
   },
   "outputs": [
    {
     "data": {
      "text/plain": [
       "3"
      ]
     },
     "execution_count": 7,
     "metadata": {},
     "output_type": "execute_result"
    }
   ],
   "source": [
    "home.rooms"
   ]
  },
  {
   "cell_type": "code",
   "execution_count": null,
   "metadata": {
    "colab": {
     "base_uri": "https://localhost:8080/"
    },
    "executionInfo": {
     "elapsed": 7,
     "status": "ok",
     "timestamp": 1683247524340,
     "user": {
      "displayName": "IFFATH ZAKIR",
      "userId": "08841559175934332701"
     },
     "user_tz": -330
    },
    "id": "i_CgLIM9SuPx",
    "outputId": "21dcf217-f5e8-4bc5-ae95-22471abe7af9"
   },
   "outputs": [
    {
     "data": {
      "text/plain": [
       "25000"
      ]
     },
     "execution_count": 8,
     "metadata": {},
     "output_type": "execute_result"
    }
   ],
   "source": [
    "home.price"
   ]
  },
  {
   "cell_type": "code",
   "execution_count": null,
   "metadata": {
    "colab": {
     "base_uri": "https://localhost:8080/",
     "height": 35
    },
    "executionInfo": {
     "elapsed": 420,
     "status": "ok",
     "timestamp": 1683247528033,
     "user": {
      "displayName": "IFFATH ZAKIR",
      "userId": "08841559175934332701"
     },
     "user_tz": -330
    },
    "id": "ytjjcwDESuPx",
    "outputId": "0b0b098c-dafc-405b-f4b5-24dd1af30b98"
   },
   "outputs": [
    {
     "data": {
      "application/vnd.google.colaboratory.intrinsic+json": {
       "type": "string"
      },
      "text/plain": [
       "'Rented House'"
      ]
     },
     "execution_count": 9,
     "metadata": {},
     "output_type": "execute_result"
    }
   ],
   "source": [
    "home.house_type"
   ]
  },
  {
   "cell_type": "markdown",
   "metadata": {
    "id": "ZGS3sfZFyBdX"
   },
   "source": [
    "Now, let's modify the house price.\n",
    "\n",
    "- Access the **price** variable with the dot operator\n",
    "- Assign the new value to home.price"
   ]
  },
  {
   "cell_type": "code",
   "execution_count": null,
   "metadata": {
    "id": "mSuE0XgMSuPx"
   },
   "outputs": [],
   "source": [
    "home.price = 28000"
   ]
  },
  {
   "cell_type": "markdown",
   "metadata": {
    "id": "_d2Hp2miyQAS"
   },
   "source": [
    "Let's print the value."
   ]
  },
  {
   "cell_type": "code",
   "execution_count": null,
   "metadata": {
    "colab": {
     "base_uri": "https://localhost:8080/"
    },
    "executionInfo": {
     "elapsed": 12,
     "status": "ok",
     "timestamp": 1682143803240,
     "user": {
      "displayName": "Winnie Aravindan",
      "userId": "17757356026009537686"
     },
     "user_tz": -330
    },
    "id": "dT_ERhD7SuPy",
    "outputId": "77324aec-f7e9-4415-c10c-15e5a1ca35ee"
   },
   "outputs": [
    {
     "name": "stdout",
     "output_type": "stream",
     "text": [
      "28000\n"
     ]
    }
   ],
   "source": [
    "print(home.price)"
   ]
  },
  {
   "cell_type": "markdown",
   "metadata": {
    "id": "7ggwHPlDyUiS"
   },
   "source": [
    "We can also delete the objects of a class using the **del** keyword. del would delete the entire object. \n",
    "\n",
    "If we want to delete only a specific attribute, we can do this with del as well, such as typing del home.floors to remove this attribute.\n"
   ]
  },
  {
   "cell_type": "code",
   "execution_count": null,
   "metadata": {
    "id": "Q5dB3HrsSuPy"
   },
   "outputs": [],
   "source": [
    "del home.floors "
   ]
  },
  {
   "cell_type": "markdown",
   "metadata": {
    "id": "ZYjKG9L1yeD1"
   },
   "source": [
    "Try to access the floors attribute again:"
   ]
  },
  {
   "cell_type": "code",
   "execution_count": null,
   "metadata": {
    "colab": {
     "base_uri": "https://localhost:8080/",
     "height": 166
    },
    "executionInfo": {
     "elapsed": 483,
     "status": "error",
     "timestamp": 1683247719836,
     "user": {
      "displayName": "IFFATH ZAKIR",
      "userId": "08841559175934332701"
     },
     "user_tz": -330
    },
    "id": "nU1x5scWSuPy",
    "outputId": "a7fd0740-725a-4197-b93a-f94ddbe5d06e"
   },
   "outputs": [
    {
     "ename": "AttributeError",
     "evalue": "ignored",
     "output_type": "error",
     "traceback": [
      "\u001b[0;31m---------------------------------------------------------------------------\u001b[0m",
      "\u001b[0;31mAttributeError\u001b[0m                            Traceback (most recent call last)",
      "\u001b[0;32m<ipython-input-12-22803f8a2424>\u001b[0m in \u001b[0;36m<cell line: 1>\u001b[0;34m()\u001b[0m\n\u001b[0;32m----> 1\u001b[0;31m \u001b[0mhome\u001b[0m\u001b[0;34m.\u001b[0m\u001b[0mfloors\u001b[0m\u001b[0;34m\u001b[0m\u001b[0;34m\u001b[0m\u001b[0m\n\u001b[0m",
      "\u001b[0;31mAttributeError\u001b[0m: 'House' object has no attribute 'floors'"
     ]
    }
   ],
   "source": [
    "home.floors"
   ]
  },
  {
   "cell_type": "markdown",
   "metadata": {
    "id": "mOmsTpB3yl6B"
   },
   "source": [
    "**Observation**\n",
    "\n",
    "Trying to access the deleted attribute from an object throws an error.\n"
   ]
  },
  {
   "cell_type": "markdown",
   "metadata": {
    "id": "6nSyNO7ny19d"
   },
   "source": [
    "We can also add multiple attributes dynamically. \n",
    "\n",
    "Now, let's add the attribute **floors** again."
   ]
  },
  {
   "cell_type": "code",
   "execution_count": null,
   "metadata": {
    "id": "XWTeIObDSuPy"
   },
   "outputs": [],
   "source": [
    "home.floors = 2 "
   ]
  },
  {
   "cell_type": "markdown",
   "metadata": {
    "id": "cHbfYNMnK4PO"
   },
   "source": [
    "**Observation:**\n",
    "\n",
    "Here, we have added the floors attribute again dynamically."
   ]
  },
  {
   "cell_type": "markdown",
   "metadata": {
    "id": "muJ2KxZGnN4k"
   },
   "source": [
    "Now, let's add a new attribute **bathroom** to home dynamically."
   ]
  },
  {
   "cell_type": "code",
   "execution_count": null,
   "metadata": {
    "id": "lnqngNh6SuPy"
   },
   "outputs": [],
   "source": [
    "home.bathrooms = 4"
   ]
  },
  {
   "cell_type": "code",
   "execution_count": null,
   "metadata": {
    "colab": {
     "base_uri": "https://localhost:8080/"
    },
    "executionInfo": {
     "elapsed": 486,
     "status": "ok",
     "timestamp": 1683247886224,
     "user": {
      "displayName": "IFFATH ZAKIR",
      "userId": "08841559175934332701"
     },
     "user_tz": -330
    },
    "id": "m_b-LzcEZBzo",
    "outputId": "54c0e3e2-c5c4-4699-e004-5447a1ec4255"
   },
   "outputs": [
    {
     "name": "stdout",
     "output_type": "stream",
     "text": [
      "4\n"
     ]
    }
   ],
   "source": [
    "print(home.bathrooms)"
   ]
  },
  {
   "cell_type": "markdown",
   "metadata": {},
   "source": [
    "## More on OOPs"
   ]
  },
  {
   "cell_type": "code",
   "execution_count": null,
   "metadata": {},
   "outputs": [],
   "source": []
  }
 ],
 "metadata": {
  "colab": {
   "provenance": []
  },
  "kernelspec": {
   "display_name": "Python 3 (ipykernel)",
   "language": "python",
   "name": "python3"
  },
  "language_info": {
   "codemirror_mode": {
    "name": "ipython",
    "version": 3
   },
   "file_extension": ".py",
   "mimetype": "text/x-python",
   "name": "python",
   "nbconvert_exporter": "python",
   "pygments_lexer": "ipython3",
   "version": "3.8.2rc2"
  }
 },
 "nbformat": 4,
 "nbformat_minor": 4
}
