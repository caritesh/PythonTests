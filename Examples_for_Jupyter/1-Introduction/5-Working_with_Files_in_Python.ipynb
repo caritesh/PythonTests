{
 "cells": [
  {
   "cell_type": "markdown",
   "metadata": {
    "id": "IvqsBNaVFAJT"
   },
   "source": [
    "## __Reading and Writing CSV Files__\n",
    "\n",
    "Let's look at how to read and write CSV files. There are two methods that we can use. One is by using the CSV library and the other is by using pandas. \n"
   ]
  },
  {
   "cell_type": "markdown",
   "metadata": {
    "id": "YXUEREjVJLDi"
   },
   "source": [
    "## Working with CSV\n",
    "## Step 1: Import the CSV Library and Read the CSV File\n",
    "\n",
    "Let's explore the CSV library.\n",
    "\n",
    "- Import the CSV library\n",
    "- Open the file Sample_File.csv, and mention the filename as argument to the open() function\n",
    "- Load the file using the csv.reader() method\n",
    "- Print the contents of the file using a for loop\n"
   ]
  },
  {
   "cell_type": "code",
   "execution_count": 4,
   "metadata": {
    "id": "7093XfCl7kb6"
   },
   "outputs": [],
   "source": [
    "import csv\n",
    "csvFile = open('../../Datasets/Sample_dataO.csv')\n",
    "csvReader = csv.reader(csvFile)"
   ]
  },
  {
   "cell_type": "markdown",
   "metadata": {
    "id": "nZgHrX28ze3h"
   },
   "source": [
    "- csvReader is an object of csv.reader()\n",
    "- Check the type of csvReader object\n",
    "- This step is not necessary but can be helpful for verifying that the file was loaded correctly"
   ]
  },
  {
   "cell_type": "code",
   "execution_count": 5,
   "metadata": {
    "colab": {
     "base_uri": "https://localhost:8080/"
    },
    "executionInfo": {
     "elapsed": 8,
     "status": "ok",
     "timestamp": 1682554731471,
     "user": {
      "displayName": "Winnie Aravindan",
      "userId": "17757356026009537686"
     },
     "user_tz": -330
    },
    "id": "cfxgLI1F7kb8",
    "outputId": "c38200f2-406a-482f-c28d-1b25f96c8227"
   },
   "outputs": [
    {
     "data": {
      "text/plain": [
       "_csv.reader"
      ]
     },
     "execution_count": 5,
     "metadata": {},
     "output_type": "execute_result"
    }
   ],
   "source": [
    "type(csvReader)"
   ]
  },
  {
   "cell_type": "markdown",
   "metadata": {
    "id": "TbyyEZy5F8cx"
   },
   "source": [
    "**Observation**\n",
    "\n",
    "- The type of csvReader is _csv.reader."
   ]
  },
  {
   "cell_type": "markdown",
   "metadata": {
    "id": "_FYfAQaL1EO5"
   },
   "source": [
    "Now let us print the contents of the file using a for loop\n",
    "* Declare a variable that iterates through the csvReader\n",
    "* Print the line"
   ]
  },
  {
   "cell_type": "code",
   "execution_count": 6,
   "metadata": {
    "colab": {
     "base_uri": "https://localhost:8080/"
    },
    "executionInfo": {
     "elapsed": 7,
     "status": "ok",
     "timestamp": 1682554731472,
     "user": {
      "displayName": "Winnie Aravindan",
      "userId": "17757356026009537686"
     },
     "user_tz": -330
    },
    "id": "oIyx10Pj7kb9",
    "outputId": "54515d50-c85b-4a2a-f885-2fb29f43691b"
   },
   "outputs": [
    {
     "name": "stdout",
     "output_type": "stream",
     "text": [
      "['name', 'age', 'location', 'phpref']\n",
      "['john', '35', 'germany', 'iphone']\n",
      "['mary', '23', 'france', 'motorola']\n",
      "['johnie', '40', 'germany', 'samsung']\n",
      "['Aarbhiii', '27', 'italy', 'iphone']\n",
      "['Gane', '20', 'Romania', 'sony']\n"
     ]
    }
   ],
   "source": [
    "for line in csvReader:\n",
    "    print(line)"
   ]
  },
  {
   "cell_type": "markdown",
   "metadata": {
    "id": "x3nPxjA7JWeq"
   },
   "source": [
    "## Step 2: Distinguish the Header and the Rows in the CSV File\n",
    "\n",
    "- Open the CSV file for reading using the **with** and **open()** function\n",
    "- Read the CSV file using the **reader()** function \n",
    "- Initiate the variable to **count** the rows\n",
    "- Traverse through the lines in csvReader\n",
    "- Check if the **count** is 0 and print the line as header if it is\n",
    "- Else, print it as a row\n",
    "- Increment the **count** by one\n",
    "\n"
   ]
  },
  {
   "cell_type": "code",
   "execution_count": 7,
   "metadata": {
    "colab": {
     "base_uri": "https://localhost:8080/"
    },
    "executionInfo": {
     "elapsed": 5,
     "status": "ok",
     "timestamp": 1682554731472,
     "user": {
      "displayName": "Winnie Aravindan",
      "userId": "17757356026009537686"
     },
     "user_tz": -330
    },
    "id": "uTyhWdFn7kb-",
    "outputId": "9b62c1d8-8c88-4fc2-9ac2-4fa13bd2fd1d"
   },
   "outputs": [
    {
     "name": "stdout",
     "output_type": "stream",
     "text": [
      "Header: ['name', 'age', 'location', 'phpref']\n",
      "Row: ['john', '35', 'germany', 'iphone']\n",
      "Row: ['mary', '23', 'france', 'motorola']\n",
      "Row: ['johnie', '40', 'germany', 'samsung']\n",
      "Row: ['Aarbhiii', '27', 'italy', 'iphone']\n",
      "Row: ['Gane', '20', 'Romania', 'sony']\n"
     ]
    }
   ],
   "source": [
    "with open('../../Datasets/Sample_dataO.csv','r') as csvFile:\n",
    "    csvReader = csv.reader(csvFile)\n",
    "    count = 0\n",
    "    for line in csvReader:\n",
    "        if count == 0:\n",
    "            print('Header: '+str(line))\n",
    "        else:\n",
    "            print('Row: '+str(line))\n",
    "        count+=1"
   ]
  },
  {
   "cell_type": "markdown",
   "metadata": {
    "id": "e19_Ivgz7Hp4"
   },
   "source": [
    "**Observation**\n",
    "* The first row in a CSV file is always a header. \n",
    "* All other lines are rows."
   ]
  },
  {
   "cell_type": "markdown",
   "metadata": {
    "id": "yHrNccA8Jk15"
   },
   "source": [
    "## Step 3: Write a New Row to the CSV File\n",
    "\n",
    "- Open the CSV file for writing using **with** and **open()** functions\n",
    "- Create a writer object using the **writer()** function\n",
    "- Write a new row to the CSV file using the **writerow()** function, and mention the row to be written as an argument to the **writerow()** function\n"
   ]
  },
  {
   "cell_type": "code",
   "execution_count": 8,
   "metadata": {
    "id": "pNAU4BxC7kb_"
   },
   "outputs": [],
   "source": [
    "with open('../../Datasets/Sample_dataO.csv','a',newline = '') as csvFile:\n",
    "    csvWriter = csv.writer(csvFile)\n",
    "    csvWriter.writerow(['Aarbhiii',27,'italy','iphone'])"
   ]
  },
  {
   "cell_type": "code",
   "execution_count": 9,
   "metadata": {},
   "outputs": [
    {
     "name": "stdout",
     "output_type": "stream",
     "text": [
      "Header: ['name', 'age', 'location', 'phpref']\n",
      "Row: ['john', '35', 'germany', 'iphone']\n",
      "Row: ['mary', '23', 'france', 'motorola']\n",
      "Row: ['johnie', '40', 'germany', 'samsung']\n",
      "Row: ['Aarbhiii', '27', 'italy', 'iphone']\n",
      "Row: ['Gane', '20', 'Romania', 'sony']\n",
      "Row: ['Aarbhiii', '27', 'italy', 'iphone']\n"
     ]
    }
   ],
   "source": [
    "with open('../../Datasets/Sample_dataO.csv','r') as csvFile:\n",
    "    csvReader = csv.reader(csvFile)\n",
    "    count = 0\n",
    "    for line in csvReader:\n",
    "        if count == 0:\n",
    "            print('Header: '+str(line))\n",
    "        else:\n",
    "            print('Row: '+str(line))\n",
    "        count+=1"
   ]
  },
  {
   "cell_type": "markdown",
   "metadata": {
    "id": "PF_TvEbW7kcA"
   },
   "source": [
    "## Step 4: Use the Pandas Library to Read and Modify CSV Files\n",
    "\n",
    "- Import the pandas library\n",
    "- Read the CSV file into a pandas DataFrame object using the read_csv() function\n",
    "\n"
   ]
  },
  {
   "cell_type": "code",
   "execution_count": 10,
   "metadata": {
    "id": "M4-I5HNF7kcC"
   },
   "outputs": [],
   "source": [
    "import pandas as pd\n",
    "\n",
    "df = pd.read_csv('../../Datasets/Sample_dataO.csv')\n",
    "\n"
   ]
  },
  {
   "cell_type": "markdown",
   "metadata": {
    "id": "oyw15itG9miT"
   },
   "source": [
    "Print the contents of the DataFrame to the console.\n",
    "This step is not strictly necessary, but it can be helpful for verifying that the DataFrame was loaded correctly"
   ]
  },
  {
   "cell_type": "code",
   "execution_count": 11,
   "metadata": {
    "colab": {
     "base_uri": "https://localhost:8080/"
    },
    "executionInfo": {
     "elapsed": 16,
     "status": "ok",
     "timestamp": 1682554731905,
     "user": {
      "displayName": "Winnie Aravindan",
      "userId": "17757356026009537686"
     },
     "user_tz": -330
    },
    "id": "OIZvg9LS7kcF",
    "outputId": "f0cefaab-95f9-443c-ac5d-37fe3cfba938"
   },
   "outputs": [
    {
     "data": {
      "text/html": [
       "<div>\n",
       "<style scoped>\n",
       "    .dataframe tbody tr th:only-of-type {\n",
       "        vertical-align: middle;\n",
       "    }\n",
       "\n",
       "    .dataframe tbody tr th {\n",
       "        vertical-align: top;\n",
       "    }\n",
       "\n",
       "    .dataframe thead th {\n",
       "        text-align: right;\n",
       "    }\n",
       "</style>\n",
       "<table border=\"1\" class=\"dataframe\">\n",
       "  <thead>\n",
       "    <tr style=\"text-align: right;\">\n",
       "      <th></th>\n",
       "      <th>name</th>\n",
       "      <th>age</th>\n",
       "      <th>location</th>\n",
       "      <th>phpref</th>\n",
       "    </tr>\n",
       "  </thead>\n",
       "  <tbody>\n",
       "    <tr>\n",
       "      <th>0</th>\n",
       "      <td>john</td>\n",
       "      <td>35</td>\n",
       "      <td>germany</td>\n",
       "      <td>iphone</td>\n",
       "    </tr>\n",
       "    <tr>\n",
       "      <th>1</th>\n",
       "      <td>mary</td>\n",
       "      <td>23</td>\n",
       "      <td>france</td>\n",
       "      <td>motorola</td>\n",
       "    </tr>\n",
       "    <tr>\n",
       "      <th>2</th>\n",
       "      <td>johnie</td>\n",
       "      <td>40</td>\n",
       "      <td>germany</td>\n",
       "      <td>samsung</td>\n",
       "    </tr>\n",
       "    <tr>\n",
       "      <th>3</th>\n",
       "      <td>Aarbhiii</td>\n",
       "      <td>27</td>\n",
       "      <td>italy</td>\n",
       "      <td>iphone</td>\n",
       "    </tr>\n",
       "    <tr>\n",
       "      <th>4</th>\n",
       "      <td>Gane</td>\n",
       "      <td>20</td>\n",
       "      <td>Romania</td>\n",
       "      <td>sony</td>\n",
       "    </tr>\n",
       "    <tr>\n",
       "      <th>5</th>\n",
       "      <td>Aarbhiii</td>\n",
       "      <td>27</td>\n",
       "      <td>italy</td>\n",
       "      <td>iphone</td>\n",
       "    </tr>\n",
       "  </tbody>\n",
       "</table>\n",
       "</div>"
      ],
      "text/plain": [
       "       name  age location    phpref\n",
       "0      john   35  germany    iphone\n",
       "1      mary   23   france  motorola\n",
       "2    johnie   40  germany   samsung\n",
       "3  Aarbhiii   27    italy    iphone\n",
       "4      Gane   20  Romania      sony\n",
       "5  Aarbhiii   27    italy    iphone"
      ]
     },
     "execution_count": 11,
     "metadata": {},
     "output_type": "execute_result"
    }
   ],
   "source": [
    "df"
   ]
  },
  {
   "cell_type": "markdown",
   "metadata": {
    "id": "EUygA6y29tyq"
   },
   "source": [
    "**Observation**\n",
    "* The DataFrame has a tabular structure with rows and columns.\n",
    "* The first column represents the index of the rows. "
   ]
  },
  {
   "cell_type": "markdown",
   "metadata": {
    "id": "lewM0Y3EKApM"
   },
   "source": [
    "## Step 5: Add a New Row to the DataFrame\n",
    "\n",
    "To add a new row to the DataFrame:\n",
    "- Locate the last row index of the DataFrame using the loc[ ] method\n",
    "- Assign the new row item list to this location\n",
    "\n"
   ]
  },
  {
   "cell_type": "code",
   "execution_count": 12,
   "metadata": {
    "id": "iZbzrbuB7kcG"
   },
   "outputs": [],
   "source": [
    "\n",
    "df.loc[len(df.index)] = ['Gane',20,'Romania','sony']"
   ]
  },
  {
   "cell_type": "markdown",
   "metadata": {
    "id": "Y4eX9Ya2-7mD"
   },
   "source": [
    "Print the updated contents of the DataFrame to the console:"
   ]
  },
  {
   "cell_type": "code",
   "execution_count": 13,
   "metadata": {
    "colab": {
     "base_uri": "https://localhost:8080/"
    },
    "executionInfo": {
     "elapsed": 11,
     "status": "ok",
     "timestamp": 1682554731905,
     "user": {
      "displayName": "Winnie Aravindan",
      "userId": "17757356026009537686"
     },
     "user_tz": -330
    },
    "id": "_RhL0JHA7kcG",
    "outputId": "78991ab4-2508-412d-9252-e2ad4878ca12"
   },
   "outputs": [
    {
     "data": {
      "text/html": [
       "<div>\n",
       "<style scoped>\n",
       "    .dataframe tbody tr th:only-of-type {\n",
       "        vertical-align: middle;\n",
       "    }\n",
       "\n",
       "    .dataframe tbody tr th {\n",
       "        vertical-align: top;\n",
       "    }\n",
       "\n",
       "    .dataframe thead th {\n",
       "        text-align: right;\n",
       "    }\n",
       "</style>\n",
       "<table border=\"1\" class=\"dataframe\">\n",
       "  <thead>\n",
       "    <tr style=\"text-align: right;\">\n",
       "      <th></th>\n",
       "      <th>name</th>\n",
       "      <th>age</th>\n",
       "      <th>location</th>\n",
       "      <th>phpref</th>\n",
       "    </tr>\n",
       "  </thead>\n",
       "  <tbody>\n",
       "    <tr>\n",
       "      <th>0</th>\n",
       "      <td>john</td>\n",
       "      <td>35</td>\n",
       "      <td>germany</td>\n",
       "      <td>iphone</td>\n",
       "    </tr>\n",
       "    <tr>\n",
       "      <th>1</th>\n",
       "      <td>mary</td>\n",
       "      <td>23</td>\n",
       "      <td>france</td>\n",
       "      <td>motorola</td>\n",
       "    </tr>\n",
       "    <tr>\n",
       "      <th>2</th>\n",
       "      <td>johnie</td>\n",
       "      <td>40</td>\n",
       "      <td>germany</td>\n",
       "      <td>samsung</td>\n",
       "    </tr>\n",
       "    <tr>\n",
       "      <th>3</th>\n",
       "      <td>Aarbhiii</td>\n",
       "      <td>27</td>\n",
       "      <td>italy</td>\n",
       "      <td>iphone</td>\n",
       "    </tr>\n",
       "    <tr>\n",
       "      <th>4</th>\n",
       "      <td>Gane</td>\n",
       "      <td>20</td>\n",
       "      <td>Romania</td>\n",
       "      <td>sony</td>\n",
       "    </tr>\n",
       "    <tr>\n",
       "      <th>5</th>\n",
       "      <td>Aarbhiii</td>\n",
       "      <td>27</td>\n",
       "      <td>italy</td>\n",
       "      <td>iphone</td>\n",
       "    </tr>\n",
       "    <tr>\n",
       "      <th>6</th>\n",
       "      <td>Gane</td>\n",
       "      <td>20</td>\n",
       "      <td>Romania</td>\n",
       "      <td>sony</td>\n",
       "    </tr>\n",
       "  </tbody>\n",
       "</table>\n",
       "</div>"
      ],
      "text/plain": [
       "       name  age location    phpref\n",
       "0      john   35  germany    iphone\n",
       "1      mary   23   france  motorola\n",
       "2    johnie   40  germany   samsung\n",
       "3  Aarbhiii   27    italy    iphone\n",
       "4      Gane   20  Romania      sony\n",
       "5  Aarbhiii   27    italy    iphone\n",
       "6      Gane   20  Romania      sony"
      ]
     },
     "execution_count": 13,
     "metadata": {},
     "output_type": "execute_result"
    }
   ],
   "source": [
    "df"
   ]
  },
  {
   "cell_type": "markdown",
   "metadata": {
    "id": "Nu3E_7lr_gle"
   },
   "source": [
    "**Observation**\n",
    "* The row is added as the last row of the DataFrame."
   ]
  },
  {
   "cell_type": "markdown",
   "metadata": {
    "id": "xWnuAJdyKI9v"
   },
   "source": [
    "## Step 6: Write the Updated DataFrame Back to the CSV File\n",
    "\n",
    "- Use the to_csv() function to write the contents of the DataFrame to the CSV file\n"
   ]
  },
  {
   "cell_type": "code",
   "execution_count": 14,
   "metadata": {
    "id": "9Y2qj87K7kcH"
   },
   "outputs": [],
   "source": [
    "#The \"index = False\" argument is used to skip writing the index that has been created by pandas internally to the CSV file.\n",
    "df.to_csv('../../Datasets/Sample_dataO2.csv',index = False)"
   ]
  },
  {
   "cell_type": "markdown",
   "metadata": {},
   "source": [
    "_More Examples"
   ]
  },
  {
   "cell_type": "code",
   "execution_count": 15,
   "metadata": {},
   "outputs": [],
   "source": [
    "#creating a file\n",
    "a = open(\"../../Datasets/pytestcr.txt\",\"w+\")"
   ]
  },
  {
   "cell_type": "code",
   "execution_count": 16,
   "metadata": {},
   "outputs": [],
   "source": [
    "#Writing data into a file\n",
    "for i in range(10):\n",
    "     a.write(\"This is line %d\\r\\n\" % (i+1))"
   ]
  },
  {
   "cell_type": "code",
   "execution_count": 17,
   "metadata": {},
   "outputs": [],
   "source": [
    "#closing the file\n",
    "a.close()"
   ]
  },
  {
   "cell_type": "code",
   "execution_count": 18,
   "metadata": {},
   "outputs": [],
   "source": [
    "#opening and appending\n",
    "a = open(\"../../Datasets/pytestcr.txt\",\"a+\")\n",
    "for i in range(5):\n",
    "     a.write(\"This is appended line %d\\r\\n\" % (i+1))\n",
    "a.close()"
   ]
  },
  {
   "cell_type": "code",
   "execution_count": 19,
   "metadata": {},
   "outputs": [
    {
     "name": "stdout",
     "output_type": "stream",
     "text": [
      "This is line 1\n",
      "\n",
      "This is line 2\n",
      "\n",
      "This is line 3\n",
      "\n",
      "This is line 4\n",
      "\n",
      "This is line 5\n",
      "\n",
      "This is line 6\n",
      "\n",
      "This is line 7\n",
      "\n",
      "This is line 8\n",
      "\n",
      "This is line 9\n",
      "\n",
      "This is line 10\n",
      "\n",
      "This is appended line 1\n",
      "\n",
      "This is appended line 2\n",
      "\n",
      "This is appended line 3\n",
      "\n",
      "This is appended line 4\n",
      "\n",
      "This is appended line 5\n",
      "\n",
      "\n"
     ]
    }
   ],
   "source": [
    "#reading\n",
    "a = open(\"../../Datasets/pytestcr.txt\",\"r\")\n",
    "if a.mode == 'r':\n",
    "    contents =a.read()\n",
    "print(contents)"
   ]
  },
  {
   "cell_type": "code",
   "execution_count": 20,
   "metadata": {},
   "outputs": [
    {
     "name": "stdout",
     "output_type": "stream",
     "text": [
      "Line 1: This is line 1\n",
      "Line 2: \n",
      "Line 3: This is line 2\n",
      "Line 4: \n",
      "Line 5: This is line 3\n",
      "Line 6: \n",
      "Line 7: This is line 4\n",
      "Line 8: \n",
      "Line 9: This is line 5\n",
      "Line 10: \n",
      "Line 11: This is line 6\n",
      "Line 12: \n",
      "Line 13: This is line 7\n",
      "Line 14: \n",
      "Line 15: This is line 8\n",
      "Line 16: \n",
      "Line 17: This is line 9\n",
      "Line 18: \n",
      "Line 19: This is line 10\n",
      "Line 20: \n",
      "Line 21: This is appended line 1\n",
      "Line 22: \n",
      "Line 23: This is appended line 2\n",
      "Line 24: \n",
      "Line 25: This is appended line 3\n",
      "Line 26: \n",
      "Line 27: This is appended line 4\n",
      "Line 28: \n",
      "Line 29: This is appended line 5\n",
      "Line 30: \n"
     ]
    }
   ],
   "source": [
    "#reading file\n",
    "filepath = '../../Datasets/pytestcr.txt'\n",
    "with open(filepath) as fp:\n",
    "   line = fp.readline()\n",
    "   cnt = 1\n",
    "   while line:\n",
    "       print(\"Line {}: {}\".format(cnt, line.strip()))\n",
    "       line = fp.readline()\n",
    "       cnt += 1"
   ]
  },
  {
   "cell_type": "code",
   "execution_count": 21,
   "metadata": {},
   "outputs": [
    {
     "data": {
      "text/html": [
       "<div>\n",
       "<style scoped>\n",
       "    .dataframe tbody tr th:only-of-type {\n",
       "        vertical-align: middle;\n",
       "    }\n",
       "\n",
       "    .dataframe tbody tr th {\n",
       "        vertical-align: top;\n",
       "    }\n",
       "\n",
       "    .dataframe thead th {\n",
       "        text-align: right;\n",
       "    }\n",
       "</style>\n",
       "<table border=\"1\" class=\"dataframe\">\n",
       "  <thead>\n",
       "    <tr style=\"text-align: right;\">\n",
       "      <th></th>\n",
       "      <th>auctionid</th>\n",
       "      <th>bid</th>\n",
       "      <th>bidtime</th>\n",
       "      <th>bidder</th>\n",
       "      <th>bidderrate</th>\n",
       "      <th>openbid</th>\n",
       "      <th>price</th>\n",
       "      <th>item</th>\n",
       "      <th>auction_type</th>\n",
       "    </tr>\n",
       "  </thead>\n",
       "  <tbody>\n",
       "    <tr>\n",
       "      <th>0</th>\n",
       "      <td>1638893549</td>\n",
       "      <td>175.00</td>\n",
       "      <td>2.230949</td>\n",
       "      <td>schadenfreud</td>\n",
       "      <td>0.0</td>\n",
       "      <td>99.00</td>\n",
       "      <td>177.50</td>\n",
       "      <td>Cartier wristwatch</td>\n",
       "      <td>3 day auction</td>\n",
       "    </tr>\n",
       "    <tr>\n",
       "      <th>1</th>\n",
       "      <td>1638893549</td>\n",
       "      <td>100.00</td>\n",
       "      <td>2.600116</td>\n",
       "      <td>chuik</td>\n",
       "      <td>0.0</td>\n",
       "      <td>99.00</td>\n",
       "      <td>177.50</td>\n",
       "      <td>Cartier wristwatch</td>\n",
       "      <td>3 day auction</td>\n",
       "    </tr>\n",
       "    <tr>\n",
       "      <th>2</th>\n",
       "      <td>1638893549</td>\n",
       "      <td>120.00</td>\n",
       "      <td>2.600810</td>\n",
       "      <td>kiwisstuff</td>\n",
       "      <td>2.0</td>\n",
       "      <td>99.00</td>\n",
       "      <td>177.50</td>\n",
       "      <td>Cartier wristwatch</td>\n",
       "      <td>3 day auction</td>\n",
       "    </tr>\n",
       "    <tr>\n",
       "      <th>3</th>\n",
       "      <td>1638893549</td>\n",
       "      <td>150.00</td>\n",
       "      <td>2.601076</td>\n",
       "      <td>kiwisstuff</td>\n",
       "      <td>2.0</td>\n",
       "      <td>99.00</td>\n",
       "      <td>177.50</td>\n",
       "      <td>Cartier wristwatch</td>\n",
       "      <td>3 day auction</td>\n",
       "    </tr>\n",
       "    <tr>\n",
       "      <th>4</th>\n",
       "      <td>1638893549</td>\n",
       "      <td>177.50</td>\n",
       "      <td>2.909826</td>\n",
       "      <td>eli.flint@flightsafety.co</td>\n",
       "      <td>4.0</td>\n",
       "      <td>99.00</td>\n",
       "      <td>177.50</td>\n",
       "      <td>Cartier wristwatch</td>\n",
       "      <td>3 day auction</td>\n",
       "    </tr>\n",
       "    <tr>\n",
       "      <th>...</th>\n",
       "      <td>...</td>\n",
       "      <td>...</td>\n",
       "      <td>...</td>\n",
       "      <td>...</td>\n",
       "      <td>...</td>\n",
       "      <td>...</td>\n",
       "      <td>...</td>\n",
       "      <td>...</td>\n",
       "      <td>...</td>\n",
       "    </tr>\n",
       "    <tr>\n",
       "      <th>10676</th>\n",
       "      <td>8214889177</td>\n",
       "      <td>61.00</td>\n",
       "      <td>6.359155</td>\n",
       "      <td>714ark</td>\n",
       "      <td>15.0</td>\n",
       "      <td>0.01</td>\n",
       "      <td>90.01</td>\n",
       "      <td>Xbox game console</td>\n",
       "      <td>7 day auction</td>\n",
       "    </tr>\n",
       "    <tr>\n",
       "      <th>10677</th>\n",
       "      <td>8214889177</td>\n",
       "      <td>76.00</td>\n",
       "      <td>6.359294</td>\n",
       "      <td>rjdorman</td>\n",
       "      <td>1.0</td>\n",
       "      <td>0.01</td>\n",
       "      <td>90.01</td>\n",
       "      <td>Xbox game console</td>\n",
       "      <td>7 day auction</td>\n",
       "    </tr>\n",
       "    <tr>\n",
       "      <th>10678</th>\n",
       "      <td>8214889177</td>\n",
       "      <td>90.00</td>\n",
       "      <td>6.428738</td>\n",
       "      <td>baylorjeep</td>\n",
       "      <td>3.0</td>\n",
       "      <td>0.01</td>\n",
       "      <td>90.01</td>\n",
       "      <td>Xbox game console</td>\n",
       "      <td>7 day auction</td>\n",
       "    </tr>\n",
       "    <tr>\n",
       "      <th>10679</th>\n",
       "      <td>8214889177</td>\n",
       "      <td>88.00</td>\n",
       "      <td>6.760081</td>\n",
       "      <td>jasonjasonparis</td>\n",
       "      <td>18.0</td>\n",
       "      <td>0.01</td>\n",
       "      <td>90.01</td>\n",
       "      <td>Xbox game console</td>\n",
       "      <td>7 day auction</td>\n",
       "    </tr>\n",
       "    <tr>\n",
       "      <th>10680</th>\n",
       "      <td>8214889177</td>\n",
       "      <td>90.01</td>\n",
       "      <td>6.988831</td>\n",
       "      <td>gpgtpse</td>\n",
       "      <td>268.0</td>\n",
       "      <td>0.01</td>\n",
       "      <td>90.01</td>\n",
       "      <td>Xbox game console</td>\n",
       "      <td>7 day auction</td>\n",
       "    </tr>\n",
       "  </tbody>\n",
       "</table>\n",
       "<p>10681 rows × 9 columns</p>\n",
       "</div>"
      ],
      "text/plain": [
       "        auctionid     bid   bidtime                     bidder  bidderrate  \\\n",
       "0      1638893549  175.00  2.230949               schadenfreud         0.0   \n",
       "1      1638893549  100.00  2.600116                      chuik         0.0   \n",
       "2      1638893549  120.00  2.600810                 kiwisstuff         2.0   \n",
       "3      1638893549  150.00  2.601076                 kiwisstuff         2.0   \n",
       "4      1638893549  177.50  2.909826  eli.flint@flightsafety.co         4.0   \n",
       "...           ...     ...       ...                        ...         ...   \n",
       "10676  8214889177   61.00  6.359155                     714ark        15.0   \n",
       "10677  8214889177   76.00  6.359294                   rjdorman         1.0   \n",
       "10678  8214889177   90.00  6.428738                 baylorjeep         3.0   \n",
       "10679  8214889177   88.00  6.760081            jasonjasonparis        18.0   \n",
       "10680  8214889177   90.01  6.988831                    gpgtpse       268.0   \n",
       "\n",
       "       openbid   price                item   auction_type  \n",
       "0        99.00  177.50  Cartier wristwatch  3 day auction  \n",
       "1        99.00  177.50  Cartier wristwatch  3 day auction  \n",
       "2        99.00  177.50  Cartier wristwatch  3 day auction  \n",
       "3        99.00  177.50  Cartier wristwatch  3 day auction  \n",
       "4        99.00  177.50  Cartier wristwatch  3 day auction  \n",
       "...        ...     ...                 ...            ...  \n",
       "10676     0.01   90.01   Xbox game console  7 day auction  \n",
       "10677     0.01   90.01   Xbox game console  7 day auction  \n",
       "10678     0.01   90.01   Xbox game console  7 day auction  \n",
       "10679     0.01   90.01   Xbox game console  7 day auction  \n",
       "10680     0.01   90.01   Xbox game console  7 day auction  \n",
       "\n",
       "[10681 rows x 9 columns]"
      ]
     },
     "execution_count": 21,
     "metadata": {},
     "output_type": "execute_result"
    }
   ],
   "source": [
    "#Using pandas and reading data from web instead of local machine\n",
    "import pandas as pd\n",
    "\n",
    "#option 1\n",
    "df = pd.read_csv('https://raw.githubusercontent.com/ajaykuma/Datasets_For_Work/refs/heads/main/auction.csv')\n",
    "df"
   ]
  },
  {
   "cell_type": "code",
   "execution_count": 22,
   "metadata": {},
   "outputs": [
    {
     "data": {
      "text/plain": [
       "Index(['auctionid', 'bid', 'bidtime', 'bidder', 'bidderrate', 'openbid',\n",
       "       'price', 'item', 'auction_type'],\n",
       "      dtype='object')"
      ]
     },
     "execution_count": 22,
     "metadata": {},
     "output_type": "execute_result"
    }
   ],
   "source": [
    "df.columns"
   ]
  },
  {
   "cell_type": "code",
   "execution_count": 23,
   "metadata": {},
   "outputs": [
    {
     "data": {
      "text/html": [
       "<div>\n",
       "<style scoped>\n",
       "    .dataframe tbody tr th:only-of-type {\n",
       "        vertical-align: middle;\n",
       "    }\n",
       "\n",
       "    .dataframe tbody tr th {\n",
       "        vertical-align: top;\n",
       "    }\n",
       "\n",
       "    .dataframe thead th {\n",
       "        text-align: right;\n",
       "    }\n",
       "</style>\n",
       "<table border=\"1\" class=\"dataframe\">\n",
       "  <thead>\n",
       "    <tr style=\"text-align: right;\">\n",
       "      <th></th>\n",
       "      <th>auctionid</th>\n",
       "      <th>bid</th>\n",
       "      <th>bidtime</th>\n",
       "      <th>bidder</th>\n",
       "      <th>bidderrate</th>\n",
       "      <th>openbid</th>\n",
       "      <th>price</th>\n",
       "      <th>item</th>\n",
       "      <th>auction_type</th>\n",
       "    </tr>\n",
       "  </thead>\n",
       "  <tbody>\n",
       "    <tr>\n",
       "      <th>0</th>\n",
       "      <td>1638893549</td>\n",
       "      <td>175.0</td>\n",
       "      <td>2.230949</td>\n",
       "      <td>schadenfreud</td>\n",
       "      <td>0.0</td>\n",
       "      <td>99.0</td>\n",
       "      <td>177.5</td>\n",
       "      <td>Cartier wristwatch</td>\n",
       "      <td>3 day auction</td>\n",
       "    </tr>\n",
       "    <tr>\n",
       "      <th>1</th>\n",
       "      <td>1638893549</td>\n",
       "      <td>100.0</td>\n",
       "      <td>2.600116</td>\n",
       "      <td>chuik</td>\n",
       "      <td>0.0</td>\n",
       "      <td>99.0</td>\n",
       "      <td>177.5</td>\n",
       "      <td>Cartier wristwatch</td>\n",
       "      <td>3 day auction</td>\n",
       "    </tr>\n",
       "    <tr>\n",
       "      <th>2</th>\n",
       "      <td>1638893549</td>\n",
       "      <td>120.0</td>\n",
       "      <td>2.600810</td>\n",
       "      <td>kiwisstuff</td>\n",
       "      <td>2.0</td>\n",
       "      <td>99.0</td>\n",
       "      <td>177.5</td>\n",
       "      <td>Cartier wristwatch</td>\n",
       "      <td>3 day auction</td>\n",
       "    </tr>\n",
       "    <tr>\n",
       "      <th>3</th>\n",
       "      <td>1638893549</td>\n",
       "      <td>150.0</td>\n",
       "      <td>2.601076</td>\n",
       "      <td>kiwisstuff</td>\n",
       "      <td>2.0</td>\n",
       "      <td>99.0</td>\n",
       "      <td>177.5</td>\n",
       "      <td>Cartier wristwatch</td>\n",
       "      <td>3 day auction</td>\n",
       "    </tr>\n",
       "    <tr>\n",
       "      <th>4</th>\n",
       "      <td>1638893549</td>\n",
       "      <td>177.5</td>\n",
       "      <td>2.909826</td>\n",
       "      <td>eli.flint@flightsafety.co</td>\n",
       "      <td>4.0</td>\n",
       "      <td>99.0</td>\n",
       "      <td>177.5</td>\n",
       "      <td>Cartier wristwatch</td>\n",
       "      <td>3 day auction</td>\n",
       "    </tr>\n",
       "  </tbody>\n",
       "</table>\n",
       "</div>"
      ],
      "text/plain": [
       "    auctionid    bid   bidtime                     bidder  bidderrate  \\\n",
       "0  1638893549  175.0  2.230949               schadenfreud         0.0   \n",
       "1  1638893549  100.0  2.600116                      chuik         0.0   \n",
       "2  1638893549  120.0  2.600810                 kiwisstuff         2.0   \n",
       "3  1638893549  150.0  2.601076                 kiwisstuff         2.0   \n",
       "4  1638893549  177.5  2.909826  eli.flint@flightsafety.co         4.0   \n",
       "\n",
       "   openbid  price                item   auction_type  \n",
       "0     99.0  177.5  Cartier wristwatch  3 day auction  \n",
       "1     99.0  177.5  Cartier wristwatch  3 day auction  \n",
       "2     99.0  177.5  Cartier wristwatch  3 day auction  \n",
       "3     99.0  177.5  Cartier wristwatch  3 day auction  \n",
       "4     99.0  177.5  Cartier wristwatch  3 day auction  "
      ]
     },
     "execution_count": 23,
     "metadata": {},
     "output_type": "execute_result"
    }
   ],
   "source": [
    "df.head()"
   ]
  },
  {
   "cell_type": "code",
   "execution_count": 28,
   "metadata": {},
   "outputs": [
    {
     "data": {
      "text/html": [
       "<div>\n",
       "<style scoped>\n",
       "    .dataframe tbody tr th:only-of-type {\n",
       "        vertical-align: middle;\n",
       "    }\n",
       "\n",
       "    .dataframe tbody tr th {\n",
       "        vertical-align: top;\n",
       "    }\n",
       "\n",
       "    .dataframe thead th {\n",
       "        text-align: right;\n",
       "    }\n",
       "</style>\n",
       "<table border=\"1\" class=\"dataframe\">\n",
       "  <thead>\n",
       "    <tr style=\"text-align: right;\">\n",
       "      <th></th>\n",
       "      <th>0</th>\n",
       "      <th>1</th>\n",
       "      <th>2</th>\n",
       "      <th>3</th>\n",
       "      <th>4</th>\n",
       "      <th>5</th>\n",
       "      <th>6</th>\n",
       "      <th>7</th>\n",
       "      <th>8</th>\n",
       "    </tr>\n",
       "  </thead>\n",
       "  <tbody>\n",
       "    <tr>\n",
       "      <th>0</th>\n",
       "      <td>auctionid</td>\n",
       "      <td>bid</td>\n",
       "      <td>bidtime</td>\n",
       "      <td>bidder</td>\n",
       "      <td>bidderrate</td>\n",
       "      <td>openbid</td>\n",
       "      <td>price</td>\n",
       "      <td>item</td>\n",
       "      <td>auction_type</td>\n",
       "    </tr>\n",
       "    <tr>\n",
       "      <th>1</th>\n",
       "      <td>1638893549</td>\n",
       "      <td>175</td>\n",
       "      <td>2.230949</td>\n",
       "      <td>schadenfreud</td>\n",
       "      <td>0</td>\n",
       "      <td>99</td>\n",
       "      <td>177.5</td>\n",
       "      <td>Cartier wristwatch</td>\n",
       "      <td>3 day auction</td>\n",
       "    </tr>\n",
       "    <tr>\n",
       "      <th>2</th>\n",
       "      <td>1638893549</td>\n",
       "      <td>100</td>\n",
       "      <td>2.600116</td>\n",
       "      <td>chuik</td>\n",
       "      <td>0</td>\n",
       "      <td>99</td>\n",
       "      <td>177.5</td>\n",
       "      <td>Cartier wristwatch</td>\n",
       "      <td>3 day auction</td>\n",
       "    </tr>\n",
       "    <tr>\n",
       "      <th>3</th>\n",
       "      <td>1638893549</td>\n",
       "      <td>120</td>\n",
       "      <td>2.60081</td>\n",
       "      <td>kiwisstuff</td>\n",
       "      <td>2</td>\n",
       "      <td>99</td>\n",
       "      <td>177.5</td>\n",
       "      <td>Cartier wristwatch</td>\n",
       "      <td>3 day auction</td>\n",
       "    </tr>\n",
       "    <tr>\n",
       "      <th>4</th>\n",
       "      <td>1638893549</td>\n",
       "      <td>150</td>\n",
       "      <td>2.601076</td>\n",
       "      <td>kiwisstuff</td>\n",
       "      <td>2</td>\n",
       "      <td>99</td>\n",
       "      <td>177.5</td>\n",
       "      <td>Cartier wristwatch</td>\n",
       "      <td>3 day auction</td>\n",
       "    </tr>\n",
       "  </tbody>\n",
       "</table>\n",
       "</div>"
      ],
      "text/plain": [
       "            0    1         2             3           4        5      6  \\\n",
       "0   auctionid  bid   bidtime        bidder  bidderrate  openbid  price   \n",
       "1  1638893549  175  2.230949  schadenfreud           0       99  177.5   \n",
       "2  1638893549  100  2.600116         chuik           0       99  177.5   \n",
       "3  1638893549  120   2.60081    kiwisstuff           2       99  177.5   \n",
       "4  1638893549  150  2.601076    kiwisstuff           2       99  177.5   \n",
       "\n",
       "                    7              8  \n",
       "0                item   auction_type  \n",
       "1  Cartier wristwatch  3 day auction  \n",
       "2  Cartier wristwatch  3 day auction  \n",
       "3  Cartier wristwatch  3 day auction  \n",
       "4  Cartier wristwatch  3 day auction  "
      ]
     },
     "execution_count": 28,
     "metadata": {},
     "output_type": "execute_result"
    }
   ],
   "source": [
    "#option 2\n",
    "#without header values\n",
    "df1 = pd.read_csv('../../Datasets/auction.csv',header=None)\n",
    "df1.head()"
   ]
  },
  {
   "cell_type": "code",
   "execution_count": 27,
   "metadata": {},
   "outputs": [
    {
     "data": {
      "text/html": [
       "<div>\n",
       "<style scoped>\n",
       "    .dataframe tbody tr th:only-of-type {\n",
       "        vertical-align: middle;\n",
       "    }\n",
       "\n",
       "    .dataframe tbody tr th {\n",
       "        vertical-align: top;\n",
       "    }\n",
       "\n",
       "    .dataframe thead th {\n",
       "        text-align: right;\n",
       "    }\n",
       "</style>\n",
       "<table border=\"1\" class=\"dataframe\">\n",
       "  <thead>\n",
       "    <tr style=\"text-align: right;\">\n",
       "      <th></th>\n",
       "      <th>a</th>\n",
       "      <th>b</th>\n",
       "      <th>c</th>\n",
       "      <th>d</th>\n",
       "      <th>e</th>\n",
       "      <th>f</th>\n",
       "      <th>g</th>\n",
       "      <th>h</th>\n",
       "      <th>message</th>\n",
       "    </tr>\n",
       "  </thead>\n",
       "  <tbody>\n",
       "    <tr>\n",
       "      <th>0</th>\n",
       "      <td>auctionid</td>\n",
       "      <td>bid</td>\n",
       "      <td>bidtime</td>\n",
       "      <td>bidder</td>\n",
       "      <td>bidderrate</td>\n",
       "      <td>openbid</td>\n",
       "      <td>price</td>\n",
       "      <td>item</td>\n",
       "      <td>auction_type</td>\n",
       "    </tr>\n",
       "    <tr>\n",
       "      <th>1</th>\n",
       "      <td>1638893549</td>\n",
       "      <td>175</td>\n",
       "      <td>2.230949</td>\n",
       "      <td>schadenfreud</td>\n",
       "      <td>0</td>\n",
       "      <td>99</td>\n",
       "      <td>177.5</td>\n",
       "      <td>Cartier wristwatch</td>\n",
       "      <td>3 day auction</td>\n",
       "    </tr>\n",
       "  </tbody>\n",
       "</table>\n",
       "</div>"
      ],
      "text/plain": [
       "            a    b         c             d           e        f      g  \\\n",
       "0   auctionid  bid   bidtime        bidder  bidderrate  openbid  price   \n",
       "1  1638893549  175  2.230949  schadenfreud           0       99  177.5   \n",
       "\n",
       "                    h        message  \n",
       "0                item   auction_type  \n",
       "1  Cartier wristwatch  3 day auction  "
      ]
     },
     "execution_count": 27,
     "metadata": {},
     "output_type": "execute_result"
    }
   ],
   "source": [
    "#option 3\n",
    "#passing header names\n",
    "df2 = pd.read_csv('../../Datasets/auction.csv',names=['a', 'b', 'c', 'd', 'e','f','g','h','message'])\n",
    "df2.head(2)"
   ]
  },
  {
   "cell_type": "code",
   "execution_count": 26,
   "metadata": {},
   "outputs": [
    {
     "data": {
      "text/html": [
       "<div>\n",
       "<style scoped>\n",
       "    .dataframe tbody tr th:only-of-type {\n",
       "        vertical-align: middle;\n",
       "    }\n",
       "\n",
       "    .dataframe tbody tr th {\n",
       "        vertical-align: top;\n",
       "    }\n",
       "\n",
       "    .dataframe thead th {\n",
       "        text-align: right;\n",
       "    }\n",
       "</style>\n",
       "<table border=\"1\" class=\"dataframe\">\n",
       "  <thead>\n",
       "    <tr style=\"text-align: right;\">\n",
       "      <th></th>\n",
       "      <th>a</th>\n",
       "      <th>b</th>\n",
       "      <th>c</th>\n",
       "      <th>d</th>\n",
       "      <th>e</th>\n",
       "      <th>f</th>\n",
       "      <th>g</th>\n",
       "      <th>h</th>\n",
       "    </tr>\n",
       "    <tr>\n",
       "      <th>message</th>\n",
       "      <th></th>\n",
       "      <th></th>\n",
       "      <th></th>\n",
       "      <th></th>\n",
       "      <th></th>\n",
       "      <th></th>\n",
       "      <th></th>\n",
       "      <th></th>\n",
       "    </tr>\n",
       "  </thead>\n",
       "  <tbody>\n",
       "    <tr>\n",
       "      <th>auction_type</th>\n",
       "      <td>auctionid</td>\n",
       "      <td>bid</td>\n",
       "      <td>bidtime</td>\n",
       "      <td>bidder</td>\n",
       "      <td>bidderrate</td>\n",
       "      <td>openbid</td>\n",
       "      <td>price</td>\n",
       "      <td>item</td>\n",
       "    </tr>\n",
       "    <tr>\n",
       "      <th>3 day auction</th>\n",
       "      <td>1638893549</td>\n",
       "      <td>175</td>\n",
       "      <td>2.230949</td>\n",
       "      <td>schadenfreud</td>\n",
       "      <td>0</td>\n",
       "      <td>99</td>\n",
       "      <td>177.5</td>\n",
       "      <td>Cartier wristwatch</td>\n",
       "    </tr>\n",
       "  </tbody>\n",
       "</table>\n",
       "</div>"
      ],
      "text/plain": [
       "                        a    b         c             d           e        f  \\\n",
       "message                                                                       \n",
       "auction_type    auctionid  bid   bidtime        bidder  bidderrate  openbid   \n",
       "3 day auction  1638893549  175  2.230949  schadenfreud           0       99   \n",
       "\n",
       "                   g                   h  \n",
       "message                                   \n",
       "auction_type   price                item  \n",
       "3 day auction  177.5  Cartier wristwatch  "
      ]
     },
     "execution_count": 26,
     "metadata": {},
     "output_type": "execute_result"
    }
   ],
   "source": [
    "#option 4\n",
    "#making a column as index column\n",
    "names=['a', 'b', 'c', 'd', 'e','f','g','h','message']\n",
    "df3 = pd.read_csv('../../Datasets/auction.csv',\n",
    "      names=names,index_col='message')\n",
    "df3.head(2)"
   ]
  },
  {
   "cell_type": "code",
   "execution_count": 29,
   "metadata": {},
   "outputs": [],
   "source": [
    "#option 5\n",
    "#Other options\n",
    "df4 = pd.read_csv('../../Datasets/auction.csv',skiprows=[0, 2, 3])\n"
   ]
  },
  {
   "cell_type": "code",
   "execution_count": 30,
   "metadata": {},
   "outputs": [
    {
     "data": {
      "text/html": [
       "<div>\n",
       "<style scoped>\n",
       "    .dataframe tbody tr th:only-of-type {\n",
       "        vertical-align: middle;\n",
       "    }\n",
       "\n",
       "    .dataframe tbody tr th {\n",
       "        vertical-align: top;\n",
       "    }\n",
       "\n",
       "    .dataframe thead th {\n",
       "        text-align: right;\n",
       "    }\n",
       "</style>\n",
       "<table border=\"1\" class=\"dataframe\">\n",
       "  <thead>\n",
       "    <tr style=\"text-align: right;\">\n",
       "      <th></th>\n",
       "      <th>1638893549</th>\n",
       "      <th>175</th>\n",
       "      <th>2.230949</th>\n",
       "      <th>schadenfreud</th>\n",
       "      <th>0</th>\n",
       "      <th>99</th>\n",
       "      <th>177.5</th>\n",
       "      <th>Cartier wristwatch</th>\n",
       "      <th>3 day auction</th>\n",
       "    </tr>\n",
       "  </thead>\n",
       "  <tbody>\n",
       "    <tr>\n",
       "      <th>0</th>\n",
       "      <td>1638893549</td>\n",
       "      <td>150.0</td>\n",
       "      <td>2.601076</td>\n",
       "      <td>kiwisstuff</td>\n",
       "      <td>2.0</td>\n",
       "      <td>99.0</td>\n",
       "      <td>177.5</td>\n",
       "      <td>Cartier wristwatch</td>\n",
       "      <td>3 day auction</td>\n",
       "    </tr>\n",
       "    <tr>\n",
       "      <th>1</th>\n",
       "      <td>1638893549</td>\n",
       "      <td>177.5</td>\n",
       "      <td>2.909826</td>\n",
       "      <td>eli.flint@flightsafety.co</td>\n",
       "      <td>4.0</td>\n",
       "      <td>99.0</td>\n",
       "      <td>177.5</td>\n",
       "      <td>Cartier wristwatch</td>\n",
       "      <td>3 day auction</td>\n",
       "    </tr>\n",
       "  </tbody>\n",
       "</table>\n",
       "</div>"
      ],
      "text/plain": [
       "   1638893549    175  2.230949               schadenfreud    0    99  177.5  \\\n",
       "0  1638893549  150.0  2.601076                 kiwisstuff  2.0  99.0  177.5   \n",
       "1  1638893549  177.5  2.909826  eli.flint@flightsafety.co  4.0  99.0  177.5   \n",
       "\n",
       "   Cartier wristwatch  3 day auction  \n",
       "0  Cartier wristwatch  3 day auction  \n",
       "1  Cartier wristwatch  3 day auction  "
      ]
     },
     "execution_count": 30,
     "metadata": {},
     "output_type": "execute_result"
    }
   ],
   "source": [
    "df4.head(2)"
   ]
  },
  {
   "cell_type": "code",
   "execution_count": 32,
   "metadata": {},
   "outputs": [],
   "source": [
    "#other options\n",
    "df5 = pd.read_csv('../../Datasets/auction.csv',na_values=['NULL'])\n"
   ]
  },
  {
   "cell_type": "code",
   "execution_count": 35,
   "metadata": {},
   "outputs": [],
   "source": [
    "opsd_data = pd.read_csv('../../Datasets/opsd_germany_daily.txt')"
   ]
  },
  {
   "cell_type": "code",
   "execution_count": 37,
   "metadata": {},
   "outputs": [
    {
     "data": {
      "text/html": [
       "<div>\n",
       "<style scoped>\n",
       "    .dataframe tbody tr th:only-of-type {\n",
       "        vertical-align: middle;\n",
       "    }\n",
       "\n",
       "    .dataframe tbody tr th {\n",
       "        vertical-align: top;\n",
       "    }\n",
       "\n",
       "    .dataframe thead th {\n",
       "        text-align: right;\n",
       "    }\n",
       "</style>\n",
       "<table border=\"1\" class=\"dataframe\">\n",
       "  <thead>\n",
       "    <tr style=\"text-align: right;\">\n",
       "      <th></th>\n",
       "      <th>Date</th>\n",
       "      <th>Consumption</th>\n",
       "      <th>Wind</th>\n",
       "      <th>Solar</th>\n",
       "      <th>Wind+Solar</th>\n",
       "    </tr>\n",
       "  </thead>\n",
       "  <tbody>\n",
       "    <tr>\n",
       "      <th>0</th>\n",
       "      <td>2006-01-01</td>\n",
       "      <td>1069.18400</td>\n",
       "      <td>NaN</td>\n",
       "      <td>NaN</td>\n",
       "      <td>NaN</td>\n",
       "    </tr>\n",
       "    <tr>\n",
       "      <th>1</th>\n",
       "      <td>2006-01-02</td>\n",
       "      <td>1380.52100</td>\n",
       "      <td>NaN</td>\n",
       "      <td>NaN</td>\n",
       "      <td>NaN</td>\n",
       "    </tr>\n",
       "    <tr>\n",
       "      <th>2</th>\n",
       "      <td>2006-01-03</td>\n",
       "      <td>1442.53300</td>\n",
       "      <td>NaN</td>\n",
       "      <td>NaN</td>\n",
       "      <td>NaN</td>\n",
       "    </tr>\n",
       "    <tr>\n",
       "      <th>3</th>\n",
       "      <td>2006-01-04</td>\n",
       "      <td>1457.21700</td>\n",
       "      <td>NaN</td>\n",
       "      <td>NaN</td>\n",
       "      <td>NaN</td>\n",
       "    </tr>\n",
       "    <tr>\n",
       "      <th>4</th>\n",
       "      <td>2006-01-05</td>\n",
       "      <td>1477.13100</td>\n",
       "      <td>NaN</td>\n",
       "      <td>NaN</td>\n",
       "      <td>NaN</td>\n",
       "    </tr>\n",
       "    <tr>\n",
       "      <th>...</th>\n",
       "      <td>...</td>\n",
       "      <td>...</td>\n",
       "      <td>...</td>\n",
       "      <td>...</td>\n",
       "      <td>...</td>\n",
       "    </tr>\n",
       "    <tr>\n",
       "      <th>4378</th>\n",
       "      <td>2017-12-27</td>\n",
       "      <td>1263.94091</td>\n",
       "      <td>394.507</td>\n",
       "      <td>16.530</td>\n",
       "      <td>411.037</td>\n",
       "    </tr>\n",
       "    <tr>\n",
       "      <th>4379</th>\n",
       "      <td>2017-12-28</td>\n",
       "      <td>1299.86398</td>\n",
       "      <td>506.424</td>\n",
       "      <td>14.162</td>\n",
       "      <td>520.586</td>\n",
       "    </tr>\n",
       "    <tr>\n",
       "      <th>4380</th>\n",
       "      <td>2017-12-29</td>\n",
       "      <td>1295.08753</td>\n",
       "      <td>584.277</td>\n",
       "      <td>29.854</td>\n",
       "      <td>614.131</td>\n",
       "    </tr>\n",
       "    <tr>\n",
       "      <th>4381</th>\n",
       "      <td>2017-12-30</td>\n",
       "      <td>1215.44897</td>\n",
       "      <td>721.247</td>\n",
       "      <td>7.467</td>\n",
       "      <td>728.714</td>\n",
       "    </tr>\n",
       "    <tr>\n",
       "      <th>4382</th>\n",
       "      <td>2017-12-31</td>\n",
       "      <td>1107.11488</td>\n",
       "      <td>721.176</td>\n",
       "      <td>19.980</td>\n",
       "      <td>741.156</td>\n",
       "    </tr>\n",
       "  </tbody>\n",
       "</table>\n",
       "<p>4383 rows × 5 columns</p>\n",
       "</div>"
      ],
      "text/plain": [
       "            Date  Consumption     Wind   Solar  Wind+Solar\n",
       "0     2006-01-01   1069.18400      NaN     NaN         NaN\n",
       "1     2006-01-02   1380.52100      NaN     NaN         NaN\n",
       "2     2006-01-03   1442.53300      NaN     NaN         NaN\n",
       "3     2006-01-04   1457.21700      NaN     NaN         NaN\n",
       "4     2006-01-05   1477.13100      NaN     NaN         NaN\n",
       "...          ...          ...      ...     ...         ...\n",
       "4378  2017-12-27   1263.94091  394.507  16.530     411.037\n",
       "4379  2017-12-28   1299.86398  506.424  14.162     520.586\n",
       "4380  2017-12-29   1295.08753  584.277  29.854     614.131\n",
       "4381  2017-12-30   1215.44897  721.247   7.467     728.714\n",
       "4382  2017-12-31   1107.11488  721.176  19.980     741.156\n",
       "\n",
       "[4383 rows x 5 columns]"
      ]
     },
     "execution_count": 37,
     "metadata": {},
     "output_type": "execute_result"
    }
   ],
   "source": [
    "opsd_data"
   ]
  },
  {
   "cell_type": "code",
   "execution_count": 45,
   "metadata": {},
   "outputs": [],
   "source": [
    "opsd_data['Wind'] = opsd_data['Wind'].fillna(0)"
   ]
  },
  {
   "cell_type": "code",
   "execution_count": 47,
   "metadata": {},
   "outputs": [
    {
     "data": {
      "text/html": [
       "<div>\n",
       "<style scoped>\n",
       "    .dataframe tbody tr th:only-of-type {\n",
       "        vertical-align: middle;\n",
       "    }\n",
       "\n",
       "    .dataframe tbody tr th {\n",
       "        vertical-align: top;\n",
       "    }\n",
       "\n",
       "    .dataframe thead th {\n",
       "        text-align: right;\n",
       "    }\n",
       "</style>\n",
       "<table border=\"1\" class=\"dataframe\">\n",
       "  <thead>\n",
       "    <tr style=\"text-align: right;\">\n",
       "      <th></th>\n",
       "      <th>Date</th>\n",
       "      <th>Consumption</th>\n",
       "      <th>Wind</th>\n",
       "      <th>Solar</th>\n",
       "      <th>Wind+Solar</th>\n",
       "    </tr>\n",
       "  </thead>\n",
       "  <tbody>\n",
       "    <tr>\n",
       "      <th>0</th>\n",
       "      <td>2006-01-01</td>\n",
       "      <td>1069.184</td>\n",
       "      <td>0.0</td>\n",
       "      <td>NaN</td>\n",
       "      <td>NaN</td>\n",
       "    </tr>\n",
       "    <tr>\n",
       "      <th>1</th>\n",
       "      <td>2006-01-02</td>\n",
       "      <td>1380.521</td>\n",
       "      <td>0.0</td>\n",
       "      <td>NaN</td>\n",
       "      <td>NaN</td>\n",
       "    </tr>\n",
       "  </tbody>\n",
       "</table>\n",
       "</div>"
      ],
      "text/plain": [
       "         Date  Consumption  Wind  Solar  Wind+Solar\n",
       "0  2006-01-01     1069.184   0.0    NaN         NaN\n",
       "1  2006-01-02     1380.521   0.0    NaN         NaN"
      ]
     },
     "execution_count": 47,
     "metadata": {},
     "output_type": "execute_result"
    }
   ],
   "source": [
    "opsd_data.head(2)"
   ]
  },
  {
   "cell_type": "code",
   "execution_count": 48,
   "metadata": {},
   "outputs": [
    {
     "data": {
      "text/html": [
       "<div>\n",
       "<style scoped>\n",
       "    .dataframe tbody tr th:only-of-type {\n",
       "        vertical-align: middle;\n",
       "    }\n",
       "\n",
       "    .dataframe tbody tr th {\n",
       "        vertical-align: top;\n",
       "    }\n",
       "\n",
       "    .dataframe thead th {\n",
       "        text-align: right;\n",
       "    }\n",
       "</style>\n",
       "<table border=\"1\" class=\"dataframe\">\n",
       "  <thead>\n",
       "    <tr style=\"text-align: right;\">\n",
       "      <th></th>\n",
       "      <th>serNo</th>\n",
       "      <th>age</th>\n",
       "      <th>job</th>\n",
       "      <th>marital</th>\n",
       "      <th>education</th>\n",
       "      <th>defaulter</th>\n",
       "      <th>balance</th>\n",
       "      <th>housing</th>\n",
       "      <th>loan</th>\n",
       "      <th>contact</th>\n",
       "      <th>day</th>\n",
       "      <th>month</th>\n",
       "      <th>duration</th>\n",
       "      <th>campaign</th>\n",
       "      <th>pdays</th>\n",
       "      <th>previous</th>\n",
       "      <th>poutcome</th>\n",
       "      <th>y</th>\n",
       "    </tr>\n",
       "  </thead>\n",
       "  <tbody>\n",
       "    <tr>\n",
       "      <th>0</th>\n",
       "      <td>1</td>\n",
       "      <td>58</td>\n",
       "      <td>management</td>\n",
       "      <td>married</td>\n",
       "      <td>tertiary</td>\n",
       "      <td>no</td>\n",
       "      <td>2143</td>\n",
       "      <td>yes</td>\n",
       "      <td>no</td>\n",
       "      <td>unknown</td>\n",
       "      <td>5</td>\n",
       "      <td>may</td>\n",
       "      <td>261</td>\n",
       "      <td>1</td>\n",
       "      <td>-1</td>\n",
       "      <td>0</td>\n",
       "      <td>unknown</td>\n",
       "      <td>no</td>\n",
       "    </tr>\n",
       "    <tr>\n",
       "      <th>1</th>\n",
       "      <td>2</td>\n",
       "      <td>44</td>\n",
       "      <td>technician</td>\n",
       "      <td>single</td>\n",
       "      <td>secondary</td>\n",
       "      <td>no</td>\n",
       "      <td>29</td>\n",
       "      <td>yes</td>\n",
       "      <td>no</td>\n",
       "      <td>unknown</td>\n",
       "      <td>5</td>\n",
       "      <td>may</td>\n",
       "      <td>151</td>\n",
       "      <td>1</td>\n",
       "      <td>-1</td>\n",
       "      <td>0</td>\n",
       "      <td>unknown</td>\n",
       "      <td>no</td>\n",
       "    </tr>\n",
       "    <tr>\n",
       "      <th>2</th>\n",
       "      <td>3</td>\n",
       "      <td>33</td>\n",
       "      <td>entrepreneur</td>\n",
       "      <td>married</td>\n",
       "      <td>secondary</td>\n",
       "      <td>no</td>\n",
       "      <td>2</td>\n",
       "      <td>yes</td>\n",
       "      <td>yes</td>\n",
       "      <td>unknown</td>\n",
       "      <td>5</td>\n",
       "      <td>may</td>\n",
       "      <td>76</td>\n",
       "      <td>1</td>\n",
       "      <td>-1</td>\n",
       "      <td>0</td>\n",
       "      <td>unknown</td>\n",
       "      <td>no</td>\n",
       "    </tr>\n",
       "    <tr>\n",
       "      <th>3</th>\n",
       "      <td>4</td>\n",
       "      <td>47</td>\n",
       "      <td>blue-collar</td>\n",
       "      <td>married</td>\n",
       "      <td>unknown</td>\n",
       "      <td>no</td>\n",
       "      <td>1506</td>\n",
       "      <td>yes</td>\n",
       "      <td>no</td>\n",
       "      <td>unknown</td>\n",
       "      <td>5</td>\n",
       "      <td>may</td>\n",
       "      <td>92</td>\n",
       "      <td>1</td>\n",
       "      <td>-1</td>\n",
       "      <td>0</td>\n",
       "      <td>unknown</td>\n",
       "      <td>no</td>\n",
       "    </tr>\n",
       "    <tr>\n",
       "      <th>4</th>\n",
       "      <td>5</td>\n",
       "      <td>33</td>\n",
       "      <td>unknown</td>\n",
       "      <td>single</td>\n",
       "      <td>unknown</td>\n",
       "      <td>no</td>\n",
       "      <td>1</td>\n",
       "      <td>no</td>\n",
       "      <td>no</td>\n",
       "      <td>unknown</td>\n",
       "      <td>5</td>\n",
       "      <td>may</td>\n",
       "      <td>198</td>\n",
       "      <td>1</td>\n",
       "      <td>-1</td>\n",
       "      <td>0</td>\n",
       "      <td>unknown</td>\n",
       "      <td>no</td>\n",
       "    </tr>\n",
       "  </tbody>\n",
       "</table>\n",
       "</div>"
      ],
      "text/plain": [
       "   serNo  age           job  marital  education defaulter  balance housing  \\\n",
       "0      1   58    management  married   tertiary        no     2143     yes   \n",
       "1      2   44    technician   single  secondary        no       29     yes   \n",
       "2      3   33  entrepreneur  married  secondary        no        2     yes   \n",
       "3      4   47   blue-collar  married    unknown        no     1506     yes   \n",
       "4      5   33       unknown   single    unknown        no        1      no   \n",
       "\n",
       "  loan  contact  day month  duration  campaign  pdays  previous poutcome   y  \n",
       "0   no  unknown    5   may       261         1     -1         0  unknown  no  \n",
       "1   no  unknown    5   may       151         1     -1         0  unknown  no  \n",
       "2  yes  unknown    5   may        76         1     -1         0  unknown  no  \n",
       "3   no  unknown    5   may        92         1     -1         0  unknown  no  \n",
       "4   no  unknown    5   may       198         1     -1         0  unknown  no  "
      ]
     },
     "execution_count": 48,
     "metadata": {},
     "output_type": "execute_result"
    }
   ],
   "source": [
    "#using chunksize /nrows\n",
    "pd.read_csv('../../Datasets/Bank_full.csv',nrows=5)\n"
   ]
  },
  {
   "cell_type": "code",
   "execution_count": 51,
   "metadata": {},
   "outputs": [],
   "source": [
    "mydf = pd.read_csv('../../Datasets/Bank_full.csv',chunksize=1000)"
   ]
  },
  {
   "cell_type": "code",
   "execution_count": 52,
   "metadata": {},
   "outputs": [
    {
     "data": {
      "text/plain": [
       "pandas.io.parsers.readers.TextFileReader"
      ]
     },
     "execution_count": 52,
     "metadata": {},
     "output_type": "execute_result"
    }
   ],
   "source": [
    "type(mydf)"
   ]
  },
  {
   "cell_type": "code",
   "execution_count": 55,
   "metadata": {},
   "outputs": [],
   "source": [
    "#for i in mydf:\n",
    "#    print(i)"
   ]
  },
  {
   "cell_type": "code",
   "execution_count": 57,
   "metadata": {},
   "outputs": [
    {
     "data": {
      "text/html": [
       "<div>\n",
       "<style scoped>\n",
       "    .dataframe tbody tr th:only-of-type {\n",
       "        vertical-align: middle;\n",
       "    }\n",
       "\n",
       "    .dataframe tbody tr th {\n",
       "        vertical-align: top;\n",
       "    }\n",
       "\n",
       "    .dataframe thead th {\n",
       "        text-align: right;\n",
       "    }\n",
       "</style>\n",
       "<table border=\"1\" class=\"dataframe\">\n",
       "  <thead>\n",
       "    <tr style=\"text-align: right;\">\n",
       "      <th></th>\n",
       "      <th>auctionid</th>\n",
       "      <th>bid</th>\n",
       "      <th>bidtime</th>\n",
       "      <th>bidder</th>\n",
       "      <th>bidderrate</th>\n",
       "      <th>openbid</th>\n",
       "      <th>price</th>\n",
       "      <th>item</th>\n",
       "      <th>auction_type</th>\n",
       "    </tr>\n",
       "  </thead>\n",
       "  <tbody>\n",
       "    <tr>\n",
       "      <th>0</th>\n",
       "      <td>1638893549</td>\n",
       "      <td>175.0</td>\n",
       "      <td>2.230949</td>\n",
       "      <td>schadenfreud</td>\n",
       "      <td>0.0</td>\n",
       "      <td>99.0</td>\n",
       "      <td>177.5</td>\n",
       "      <td>Cartier wristwatch</td>\n",
       "      <td>3 day auction</td>\n",
       "    </tr>\n",
       "    <tr>\n",
       "      <th>1</th>\n",
       "      <td>1638893549</td>\n",
       "      <td>100.0</td>\n",
       "      <td>2.600116</td>\n",
       "      <td>chuik</td>\n",
       "      <td>0.0</td>\n",
       "      <td>99.0</td>\n",
       "      <td>177.5</td>\n",
       "      <td>Cartier wristwatch</td>\n",
       "      <td>3 day auction</td>\n",
       "    </tr>\n",
       "    <tr>\n",
       "      <th>2</th>\n",
       "      <td>1638893549</td>\n",
       "      <td>120.0</td>\n",
       "      <td>2.600810</td>\n",
       "      <td>kiwisstuff</td>\n",
       "      <td>2.0</td>\n",
       "      <td>99.0</td>\n",
       "      <td>177.5</td>\n",
       "      <td>Cartier wristwatch</td>\n",
       "      <td>3 day auction</td>\n",
       "    </tr>\n",
       "  </tbody>\n",
       "</table>\n",
       "</div>"
      ],
      "text/plain": [
       "    auctionid    bid   bidtime        bidder  bidderrate  openbid  price  \\\n",
       "0  1638893549  175.0  2.230949  schadenfreud         0.0     99.0  177.5   \n",
       "1  1638893549  100.0  2.600116         chuik         0.0     99.0  177.5   \n",
       "2  1638893549  120.0  2.600810    kiwisstuff         2.0     99.0  177.5   \n",
       "\n",
       "                 item   auction_type  \n",
       "0  Cartier wristwatch  3 day auction  \n",
       "1  Cartier wristwatch  3 day auction  \n",
       "2  Cartier wristwatch  3 day auction  "
      ]
     },
     "execution_count": 57,
     "metadata": {},
     "output_type": "execute_result"
    }
   ],
   "source": [
    "#option 1\n",
    "df = pd.read_csv('https://raw.githubusercontent.com/ajaykuma/Datasets_For_Work/refs/heads/main/auction.csv')\n",
    "df.head(3)"
   ]
  },
  {
   "cell_type": "code",
   "execution_count": 58,
   "metadata": {},
   "outputs": [],
   "source": [
    "#writing data out\n",
    "df.to_csv('../../Datasets/auction_mod.csv')"
   ]
  },
  {
   "cell_type": "code",
   "execution_count": 61,
   "metadata": {},
   "outputs": [],
   "source": [
    "import sys\n",
    "#df.to_csv(sys.stdout,sep = '|')\n",
    "#df.to_csv(sys.stdout,sep = '|',na_rep='NULL')\n",
    "#df.to_csv(sys.stdout,sep = '|',index=False, header=False)\n",
    "#df.to_csv(sys.stdout,sep = '|',index=False, cols =['a','b','c'])"
   ]
  },
  {
   "cell_type": "code",
   "execution_count": 63,
   "metadata": {},
   "outputs": [],
   "source": [
    "df.to_csv('../../Datasets/auction_mod2.csv',sep = '|')"
   ]
  },
  {
   "cell_type": "code",
   "execution_count": null,
   "metadata": {},
   "outputs": [],
   "source": []
  }
 ],
 "metadata": {
  "colab": {
   "provenance": []
  },
  "kernelspec": {
   "display_name": "Python 3 (ipykernel)",
   "language": "python",
   "name": "python3"
  },
  "language_info": {
   "codemirror_mode": {
    "name": "ipython",
    "version": 3
   },
   "file_extension": ".py",
   "mimetype": "text/x-python",
   "name": "python",
   "nbconvert_exporter": "python",
   "pygments_lexer": "ipython3",
   "version": "3.8.2rc2"
  }
 },
 "nbformat": 4,
 "nbformat_minor": 4
}
