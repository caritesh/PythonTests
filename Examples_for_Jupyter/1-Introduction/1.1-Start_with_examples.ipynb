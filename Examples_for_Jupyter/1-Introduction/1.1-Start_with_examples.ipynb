{
 "cells": [
  {
   "cell_type": "markdown",
   "id": "91245704-0c1b-4ec2-8a9d-42ae11f33de2",
   "metadata": {},
   "source": [
    "\"\"\"\n",
    "Sample python codes\n",
    "\"\"\""
   ]
  },
  {
   "cell_type": "markdown",
   "id": "195dc9c5-d61b-4c96-a1af-a154365c7ac8",
   "metadata": {},
   "source": [
    "**Few basic examples**"
   ]
  },
  {
   "cell_type": "code",
   "execution_count": 2,
   "id": "80048b0a-c805-43ed-8360-7bfa8f85cbe1",
   "metadata": {},
   "outputs": [],
   "source": [
    "#workin with python"
   ]
  },
  {
   "cell_type": "code",
   "execution_count": 1,
   "id": "3189350f-7b8c-478d-add9-e5f6b4a87cbd",
   "metadata": {},
   "outputs": [],
   "source": [
    "x = 10"
   ]
  },
  {
   "cell_type": "code",
   "execution_count": 2,
   "id": "9c805a7c-18c0-44f4-a0db-bdead046ecfb",
   "metadata": {},
   "outputs": [
    {
     "data": {
      "text/plain": [
       "int"
      ]
     },
     "execution_count": 2,
     "metadata": {},
     "output_type": "execute_result"
    }
   ],
   "source": [
    "type(x)"
   ]
  },
  {
   "cell_type": "code",
   "execution_count": 3,
   "id": "40d7e734-cb24-426d-b44b-2c40e28fb5ea",
   "metadata": {},
   "outputs": [],
   "source": [
    "y = 'welcome'"
   ]
  },
  {
   "cell_type": "code",
   "execution_count": 4,
   "id": "8f172719-b304-491f-aa16-424fc81e7aa4",
   "metadata": {},
   "outputs": [
    {
     "data": {
      "text/plain": [
       "str"
      ]
     },
     "execution_count": 4,
     "metadata": {},
     "output_type": "execute_result"
    }
   ],
   "source": [
    "type(y)"
   ]
  },
  {
   "cell_type": "code",
   "execution_count": 6,
   "id": "918a5fa3-1bd5-432a-a8cb-a69df98b884e",
   "metadata": {},
   "outputs": [
    {
     "data": {
      "text/plain": [
       "'10welcome'"
      ]
     },
     "execution_count": 6,
     "metadata": {},
     "output_type": "execute_result"
    }
   ],
   "source": [
    "#casting\n",
    "str(x) + y"
   ]
  },
  {
   "cell_type": "code",
   "execution_count": 7,
   "id": "14e13141-e7a6-4756-930e-4c1d31d15dcd",
   "metadata": {},
   "outputs": [],
   "source": [
    "x = True"
   ]
  },
  {
   "cell_type": "code",
   "execution_count": 8,
   "id": "565dfc01-4fe2-4d50-abaf-8f2f5d6ebc47",
   "metadata": {},
   "outputs": [
    {
     "data": {
      "text/plain": [
       "bool"
      ]
     },
     "execution_count": 8,
     "metadata": {},
     "output_type": "execute_result"
    }
   ],
   "source": [
    "type(x)"
   ]
  },
  {
   "cell_type": "code",
   "execution_count": 9,
   "id": "5e8addc3-8f9e-4fdf-83b2-f3235b764467",
   "metadata": {},
   "outputs": [],
   "source": [
    "#dict,tuples,lists,set"
   ]
  },
  {
   "cell_type": "markdown",
   "id": "3d2544e6-d486-4f14-b03b-d65934d9c06a",
   "metadata": {},
   "source": [
    "**Lists**"
   ]
  },
  {
   "cell_type": "code",
   "execution_count": 10,
   "id": "75cd5195-f045-4ccd-a798-bf41a12063e5",
   "metadata": {},
   "outputs": [],
   "source": [
    "lst = []"
   ]
  },
  {
   "cell_type": "code",
   "execution_count": 11,
   "id": "9b7bf274-b1f1-48ec-84a4-d1c45c39964c",
   "metadata": {},
   "outputs": [
    {
     "data": {
      "text/plain": [
       "list"
      ]
     },
     "execution_count": 11,
     "metadata": {},
     "output_type": "execute_result"
    }
   ],
   "source": [
    "type(lst)"
   ]
  },
  {
   "cell_type": "code",
   "execution_count": 12,
   "id": "af7a9fdd-e806-4788-be5d-a8f8e5cb1458",
   "metadata": {},
   "outputs": [],
   "source": [
    "lst.append(1)"
   ]
  },
  {
   "cell_type": "code",
   "execution_count": 13,
   "id": "3bd34b2a-4617-4777-8d2d-fdfaa455b5ac",
   "metadata": {},
   "outputs": [],
   "source": [
    "lst.append(2)"
   ]
  },
  {
   "cell_type": "code",
   "execution_count": 14,
   "id": "e9226925-75ee-4064-ba4c-f018ee67c9a4",
   "metadata": {},
   "outputs": [],
   "source": [
    "lst.append(100)"
   ]
  },
  {
   "cell_type": "code",
   "execution_count": 15,
   "id": "79889415-11da-4cbe-bdca-8816029f6be1",
   "metadata": {},
   "outputs": [
    {
     "data": {
      "text/plain": [
       "[1, 2, 100]"
      ]
     },
     "execution_count": 15,
     "metadata": {},
     "output_type": "execute_result"
    }
   ],
   "source": [
    "lst"
   ]
  },
  {
   "cell_type": "code",
   "execution_count": 16,
   "id": "7436bfb0-79e8-4d54-a393-0daf1c92b4eb",
   "metadata": {},
   "outputs": [
    {
     "data": {
      "text/plain": [
       "3"
      ]
     },
     "execution_count": 16,
     "metadata": {},
     "output_type": "execute_result"
    }
   ],
   "source": [
    "len(lst)"
   ]
  },
  {
   "cell_type": "code",
   "execution_count": 17,
   "id": "24bd6650-b6ae-4425-890b-10aa2da9f7b2",
   "metadata": {},
   "outputs": [
    {
     "data": {
      "text/plain": [
       "1"
      ]
     },
     "execution_count": 17,
     "metadata": {},
     "output_type": "execute_result"
    }
   ],
   "source": [
    "lst[0]"
   ]
  },
  {
   "cell_type": "code",
   "execution_count": 18,
   "id": "2525e953-73f8-4bc8-9216-0d490246ce3b",
   "metadata": {},
   "outputs": [
    {
     "data": {
      "text/plain": [
       "100"
      ]
     },
     "execution_count": 18,
     "metadata": {},
     "output_type": "execute_result"
    }
   ],
   "source": [
    "lst[-1]"
   ]
  },
  {
   "cell_type": "code",
   "execution_count": 19,
   "id": "865e5984-28b3-432b-884c-560930013dc1",
   "metadata": {},
   "outputs": [],
   "source": [
    "lst2 = [[1,2,3],[4,5,6],[6,7,8]]"
   ]
  },
  {
   "cell_type": "code",
   "execution_count": 20,
   "id": "15a1cc1f-3002-4da0-a2e0-f177cf7e4c06",
   "metadata": {},
   "outputs": [],
   "source": [
    "lst2.extend(lst)"
   ]
  },
  {
   "cell_type": "code",
   "execution_count": 21,
   "id": "b7b088df-5552-4338-8869-34b8e767cc1d",
   "metadata": {},
   "outputs": [
    {
     "data": {
      "text/plain": [
       "[1, 2, 100]"
      ]
     },
     "execution_count": 21,
     "metadata": {},
     "output_type": "execute_result"
    }
   ],
   "source": [
    "lst"
   ]
  },
  {
   "cell_type": "code",
   "execution_count": 22,
   "id": "ecb3d714-8497-4f51-94eb-bbd7bd187d45",
   "metadata": {},
   "outputs": [
    {
     "data": {
      "text/plain": [
       "[[1, 2, 3], [4, 5, 6], [6, 7, 8], 1, 2, 100]"
      ]
     },
     "execution_count": 22,
     "metadata": {},
     "output_type": "execute_result"
    }
   ],
   "source": [
    "lst2"
   ]
  },
  {
   "cell_type": "code",
   "execution_count": 23,
   "id": "dedf745d-d3d1-4a43-81bb-dea9e69371ac",
   "metadata": {},
   "outputs": [
    {
     "data": {
      "text/plain": [
       "[1, 2, 3]"
      ]
     },
     "execution_count": 23,
     "metadata": {},
     "output_type": "execute_result"
    }
   ],
   "source": [
    "lst2[0]"
   ]
  },
  {
   "cell_type": "code",
   "execution_count": 24,
   "id": "e05305bc-6849-41e8-8b73-31988b5669cc",
   "metadata": {},
   "outputs": [
    {
     "data": {
      "text/plain": [
       "100"
      ]
     },
     "execution_count": 24,
     "metadata": {},
     "output_type": "execute_result"
    }
   ],
   "source": [
    "lst2[-1]"
   ]
  },
  {
   "cell_type": "code",
   "execution_count": 25,
   "id": "ca10449e-8c01-4211-be19-966f0a4377d5",
   "metadata": {},
   "outputs": [
    {
     "name": "stdout",
     "output_type": "stream",
     "text": [
      "[1, 2, 3] <class 'list'>\n",
      "[4, 5, 6] <class 'list'>\n",
      "[6, 7, 8] <class 'list'>\n",
      "1 <class 'int'>\n",
      "2 <class 'int'>\n",
      "100 <class 'int'>\n"
     ]
    }
   ],
   "source": [
    "for i in lst2:\n",
    "    print(i,type(i))"
   ]
  },
  {
   "cell_type": "code",
   "execution_count": 26,
   "id": "64e908ec-40dd-4b3f-ac33-2a63d52ab056",
   "metadata": {},
   "outputs": [],
   "source": [
    "lst2.insert(0,99)"
   ]
  },
  {
   "cell_type": "code",
   "execution_count": 27,
   "id": "1da8a1ce-99b1-4e96-8fa9-b1c80a73cd8f",
   "metadata": {},
   "outputs": [
    {
     "data": {
      "text/plain": [
       "[99, [1, 2, 3], [4, 5, 6], [6, 7, 8], 1, 2, 100]"
      ]
     },
     "execution_count": 27,
     "metadata": {},
     "output_type": "execute_result"
    }
   ],
   "source": [
    "lst2"
   ]
  },
  {
   "cell_type": "code",
   "execution_count": 28,
   "id": "7fa4b5ab-d644-4702-a368-fc3dac6d5e58",
   "metadata": {},
   "outputs": [],
   "source": [
    "lst2.remove(100)"
   ]
  },
  {
   "cell_type": "code",
   "execution_count": 29,
   "id": "3810239b-ec60-4517-b316-205802ba1353",
   "metadata": {},
   "outputs": [
    {
     "data": {
      "text/plain": [
       "[99, [1, 2, 3], [4, 5, 6], [6, 7, 8], 1, 2]"
      ]
     },
     "execution_count": 29,
     "metadata": {},
     "output_type": "execute_result"
    }
   ],
   "source": [
    "lst2"
   ]
  },
  {
   "cell_type": "code",
   "execution_count": 30,
   "id": "7331992e-5db5-4ade-a982-57bf30205579",
   "metadata": {},
   "outputs": [
    {
     "data": {
      "text/plain": [
       "[1, 2, 3]"
      ]
     },
     "execution_count": 30,
     "metadata": {},
     "output_type": "execute_result"
    }
   ],
   "source": [
    "lst2.pop(1)"
   ]
  },
  {
   "cell_type": "code",
   "execution_count": 31,
   "id": "697a5988-9b15-44c5-a354-1e99099b275a",
   "metadata": {},
   "outputs": [
    {
     "data": {
      "text/plain": [
       "[99, [4, 5, 6], [6, 7, 8], 1, 2]"
      ]
     },
     "execution_count": 31,
     "metadata": {},
     "output_type": "execute_result"
    }
   ],
   "source": [
    "lst2\n"
   ]
  },
  {
   "cell_type": "code",
   "execution_count": 32,
   "id": "47d8c388-104f-4e8a-a1c4-64d6bb485e2e",
   "metadata": {},
   "outputs": [],
   "source": [
    "x = range(1,10000)\n"
   ]
  },
  {
   "cell_type": "code",
   "execution_count": 33,
   "id": "e97f1eca-dbbc-44d2-af33-614f180ee765",
   "metadata": {},
   "outputs": [
    {
     "data": {
      "text/plain": [
       "range(1, 10000)"
      ]
     },
     "execution_count": 33,
     "metadata": {},
     "output_type": "execute_result"
    }
   ],
   "source": [
    "x"
   ]
  },
  {
   "cell_type": "code",
   "execution_count": 34,
   "id": "6020c945-5a94-4407-a322-681f4a33cfa6",
   "metadata": {},
   "outputs": [
    {
     "data": {
      "text/plain": [
       "range"
      ]
     },
     "execution_count": 34,
     "metadata": {},
     "output_type": "execute_result"
    }
   ],
   "source": [
    "type(x)"
   ]
  },
  {
   "cell_type": "code",
   "execution_count": 36,
   "id": "116f5541-6ea9-4c82-8f0c-babf60b977ee",
   "metadata": {},
   "outputs": [
    {
     "name": "stdout",
     "output_type": "stream",
     "text": [
      "1,2,3,4,5,6,7,8,9,10,"
     ]
    }
   ],
   "source": [
    "for i in x:\n",
    "    if i <= 10:\n",
    "        print(i,end=',')"
   ]
  },
  {
   "cell_type": "code",
   "execution_count": 37,
   "id": "7ee7ec0c-ad9b-42cb-aad5-b78ce7682346",
   "metadata": {},
   "outputs": [],
   "source": [
    "lst3 = [3,4,5.5,'hello',0,3,4]"
   ]
  },
  {
   "cell_type": "code",
   "execution_count": 39,
   "id": "6d16fd5e-1161-4e7a-b331-5b32792b20b1",
   "metadata": {},
   "outputs": [
    {
     "name": "stdout",
     "output_type": "stream",
     "text": [
      "<class 'int'>\n",
      "<class 'int'>\n",
      "<class 'float'>\n",
      "<class 'str'>\n",
      "<class 'int'>\n",
      "<class 'int'>\n",
      "<class 'int'>\n"
     ]
    }
   ],
   "source": [
    "for i in lst3:\n",
    "    print(type(i))"
   ]
  },
  {
   "cell_type": "markdown",
   "id": "07bba1bf-47f0-4b21-9b14-9200385dd4d1",
   "metadata": {},
   "source": [
    "**Other sequences - Tuples, Sets, Dictionaries**\n"
   ]
  },
  {
   "cell_type": "code",
   "execution_count": 42,
   "id": "98f7f7d1-a8ee-4a7c-94db-a037fdd6e6e5",
   "metadata": {},
   "outputs": [],
   "source": [
    "tupl1 = (1,2,3,4,5)"
   ]
  },
  {
   "cell_type": "code",
   "execution_count": 43,
   "id": "d62d239d-b2b9-4c1a-943c-7c080d40fcc0",
   "metadata": {},
   "outputs": [
    {
     "data": {
      "text/plain": [
       "tuple"
      ]
     },
     "execution_count": 43,
     "metadata": {},
     "output_type": "execute_result"
    }
   ],
   "source": [
    "type(tupl1)"
   ]
  },
  {
   "cell_type": "code",
   "execution_count": 44,
   "id": "7884c6e6-f8ad-4051-8943-fa5413a18507",
   "metadata": {},
   "outputs": [
    {
     "data": {
      "text/plain": [
       "1"
      ]
     },
     "execution_count": 44,
     "metadata": {},
     "output_type": "execute_result"
    }
   ],
   "source": [
    "tupl1.count(2)"
   ]
  },
  {
   "cell_type": "code",
   "execution_count": 45,
   "id": "db3e592c-088c-4da4-8384-3b3bef145268",
   "metadata": {},
   "outputs": [],
   "source": [
    "tupl2 = (1,1,1,2,2,3)"
   ]
  },
  {
   "cell_type": "code",
   "execution_count": 46,
   "id": "74442f78-50ce-4590-afcc-8323e88e1740",
   "metadata": {},
   "outputs": [
    {
     "name": "stdout",
     "output_type": "stream",
     "text": [
      "1 <class 'int'>\n",
      "1 <class 'int'>\n",
      "1 <class 'int'>\n",
      "2 <class 'int'>\n",
      "2 <class 'int'>\n",
      "3 <class 'int'>\n"
     ]
    }
   ],
   "source": [
    "for i in tupl2:\n",
    "    print(i,type(i))"
   ]
  },
  {
   "cell_type": "code",
   "execution_count": 47,
   "id": "e1a86dea-d218-482c-a814-cc02c2e23689",
   "metadata": {},
   "outputs": [
    {
     "data": {
      "text/plain": [
       "3"
      ]
     },
     "execution_count": 47,
     "metadata": {},
     "output_type": "execute_result"
    }
   ],
   "source": [
    "tupl2.count(1)"
   ]
  },
  {
   "cell_type": "code",
   "execution_count": 48,
   "id": "f556ee75-613c-49c0-b586-28ad064ac8c6",
   "metadata": {},
   "outputs": [
    {
     "data": {
      "text/plain": [
       "3"
      ]
     },
     "execution_count": 48,
     "metadata": {},
     "output_type": "execute_result"
    }
   ],
   "source": [
    "tupl2.index(2)"
   ]
  },
  {
   "cell_type": "code",
   "execution_count": 49,
   "id": "c9163302-a36a-48af-ad4d-6dafc4b1e71e",
   "metadata": {},
   "outputs": [],
   "source": [
    "lst4 = [(2,3),(4,5),(5,6)]"
   ]
  },
  {
   "cell_type": "code",
   "execution_count": 51,
   "id": "111f3d23-be3f-472c-a4fa-5346629ecc36",
   "metadata": {},
   "outputs": [
    {
     "name": "stdout",
     "output_type": "stream",
     "text": [
      "<class 'tuple'> (2, 3)\n",
      "<class 'tuple'> (4, 5)\n",
      "<class 'tuple'> (5, 6)\n"
     ]
    }
   ],
   "source": [
    "for i in lst4:\n",
    "    print(type(i),i)"
   ]
  },
  {
   "cell_type": "code",
   "execution_count": 52,
   "id": "2eb87c1a-8634-4404-9ff4-118ba5bfcb14",
   "metadata": {},
   "outputs": [],
   "source": [
    "lst5 = [{1,2},{2,3},{4,5}]"
   ]
  },
  {
   "cell_type": "code",
   "execution_count": 54,
   "id": "59c72584-22b7-4bda-b732-e1bb310dd9fa",
   "metadata": {},
   "outputs": [
    {
     "name": "stdout",
     "output_type": "stream",
     "text": [
      "<class 'set'> {1, 2}\n",
      "<class 'set'> {2, 3}\n",
      "<class 'set'> {4, 5}\n"
     ]
    }
   ],
   "source": [
    "for i in lst5:\n",
    "    print(type(i),i)"
   ]
  },
  {
   "cell_type": "code",
   "execution_count": 55,
   "id": "ce9381a0-1d88-4f31-b5c7-babba363de00",
   "metadata": {},
   "outputs": [],
   "source": [
    "x = ['welcome','well','good','winter','summer']"
   ]
  },
  {
   "cell_type": "code",
   "execution_count": 56,
   "id": "bc0f2ccc-3109-4d48-b228-fba13a491709",
   "metadata": {},
   "outputs": [
    {
     "data": {
      "text/plain": [
       "1"
      ]
     },
     "execution_count": 56,
     "metadata": {},
     "output_type": "execute_result"
    }
   ],
   "source": [
    "x.count('welcome')"
   ]
  },
  {
   "cell_type": "code",
   "execution_count": 57,
   "id": "730ad272-aebd-48b6-8636-c9a7ab61c364",
   "metadata": {},
   "outputs": [
    {
     "name": "stdout",
     "output_type": "stream",
     "text": [
      "welcome\n",
      "well\n",
      "good\n",
      "winter\n",
      "summer\n"
     ]
    }
   ],
   "source": [
    "for i in x:\n",
    "    print(i)"
   ]
  },
  {
   "cell_type": "code",
   "execution_count": 58,
   "id": "f4e3c226-034d-4495-b804-d18166c97733",
   "metadata": {},
   "outputs": [
    {
     "name": "stdout",
     "output_type": "stream",
     "text": [
      "welcome <class 'str'>\n",
      "well <class 'str'>\n",
      "good <class 'str'>\n",
      "winter <class 'str'>\n",
      "summer <class 'str'>\n"
     ]
    }
   ],
   "source": [
    "for i in x:\n",
    "    print(i,type(i))"
   ]
  },
  {
   "cell_type": "code",
   "execution_count": 59,
   "id": "820af86e-a6a2-4c02-acd4-bcbe82066485",
   "metadata": {},
   "outputs": [
    {
     "name": "stdout",
     "output_type": "stream",
     "text": [
      "w welcome\n",
      "w well\n",
      "g good\n",
      "w winter\n",
      "s summer\n"
     ]
    }
   ],
   "source": [
    "for i in x:\n",
    "    print(i[0],i)"
   ]
  },
  {
   "cell_type": "code",
   "execution_count": 60,
   "id": "a20e0f44-9e1e-479e-a749-10c39d13cf87",
   "metadata": {},
   "outputs": [
    {
     "data": {
      "text/plain": [
       "[{1, 2}, {2, 3}, {4, 5}]"
      ]
     },
     "execution_count": 60,
     "metadata": {},
     "output_type": "execute_result"
    }
   ],
   "source": [
    "lst5"
   ]
  },
  {
   "cell_type": "code",
   "execution_count": 61,
   "id": "2a0facb6-c610-4f29-9b08-2eca021b6a5f",
   "metadata": {},
   "outputs": [
    {
     "data": {
      "text/plain": [
       "{1, 2}"
      ]
     },
     "execution_count": 61,
     "metadata": {},
     "output_type": "execute_result"
    }
   ],
   "source": [
    "lst5[0]"
   ]
  },
  {
   "cell_type": "code",
   "execution_count": 62,
   "id": "126e433a-b26f-4fa2-80f2-ddaa499ffdbf",
   "metadata": {},
   "outputs": [
    {
     "data": {
      "text/plain": [
       "(2, 3)"
      ]
     },
     "execution_count": 62,
     "metadata": {},
     "output_type": "execute_result"
    }
   ],
   "source": [
    "lst4[0]"
   ]
  },
  {
   "cell_type": "code",
   "execution_count": 63,
   "id": "bf02193e-edf0-474c-bdd2-ebcd821a9ae8",
   "metadata": {},
   "outputs": [
    {
     "data": {
      "text/plain": [
       "['welcome', 'well', 'good', 'winter', 'summer']"
      ]
     },
     "execution_count": 63,
     "metadata": {},
     "output_type": "execute_result"
    }
   ],
   "source": [
    "x"
   ]
  },
  {
   "cell_type": "code",
   "execution_count": 64,
   "id": "10e47da3-14cb-41e3-80b0-2687941e2a90",
   "metadata": {},
   "outputs": [
    {
     "data": {
      "text/plain": [
       "['good', 'winter', 'summer']"
      ]
     },
     "execution_count": 64,
     "metadata": {},
     "output_type": "execute_result"
    }
   ],
   "source": [
    "x[2:]"
   ]
  },
  {
   "cell_type": "code",
   "execution_count": 65,
   "id": "6760907d-e208-4233-a06b-25a38b7eea1f",
   "metadata": {},
   "outputs": [
    {
     "data": {
      "text/plain": [
       "(1, 2, 3, 4, 5)"
      ]
     },
     "execution_count": 65,
     "metadata": {},
     "output_type": "execute_result"
    }
   ],
   "source": [
    "tupl1"
   ]
  },
  {
   "cell_type": "code",
   "execution_count": 66,
   "id": "69f09fe9-ec11-4599-8983-66420c61311b",
   "metadata": {},
   "outputs": [
    {
     "data": {
      "text/plain": [
       "(2, 3, 4, 5)"
      ]
     },
     "execution_count": 66,
     "metadata": {},
     "output_type": "execute_result"
    }
   ],
   "source": [
    "tupl1[1:]"
   ]
  },
  {
   "cell_type": "code",
   "execution_count": 67,
   "id": "38518f6d-a4a2-4dd5-823d-821776006b1b",
   "metadata": {},
   "outputs": [
    {
     "data": {
      "text/plain": [
       "'winter'"
      ]
     },
     "execution_count": 67,
     "metadata": {},
     "output_type": "execute_result"
    }
   ],
   "source": [
    "x[-2]"
   ]
  },
  {
   "cell_type": "code",
   "execution_count": 68,
   "id": "2f36bc05-ed8a-4b65-9fce-136659cd7bcf",
   "metadata": {},
   "outputs": [
    {
     "data": {
      "text/plain": [
       "['winter', 'summer']"
      ]
     },
     "execution_count": 68,
     "metadata": {},
     "output_type": "execute_result"
    }
   ],
   "source": [
    "x[-2:]"
   ]
  },
  {
   "cell_type": "code",
   "execution_count": 71,
   "id": "06a45f8b-6866-4e52-809a-a8470be1d3e1",
   "metadata": {},
   "outputs": [
    {
     "data": {
      "text/plain": [
       "['winter', 'summer']"
      ]
     },
     "execution_count": 71,
     "metadata": {},
     "output_type": "execute_result"
    }
   ],
   "source": [
    "x[-2:]"
   ]
  },
  {
   "cell_type": "code",
   "execution_count": 72,
   "id": "5137f402-7bb8-465f-8fa5-9d95c67c723c",
   "metadata": {},
   "outputs": [],
   "source": [
    "tupl3 = (2,3,4.5,6.7,'string')"
   ]
  },
  {
   "cell_type": "code",
   "execution_count": 73,
   "id": "8285e0ba-7838-4c1e-b2a2-da5e5714d9ca",
   "metadata": {},
   "outputs": [
    {
     "data": {
      "text/plain": [
       "tuple"
      ]
     },
     "execution_count": 73,
     "metadata": {},
     "output_type": "execute_result"
    }
   ],
   "source": [
    "type(tupl3)"
   ]
  },
  {
   "cell_type": "code",
   "execution_count": 74,
   "id": "3297857c-1bef-496b-8fcf-c3e76f967bac",
   "metadata": {},
   "outputs": [
    {
     "name": "stdout",
     "output_type": "stream",
     "text": [
      "2 <class 'int'>\n",
      "3 <class 'int'>\n",
      "4.5 <class 'float'>\n",
      "6.7 <class 'float'>\n",
      "string <class 'str'>\n"
     ]
    }
   ],
   "source": [
    "for i in tupl3:\n",
    "    print(i,type(i))"
   ]
  },
  {
   "cell_type": "code",
   "execution_count": 77,
   "id": "426c8170-c702-4d6d-86b5-7f1a95f831b4",
   "metadata": {},
   "outputs": [],
   "source": [
    "set1 = set()"
   ]
  },
  {
   "cell_type": "code",
   "execution_count": 78,
   "id": "d13a5f34-1137-40da-99a8-4fc7cf30e07a",
   "metadata": {},
   "outputs": [
    {
     "data": {
      "text/plain": [
       "set"
      ]
     },
     "execution_count": 78,
     "metadata": {},
     "output_type": "execute_result"
    }
   ],
   "source": [
    "type(set1)"
   ]
  },
  {
   "cell_type": "code",
   "execution_count": 79,
   "id": "ef5542af-728a-4a77-8540-58508acd7aed",
   "metadata": {},
   "outputs": [],
   "source": [
    "set1.add(1)"
   ]
  },
  {
   "cell_type": "code",
   "execution_count": 80,
   "id": "a23dbecb-1016-4455-bbaf-a934ee2aaae3",
   "metadata": {},
   "outputs": [],
   "source": [
    "set1.add(2)"
   ]
  },
  {
   "cell_type": "code",
   "execution_count": 81,
   "id": "a74e2cbb-3bd1-4044-b53d-d6d405329f49",
   "metadata": {},
   "outputs": [
    {
     "data": {
      "text/plain": [
       "{1, 2}"
      ]
     },
     "execution_count": 81,
     "metadata": {},
     "output_type": "execute_result"
    }
   ],
   "source": [
    "set1"
   ]
  },
  {
   "cell_type": "code",
   "execution_count": 82,
   "id": "2eb3b685-24fa-44f2-8078-2822eed8f957",
   "metadata": {},
   "outputs": [],
   "source": [
    "set1.add(2)"
   ]
  },
  {
   "cell_type": "code",
   "execution_count": 83,
   "id": "41c18803-8dcc-4c50-89af-ac9143b1c7b0",
   "metadata": {},
   "outputs": [
    {
     "data": {
      "text/plain": [
       "{1, 2}"
      ]
     },
     "execution_count": 83,
     "metadata": {},
     "output_type": "execute_result"
    }
   ],
   "source": [
    "set1"
   ]
  },
  {
   "cell_type": "code",
   "execution_count": 84,
   "id": "be24d546-9587-4f1a-a9a0-50ab55cfab0a",
   "metadata": {},
   "outputs": [],
   "source": [
    "set1.add(8)"
   ]
  },
  {
   "cell_type": "code",
   "execution_count": 85,
   "id": "d16911f6-047b-4e25-9ee6-205805d41803",
   "metadata": {},
   "outputs": [
    {
     "data": {
      "text/plain": [
       "{1, 2, 8}"
      ]
     },
     "execution_count": 85,
     "metadata": {},
     "output_type": "execute_result"
    }
   ],
   "source": [
    "set1"
   ]
  },
  {
   "cell_type": "code",
   "execution_count": 86,
   "id": "c1d54626-3de5-48d2-b177-7a9da518200c",
   "metadata": {},
   "outputs": [],
   "source": [
    "set1.add(5)"
   ]
  },
  {
   "cell_type": "code",
   "execution_count": 87,
   "id": "97c498af-275b-47a2-97a7-97ea7b5bacbf",
   "metadata": {},
   "outputs": [
    {
     "data": {
      "text/plain": [
       "{1, 2, 5, 8}"
      ]
     },
     "execution_count": 87,
     "metadata": {},
     "output_type": "execute_result"
    }
   ],
   "source": [
    "set1"
   ]
  },
  {
   "cell_type": "code",
   "execution_count": 88,
   "id": "5dc472d2-4351-449a-954b-5446047ef968",
   "metadata": {},
   "outputs": [],
   "source": [
    "#lst.append()\n",
    "#set.add()"
   ]
  },
  {
   "cell_type": "code",
   "execution_count": 89,
   "id": "49383824-cbdb-44fc-a248-cea0c6a33bdf",
   "metadata": {},
   "outputs": [],
   "source": [
    "lst = [2,3,3,4,5,5,6]"
   ]
  },
  {
   "cell_type": "code",
   "execution_count": 90,
   "id": "fc7e1a3f-c101-4934-8287-7a4aa0e59f47",
   "metadata": {},
   "outputs": [
    {
     "data": {
      "text/plain": [
       "list"
      ]
     },
     "execution_count": 90,
     "metadata": {},
     "output_type": "execute_result"
    }
   ],
   "source": [
    "type(lst)"
   ]
  },
  {
   "cell_type": "code",
   "execution_count": 91,
   "id": "64f73800-7944-4add-9182-1fa74878bb27",
   "metadata": {},
   "outputs": [],
   "source": [
    "mydata = set(lst)"
   ]
  },
  {
   "cell_type": "code",
   "execution_count": 92,
   "id": "befaea0d-52ec-423b-9404-dbdecb2dcb7c",
   "metadata": {},
   "outputs": [
    {
     "data": {
      "text/plain": [
       "set"
      ]
     },
     "execution_count": 92,
     "metadata": {},
     "output_type": "execute_result"
    }
   ],
   "source": [
    "type(mydata)"
   ]
  },
  {
   "cell_type": "code",
   "execution_count": 93,
   "id": "6249ec22-b62d-41ac-aab0-531d69d5abce",
   "metadata": {},
   "outputs": [
    {
     "data": {
      "text/plain": [
       "{2, 3, 4, 5, 6}"
      ]
     },
     "execution_count": 93,
     "metadata": {},
     "output_type": "execute_result"
    }
   ],
   "source": [
    "mydata"
   ]
  },
  {
   "cell_type": "code",
   "execution_count": 94,
   "id": "aa50b9da-f0ec-48ab-9d67-fa494d2c21da",
   "metadata": {},
   "outputs": [],
   "source": [
    "mydataas_list = list(mydata)"
   ]
  },
  {
   "cell_type": "code",
   "execution_count": 95,
   "id": "b3b54e0d-c841-4cb1-8269-d1f1d701e870",
   "metadata": {},
   "outputs": [
    {
     "data": {
      "text/plain": [
       "list"
      ]
     },
     "execution_count": 95,
     "metadata": {},
     "output_type": "execute_result"
    }
   ],
   "source": [
    "type(mydataas_list)"
   ]
  },
  {
   "cell_type": "code",
   "execution_count": 96,
   "id": "c3fc7311-024e-43b2-b92a-01f5c4cf84a6",
   "metadata": {},
   "outputs": [
    {
     "data": {
      "text/plain": [
       "[2, 3, 4, 5, 6]"
      ]
     },
     "execution_count": 96,
     "metadata": {},
     "output_type": "execute_result"
    }
   ],
   "source": [
    "mydataas_list"
   ]
  },
  {
   "cell_type": "code",
   "execution_count": 97,
   "id": "fadb3c90-772b-48e2-bfd5-36a43a387b7e",
   "metadata": {},
   "outputs": [],
   "source": [
    "dict1 = {}"
   ]
  },
  {
   "cell_type": "code",
   "execution_count": 98,
   "id": "667a5c21-f476-443a-9c90-009b6731d87e",
   "metadata": {},
   "outputs": [
    {
     "data": {
      "text/plain": [
       "dict"
      ]
     },
     "execution_count": 98,
     "metadata": {},
     "output_type": "execute_result"
    }
   ],
   "source": [
    "type(dict1)"
   ]
  },
  {
   "cell_type": "code",
   "execution_count": 99,
   "id": "b6528a8a-addb-4d46-be9f-1721d0ad0cdd",
   "metadata": {},
   "outputs": [],
   "source": [
    "dict1['name'] = 'john'"
   ]
  },
  {
   "cell_type": "code",
   "execution_count": 100,
   "id": "5031f0c7-4206-4a8f-840c-57e758380441",
   "metadata": {},
   "outputs": [],
   "source": [
    "dict1['name'] = 'marie'"
   ]
  },
  {
   "cell_type": "code",
   "execution_count": 101,
   "id": "7f98b356-13e1-4c3c-baf9-9a43788dc034",
   "metadata": {},
   "outputs": [
    {
     "data": {
      "text/plain": [
       "{'name': 'marie'}"
      ]
     },
     "execution_count": 101,
     "metadata": {},
     "output_type": "execute_result"
    }
   ],
   "source": [
    "dict1"
   ]
  },
  {
   "cell_type": "code",
   "execution_count": 102,
   "id": "23425021-c4d2-4ee3-b3c7-21497c10d888",
   "metadata": {},
   "outputs": [],
   "source": [
    "dict1['age'] = 40"
   ]
  },
  {
   "cell_type": "code",
   "execution_count": 103,
   "id": "08e500aa-349b-4704-aad7-bf1fb8f4d6d0",
   "metadata": {},
   "outputs": [
    {
     "data": {
      "text/plain": [
       "{'name': 'marie', 'age': 40}"
      ]
     },
     "execution_count": 103,
     "metadata": {},
     "output_type": "execute_result"
    }
   ],
   "source": [
    "dict1"
   ]
  },
  {
   "cell_type": "code",
   "execution_count": 107,
   "id": "423a5a8b-7b3f-4c89-a91b-359ca0d5deac",
   "metadata": {},
   "outputs": [],
   "source": [
    "dict1.update({'loc':'berlin'})"
   ]
  },
  {
   "cell_type": "code",
   "execution_count": 108,
   "id": "a99257fc-d14f-48a4-8721-405445cd82ea",
   "metadata": {},
   "outputs": [
    {
     "data": {
      "text/plain": [
       "{'name': 'marie', 'age': 40, 'loc': 'berlin'}"
      ]
     },
     "execution_count": 108,
     "metadata": {},
     "output_type": "execute_result"
    }
   ],
   "source": [
    "dict1"
   ]
  },
  {
   "cell_type": "code",
   "execution_count": 109,
   "id": "64dfeaff-844d-4377-aeff-b039a68a99de",
   "metadata": {},
   "outputs": [
    {
     "data": {
      "text/plain": [
       "dict_keys(['name', 'age', 'loc'])"
      ]
     },
     "execution_count": 109,
     "metadata": {},
     "output_type": "execute_result"
    }
   ],
   "source": [
    "dict1.keys()"
   ]
  },
  {
   "cell_type": "code",
   "execution_count": 110,
   "id": "52dd16c8-52b1-4a17-98eb-4995bfdc3cce",
   "metadata": {},
   "outputs": [
    {
     "data": {
      "text/plain": [
       "dict_values(['marie', 40, 'berlin'])"
      ]
     },
     "execution_count": 110,
     "metadata": {},
     "output_type": "execute_result"
    }
   ],
   "source": [
    "dict1.values()"
   ]
  },
  {
   "cell_type": "code",
   "execution_count": 5,
   "id": "50b54e77-5706-4788-a099-9028ed8cb5a3",
   "metadata": {},
   "outputs": [],
   "source": [
    "#unpacking\n",
    "coordinates = (1,2,3)"
   ]
  },
  {
   "cell_type": "code",
   "execution_count": 6,
   "id": "d07a9d24-e92a-4f80-bf9e-616326f63d0c",
   "metadata": {},
   "outputs": [],
   "source": [
    "x,y,z = coordinates"
   ]
  },
  {
   "cell_type": "code",
   "execution_count": 7,
   "id": "65a78077-fb3e-448e-9867-b65eb019022d",
   "metadata": {},
   "outputs": [
    {
     "name": "stdout",
     "output_type": "stream",
     "text": [
      "1 2 3\n"
     ]
    }
   ],
   "source": [
    "print(x,y,z)"
   ]
  },
  {
   "cell_type": "code",
   "execution_count": 116,
   "id": "8851f22a-5b23-4900-a7a0-2787c0c830e1",
   "metadata": {},
   "outputs": [
    {
     "name": "stdout",
     "output_type": "stream",
     "text": [
      "Help on class map in module builtins:\n",
      "\n",
      "class map(object)\n",
      " |  map(func, *iterables) --> map object\n",
      " |  \n",
      " |  Make an iterator that computes the function using arguments from\n",
      " |  each of the iterables.  Stops when the shortest iterable is exhausted.\n",
      " |  \n",
      " |  Methods defined here:\n",
      " |  \n",
      " |  __getattribute__(self, name, /)\n",
      " |      Return getattr(self, name).\n",
      " |  \n",
      " |  __iter__(self, /)\n",
      " |      Implement iter(self).\n",
      " |  \n",
      " |  __next__(self, /)\n",
      " |      Implement next(self).\n",
      " |  \n",
      " |  __reduce__(...)\n",
      " |      Return state information for pickling.\n",
      " |  \n",
      " |  ----------------------------------------------------------------------\n",
      " |  Static methods defined here:\n",
      " |  \n",
      " |  __new__(*args, **kwargs) from builtins.type\n",
      " |      Create and return a new object.  See help(type) for accurate signature.\n",
      "\n"
     ]
    }
   ],
   "source": [
    "help(map)"
   ]
  },
  {
   "cell_type": "code",
   "execution_count": 118,
   "id": "7096a371-0421-43cf-aae2-fcecd5a61128",
   "metadata": {},
   "outputs": [],
   "source": [
    "x = ['welcome','words','winter','summer','hello']"
   ]
  },
  {
   "cell_type": "code",
   "execution_count": 119,
   "id": "23165c46-1a85-4826-bad2-3ee34f64a09c",
   "metadata": {},
   "outputs": [
    {
     "name": "stdout",
     "output_type": "stream",
     "text": [
      "Help on class filter in module builtins:\n",
      "\n",
      "class filter(object)\n",
      " |  filter(function or None, iterable) --> filter object\n",
      " |  \n",
      " |  Return an iterator yielding those items of iterable for which function(item)\n",
      " |  is true. If function is None, return the items that are true.\n",
      " |  \n",
      " |  Methods defined here:\n",
      " |  \n",
      " |  __getattribute__(self, name, /)\n",
      " |      Return getattr(self, name).\n",
      " |  \n",
      " |  __iter__(self, /)\n",
      " |      Implement iter(self).\n",
      " |  \n",
      " |  __next__(self, /)\n",
      " |      Implement next(self).\n",
      " |  \n",
      " |  __reduce__(...)\n",
      " |      Return state information for pickling.\n",
      " |  \n",
      " |  ----------------------------------------------------------------------\n",
      " |  Static methods defined here:\n",
      " |  \n",
      " |  __new__(*args, **kwargs) from builtins.type\n",
      " |      Create and return a new object.  See help(type) for accurate signature.\n",
      "\n"
     ]
    }
   ],
   "source": [
    "help(filter)"
   ]
  },
  {
   "cell_type": "markdown",
   "id": "ce6f8dfe-d47b-45a7-b119-d991874db760",
   "metadata": {},
   "source": [
    "**Functions**"
   ]
  },
  {
   "cell_type": "code",
   "execution_count": 122,
   "id": "20628ecd-7ee8-42ea-9572-ee28225362ca",
   "metadata": {},
   "outputs": [],
   "source": [
    "def func1():\n",
    "    print('smething')"
   ]
  },
  {
   "cell_type": "code",
   "execution_count": 123,
   "id": "afe0528f-9cb9-4e52-895b-0543be3d691e",
   "metadata": {},
   "outputs": [
    {
     "name": "stdout",
     "output_type": "stream",
     "text": [
      "smething\n"
     ]
    }
   ],
   "source": [
    "func1()"
   ]
  },
  {
   "cell_type": "code",
   "execution_count": 124,
   "id": "97615425-9c07-42d6-b88e-07b36ceef6ba",
   "metadata": {},
   "outputs": [
    {
     "name": "stdout",
     "output_type": "stream",
     "text": [
      "Help on function func1 in module __main__:\n",
      "\n",
      "func1()\n",
      "\n"
     ]
    }
   ],
   "source": [
    "help(func1)"
   ]
  },
  {
   "cell_type": "code",
   "execution_count": 125,
   "id": "70728534-92a7-4010-a282-9e8bb80cbfda",
   "metadata": {},
   "outputs": [],
   "source": [
    "def testf():\n",
    "    \"\"\"\n",
    "    function to multiple 2 with 2\n",
    "    Returns result\n",
    "    \"\"\"\n",
    "    return 2*2"
   ]
  },
  {
   "cell_type": "code",
   "execution_count": 126,
   "id": "2a226457-1795-4363-a438-fe9ad7f2b87f",
   "metadata": {},
   "outputs": [
    {
     "data": {
      "text/plain": [
       "4"
      ]
     },
     "execution_count": 126,
     "metadata": {},
     "output_type": "execute_result"
    }
   ],
   "source": [
    "testf()"
   ]
  },
  {
   "cell_type": "code",
   "execution_count": 127,
   "id": "20aa9494-2048-4ec2-86fd-d2b330321f32",
   "metadata": {},
   "outputs": [
    {
     "name": "stdout",
     "output_type": "stream",
     "text": [
      "Help on function testf in module __main__:\n",
      "\n",
      "testf()\n",
      "    function to multiple 2 with 2\n",
      "    Returns result\n",
      "\n"
     ]
    }
   ],
   "source": [
    "help(testf)"
   ]
  },
  {
   "cell_type": "code",
   "execution_count": 128,
   "id": "35108838-6360-4b82-8f62-667772ad5b0b",
   "metadata": {},
   "outputs": [],
   "source": [
    "def testf2(x,y):\n",
    "    \"\"\"prints multiplication\"\"\"\n",
    "    return x*y"
   ]
  },
  {
   "cell_type": "code",
   "execution_count": 132,
   "id": "4c956441-2319-443a-b4f0-62913db797a9",
   "metadata": {},
   "outputs": [
    {
     "data": {
      "text/plain": [
       "8"
      ]
     },
     "execution_count": 132,
     "metadata": {},
     "output_type": "execute_result"
    }
   ],
   "source": [
    "testf2(2,4)"
   ]
  },
  {
   "cell_type": "code",
   "execution_count": 133,
   "id": "d45642f3-df96-4498-8cd1-1b3f06e0b15c",
   "metadata": {},
   "outputs": [],
   "source": [
    "def testf2(x,y=1):\n",
    "    \"\"\"prints multiplication\"\"\"\n",
    "    return x*y"
   ]
  },
  {
   "cell_type": "code",
   "execution_count": 134,
   "id": "6feec037-504e-45e4-a206-36d654908b51",
   "metadata": {},
   "outputs": [
    {
     "data": {
      "text/plain": [
       "2"
      ]
     },
     "execution_count": 134,
     "metadata": {},
     "output_type": "execute_result"
    }
   ],
   "source": [
    "testf2(2)"
   ]
  },
  {
   "cell_type": "code",
   "execution_count": 144,
   "id": "aa110ec4-4905-4706-9707-302fc508e0e3",
   "metadata": {},
   "outputs": [],
   "source": [
    "def testf3(x):\n",
    "    return x.upper()"
   ]
  },
  {
   "cell_type": "code",
   "execution_count": 145,
   "id": "895214dd-13d2-4bbd-bbd5-5b8c0d4edca4",
   "metadata": {},
   "outputs": [
    {
     "data": {
      "text/plain": [
       "'WELCOME'"
      ]
     },
     "execution_count": 145,
     "metadata": {},
     "output_type": "execute_result"
    }
   ],
   "source": [
    "testf3('welcome')"
   ]
  },
  {
   "cell_type": "code",
   "execution_count": 148,
   "id": "4e3a7f84-f5f0-4de7-883e-859ba2b4acbb",
   "metadata": {},
   "outputs": [],
   "source": [
    "x = ['welcome','words','winter','summer','hello']"
   ]
  },
  {
   "cell_type": "code",
   "execution_count": 150,
   "id": "6e595bf2-95ca-4fce-88c5-1415756227c4",
   "metadata": {},
   "outputs": [
    {
     "name": "stdout",
     "output_type": "stream",
     "text": [
      "WELCOME\n",
      "WORDS\n",
      "WINTER\n",
      "SUMMER\n",
      "HELLO\n"
     ]
    }
   ],
   "source": [
    "for i in x:\n",
    "    print(i.upper())"
   ]
  },
  {
   "cell_type": "code",
   "execution_count": 8,
   "id": "708f393c-1451-4527-b24a-a6633d8631b4",
   "metadata": {},
   "outputs": [
    {
     "ename": "TypeError",
     "evalue": "'int' object is not iterable",
     "output_type": "error",
     "traceback": [
      "\u001b[1;31m---------------------------------------------------------------------------\u001b[0m",
      "\u001b[1;31mTypeError\u001b[0m                                 Traceback (most recent call last)",
      "Cell \u001b[1;32mIn[8], line 2\u001b[0m\n\u001b[0;32m      1\u001b[0m \u001b[38;5;66;03m#applying our own created function above\u001b[39;00m\n\u001b[1;32m----> 2\u001b[0m \u001b[38;5;28;01mfor\u001b[39;00m i \u001b[38;5;129;01min\u001b[39;00m x:\n\u001b[0;32m      3\u001b[0m     \u001b[38;5;28mprint\u001b[39m(testf3(i))\n",
      "\u001b[1;31mTypeError\u001b[0m: 'int' object is not iterable"
     ]
    }
   ],
   "source": [
    "#applying our own created function above\n",
    "for i in x:\n",
    "    print(testf3(i))"
   ]
  },
  {
   "cell_type": "code",
   "execution_count": 154,
   "id": "8a217d4d-89af-4421-aa47-8240b4f2b45e",
   "metadata": {},
   "outputs": [
    {
     "data": {
      "text/plain": [
       "['welcome', 'words', 'winter', 'summer', 'hello']"
      ]
     },
     "execution_count": 154,
     "metadata": {},
     "output_type": "execute_result"
    }
   ],
   "source": [
    "x"
   ]
  },
  {
   "cell_type": "code",
   "execution_count": 158,
   "id": "2868d1a8-a726-4209-b7e7-43e5108900f5",
   "metadata": {},
   "outputs": [],
   "source": [
    "#using map() & lambda\n",
    "y = list(map(lambda n: n.upper(),x))"
   ]
  },
  {
   "cell_type": "code",
   "execution_count": 159,
   "id": "c9ca6ec0-44b5-4942-92d0-ff11eae1bff9",
   "metadata": {},
   "outputs": [
    {
     "data": {
      "text/plain": [
       "['WELCOME', 'WORDS', 'WINTER', 'SUMMER', 'HELLO']"
      ]
     },
     "execution_count": 159,
     "metadata": {},
     "output_type": "execute_result"
    }
   ],
   "source": [
    "y"
   ]
  },
  {
   "cell_type": "code",
   "execution_count": 160,
   "id": "47cc59ee-04f1-4323-b7a8-8260593d27f2",
   "metadata": {},
   "outputs": [],
   "source": [
    "y1 = list(map(lambda n: (n[0],n),x))"
   ]
  },
  {
   "cell_type": "code",
   "execution_count": 161,
   "id": "58114125-041c-4d1c-a228-6cf0567d0f61",
   "metadata": {},
   "outputs": [
    {
     "data": {
      "text/plain": [
       "[('w', 'welcome'),\n",
       " ('w', 'words'),\n",
       " ('w', 'winter'),\n",
       " ('s', 'summer'),\n",
       " ('h', 'hello')]"
      ]
     },
     "execution_count": 161,
     "metadata": {},
     "output_type": "execute_result"
    }
   ],
   "source": [
    "y1"
   ]
  },
  {
   "cell_type": "code",
   "execution_count": 177,
   "id": "ead5b9ca-8c3b-44e5-b4a6-6436ae1f8234",
   "metadata": {},
   "outputs": [],
   "source": [
    "coordinates2 = [(2,4),(4,5),(1,4),(2,3),(2,4),(4,5),(1,10)]"
   ]
  },
  {
   "cell_type": "code",
   "execution_count": 170,
   "id": "e7ddffff-1bfb-4c69-af67-7bfeb80465d6",
   "metadata": {},
   "outputs": [],
   "source": [
    "a,b,c,d = coordinates2"
   ]
  },
  {
   "cell_type": "code",
   "execution_count": 171,
   "id": "e9019dbc-6dfb-4f55-84ce-9d9f3ecbac7e",
   "metadata": {},
   "outputs": [
    {
     "data": {
      "text/plain": [
       "(2, 4)"
      ]
     },
     "execution_count": 171,
     "metadata": {},
     "output_type": "execute_result"
    }
   ],
   "source": [
    "a"
   ]
  },
  {
   "cell_type": "code",
   "execution_count": 172,
   "id": "97a29052-1804-4559-b44f-c099510bf47b",
   "metadata": {},
   "outputs": [
    {
     "data": {
      "text/plain": [
       "(4, 5)"
      ]
     },
     "execution_count": 172,
     "metadata": {},
     "output_type": "execute_result"
    }
   ],
   "source": [
    "b"
   ]
  },
  {
   "cell_type": "code",
   "execution_count": 178,
   "id": "af07cd44-1edc-4522-93fb-810199dda216",
   "metadata": {},
   "outputs": [
    {
     "name": "stdout",
     "output_type": "stream",
     "text": [
      "(2, 4) (2, 4) yes\n",
      "(2, 4) (2, 4) yes\n",
      "(4, 5) (4, 5) yes\n",
      "(4, 5) (4, 5) yes\n",
      "(1, 4) (1, 4) yes\n",
      "(2, 3) (2, 3) yes\n",
      "(2, 4) (2, 4) yes\n",
      "(2, 4) (2, 4) yes\n",
      "(4, 5) (4, 5) yes\n",
      "(4, 5) (4, 5) yes\n",
      "(1, 10) (1, 10) yes\n"
     ]
    }
   ],
   "source": [
    "for i in coordinates2:\n",
    "    for j in coordinates2:\n",
    "        if i == j:\n",
    "            print(i,j,'yes')"
   ]
  },
  {
   "cell_type": "code",
   "execution_count": 180,
   "id": "59a0b805-13f0-4f0a-b0a3-4e11495f2a8f",
   "metadata": {},
   "outputs": [],
   "source": [
    "lst1 = [1,2,3,4,5]\n",
    "lst2 = [100,200,300,400,500]"
   ]
  },
  {
   "cell_type": "code",
   "execution_count": 181,
   "id": "d2700b52-9db8-43f6-8b85-9c1c5599b5dd",
   "metadata": {},
   "outputs": [],
   "source": [
    "import numpy as np"
   ]
  },
  {
   "cell_type": "code",
   "execution_count": 182,
   "id": "ea2e0740-442b-4b98-b35b-398da7f6e211",
   "metadata": {},
   "outputs": [],
   "source": [
    "import pandas as pd"
   ]
  },
  {
   "cell_type": "code",
   "execution_count": 208,
   "id": "f7ee6eae-e575-4505-ad5f-d7b6f7119fff",
   "metadata": {},
   "outputs": [
    {
     "data": {
      "text/plain": [
       "[1, 2, 3, 4, 5]"
      ]
     },
     "execution_count": 208,
     "metadata": {},
     "output_type": "execute_result"
    }
   ],
   "source": [
    "lst1"
   ]
  },
  {
   "cell_type": "code",
   "execution_count": 209,
   "id": "16c41cd7-af22-4037-b800-f4c48aba3bc5",
   "metadata": {},
   "outputs": [],
   "source": [
    "lst2 = [10,20,30,40,50]"
   ]
  },
  {
   "cell_type": "markdown",
   "id": "ed0f71a1-3c2d-47c2-aac1-9b2bcfb433e3",
   "metadata": {},
   "source": [
    "__Using Numpy for operations on Lists"
   ]
  },
  {
   "cell_type": "code",
   "execution_count": 210,
   "id": "5b14e82d-391b-4dcb-8847-070330dae49c",
   "metadata": {},
   "outputs": [],
   "source": [
    "arr1 = np.array(lst1)"
   ]
  },
  {
   "cell_type": "code",
   "execution_count": 211,
   "id": "c96f7718-e1c4-4137-9c8a-20e531803dff",
   "metadata": {},
   "outputs": [],
   "source": [
    "arr2 = np.array(lst2)"
   ]
  },
  {
   "cell_type": "code",
   "execution_count": 212,
   "id": "314a7d05-5006-42ce-8741-f9f97ae981e6",
   "metadata": {},
   "outputs": [
    {
     "data": {
      "text/plain": [
       "numpy.ndarray"
      ]
     },
     "execution_count": 212,
     "metadata": {},
     "output_type": "execute_result"
    }
   ],
   "source": [
    "type(arr1)"
   ]
  },
  {
   "cell_type": "code",
   "execution_count": 213,
   "id": "a487a52c-30f3-4a0c-8316-df61fc8cae6d",
   "metadata": {},
   "outputs": [
    {
     "data": {
      "text/plain": [
       "numpy.ndarray"
      ]
     },
     "execution_count": 213,
     "metadata": {},
     "output_type": "execute_result"
    }
   ],
   "source": [
    "type(arr2)\n"
   ]
  },
  {
   "cell_type": "code",
   "execution_count": 217,
   "id": "71e98736-565a-4302-8cc5-d7c876e1a99a",
   "metadata": {},
   "outputs": [
    {
     "data": {
      "text/plain": [
       "(5,)"
      ]
     },
     "execution_count": 217,
     "metadata": {},
     "output_type": "execute_result"
    }
   ],
   "source": [
    "arr1.shape"
   ]
  },
  {
   "cell_type": "code",
   "execution_count": 218,
   "id": "4f37228c-ef5c-4882-86cb-f0b25f60d631",
   "metadata": {},
   "outputs": [],
   "source": [
    "res = arr1+arr2"
   ]
  },
  {
   "cell_type": "code",
   "execution_count": 219,
   "id": "fda549f1-3818-4749-9b63-2506655297ab",
   "metadata": {},
   "outputs": [
    {
     "name": "stdout",
     "output_type": "stream",
     "text": [
      "[11 22 33 44 55]\n"
     ]
    }
   ],
   "source": [
    "print(res)"
   ]
  },
  {
   "cell_type": "code",
   "execution_count": 204,
   "id": "33117a75-85ab-4ad6-813d-c05bfb938aac",
   "metadata": {},
   "outputs": [
    {
     "data": {
      "text/plain": [
       "numpy.ndarray"
      ]
     },
     "execution_count": 204,
     "metadata": {},
     "output_type": "execute_result"
    }
   ],
   "source": [
    "type(arr2)"
   ]
  },
  {
   "cell_type": "code",
   "execution_count": 205,
   "id": "6dadde13-9d9f-4731-b9f9-fc9c6b69959f",
   "metadata": {},
   "outputs": [
    {
     "data": {
      "text/plain": [
       "(5,)"
      ]
     },
     "execution_count": 205,
     "metadata": {},
     "output_type": "execute_result"
    }
   ],
   "source": [
    "arr1.shape"
   ]
  },
  {
   "cell_type": "code",
   "execution_count": 206,
   "id": "ce109b8b-99d6-4eef-9d4e-87e4c00ff636",
   "metadata": {},
   "outputs": [
    {
     "data": {
      "text/plain": [
       "(5,)"
      ]
     },
     "execution_count": 206,
     "metadata": {},
     "output_type": "execute_result"
    }
   ],
   "source": [
    "arr2.shape"
   ]
  },
  {
   "cell_type": "code",
   "execution_count": 207,
   "id": "e733c5b8-1818-40df-a780-a1eee43a0c19",
   "metadata": {},
   "outputs": [
    {
     "name": "stdout",
     "output_type": "stream",
     "text": [
      "[1 2 3 4 5]\n"
     ]
    }
   ],
   "source": [
    "print(arr1)"
   ]
  },
  {
   "cell_type": "code",
   "execution_count": null,
   "id": "7d60e648-6ae2-4059-9516-1bc61d95c077",
   "metadata": {},
   "outputs": [],
   "source": []
  }
 ],
 "metadata": {
  "kernelspec": {
   "display_name": "Python 3 (ipykernel)",
   "language": "python",
   "name": "python3"
  },
  "language_info": {
   "codemirror_mode": {
    "name": "ipython",
    "version": 3
   },
   "file_extension": ".py",
   "mimetype": "text/x-python",
   "name": "python",
   "nbconvert_exporter": "python",
   "pygments_lexer": "ipython3",
   "version": "3.8.2rc2"
  }
 },
 "nbformat": 4,
 "nbformat_minor": 5
}
